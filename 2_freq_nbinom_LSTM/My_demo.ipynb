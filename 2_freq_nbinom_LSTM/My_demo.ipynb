{
 "cells": [
  {
   "cell_type": "code",
   "execution_count": 2,
   "metadata": {},
   "outputs": [],
   "source": [
    "#from pytorch_forecasting.data.examples import generate_ar_data\n",
    "import matplotlib.pyplot as plt\n",
    "import pandas as pd\n",
    "from pytorch_forecasting.data import TimeSeriesDataSet\n",
    "from pytorch_forecasting.data import NaNLabelEncoder\n",
    "from pytorch_lightning.callbacks import EarlyStopping, LearningRateMonitor\n",
    "import pytorch_lightning as pl\n",
    "from pytorch_forecasting import NegativeBinomialDistributionLoss, DeepAR\n",
    "import torch\n",
    "from pytorch_forecasting.data.encoders import TorchNormalizer\n",
    "import numpy as np\n"
   ]
  },
  {
   "cell_type": "code",
   "execution_count": 3,
   "metadata": {},
   "outputs": [],
   "source": [
    "df_np = np.load('2_freq_stoch_nbinom_dem.npy')\n",
    "\n",
    "df = pd.DataFrame()\n",
    "df['series'] = np.zeros((len(df_np))).astype(int)\n",
    "df['time_idx'] = np.arange(0,len(df_np))\n",
    "df['value'] = df_np\n",
    "\n",
    "\n",
    "df.to_csv('2_freq_stoch_nbinom_dem.csv')\n",
    "data = df"
   ]
  },
  {
   "cell_type": "code",
   "execution_count": 4,
   "metadata": {},
   "outputs": [],
   "source": [
    "# data = pd.read_csv('1_f_nbinom_train.csv')\n",
    "# data"
   ]
  },
  {
   "cell_type": "code",
   "execution_count": 5,
   "metadata": {},
   "outputs": [
    {
     "name": "stdout",
     "output_type": "stream",
     "text": [
      "<class 'numpy.float64'>\n",
      "4980\n"
     ]
    },
    {
     "name": "stderr",
     "output_type": "stream",
     "text": [
      "C:\\Users\\josepeeterson.er\\AppData\\Local\\Temp\\ipykernel_3356\\357397288.py:8: FutureWarning: Series.dt.weekofyear and Series.dt.week have been deprecated.  Please use Series.dt.isocalendar().week instead.\n",
      "  data['_week_of_year'] = data[\"date\"].dt.weekofyear#.astype(str)\n"
     ]
    }
   ],
   "source": [
    "data[\"date\"] = pd.Timestamp(\"2021-09-24\") + pd.to_timedelta(data.time_idx, \"H\")\n",
    "\n",
    "\n",
    "data['_hour_of_day'] = data[\"date\"].dt.hour#.astype(str)\n",
    "data['_day_of_week'] = data[\"date\"].dt.dayofweek#.astype(str)\n",
    "data['_day_of_month'] = data[\"date\"].dt.day#.astype(str)\n",
    "data['_day_of_year'] = data[\"date\"].dt.dayofyear#.astype(str)\n",
    "data['_week_of_year'] = data[\"date\"].dt.weekofyear#.astype(str)\n",
    "data['_month_of_year'] = data[\"date\"].dt.month#.astype(str)\n",
    "data['_year'] = data[\"date\"].dt.year#.astype(str)\n",
    "\n",
    "data['value'] = data['value'].astype(float)\n",
    "print(type(data['value'][0])) \n",
    "print(len(data.iloc[0:-620]))\n",
    "\n"
   ]
  },
  {
   "cell_type": "code",
   "execution_count": 6,
   "metadata": {},
   "outputs": [],
   "source": [
    "max_encoder_length = 60\n",
    "max_prediction_length = 20\n",
    "training_cutoff = data[\"time_idx\"].max() - max_prediction_length\n",
    "\n",
    "training = TimeSeriesDataSet(\n",
    "    data.iloc[0:-620],\n",
    "    time_idx=\"time_idx\",\n",
    "    target=\"value\",\n",
    "    # categorical_encoders={\"series\": NaNLabelEncoder(add_nan=True).fit(data.series), \"_hour_of_day\": NaNLabelEncoder(add_nan=True).fit(data._hour_of_day), \\\n",
    "    #    \"_day_of_week\": NaNLabelEncoder(add_nan=True).fit(data._day_of_week), \"_day_of_month\" : NaNLabelEncoder(add_nan=True).fit(data._day_of_month), \"_day_of_year\" : NaNLabelEncoder(add_nan=True).fit(data._day_of_year), \\\n",
    "    #     \"_week_of_year\": NaNLabelEncoder(add_nan=True).fit(data._week_of_year), \"_month_of_year\": NaNLabelEncoder(add_nan=True).fit(data._month_of_year) ,\"_year\": NaNLabelEncoder(add_nan=True).fit(data._year)},\n",
    "    group_ids=[\"series\"],\n",
    "    min_encoder_length=max_encoder_length,\n",
    "    max_encoder_length=max_encoder_length,\n",
    "    min_prediction_length=max_prediction_length,\n",
    "    max_prediction_length=max_prediction_length,\n",
    "    time_varying_unknown_reals=[\"value\"],\n",
    "    time_varying_known_reals=[\"_hour_of_day\",\"_day_of_week\",\"_day_of_month\",\"_day_of_year\",\"_week_of_year\",\"_month_of_year\",\"_year\" ],\n",
    "    add_relative_time_idx=False,\n",
    "    randomize_length=None,\n",
    "    scalers={},\n",
    "    target_normalizer=TorchNormalizer(method=\"identity\",center=False,transformation=None )\n",
    "\n",
    ")"
   ]
  },
  {
   "cell_type": "code",
   "execution_count": 7,
   "metadata": {},
   "outputs": [],
   "source": [
    "\n",
    "\n",
    "#training.data['target'][0][0:4]"
   ]
  },
  {
   "cell_type": "code",
   "execution_count": 8,
   "metadata": {},
   "outputs": [],
   "source": [
    "validation = TimeSeriesDataSet.from_dataset(\n",
    "    training,\n",
    "    data.iloc[-620:-420],\n",
    "    # predict=True,\n",
    "    stop_randomization=True,\n",
    ")       "
   ]
  },
  {
   "cell_type": "code",
   "execution_count": 9,
   "metadata": {},
   "outputs": [],
   "source": [
    "batch_size = 2\n",
    "train_dataloader = training.to_dataloader(train=True, batch_size=batch_size, num_workers=0)\n",
    "val_dataloader = validation.to_dataloader(train=False, batch_size=batch_size, num_workers=0)\n"
   ]
  },
  {
   "cell_type": "code",
   "execution_count": 10,
   "metadata": {},
   "outputs": [],
   "source": [
    "# i=0\n",
    "# for x,y in train_dataloader:\n",
    "#     print('xen',x[\"encoder_target\"])\n",
    "#     print('xen_cont',x['encoder_cont'])\n",
    "#     print('xde',x[\"decoder_target\"])\n",
    "#     print('xde_cont',x[\"decoder_cont\"])\n",
    "#     print('y',y[0])\n",
    "#     i+=1\n",
    "#     if i == 2:\n",
    "#         break"
   ]
  },
  {
   "cell_type": "code",
   "execution_count": 11,
   "metadata": {},
   "outputs": [],
   "source": [
    "# save datasets\n",
    "training.save(\"training.pkl\")\n",
    "validation.save(\"validation.pkl\")"
   ]
  },
  {
   "cell_type": "code",
   "execution_count": 12,
   "metadata": {},
   "outputs": [],
   "source": [
    "early_stop_callback = EarlyStopping(monitor=\"val_loss\", min_delta=1e-4, patience=5, verbose=False, mode=\"min\")\n",
    "lr_logger = LearningRateMonitor()\n"
   ]
  },
  {
   "cell_type": "code",
   "execution_count": null,
   "metadata": {},
   "outputs": [],
   "source": [
    "trainer = pl.Trainer(\n",
    "    max_epochs=1,\n",
    "    gpus=0,\n",
    "    gradient_clip_val=0.1,\n",
    "    limit_train_batches=30,\n",
    "    limit_val_batches=3,\n",
    "    # fast_dev_run=True,\n",
    "    # logger=logger,\n",
    "    # profiler=True,\n",
    "    callbacks=[lr_logger, early_stop_callback],\n",
    ")\n"
   ]
  },
  {
   "cell_type": "code",
   "execution_count": null,
   "metadata": {},
   "outputs": [],
   "source": [
    "deepar = DeepAR.from_dataset(\n",
    "    training,\n",
    "    learning_rate=0.1,\n",
    "    hidden_size=32,\n",
    "    dropout=0.1,\n",
    "    loss=NegativeBinomialDistributionLoss(),\n",
    "    log_interval=10,\n",
    "    log_val_interval=3,\n",
    "    # reduce_on_plateau_patience=3,\n",
    ")\n",
    "print(f\"Number of parameters in network: {deepar.size()/1e3:.1f}k\")\n"
   ]
  },
  {
   "cell_type": "code",
   "execution_count": 15,
   "metadata": {},
   "outputs": [],
   "source": [
    "# #find optimal learning rate\n",
    "# deepar.hparams.log_interval = -1\n",
    "# deepar.hparams.log_val_interval = -1\n",
    "# trainer.limit_train_batches = 1.0\n",
    "# res = trainer.tuner.lr_find(\n",
    "#     deepar, train_dataloaders=train_dataloader, val_dataloaders=val_dataloader, min_lr=1e-5, max_lr=1e2\n",
    "# )"
   ]
  },
  {
   "cell_type": "code",
   "execution_count": null,
   "metadata": {},
   "outputs": [],
   "source": [
    "torch.set_num_threads(10)\n",
    "trainer.fit(\n",
    "    deepar,\n",
    "    train_dataloaders=train_dataloader,\n",
    "    val_dataloaders=val_dataloader,\n",
    ")"
   ]
  },
  {
   "cell_type": "code",
   "execution_count": 17,
   "metadata": {},
   "outputs": [
    {
     "name": "stdout",
     "output_type": "stream",
     "text": [
      "torch.Size([121, 20])\n"
     ]
    },
    {
     "data": {
      "application/vnd.jupyter.widget-view+json": {
       "model_id": "5cbde3d8d6b94c2f894207de657da39f",
       "version_major": 2,
       "version_minor": 0
      },
      "text/plain": [
       "Predict:   0%|          | 0/61 [00:00<?, ? batches/s]"
      ]
     },
     "metadata": {},
     "output_type": "display_data"
    }
   ],
   "source": [
    "# calcualte mean absolute error on validation set\n",
    "actuals = torch.cat([y for x, (y, weight) in iter(val_dataloader)])\n",
    "\n",
    "print(actuals.shape)\n",
    "\n",
    "predictions = deepar.predict(data=val_dataloader,mode='prediction',return_index=True,num_workers=8,show_progress_bar=True)\n",
    "\n",
    "\n",
    "\n",
    "#print(f\"Mean absolute error of model: {(actuals - torch.tensor(predictions)).abs().mean()}\")\n"
   ]
  },
  {
   "cell_type": "code",
   "execution_count": 18,
   "metadata": {},
   "outputs": [
    {
     "name": "stdout",
     "output_type": "stream",
     "text": [
      "tensor([[ 8.,  0.,  0.,  ...,  0.,  0.,  0.],\n",
      "        [ 0.,  0.,  0.,  ...,  0.,  0.,  0.],\n",
      "        [ 0.,  0.,  2.,  ...,  0.,  0.,  0.],\n",
      "        ...,\n",
      "        [ 0.,  0., 14.,  ...,  0.,  7.,  0.],\n",
      "        [ 0., 14.,  0.,  ...,  7.,  0.,  0.],\n",
      "        [14.,  0.,  0.,  ...,  0.,  0.,  0.]])\n",
      "tensor([[1.3500, 1.0800, 1.5500, 2.0700, 1.5800, 1.7300, 1.4800, 1.1000, 1.1500,\n",
      "         1.4800, 1.4700, 1.6100, 0.8600, 1.3600, 1.0300, 1.4300, 1.1900, 1.3900,\n",
      "         1.3500, 1.4000],\n",
      "        [1.8500, 1.0100, 1.2000, 0.9100, 1.2000, 1.1100, 1.2400, 1.2500, 1.3100,\n",
      "         1.1800, 1.6800, 1.0200, 1.3800, 1.2000, 2.0500, 1.3300, 1.4900, 1.1700,\n",
      "         1.4500, 1.4800],\n",
      "        [1.0800, 1.2500, 1.4600, 0.9600, 1.5600, 1.4000, 1.1400, 1.4800, 1.7100,\n",
      "         1.4200, 2.1100, 1.4100, 1.1300, 1.5100, 1.3500, 1.6100, 1.4800, 1.7200,\n",
      "         1.4000, 1.6600],\n",
      "        [1.6200, 1.6300, 1.6900, 1.4900, 1.4800, 1.1900, 1.4700, 1.7900, 1.3000,\n",
      "         0.9700, 1.6200, 1.3200, 1.4300, 1.3900, 0.9600, 1.6100, 1.4300, 1.3300,\n",
      "         1.8200, 1.2900],\n",
      "        [1.6500, 1.5800, 1.4300, 1.6600, 1.2800, 1.7900, 1.2100, 1.3300, 1.2500,\n",
      "         1.6400, 0.7800, 1.4500, 1.7300, 1.4400, 1.3200, 1.3200, 1.3000, 1.2300,\n",
      "         1.0700, 1.3700],\n",
      "        [1.3100, 1.5600, 1.3800, 1.1600, 1.1300, 1.5500, 1.0800, 1.7400, 1.2000,\n",
      "         1.6400, 1.1400, 1.4600, 2.1600, 1.3700, 0.8600, 1.5900, 1.0800, 1.2200,\n",
      "         1.9900, 1.4900],\n",
      "        [1.4800, 1.3100, 1.3700, 1.5600, 1.1100, 1.6800, 1.2200, 1.7100, 1.3500,\n",
      "         1.1400, 1.1500, 1.2300, 1.5100, 1.4800, 1.9900, 1.7300, 2.0400, 1.4500,\n",
      "         1.5200, 0.9300],\n",
      "        [1.2700, 1.3500, 1.9400, 1.8400, 1.5200, 1.0900, 1.9900, 1.2200, 1.1900,\n",
      "         1.1900, 1.4700, 1.3700, 1.4300, 2.1000, 1.3200, 1.7000, 1.4300, 1.4800,\n",
      "         1.7200, 1.4200],\n",
      "        [1.3000, 1.6200, 1.1100, 1.6200, 1.5600, 1.4300, 1.8100, 1.2300, 1.5500,\n",
      "         1.4700, 1.0600, 1.7400, 1.5900, 1.6800, 1.4300, 1.7400, 1.0000, 1.5500,\n",
      "         1.5800, 1.5800],\n",
      "        [1.9200, 1.8600, 1.7200, 1.5200, 1.1300, 1.2900, 1.2800, 1.1800, 1.3700,\n",
      "         1.6900, 0.8600, 1.9800, 1.1300, 1.8600, 1.6400, 0.8400, 1.4600, 1.2900,\n",
      "         0.9900, 1.2600]])\n"
     ]
    }
   ],
   "source": [
    "print(actuals)\n",
    "print((predictions[0][0:10]))\n",
    "\n"
   ]
  },
  {
   "cell_type": "code",
   "execution_count": null,
   "metadata": {},
   "outputs": [],
   "source": []
  },
  {
   "cell_type": "code",
   "execution_count": null,
   "metadata": {},
   "outputs": [],
   "source": []
  }
 ],
 "metadata": {
  "kernelspec": {
   "display_name": "Python 3.9.5 ('base')",
   "language": "python",
   "name": "python3"
  },
  "language_info": {
   "codemirror_mode": {
    "name": "ipython",
    "version": 3
   },
   "file_extension": ".py",
   "mimetype": "text/x-python",
   "name": "python",
   "nbconvert_exporter": "python",
   "pygments_lexer": "ipython3",
   "version": "3.9.5"
  },
  "orig_nbformat": 4,
  "vscode": {
   "interpreter": {
    "hash": "f0213e7566dd6df184afb4bbdab7d267fb988f5f901680f5ca1af43b2a6441d4"
   }
  }
 },
 "nbformat": 4,
 "nbformat_minor": 2
}
