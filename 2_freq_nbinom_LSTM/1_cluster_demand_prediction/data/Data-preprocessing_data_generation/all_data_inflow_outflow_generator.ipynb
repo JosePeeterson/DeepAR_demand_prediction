{
 "cells": [
  {
   "cell_type": "code",
   "execution_count": 38,
   "id": "c3261c55",
   "metadata": {},
   "outputs": [
    {
     "data": {
      "text/plain": [
       "'\\nThis file can be used to generate inflfow and outflow at BOTH cluster-level (H=60 ,d = 0.5) and station-level (H=10 ,d = 0.01)\\n\\n'"
      ]
     },
     "execution_count": 38,
     "metadata": {},
     "output_type": "execute_result"
    }
   ],
   "source": [
    "\"\"\"\n",
    "This file can be used to generate inflfow and outflow at BOTH cluster-level (H=60 ,d = 0.5) and station-level (H=10 ,d = 0.01)\n",
    "\n",
    "\"\"\""
   ]
  },
  {
   "cell_type": "code",
   "execution_count": 39,
   "id": "334e549e",
   "metadata": {},
   "outputs": [],
   "source": [
    "import datetime\n",
    "import cvxpy as cp\n",
    "import numpy as np\n",
    "import pandas as pd\n",
    "import matplotlib.pyplot as plt\n",
    "from haversine import haversine_vector, Unit\n",
    "import os"
   ]
  },
  {
   "cell_type": "code",
   "execution_count": 40,
   "id": "cf4fbc50",
   "metadata": {},
   "outputs": [],
   "source": [
    "def temporal_clustering(H,demand):\n",
    "    \n",
    "    def str_to_dt(dt_str):\n",
    "        return datetime.datetime.strptime(dt_str, '%H:%M:%S').time()\n",
    "\n",
    "    \n",
    "    # temporal clustering\n",
    "    demand.insert(3,'start_timeslot', demand['start_time'].apply(lambda x:int(np.floor((60*str_to_dt(x).hour + str_to_dt(x).minute)/H))))\n",
    "    demand.insert(6,'end_timeslot', demand['end_time'].apply(lambda x:int(np.floor((60*str_to_dt(x).hour + str_to_dt(x).minute)/H))))"
   ]
  },
  {
   "cell_type": "code",
   "execution_count": 41,
   "id": "71abd3fb",
   "metadata": {},
   "outputs": [],
   "source": [
    "def spatial_clustering(d,demand):\n",
    "    stations = pd.read_csv('stations.csv',index_col=0)\n",
    "    \n",
    "    stn_coords = list(zip(stations.y, stations.x))\n",
    "\n",
    "    D = haversine_vector(stn_coords, stn_coords, Unit.KILOMETERS, comb=True)\n",
    "    R = 1*(D < d) # 1 km threshold\n",
    "    \n",
    "    # ilp to select cluster centers\n",
    "    x = cp.Variable((len(stations),),boolean=True)\n",
    "    prob = cp.Problem(cp.Minimize(cp.sum(x)), [x.T@R>=1])\n",
    "    prob.solve()\n",
    "    \n",
    "    # map each station to a cluster\n",
    "    stations['cc'] = x.value\n",
    "    cluster_centers = stations.loc[stations.cc==1]\n",
    "    cc_coords = list(zip(cluster_centers.x, cluster_centers.y))\n",
    "    stations['cc_id'] = np.argmin(haversine_vector(cc_coords, stn_coords, Unit.KILOMETERS, comb=True), axis=1)\n",
    "    \n",
    "    station_to_cluster_map = dict(zip(stations.index, stations.cc_id))\n",
    "    \n",
    "    # spatial clustering\n",
    "    demand['start_cluster'] = demand['start_station'].apply(lambda x: station_to_cluster_map[x])\n",
    "    demand['end_cluster'] = demand['end_station'].apply(lambda x: station_to_cluster_map[x])\n",
    "    \n",
    "    return station_to_cluster_map, stations"
   ]
  },
  {
   "cell_type": "code",
   "execution_count": 42,
   "id": "db67aa36",
   "metadata": {},
   "outputs": [
    {
     "data": {
      "text/plain": [
       "' windows \\ncd C:\\\\Work\\\\WORK_PACKAGE\\\\Demand_forecasting\\\\github\\x08lue-sg/Demand_forecasting/BLUESG_Demand_data/Data-preprocessing_data_generation\\n'"
      ]
     },
     "execution_count": 42,
     "metadata": {},
     "output_type": "execute_result"
    }
   ],
   "source": [
    "\"\"\" windows \n",
    "cd C:\\Work\\WORK_PACKAGE\\Demand_forecasting\\github\\blue-sg/Demand_forecasting/BLUESG_Demand_data/Data-preprocessing_data_generation\n",
    "\"\"\""
   ]
  },
  {
   "cell_type": "code",
   "execution_count": 43,
   "id": "030b7519",
   "metadata": {},
   "outputs": [
    {
     "data": {
      "text/plain": [
       "'/home/optimusprime/Desktop/peeterson/github/DeepAR_demand_prediction/2_freq_nbinom_LSTM/1_cluster_demand_prediction/data/demand_data/standalone'"
      ]
     },
     "execution_count": 43,
     "metadata": {},
     "output_type": "execute_result"
    }
   ],
   "source": [
    "os.getcwd()"
   ]
  },
  {
   "cell_type": "code",
   "execution_count": 44,
   "id": "43159661",
   "metadata": {},
   "outputs": [
    {
     "name": "stdout",
     "output_type": "stream",
     "text": [
      "start_station              4    5    6    7    8    9    10   11   12   13   \\\n",
      "start_date start_timeslot                                                     \n",
      "2021-09-24 0               1.0  1.0  1.0  0.0  0.0  0.0  0.0  2.0  0.0  0.0   \n",
      "           1               0.0  0.0  0.0  0.0  0.0  0.0  1.0  0.0  0.0  0.0   \n",
      "           2               0.0  0.0  0.0  1.0  0.0  0.0  0.0  0.0  0.0  0.0   \n",
      "           3               0.0  0.0  0.0  0.0  0.0  0.0  0.0  0.0  1.0  0.0   \n",
      "           4               0.0  0.0  0.0  0.0  0.0  0.0  0.0  0.0  0.0  0.0   \n",
      "...                        ...  ...  ...  ...  ...  ...  ...  ...  ...  ...   \n",
      "2021-12-23 15              1.0  3.0  0.0  0.0  1.0  1.0  0.0  0.0  0.0  1.0   \n",
      "           16              0.0  1.0  0.0  0.0  2.0  0.0  1.0  0.0  0.0  1.0   \n",
      "           17              0.0  1.0  0.0  1.0  0.0  1.0  0.0  1.0  0.0  0.0   \n",
      "           18              0.0  2.0  1.0  2.0  1.0  2.0  0.0  1.0  1.0  0.0   \n",
      "           19              0.0  0.0  0.0  0.0  0.0  0.0  0.0  0.0  0.0  0.0   \n",
      "\n",
      "start_station              ...  380  381  382  383  384  385  386  387  388  \\\n",
      "start_date start_timeslot  ...                                                \n",
      "2021-09-24 0               ...  1.0  0.0  1.0  0.0  1.0  0.0  0.0  1.0  0.0   \n",
      "           1               ...  0.0  1.0  0.0  0.0  2.0  0.0  0.0  0.0  0.0   \n",
      "           2               ...  0.0  0.0  0.0  0.0  1.0  0.0  0.0  0.0  0.0   \n",
      "           3               ...  0.0  0.0  0.0  0.0  0.0  0.0  0.0  0.0  0.0   \n",
      "           4               ...  0.0  0.0  0.0  0.0  0.0  0.0  0.0  0.0  0.0   \n",
      "...                        ...  ...  ...  ...  ...  ...  ...  ...  ...  ...   \n",
      "2021-12-23 15              ...  1.0  0.0  2.0  0.0  1.0  0.0  1.0  0.0  0.0   \n",
      "           16              ...  0.0  0.0  1.0  0.0  0.0  0.0  0.0  0.0  0.0   \n",
      "           17              ...  0.0  1.0  0.0  0.0  0.0  0.0  0.0  0.0  0.0   \n",
      "           18              ...  0.0  1.0  2.0  0.0  0.0  0.0  0.0  0.0  0.0   \n",
      "           19              ...  0.0  0.0  0.0  0.0  0.0  0.0  0.0  0.0  0.0   \n",
      "\n",
      "start_station              389  \n",
      "start_date start_timeslot       \n",
      "2021-09-24 0               0.0  \n",
      "           1               0.0  \n",
      "           2               0.0  \n",
      "           3               0.0  \n",
      "           4               0.0  \n",
      "...                        ...  \n",
      "2021-12-23 15              0.0  \n",
      "           16              1.0  \n",
      "           17              2.0  \n",
      "           18              0.0  \n",
      "           19              0.0  \n",
      "\n",
      "[2180 rows x 382 columns]\n",
      "end_station              4    5    6    7    8    9    10   11   12   13   \\\n",
      "end_date   end_timeslot                                                     \n",
      "2021-09-24 0             1.0  0.0  0.0  1.0  1.0  0.0  0.0  1.0  0.0  1.0   \n",
      "           1             0.0  0.0  0.0  0.0  0.0  0.0  0.0  0.0  0.0  0.0   \n",
      "           2             0.0  0.0  1.0  0.0  0.0  0.0  0.0  0.0  0.0  0.0   \n",
      "           3             0.0  0.0  0.0  0.0  0.0  0.0  0.0  0.0  0.0  0.0   \n",
      "           4             0.0  0.0  0.0  0.0  0.0  0.0  0.0  0.0  0.0  0.0   \n",
      "...                      ...  ...  ...  ...  ...  ...  ...  ...  ...  ...   \n",
      "2021-12-23 15            0.0  1.0  0.0  0.0  1.0  0.0  1.0  1.0  1.0  0.0   \n",
      "           16            0.0  2.0  0.0  0.0  1.0  3.0  0.0  0.0  0.0  1.0   \n",
      "           17            0.0  1.0  0.0  1.0  0.0  0.0  1.0  0.0  1.0  0.0   \n",
      "           18            0.0  4.0  2.0  2.0  1.0  1.0  1.0  1.0  1.0  0.0   \n",
      "           19            0.0  1.0  0.0  0.0  0.0  0.0  0.0  2.0  1.0  1.0   \n",
      "\n",
      "end_station              ...  380  381  382  383  384  385  386  387  388  389  \n",
      "end_date   end_timeslot  ...                                                    \n",
      "2021-09-24 0             ...  0.0  0.0  0.0  0.0  0.0  0.0  0.0  0.0  0.0  0.0  \n",
      "           1             ...  1.0  1.0  1.0  0.0  0.0  0.0  0.0  0.0  0.0  0.0  \n",
      "           2             ...  0.0  0.0  0.0  0.0  0.0  0.0  0.0  0.0  0.0  0.0  \n",
      "           3             ...  0.0  0.0  1.0  0.0  0.0  0.0  0.0  1.0  0.0  0.0  \n",
      "           4             ...  0.0  0.0  0.0  0.0  1.0  0.0  0.0  0.0  0.0  0.0  \n",
      "...                      ...  ...  ...  ...  ...  ...  ...  ...  ...  ...  ...  \n",
      "2021-12-23 15            ...  0.0  1.0  0.0  0.0  0.0  0.0  0.0  0.0  0.0  0.0  \n",
      "           16            ...  0.0  1.0  1.0  0.0  0.0  0.0  0.0  0.0  0.0  2.0  \n",
      "           17            ...  0.0  0.0  2.0  0.0  0.0  0.0  0.0  0.0  0.0  0.0  \n",
      "           18            ...  1.0  0.0  2.0  0.0  1.0  0.0  0.0  0.0  0.0  1.0  \n",
      "           19            ...  0.0  0.0  1.0  0.0  0.0  0.0  0.0  0.0  0.0  0.0  \n",
      "\n",
      "[2180 rows x 382 columns]\n"
     ]
    }
   ],
   "source": [
    "if __name__ == \"__main__\":\n",
    "    os.chdir('/home/optimusprime/Desktop/peeterson/github/DeepAR_demand_prediction/2_freq_nbinom_LSTM/1_cluster_demand_prediction/data/demand_data/standalone')\n",
    "    demand = pd.read_csv('transaction_logs.csv',index_col=0)\n",
    "\n",
    "## start\n",
    "# DATAFRAME T cluster level demand\n",
    "\n",
    "    H,d = 60,0.5 # H:Timeslot duration in minutes, d = radius for clustering in km\n",
    "    #temporal clustering\n",
    "    temporal_clustering(H,demand)\n",
    "    \n",
    "    # #spatial clustering\n",
    "    # station_to_cluster_map, stations = spatial_clustering(d,demand)\n",
    "    \n",
    "    # print(station_to_cluster_map)\n",
    "    # #print(stations['region'])\n",
    "    # stations.to_csv('station_cc_id_new.csv', index=False)\n",
    "\n",
    "    #aggregated demand table\n",
    "    T = pd.pivot_table(demand, values = 'car', index=[\"start_date\",\"start_timeslot\"], columns=[\"start_station\"], aggfunc=lambda x: len(x.unique()))\n",
    "    IN = pd.pivot_table(demand, values = 'car', index=[\"end_date\",\"end_timeslot\"], columns=[\"end_station\"], aggfunc=lambda x: len(x.unique()))\n",
    "    IN.fillna(0, inplace=True)\n",
    "    T.fillna(0, inplace=True)\n",
    "    \n",
    "    # missing_clusters = [x for x in range(T.columns[-1]) if x not in T.columns]\n",
    "    # missing_clusters.sort()\n",
    "\n",
    "    # for ms in missing_clusters:\n",
    "    #     T.insert(ms, ms, 0)\n",
    "    \"\"\"\n",
    "    Ensure that the index of T and IN are of the same length and aligned\n",
    "\n",
    "    \"\"\"\n",
    "    start_idx = max(IN.index[0],T.index[0])\n",
    "    end_idx = min(IN.index[-1],T.index[-1])\n",
    "    T = T.loc[start_idx:end_idx]\n",
    "    IN = IN.loc[start_idx:end_idx]\n",
    "\n",
    "    print(T)\n",
    "    T.to_csv('outflow_station_dem.csv', index=False)\n",
    "\n",
    "    # missing_clusters = [x for x in range(IN.columns[-1]) if x not in IN.columns]\n",
    "    # missing_clusters.sort()\n",
    "    \n",
    "    # for ms in missing_clusters:\n",
    "    #     IN.insert(ms, ms, 0)\n",
    "\n",
    "    print(IN)\n",
    "    IN.to_csv('inflow_station_dem.csv', index=False)\n",
    "    \n",
    "## stop\n",
    "\n",
    "    #raw_data = T.to_numpy()\n",
    "\n"
   ]
  },
  {
   "cell_type": "code",
   "execution_count": null,
   "id": "68343c14",
   "metadata": {},
   "outputs": [],
   "source": [
    "\n",
    "\n"
   ]
  },
  {
   "cell_type": "code",
   "execution_count": null,
   "id": "80c97397",
   "metadata": {},
   "outputs": [],
   "source": []
  },
  {
   "cell_type": "code",
   "execution_count": null,
   "metadata": {},
   "outputs": [],
   "source": []
  }
 ],
 "metadata": {
  "interpreter": {
   "hash": "3492f4d3e3c55a6ecd296255a1842ef4032fa21edc5071abaeda59e7bc7b3161"
  },
  "kernelspec": {
   "display_name": "Python 3.5.6 ('dem_forcast')",
   "language": "python",
   "name": "python3"
  },
  "language_info": {
   "codemirror_mode": {
    "name": "ipython",
    "version": 3
   },
   "file_extension": ".py",
   "mimetype": "text/x-python",
   "name": "python",
   "nbconvert_exporter": "python",
   "pygments_lexer": "ipython3",
   "version": "3.9.16"
  }
 },
 "nbformat": 4,
 "nbformat_minor": 5
}
