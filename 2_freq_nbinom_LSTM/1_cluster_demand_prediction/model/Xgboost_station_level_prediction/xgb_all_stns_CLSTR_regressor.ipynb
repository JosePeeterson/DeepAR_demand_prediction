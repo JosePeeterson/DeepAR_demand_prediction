{
 "cells": [
  {
   "cell_type": "code",
   "execution_count": 52,
   "metadata": {},
   "outputs": [],
   "source": [
    "import os\n",
    "import pandas as pd\n",
    "import xgboost as xgb\n",
    "import numpy as np\n",
    "import statsmodels as sm\n",
    "from statsmodels.genmod.generalized_linear_model import GLM\n",
    "from sklearn.preprocessing import OneHotEncoder\n",
    "import tweedie\n",
    "import seaborn as sn\n",
    "import matplotlib.pyplot as plt\n",
    "import warnings\n",
    "#warnings.filterwarnings(\"ignore\")\n",
    "from sklearn.metrics import confusion_matrix\n",
    "from sklearn.metrics import plot_confusion_matrix\n",
    "import pygraphviz\n",
    "#warnings.filterwarnings(action='ignore', category=UserWarning)\n",
    "from xgboost import plot_tree\n",
    "from sklearn.utils import class_weight\n",
    "import optuna\n",
    "from optuna.trial import TrialState\n"
   ]
  },
  {
   "cell_type": "code",
   "execution_count": 53,
   "metadata": {},
   "outputs": [],
   "source": [
    "\n",
    "class train_validate_n_test(object):\n",
    "\n",
    "    def __init__(self) -> None:    \n",
    "        dataset_filename = \"xgboost_feat_train_ds_all_stns.csv\"\n",
    "        full_set = pd.read_csv(dataset_filename,parse_dates=['dt_ts'])\n",
    "        full_set = full_set.drop(['Unnamed: 0'],axis=1)\n",
    "\n",
    "        self.train_stop_time_fold_1 = '2021/11/30 00:00'\n",
    "        self.val_stop_time_fold_1 = '2021/12/05 00:00'\n",
    "        self.train_stop_time_fold_2 = self.val_stop_time_fold_1\n",
    "        self.val_stop_time_fold_2 = '2021/12/10 00:00'\n",
    "        self.train_stop_time_fold_3 = self.val_stop_time_fold_2\n",
    "        self.val_stop_time_fold_3 = '2021/12/16 00:00'\n",
    "\n",
    "        #self.classes_weights = self.analyze_target(full_set)\n",
    "        self.full_set = self.onehotencode_cat_var(full_set)\n",
    "\n",
    "\n",
    "    def analyze_target(self,full_set):\n",
    "        print('###################################### TARGET data EXPLORATION ###########################################')\n",
    "        print('Target class frequency:')\n",
    "        print(full_set['target'].value_counts())\n",
    "\n",
    "        full_set['target'].hist()\n",
    "        plt.title('Target histogram')\n",
    "        plt.xlabel('demand value (class)')\n",
    "        plt.ylabel('count')\n",
    "        plt.show()\n",
    "\n",
    "        classes_weights = class_weight.compute_sample_weight(class_weight='balanced',y=full_set['target'])\n",
    "        print('\\nTarget class weights:')\n",
    "        print(np.unique(classes_weights))\n",
    "        print('##########################################################################################################')\n",
    "        return classes_weights\n",
    "\n",
    "\n",
    "    def onehotencode_cat_var(self,full_set):\n",
    "        full_set = full_set.astype({\"stn_id\":str,\"block_id\":str,\"ts_of_day\":str,\"hr_of_day\":str,\"day_of_wk\":str,\"day_of_mn\":str,\"wk_of_mon\":str })\n",
    "        full_set = pd.get_dummies(full_set, prefix_sep=\"_\",columns =[\"stn_id\",\"block_id\",\"ts_of_day\",\"hr_of_day\",\"day_of_wk\",\"day_of_mn\",\"wk_of_mon\"],drop_first=True)\n",
    "        #ds_df = ds_df.drop('rem_blk_outf_'+self.stn,axis=1)\n",
    "        return full_set\n",
    "\n",
    "\n",
    "    def walk_forward_val_n_train_set(self,fold):\n",
    "        # split validation set into 3 parts\n",
    "        if (fold==1):\n",
    "            train1 = self.full_set.loc[self.full_set['dt_ts'] < self.train_stop_time_fold_1]\n",
    "            tr1 = train1.drop([\"target\",\"dt_ts\"], axis=1)\n",
    "            label_train1 = pd.DataFrame(train1[\"target\"])\n",
    "            classes_weights = class_weight.compute_sample_weight(class_weight='balanced',y=label_train1)\n",
    "            dtrain1 = xgb.DMatrix(tr1, label=label_train1,weight=classes_weights)\n",
    "\n",
    "            print('\\n',train1.isnull().values.any(),'\\n')\n",
    "\n",
    "            val1 = self.full_set.loc[(self.full_set['dt_ts'] >= self.train_stop_time_fold_1) & (self.full_set['dt_ts'] < self.val_stop_time_fold_1)]\n",
    "            v1 = val1.drop([\"target\",\"dt_ts\"], axis=1)\n",
    "            label_val1 = pd.DataFrame(val1[\"target\"])\n",
    "            classes_weights = class_weight.compute_sample_weight(class_weight='balanced',y=label_val1)\n",
    "            dval1 = xgb.DMatrix(v1, label=label_val1,weight=classes_weights)\n",
    "            print('\\n',val1.isnull().values.any(),'\\n')\n",
    "\n",
    "            return dtrain1, dval1\n",
    "        \n",
    "        elif (fold==2):\n",
    "            train2 = self.full_set.loc[self.full_set['dt_ts'] < self.train_stop_time_fold_2]\n",
    "            tr2 = train2.drop([\"target\",\"dt_ts\"], axis=1)\n",
    "            label_train2 = pd.DataFrame(train2[\"target\"])\n",
    "            classes_weights = class_weight.compute_sample_weight(class_weight='balanced',y=label_train2)\n",
    "            dtrain2 = xgb.DMatrix(tr2, label=label_train2,weight=classes_weights)\n",
    "\n",
    "            print('\\n',train2.isnull().values.any(),'\\n')\n",
    "\n",
    "            val2 = self.full_set.loc[(self.full_set['dt_ts'] >= self.train_stop_time_fold_2) & (self.full_set['dt_ts'] < self.val_stop_time_fold_2)]\n",
    "            v2 = val2.drop([\"target\",\"dt_ts\"], axis=1)\n",
    "            label_val2 = pd.DataFrame(val2[\"target\"])\n",
    "            classes_weights = class_weight.compute_sample_weight(class_weight='balanced',y=label_val2)\n",
    "            dval2 = xgb.DMatrix(v2, label=label_val2,weight=classes_weights)\n",
    "\n",
    "            print('\\n',val2.isnull().values.any(),'\\n')\n",
    "\n",
    "            return dtrain2,dval2\n",
    "        \n",
    "        else:\n",
    "            train3 = self.full_set.loc[self.full_set['dt_ts'] < self.train_stop_time_fold_3]\n",
    "            tr3 = train3.drop([\"target\",\"dt_ts\"], axis=1)\n",
    "            label_train3 = pd.DataFrame(train3[\"target\"])\n",
    "            classes_weights = class_weight.compute_sample_weight(class_weight='balanced',y=label_train3)\n",
    "            dtrain3 = xgb.DMatrix(tr3, label=label_train3,weight=classes_weights)\n",
    "\n",
    "            print('\\n',train3.isnull().values.any(),'\\n')\n",
    "\n",
    "            val3 = self.full_set.loc[(self.full_set['dt_ts'] >= self.train_stop_time_fold_3) & (self.full_set['dt_ts'] < self.val_stop_time_fold_3)]\n",
    "            v3 = val3.drop([\"target\",\"dt_ts\"], axis=1)\n",
    "            label_val3 = pd.DataFrame(val3[\"target\"])\n",
    "            classes_weights = class_weight.compute_sample_weight(class_weight='balanced',y=label_val3)\n",
    "            dval3 = xgb.DMatrix(v3, label=label_val3,weight=classes_weights)\n",
    "\n",
    "            print('\\n',val3.isnull().values.any(),'\\n')\n",
    "\n",
    "            return dtrain3,dval3\n",
    "\n",
    "\n",
    "\n",
    "    def xgb_train_validate(self,params,num_round, e_s_r,t_v_p):\n",
    "        dtrain1, dval1 = self.walk_forward_val_n_train_set(fold=1)\n",
    "        watchlist1  = [(dtrain1,'train1_tweedie_loss'), (dval1, 'val1_tweedie_loss')]\n",
    "        evals_result1 = {}\n",
    "        model1 = xgb.train(params=params, dtrain=dtrain1, num_boost_round=num_round, evals=watchlist1, evals_result=evals_result1,  early_stopping_rounds=e_s_r,verbose_eval=False)\n",
    "        val1_error = evals_result1['val1_tweedie_loss']['tweedie-nloglik@'+str(t_v_p)]\n",
    "\n",
    "        dtrain2, dval2 = self.walk_forward_val_n_train_set(fold=2)\n",
    "        watchlist2  = [(dtrain2,'train2_tweedie_loss'), (dval2, 'val2_tweedie_loss')]\n",
    "        evals_result2 = {}\n",
    "        model2 = xgb.train(params=params, dtrain=dtrain2, num_boost_round=num_round, evals=watchlist2, evals_result=evals_result2, early_stopping_rounds=e_s_r,xgb_model=model1,verbose_eval=False )\n",
    "        val2_error = evals_result2['val2_tweedie_loss']['tweedie-nloglik@'+str(t_v_p)]\n",
    "\n",
    "        dtrain3, dval3 = self.walk_forward_val_n_train_set(fold=3)\n",
    "        watchlist3  = [(dtrain3,'train3_tweedie_loss'), (dval3, 'val3_tweedie_loss')]\n",
    "        evals_result3 = {}\n",
    "        self.model3 = xgb.train(params=params, dtrain=dtrain3, num_boost_round=num_round, evals=watchlist3, evals_result=evals_result3, early_stopping_rounds=e_s_r,xgb_model=model2,verbose_eval=False )\n",
    "        val3_error = evals_result3['val3_tweedie_loss']['tweedie-nloglik@'+str(t_v_p)]\n",
    "\n",
    "        print('\\n')\n",
    "        print('###################################### VALIDATION Loss ###########################################')\n",
    "        print('Last estimator val1_error',val1_error[-1]) # Result is a list of validation loss from each of boosters/estimators, last one is final val loss.\n",
    "        print('Last estimator val2_error',val2_error[-1])\n",
    "        print('Last estimator val3_error',val3_error[-1])\n",
    "\n",
    "        val_avg_error = np.mean(np.array([val1_error[-1],val2_error[-1],val3_error[-1]]))\n",
    "        print('val_avg_error',val_avg_error)\n",
    "        print('##################################################################################################')\n",
    "        return val_avg_error\n",
    "\n",
    "\n",
    "    def display_tweedie_plot(self,):\n",
    "        tvs = tweedie.tweedie(mu=1, p=1.1, phi=1.5).rvs(6000)\n",
    "        sn.set(rc={'figure.figsize':(10,5)})\n",
    "        # plt.figure(figsize=(25,10))\n",
    "        sn.displot(tvs)\n",
    "        plt.title('Parametric tweedie distribution')\n",
    "        plt.xlabel('demand value (class)')\n",
    "        plt.show()\n",
    "        return\n",
    "\n",
    "\n",
    "    def evaluate_predictions(self,model):\n",
    "        test = self.full_set.loc[self.full_set['dt_ts'] >= self.val_stop_time_fold_3]\n",
    "        X_test = test.drop([\"target\",\"dt_ts\"], axis=1)\n",
    "        label_test = pd.DataFrame(test[\"target\"])\n",
    "        classes_weights = class_weight.compute_sample_weight(class_weight='balanced',y=label_test)\n",
    "        dtest = xgb.DMatrix(X_test, label=label_test,weight=classes_weights)\n",
    "\n",
    "        print('\\n',test.isnull().values.any(),'\\n')\n",
    "\n",
    "        preds = model.predict(dtest)\n",
    "        preds = np.rint(preds)\n",
    "        label_test = label_test['target'].to_numpy()\n",
    "\n",
    "        print('####################################### PREDICTION #################################################')    \n",
    "        plt.plot(preds,'*')\n",
    "        plt.ylabel('Demand value (prediction)')\n",
    "        plt.xlabel('Time')     \n",
    "        plt.show()\n",
    "        plt.plot(label_test,'*')\n",
    "        plt.ylabel('Demand value (Ground-truth)')\n",
    "        plt.xlabel('Time')     \n",
    "        plt.show()\n",
    "        # plt.plot(label_test[40:60],'*')\n",
    "        # plt.title('zoomed true label test')\n",
    "        # plt.ylabel('Demand value')\n",
    "        # plt.xlabel('Time')     \n",
    "        # plt.show()\n",
    "        # plt.plot(preds[40:60],'*')\n",
    "        # plt.title('zoomed pred label')\n",
    "        # plt.ylabel('Demand value')\n",
    "        # plt.xlabel('Time')     \n",
    "        # plt.show()\n",
    "\n",
    "        #\"use confusion matrix, ROC, F1 scores to evaluate\"\n",
    "        cm = confusion_matrix(label_test,preds)\n",
    "        max_classes = max(len(np.unique(label_test)),len(np.unique(preds)))\n",
    "        df_cm = pd.DataFrame(cm, index = [i for i in range(max_classes)],\n",
    "                        columns = [i for i in range(max_classes)])\n",
    "        plt.figure(figsize = (10,7))      \n",
    "        s = sn.heatmap(df_cm, annot=True, )\n",
    "        s.set(xlabel='Predicted-Label', ylabel='True-Label')\n",
    "        print('##################################################################################################')\n",
    "\n",
    "        return X_test,label_test, preds\n",
    "\n",
    "\n",
    "    def identify_tweedie_variance_param():\n",
    "        #TODO:#\"fit on data\"\n",
    "        # follow this tutorial https://notebook.community/thequackdaddy/tweedie/example/tweedie_demo\n",
    "        # GLM.estimate_tweedie_power()\n",
    "        # #Training model\n",
    "        # tweedie_model = sm.GLM(y_train, X_train, exposure = df_train.exposure, family=sm.families.Tweedie(link=None,var_power=1.5,eql=True))\n",
    "        # tweedie_result = tweedie_model.fit()\n",
    "        # #Using the initial model output to decide the optimum index parameter \"p\"\n",
    "        # GLM.estimate_tweedie_power(training_result, method='brentq', low=1.01, high=5.0)\n",
    "        # tweedie_model.estimate_tweedie_power(tweedie_result.mu, method='brentq', low=1.01, high=5.0)\n",
    "        return\n",
    "\n",
    "\n",
    "    def make_predictions(self,best_params,num_round, e_s_r):\n",
    "        #TODO:#for new predictions after tuning model\n",
    "        train4 = self.full_set.loc[self.full_set['dt_ts'] < self.val_stop_time_fold_3]\n",
    "        tr4 = train4.drop([\"target\",\"dt_ts\"], axis=1)\n",
    "        label_train4 = pd.DataFrame(train4[\"target\"])\n",
    "        classes_weights = class_weight.compute_sample_weight(class_weight='balanced',y=label_train4)\n",
    "        dtrain4 = xgb.DMatrix(tr4, label=label_train4,weight=classes_weights)\n",
    "\n",
    "        watchlist4  = [(dtrain4,'train3_tweedie_loss')]\n",
    "        evals_result4 = {}\n",
    "        self.model4 = xgb.train(params=best_params, dtrain=dtrain4, num_boost_round=num_round, evals=watchlist4, evals_result=evals_result4, early_stopping_rounds=e_s_r,verbose_eval=False )\n",
    "        return self.model4 # best_model\n",
    "    \n",
    "\n",
    "    def visualize_tree(self,):\n",
    "        #TODO:#\"draw out a few trees to interpret results\"        \n",
    "        #xgb.plot_tree(self.train3)\n",
    "        plot_tree(self.model3)\n",
    "\n",
    "        return\n",
    "\n"
   ]
  },
  {
   "cell_type": "code",
   "execution_count": 54,
   "metadata": {},
   "outputs": [],
   "source": [
    "\n",
    "def objective(trial):\n",
    "\n",
    "    os.chdir(\"c:\\Work\\WORK_PACKAGE\\Demand_forecasting\\BLUESG_Demand_data\\Data-preprocessing_data_generation\")\n",
    "    t_v_t = train_validate_n_test()\n",
    "\n",
    "    tweedie_variance_power = round(trial.suggest_float(name='tweedie_variance_power',low=1.1,high=1.9,step=0.1,log=False),1)\n",
    "\n",
    "    ######  SET Hyperparameter's range for tuning ######\n",
    "    early_stopping_rounds = 30\n",
    "    eval_metric = 'tweedie-nloglik@'+str(tweedie_variance_power)\n",
    "    num_round= 1000\n",
    "    # Hyperparameters and algorithm parameters are described here\n",
    "    params = {\"max_depth\": trial.suggest_int('max_depth', 3, 10),\n",
    "            \"eta\": trial.suggest_float(name='learning_rate', low=0.0001, high=0.1,log=True),\n",
    "            \"subsample\" : round(trial.suggest_float(name='subsample', low=0.1, high=1.0,step=0.1),1),\n",
    "            \"colsample_bytree\": round(trial.suggest_float(name='colsample_bytree', low=0.1, high=1.0,step=0.1),1),\n",
    "            'eval_metric':eval_metric, ## try using AUC as well.. \n",
    "            'tweedie_variance_power': tweedie_variance_power,\n",
    "            'gamma': trial.suggest_int('gamma', 0, 5),\n",
    "            'reg_alpha': trial.suggest_int('reg_alpha', 0, 5), \n",
    "            'reg_lambda': trial.suggest_int('reg_lambda', 0, 5),\n",
    "            'min_child_weight': trial.suggest_int('min_child_weight', 1, 10),\n",
    "            \"objective\": 'reg:tweedie',\n",
    "            }\n",
    "    ######  SET Hyperparameter's range for tuning ######\n",
    "\n",
    "    val_avg_error = t_v_t.xgb_train_validate(params,num_round, early_stopping_rounds,tweedie_variance_power)\n",
    "    return val_avg_error"
   ]
  },
  {
   "cell_type": "code",
   "execution_count": 55,
   "metadata": {},
   "outputs": [
    {
     "name": "stderr",
     "output_type": "stream",
     "text": [
      "\u001b[32m[I 2023-04-13 13:23:45,738]\u001b[0m A new study created in memory with name: no-name-7f663655-4d85-4997-9879-49209cd3b071\u001b[0m\n"
     ]
    },
    {
     "name": "stdout",
     "output_type": "stream",
     "text": [
      "\n",
      " False \n",
      "\n",
      "\n",
      " False \n",
      "\n",
      "\n",
      " False \n",
      "\n",
      "\n",
      " False \n",
      "\n",
      "\n",
      " False \n",
      "\n",
      "\n",
      " False \n",
      "\n"
     ]
    },
    {
     "name": "stderr",
     "output_type": "stream",
     "text": [
      "\u001b[32m[I 2023-04-13 13:25:00,585]\u001b[0m Trial 0 finished with value: 4.698616666666667 and parameters: {'tweedie_variance_power': 1.6, 'max_depth': 8, 'learning_rate': 0.0003764051051512748, 'subsample': 0.8, 'colsample_bytree': 0.2, 'gamma': 1, 'reg_alpha': 2, 'reg_lambda': 4, 'min_child_weight': 7}. Best is trial 0 with value: 4.698616666666667.\u001b[0m\n"
     ]
    },
    {
     "name": "stdout",
     "output_type": "stream",
     "text": [
      "\n",
      "\n",
      "###################################### VALIDATION Loss ###########################################\n",
      "Last estimator val1_error 5.256751\n",
      "Last estimator val2_error 4.028064\n",
      "Last estimator val3_error 4.811035\n",
      "val_avg_error 4.698616666666667\n",
      "##################################################################################################\n",
      "\n",
      " False \n",
      "\n",
      "\n",
      " False \n",
      "\n",
      "\n",
      " False \n",
      "\n",
      "\n",
      " False \n",
      "\n",
      "\n",
      " False \n",
      "\n",
      "\n",
      " False \n",
      "\n"
     ]
    },
    {
     "name": "stderr",
     "output_type": "stream",
     "text": [
      "\u001b[32m[I 2023-04-13 13:26:34,435]\u001b[0m Trial 1 finished with value: 4.529419666666667 and parameters: {'tweedie_variance_power': 1.7000000000000002, 'max_depth': 10, 'learning_rate': 0.0029997196032076137, 'subsample': 0.9, 'colsample_bytree': 0.4, 'gamma': 5, 'reg_alpha': 5, 'reg_lambda': 1, 'min_child_weight': 2}. Best is trial 1 with value: 4.529419666666667.\u001b[0m\n"
     ]
    },
    {
     "name": "stdout",
     "output_type": "stream",
     "text": [
      "\n",
      "\n",
      "###################################### VALIDATION Loss ###########################################\n",
      "Last estimator val1_error 4.844291\n",
      "Last estimator val2_error 4.017507\n",
      "Last estimator val3_error 4.726461\n",
      "val_avg_error 4.529419666666667\n",
      "##################################################################################################\n",
      "\n",
      " False \n",
      "\n",
      "\n",
      " False \n",
      "\n",
      "\n",
      " False \n",
      "\n",
      "\n",
      " False \n",
      "\n",
      "\n",
      " False \n",
      "\n",
      "\n",
      " False \n",
      "\n"
     ]
    },
    {
     "name": "stderr",
     "output_type": "stream",
     "text": [
      "\u001b[32m[I 2023-04-13 13:26:43,421]\u001b[0m Trial 2 finished with value: 4.484123 and parameters: {'tweedie_variance_power': 1.4000000000000001, 'max_depth': 5, 'learning_rate': 0.0638647589382723, 'subsample': 0.4, 'colsample_bytree': 0.8, 'gamma': 4, 'reg_alpha': 4, 'reg_lambda': 4, 'min_child_weight': 5}. Best is trial 2 with value: 4.484123.\u001b[0m\n"
     ]
    },
    {
     "name": "stdout",
     "output_type": "stream",
     "text": [
      "\n",
      "\n",
      "###################################### VALIDATION Loss ###########################################\n",
      "Last estimator val1_error 4.867233\n",
      "Last estimator val2_error 3.725765\n",
      "Last estimator val3_error 4.859371\n",
      "val_avg_error 4.484123\n",
      "##################################################################################################\n",
      "\n",
      " False \n",
      "\n",
      "\n",
      " False \n",
      "\n",
      "\n",
      " False \n",
      "\n",
      "\n",
      " False \n",
      "\n",
      "\n",
      " False \n",
      "\n",
      "\n",
      " False \n",
      "\n"
     ]
    },
    {
     "name": "stderr",
     "output_type": "stream",
     "text": [
      "\u001b[32m[I 2023-04-13 13:28:42,325]\u001b[0m Trial 3 finished with value: 4.891925333333333 and parameters: {'tweedie_variance_power': 1.4000000000000001, 'max_depth': 5, 'learning_rate': 0.00032895752021031656, 'subsample': 0.5, 'colsample_bytree': 0.8, 'gamma': 3, 'reg_alpha': 2, 'reg_lambda': 3, 'min_child_weight': 2}. Best is trial 2 with value: 4.484123.\u001b[0m\n"
     ]
    },
    {
     "name": "stdout",
     "output_type": "stream",
     "text": [
      "\n",
      "\n",
      "###################################### VALIDATION Loss ###########################################\n",
      "Last estimator val1_error 5.572202\n",
      "Last estimator val2_error 3.964798\n",
      "Last estimator val3_error 5.138776\n",
      "val_avg_error 4.891925333333333\n",
      "##################################################################################################\n",
      "\n",
      " False \n",
      "\n",
      "\n",
      " False \n",
      "\n",
      "\n",
      " False \n",
      "\n",
      "\n",
      " False \n",
      "\n",
      "\n",
      " False \n",
      "\n",
      "\n",
      " False \n",
      "\n"
     ]
    },
    {
     "name": "stderr",
     "output_type": "stream",
     "text": [
      "\u001b[32m[I 2023-04-13 13:28:50,894]\u001b[0m Trial 4 finished with value: 5.629361 and parameters: {'tweedie_variance_power': 1.8000000000000003, 'max_depth': 3, 'learning_rate': 0.035019518937087324, 'subsample': 1.0, 'colsample_bytree': 0.9, 'gamma': 4, 'reg_alpha': 1, 'reg_lambda': 4, 'min_child_weight': 4}. Best is trial 2 with value: 4.484123.\u001b[0m\n"
     ]
    },
    {
     "name": "stdout",
     "output_type": "stream",
     "text": [
      "\n",
      "\n",
      "###################################### VALIDATION Loss ###########################################\n",
      "Last estimator val1_error 5.85441\n",
      "Last estimator val2_error 5.176646\n",
      "Last estimator val3_error 5.857027\n",
      "val_avg_error 5.629361\n",
      "##################################################################################################\n",
      "\n",
      " False \n",
      "\n",
      "\n",
      " False \n",
      "\n",
      "\n",
      " False \n",
      "\n",
      "\n",
      " False \n",
      "\n",
      "\n",
      " False \n",
      "\n",
      "\n",
      " False \n",
      "\n"
     ]
    },
    {
     "name": "stderr",
     "output_type": "stream",
     "text": [
      "\u001b[32m[I 2023-04-13 13:30:24,908]\u001b[0m Trial 5 finished with value: 4.907066333333333 and parameters: {'tweedie_variance_power': 1.4000000000000001, 'max_depth': 6, 'learning_rate': 0.0003226905525937058, 'subsample': 1.0, 'colsample_bytree': 0.6, 'gamma': 4, 'reg_alpha': 0, 'reg_lambda': 1, 'min_child_weight': 6}. Best is trial 2 with value: 4.484123.\u001b[0m\n"
     ]
    },
    {
     "name": "stdout",
     "output_type": "stream",
     "text": [
      "\n",
      "\n",
      "###################################### VALIDATION Loss ###########################################\n",
      "Last estimator val1_error 5.583934\n",
      "Last estimator val2_error 3.985194\n",
      "Last estimator val3_error 5.152071\n",
      "val_avg_error 4.907066333333333\n",
      "##################################################################################################\n",
      "\n",
      " False \n",
      "\n",
      "\n",
      " False \n",
      "\n",
      "\n",
      " False \n",
      "\n",
      "\n",
      " False \n",
      "\n",
      "\n",
      " False \n",
      "\n",
      "\n",
      " False \n",
      "\n"
     ]
    },
    {
     "name": "stderr",
     "output_type": "stream",
     "text": [
      "\u001b[32m[I 2023-04-13 13:31:27,565]\u001b[0m Trial 6 finished with value: 8.142830333333334 and parameters: {'tweedie_variance_power': 1.2000000000000002, 'max_depth': 4, 'learning_rate': 0.00010171357189346834, 'subsample': 0.1, 'colsample_bytree': 0.8, 'gamma': 1, 'reg_alpha': 0, 'reg_lambda': 5, 'min_child_weight': 2}. Best is trial 2 with value: 4.484123.\u001b[0m\n"
     ]
    },
    {
     "name": "stdout",
     "output_type": "stream",
     "text": [
      "\n",
      "\n",
      "###################################### VALIDATION Loss ###########################################\n",
      "Last estimator val1_error 9.184613\n",
      "Last estimator val2_error 6.303529\n",
      "Last estimator val3_error 8.940349\n",
      "val_avg_error 8.142830333333334\n",
      "##################################################################################################\n",
      "\n",
      " False \n",
      "\n",
      "\n",
      " False \n",
      "\n",
      "\n",
      " False \n",
      "\n",
      "\n",
      " False \n",
      "\n",
      "\n",
      " False \n",
      "\n",
      "\n",
      " False \n",
      "\n"
     ]
    },
    {
     "name": "stderr",
     "output_type": "stream",
     "text": [
      "\u001b[32m[I 2023-04-13 13:32:56,607]\u001b[0m Trial 7 finished with value: 4.675372 and parameters: {'tweedie_variance_power': 1.5, 'max_depth': 9, 'learning_rate': 0.0003075154861678151, 'subsample': 0.9, 'colsample_bytree': 0.30000000000000004, 'gamma': 4, 'reg_alpha': 4, 'reg_lambda': 0, 'min_child_weight': 6}. Best is trial 2 with value: 4.484123.\u001b[0m\n"
     ]
    },
    {
     "name": "stdout",
     "output_type": "stream",
     "text": [
      "\n",
      "\n",
      "###################################### VALIDATION Loss ###########################################\n",
      "Last estimator val1_error 5.280854\n",
      "Last estimator val2_error 3.88917\n",
      "Last estimator val3_error 4.856092\n",
      "val_avg_error 4.675372\n",
      "##################################################################################################\n",
      "\n",
      " False \n",
      "\n",
      "\n",
      " False \n",
      "\n",
      "\n",
      " False \n",
      "\n",
      "\n",
      " False \n",
      "\n",
      "\n",
      " False \n",
      "\n",
      "\n",
      " False \n",
      "\n"
     ]
    },
    {
     "name": "stderr",
     "output_type": "stream",
     "text": [
      "\u001b[32m[I 2023-04-13 13:34:33,383]\u001b[0m Trial 8 finished with value: 5.686279 and parameters: {'tweedie_variance_power': 1.8000000000000003, 'max_depth': 9, 'learning_rate': 0.0029352688650674187, 'subsample': 0.8, 'colsample_bytree': 0.6, 'gamma': 4, 'reg_alpha': 5, 'reg_lambda': 1, 'min_child_weight': 4}. Best is trial 2 with value: 4.484123.\u001b[0m\n"
     ]
    },
    {
     "name": "stdout",
     "output_type": "stream",
     "text": [
      "\n",
      "\n",
      "###################################### VALIDATION Loss ###########################################\n",
      "Last estimator val1_error 5.989248\n",
      "Last estimator val2_error 5.165251\n",
      "Last estimator val3_error 5.904338\n",
      "val_avg_error 5.686279\n",
      "##################################################################################################\n",
      "\n",
      " False \n",
      "\n",
      "\n",
      " False \n",
      "\n",
      "\n",
      " False \n",
      "\n",
      "\n",
      " False \n",
      "\n",
      "\n",
      " False \n",
      "\n",
      "\n",
      " False \n",
      "\n"
     ]
    },
    {
     "name": "stderr",
     "output_type": "stream",
     "text": [
      "\u001b[32m[I 2023-04-13 13:34:47,941]\u001b[0m Trial 9 finished with value: 4.596403666666666 and parameters: {'tweedie_variance_power': 1.7000000000000002, 'max_depth': 10, 'learning_rate': 0.03817135483072482, 'subsample': 1.0, 'colsample_bytree': 0.2, 'gamma': 1, 'reg_alpha': 1, 'reg_lambda': 1, 'min_child_weight': 9}. Best is trial 2 with value: 4.484123.\u001b[0m\n"
     ]
    },
    {
     "name": "stdout",
     "output_type": "stream",
     "text": [
      "\n",
      "\n",
      "###################################### VALIDATION Loss ###########################################\n",
      "Last estimator val1_error 4.883074\n",
      "Last estimator val2_error 4.033298\n",
      "Last estimator val3_error 4.872839\n",
      "val_avg_error 4.596403666666666\n",
      "##################################################################################################\n",
      "\n",
      " False \n",
      "\n",
      "\n",
      " False \n",
      "\n",
      "\n",
      " False \n",
      "\n",
      "\n",
      " False \n",
      "\n",
      "\n",
      " False \n",
      "\n",
      "\n",
      " False \n",
      "\n"
     ]
    },
    {
     "name": "stderr",
     "output_type": "stream",
     "text": [
      "\u001b[32m[I 2023-04-13 13:34:56,497]\u001b[0m Trial 10 finished with value: 14.083874999999999 and parameters: {'tweedie_variance_power': 1.1, 'max_depth': 7, 'learning_rate': 0.07834928219646153, 'subsample': 0.30000000000000004, 'colsample_bytree': 1.0, 'gamma': 2, 'reg_alpha': 4, 'reg_lambda': 5, 'min_child_weight': 9}. Best is trial 2 with value: 4.484123.\u001b[0m\n"
     ]
    },
    {
     "name": "stdout",
     "output_type": "stream",
     "text": [
      "\n",
      "\n",
      "###################################### VALIDATION Loss ###########################################\n",
      "Last estimator val1_error 15.610437\n",
      "Last estimator val2_error 10.796185\n",
      "Last estimator val3_error 15.845003\n",
      "val_avg_error 14.083874999999999\n",
      "##################################################################################################\n",
      "\n",
      " False \n",
      "\n",
      "\n",
      " False \n",
      "\n",
      "\n",
      " False \n",
      "\n",
      "\n",
      " False \n",
      "\n",
      "\n",
      " False \n",
      "\n",
      "\n",
      " False \n",
      "\n"
     ]
    },
    {
     "name": "stderr",
     "output_type": "stream",
     "text": [
      "\u001b[32m[I 2023-04-13 13:35:51,366]\u001b[0m Trial 11 finished with value: 9.718005 and parameters: {'tweedie_variance_power': 1.9, 'max_depth': 6, 'learning_rate': 0.005063210969634764, 'subsample': 0.6, 'colsample_bytree': 0.4, 'gamma': 5, 'reg_alpha': 5, 'reg_lambda': 2, 'min_child_weight': 1}. Best is trial 2 with value: 4.484123.\u001b[0m\n"
     ]
    },
    {
     "name": "stdout",
     "output_type": "stream",
     "text": [
      "\n",
      "\n",
      "###################################### VALIDATION Loss ###########################################\n",
      "Last estimator val1_error 10.078862\n",
      "Last estimator val2_error 9.082239\n",
      "Last estimator val3_error 9.992914\n",
      "val_avg_error 9.718005\n",
      "##################################################################################################\n",
      "\n",
      " False \n",
      "\n",
      "\n",
      " False \n",
      "\n",
      "\n",
      " False \n",
      "\n",
      "\n",
      " False \n",
      "\n",
      "\n",
      " False \n",
      "\n",
      "\n",
      " False \n",
      "\n"
     ]
    },
    {
     "name": "stderr",
     "output_type": "stream",
     "text": [
      "\u001b[32m[I 2023-04-13 13:36:22,297]\u001b[0m Trial 12 finished with value: 5.390986333333333 and parameters: {'tweedie_variance_power': 1.3, 'max_depth': 5, 'learning_rate': 0.0070078369005192225, 'subsample': 0.5, 'colsample_bytree': 0.5, 'gamma': 5, 'reg_alpha': 4, 'reg_lambda': 3, 'min_child_weight': 4}. Best is trial 2 with value: 4.484123.\u001b[0m\n"
     ]
    },
    {
     "name": "stdout",
     "output_type": "stream",
     "text": [
      "\n",
      "\n",
      "###################################### VALIDATION Loss ###########################################\n",
      "Last estimator val1_error 5.918481\n",
      "Last estimator val2_error 4.364853\n",
      "Last estimator val3_error 5.889625\n",
      "val_avg_error 5.390986333333333\n",
      "##################################################################################################\n",
      "\n",
      " False \n",
      "\n",
      "\n",
      " False \n",
      "\n",
      "\n",
      " False \n",
      "\n",
      "\n",
      " False \n",
      "\n",
      "\n",
      " False \n",
      "\n",
      "\n",
      " False \n",
      "\n"
     ]
    },
    {
     "name": "stderr",
     "output_type": "stream",
     "text": [
      "\u001b[32m[I 2023-04-13 13:37:49,477]\u001b[0m Trial 13 finished with value: 4.162259333333333 and parameters: {'tweedie_variance_power': 1.6, 'max_depth': 7, 'learning_rate': 0.0019530229590260513, 'subsample': 0.30000000000000004, 'colsample_bytree': 0.7000000000000001, 'gamma': 3, 'reg_alpha': 3, 'reg_lambda': 2, 'min_child_weight': 3}. Best is trial 13 with value: 4.162259333333333.\u001b[0m\n"
     ]
    },
    {
     "name": "stdout",
     "output_type": "stream",
     "text": [
      "\n",
      "\n",
      "###################################### VALIDATION Loss ###########################################\n",
      "Last estimator val1_error 4.529297\n",
      "Last estimator val2_error 3.576457\n",
      "Last estimator val3_error 4.381024\n",
      "val_avg_error 4.162259333333333\n",
      "##################################################################################################\n",
      "\n",
      " False \n",
      "\n",
      "\n",
      " False \n",
      "\n",
      "\n",
      " False \n",
      "\n",
      "\n",
      " False \n",
      "\n",
      "\n",
      " False \n",
      "\n",
      "\n",
      " False \n",
      "\n"
     ]
    },
    {
     "name": "stderr",
     "output_type": "stream",
     "text": [
      "\u001b[32m[I 2023-04-13 13:39:25,727]\u001b[0m Trial 14 finished with value: 4.250552666666667 and parameters: {'tweedie_variance_power': 1.5, 'max_depth': 7, 'learning_rate': 0.0012253296611240908, 'subsample': 0.30000000000000004, 'colsample_bytree': 0.7000000000000001, 'gamma': 3, 'reg_alpha': 3, 'reg_lambda': 4, 'min_child_weight': 4}. Best is trial 13 with value: 4.162259333333333.\u001b[0m\n"
     ]
    },
    {
     "name": "stdout",
     "output_type": "stream",
     "text": [
      "\n",
      "\n",
      "###################################### VALIDATION Loss ###########################################\n",
      "Last estimator val1_error 4.724524\n",
      "Last estimator val2_error 3.541862\n",
      "Last estimator val3_error 4.485272\n",
      "val_avg_error 4.250552666666667\n",
      "##################################################################################################\n",
      "\n",
      " False \n",
      "\n",
      "\n",
      " False \n",
      "\n",
      "\n",
      " False \n",
      "\n",
      "\n",
      " False \n",
      "\n",
      "\n",
      " False \n",
      "\n",
      "\n",
      " False \n",
      "\n"
     ]
    },
    {
     "name": "stderr",
     "output_type": "stream",
     "text": [
      "\u001b[32m[I 2023-04-13 13:40:55,808]\u001b[0m Trial 15 finished with value: 4.246308 and parameters: {'tweedie_variance_power': 1.6, 'max_depth': 7, 'learning_rate': 0.0013409373655209262, 'subsample': 0.2, 'colsample_bytree': 0.7000000000000001, 'gamma': 2, 'reg_alpha': 3, 'reg_lambda': 2, 'min_child_weight': 3}. Best is trial 13 with value: 4.162259333333333.\u001b[0m\n"
     ]
    },
    {
     "name": "stdout",
     "output_type": "stream",
     "text": [
      "\n",
      "\n",
      "###################################### VALIDATION Loss ###########################################\n",
      "Last estimator val1_error 4.694236\n",
      "Last estimator val2_error 3.621891\n",
      "Last estimator val3_error 4.422797\n",
      "val_avg_error 4.246308\n",
      "##################################################################################################\n",
      "\n",
      " False \n",
      "\n",
      "\n",
      " False \n",
      "\n",
      "\n",
      " False \n",
      "\n",
      "\n",
      " False \n",
      "\n",
      "\n",
      " False \n",
      "\n",
      "\n",
      " False \n",
      "\n"
     ]
    },
    {
     "name": "stderr",
     "output_type": "stream",
     "text": [
      "\u001b[32m[I 2023-04-13 13:42:28,041]\u001b[0m Trial 16 finished with value: 4.375980333333334 and parameters: {'tweedie_variance_power': 1.6, 'max_depth': 8, 'learning_rate': 0.0010915602940096097, 'subsample': 0.1, 'colsample_bytree': 0.7000000000000001, 'gamma': 0, 'reg_alpha': 3, 'reg_lambda': 2, 'min_child_weight': 3}. Best is trial 13 with value: 4.162259333333333.\u001b[0m\n"
     ]
    },
    {
     "name": "stdout",
     "output_type": "stream",
     "text": [
      "\n",
      "\n",
      "###################################### VALIDATION Loss ###########################################\n",
      "Last estimator val1_error 4.889807\n",
      "Last estimator val2_error 3.701719\n",
      "Last estimator val3_error 4.536415\n",
      "val_avg_error 4.375980333333334\n",
      "##################################################################################################\n",
      "\n",
      " False \n",
      "\n",
      "\n",
      " False \n",
      "\n",
      "\n",
      " False \n",
      "\n",
      "\n",
      " False \n",
      "\n",
      "\n",
      " False \n",
      "\n",
      "\n",
      " False \n",
      "\n"
     ]
    },
    {
     "name": "stderr",
     "output_type": "stream",
     "text": [
      "\u001b[32m[I 2023-04-13 13:43:06,270]\u001b[0m Trial 17 finished with value: 4.111476333333333 and parameters: {'tweedie_variance_power': 1.6, 'max_depth': 8, 'learning_rate': 0.01032329306020988, 'subsample': 0.2, 'colsample_bytree': 1.0, 'gamma': 2, 'reg_alpha': 3, 'reg_lambda': 2, 'min_child_weight': 1}. Best is trial 17 with value: 4.111476333333333.\u001b[0m\n"
     ]
    },
    {
     "name": "stdout",
     "output_type": "stream",
     "text": [
      "\n",
      "\n",
      "###################################### VALIDATION Loss ###########################################\n",
      "Last estimator val1_error 4.38262\n",
      "Last estimator val2_error 3.568338\n",
      "Last estimator val3_error 4.383471\n",
      "val_avg_error 4.111476333333333\n",
      "##################################################################################################\n",
      "\n",
      " False \n",
      "\n",
      "\n",
      " False \n",
      "\n",
      "\n",
      " False \n",
      "\n",
      "\n",
      " False \n",
      "\n",
      "\n",
      " False \n",
      "\n",
      "\n",
      " False \n",
      "\n"
     ]
    },
    {
     "name": "stderr",
     "output_type": "stream",
     "text": [
      "\u001b[32m[I 2023-04-13 13:44:01,859]\u001b[0m Trial 18 finished with value: 4.507167666666667 and parameters: {'tweedie_variance_power': 1.7000000000000002, 'max_depth': 8, 'learning_rate': 0.011680945417141216, 'subsample': 0.30000000000000004, 'colsample_bytree': 1.0, 'gamma': 2, 'reg_alpha': 2, 'reg_lambda': 3, 'min_child_weight': 1}. Best is trial 17 with value: 4.111476333333333.\u001b[0m\n"
     ]
    },
    {
     "name": "stdout",
     "output_type": "stream",
     "text": [
      "\n",
      "\n",
      "###################################### VALIDATION Loss ###########################################\n",
      "Last estimator val1_error 4.768927\n",
      "Last estimator val2_error 3.997513\n",
      "Last estimator val3_error 4.755063\n",
      "val_avg_error 4.507167666666667\n",
      "##################################################################################################\n",
      "\n",
      " False \n",
      "\n",
      "\n",
      " False \n",
      "\n",
      "\n",
      " False \n",
      "\n",
      "\n",
      " False \n",
      "\n",
      "\n",
      " False \n",
      "\n",
      "\n",
      " False \n",
      "\n"
     ]
    },
    {
     "name": "stderr",
     "output_type": "stream",
     "text": [
      "\u001b[32m[I 2023-04-13 13:44:30,108]\u001b[0m Trial 19 finished with value: 10.235527666666668 and parameters: {'tweedie_variance_power': 1.9, 'max_depth': 9, 'learning_rate': 0.017470180885870382, 'subsample': 0.2, 'colsample_bytree': 0.9, 'gamma': 3, 'reg_alpha': 3, 'reg_lambda': 0, 'min_child_weight': 1}. Best is trial 17 with value: 4.111476333333333.\u001b[0m\n"
     ]
    },
    {
     "name": "stdout",
     "output_type": "stream",
     "text": [
      "\n",
      "\n",
      "###################################### VALIDATION Loss ###########################################\n",
      "Last estimator val1_error 10.152803\n",
      "Last estimator val2_error 9.418126\n",
      "Last estimator val3_error 11.135654\n",
      "val_avg_error 10.235527666666668\n",
      "##################################################################################################\n",
      "\n",
      " False \n",
      "\n",
      "\n",
      " False \n",
      "\n",
      "\n",
      " False \n",
      "\n",
      "\n",
      " False \n",
      "\n",
      "\n",
      " False \n",
      "\n",
      "\n",
      " False \n",
      "\n"
     ]
    },
    {
     "name": "stderr",
     "output_type": "stream",
     "text": [
      "\u001b[32m[I 2023-04-13 13:45:09,462]\u001b[0m Trial 20 finished with value: 4.1687639999999995 and parameters: {'tweedie_variance_power': 1.5, 'max_depth': 6, 'learning_rate': 0.015545499404452186, 'subsample': 0.6, 'colsample_bytree': 0.1, 'gamma': 0, 'reg_alpha': 1, 'reg_lambda': 2, 'min_child_weight': 3}. Best is trial 17 with value: 4.111476333333333.\u001b[0m\n"
     ]
    },
    {
     "name": "stdout",
     "output_type": "stream",
     "text": [
      "\n",
      "\n",
      "###################################### VALIDATION Loss ###########################################\n",
      "Last estimator val1_error 4.529408\n",
      "Last estimator val2_error 3.516478\n",
      "Last estimator val3_error 4.460406\n",
      "val_avg_error 4.1687639999999995\n",
      "##################################################################################################\n",
      "\n",
      " False \n",
      "\n",
      "\n",
      " False \n",
      "\n",
      "\n",
      " False \n",
      "\n",
      "\n",
      " False \n",
      "\n",
      "\n",
      " False \n",
      "\n",
      "\n",
      " False \n",
      "\n"
     ]
    },
    {
     "name": "stderr",
     "output_type": "stream",
     "text": [
      "\u001b[32m[I 2023-04-13 13:45:35,472]\u001b[0m Trial 21 finished with value: 4.129764000000001 and parameters: {'tweedie_variance_power': 1.5, 'max_depth': 6, 'learning_rate': 0.01252090568150884, 'subsample': 0.6, 'colsample_bytree': 0.5, 'gamma': 0, 'reg_alpha': 1, 'reg_lambda': 2, 'min_child_weight': 3}. Best is trial 17 with value: 4.111476333333333.\u001b[0m\n"
     ]
    },
    {
     "name": "stdout",
     "output_type": "stream",
     "text": [
      "\n",
      "\n",
      "###################################### VALIDATION Loss ###########################################\n",
      "Last estimator val1_error 4.450699\n",
      "Last estimator val2_error 3.48568\n",
      "Last estimator val3_error 4.452913\n",
      "val_avg_error 4.129764000000001\n",
      "##################################################################################################\n",
      "\n",
      " False \n",
      "\n",
      "\n",
      " False \n",
      "\n",
      "\n",
      " False \n",
      "\n",
      "\n",
      " False \n",
      "\n",
      "\n",
      " False \n",
      "\n",
      "\n",
      " False \n",
      "\n"
     ]
    },
    {
     "name": "stderr",
     "output_type": "stream",
     "text": [
      "\u001b[32m[I 2023-04-13 13:46:13,709]\u001b[0m Trial 22 finished with value: 4.122221 and parameters: {'tweedie_variance_power': 1.6, 'max_depth': 7, 'learning_rate': 0.009043346780855626, 'subsample': 0.7000000000000001, 'colsample_bytree': 0.5, 'gamma': 0, 'reg_alpha': 2, 'reg_lambda': 2, 'min_child_weight': 2}. Best is trial 17 with value: 4.111476333333333.\u001b[0m\n"
     ]
    },
    {
     "name": "stdout",
     "output_type": "stream",
     "text": [
      "\n",
      "\n",
      "###################################### VALIDATION Loss ###########################################\n",
      "Last estimator val1_error 4.393692\n",
      "Last estimator val2_error 3.552795\n",
      "Last estimator val3_error 4.420176\n",
      "val_avg_error 4.122221\n",
      "##################################################################################################\n",
      "\n",
      " False \n",
      "\n",
      "\n",
      " False \n",
      "\n",
      "\n",
      " False \n",
      "\n",
      "\n",
      " False \n",
      "\n",
      "\n",
      " False \n",
      "\n",
      "\n",
      " False \n",
      "\n"
     ]
    },
    {
     "name": "stderr",
     "output_type": "stream",
     "text": [
      "\u001b[32m[I 2023-04-13 13:47:07,938]\u001b[0m Trial 23 finished with value: 4.165924333333334 and parameters: {'tweedie_variance_power': 1.5, 'max_depth': 8, 'learning_rate': 0.007043702942279315, 'subsample': 0.7000000000000001, 'colsample_bytree': 0.5, 'gamma': 0, 'reg_alpha': 1, 'reg_lambda': 3, 'min_child_weight': 2}. Best is trial 17 with value: 4.111476333333333.\u001b[0m\n"
     ]
    },
    {
     "name": "stdout",
     "output_type": "stream",
     "text": [
      "\n",
      "\n",
      "###################################### VALIDATION Loss ###########################################\n",
      "Last estimator val1_error 4.49276\n",
      "Last estimator val2_error 3.487995\n",
      "Last estimator val3_error 4.517018\n",
      "val_avg_error 4.165924333333334\n",
      "##################################################################################################\n",
      "\n",
      " False \n",
      "\n",
      "\n",
      " False \n",
      "\n",
      "\n",
      " False \n",
      "\n",
      "\n",
      " False \n",
      "\n",
      "\n",
      " False \n",
      "\n",
      "\n",
      " False \n",
      "\n"
     ]
    },
    {
     "name": "stderr",
     "output_type": "stream",
     "text": [
      "\u001b[32m[I 2023-04-13 13:47:24,753]\u001b[0m Trial 24 finished with value: 5.405981999999999 and parameters: {'tweedie_variance_power': 1.3, 'max_depth': 6, 'learning_rate': 0.025217390631609646, 'subsample': 0.7000000000000001, 'colsample_bytree': 0.4, 'gamma': 1, 'reg_alpha': 2, 'reg_lambda': 1, 'min_child_weight': 1}. Best is trial 17 with value: 4.111476333333333.\u001b[0m\n"
     ]
    },
    {
     "name": "stdout",
     "output_type": "stream",
     "text": [
      "\n",
      "\n",
      "###################################### VALIDATION Loss ###########################################\n",
      "Last estimator val1_error 5.931323\n",
      "Last estimator val2_error 4.361376\n",
      "Last estimator val3_error 5.925247\n",
      "val_avg_error 5.405981999999999\n",
      "##################################################################################################\n",
      "\n",
      " False \n",
      "\n",
      "\n",
      " False \n",
      "\n",
      "\n",
      " False \n",
      "\n",
      "\n",
      " False \n",
      "\n",
      "\n",
      " False \n",
      "\n",
      "\n",
      " False \n",
      "\n"
     ]
    },
    {
     "name": "stderr",
     "output_type": "stream",
     "text": [
      "\u001b[32m[I 2023-04-13 13:48:06,129]\u001b[0m Trial 25 finished with value: 4.517424 and parameters: {'tweedie_variance_power': 1.7000000000000002, 'max_depth': 7, 'learning_rate': 0.010150865465660828, 'subsample': 0.7000000000000001, 'colsample_bytree': 0.5, 'gamma': 0, 'reg_alpha': 2, 'reg_lambda': 2, 'min_child_weight': 2}. Best is trial 17 with value: 4.111476333333333.\u001b[0m\n"
     ]
    },
    {
     "name": "stdout",
     "output_type": "stream",
     "text": [
      "\n",
      "\n",
      "###################################### VALIDATION Loss ###########################################\n",
      "Last estimator val1_error 4.761788\n",
      "Last estimator val2_error 3.986868\n",
      "Last estimator val3_error 4.803616\n",
      "val_avg_error 4.517424\n",
      "##################################################################################################\n",
      "\n",
      " False \n",
      "\n",
      "\n",
      " False \n",
      "\n",
      "\n",
      " False \n",
      "\n",
      "\n",
      " False \n",
      "\n",
      "\n",
      " False \n",
      "\n",
      "\n",
      " False \n",
      "\n"
     ]
    },
    {
     "name": "stderr",
     "output_type": "stream",
     "text": [
      "\u001b[32m[I 2023-04-13 13:48:52,018]\u001b[0m Trial 26 finished with value: 5.687100333333333 and parameters: {'tweedie_variance_power': 1.8000000000000003, 'max_depth': 4, 'learning_rate': 0.0056834605692157505, 'subsample': 0.4, 'colsample_bytree': 0.30000000000000004, 'gamma': 1, 'reg_alpha': 0, 'reg_lambda': 3, 'min_child_weight': 10}. Best is trial 17 with value: 4.111476333333333.\u001b[0m\n"
     ]
    },
    {
     "name": "stdout",
     "output_type": "stream",
     "text": [
      "\n",
      "\n",
      "###################################### VALIDATION Loss ###########################################\n",
      "Last estimator val1_error 5.959388\n",
      "Last estimator val2_error 5.192462\n",
      "Last estimator val3_error 5.909451\n",
      "val_avg_error 5.687100333333333\n",
      "##################################################################################################\n",
      "\n",
      " False \n",
      "\n",
      "\n",
      " False \n",
      "\n",
      "\n",
      " False \n",
      "\n",
      "\n",
      " False \n",
      "\n",
      "\n",
      " False \n",
      "\n",
      "\n",
      " False \n",
      "\n"
     ]
    },
    {
     "name": "stderr",
     "output_type": "stream",
     "text": [
      "\u001b[32m[I 2023-04-13 13:49:16,053]\u001b[0m Trial 27 finished with value: 4.143971 and parameters: {'tweedie_variance_power': 1.6, 'max_depth': 8, 'learning_rate': 0.022934397220475782, 'subsample': 0.6, 'colsample_bytree': 0.6, 'gamma': 0, 'reg_alpha': 1, 'reg_lambda': 1, 'min_child_weight': 5}. Best is trial 17 with value: 4.111476333333333.\u001b[0m\n"
     ]
    },
    {
     "name": "stdout",
     "output_type": "stream",
     "text": [
      "\n",
      "\n",
      "###################################### VALIDATION Loss ###########################################\n",
      "Last estimator val1_error 4.42101\n",
      "Last estimator val2_error 3.552509\n",
      "Last estimator val3_error 4.458394\n",
      "val_avg_error 4.143971\n",
      "##################################################################################################\n",
      "\n",
      " False \n",
      "\n",
      "\n",
      " False \n",
      "\n",
      "\n",
      " False \n",
      "\n",
      "\n",
      " False \n",
      "\n",
      "\n",
      " False \n",
      "\n",
      "\n",
      " False \n",
      "\n"
     ]
    },
    {
     "name": "stderr",
     "output_type": "stream",
     "text": [
      "\u001b[32m[I 2023-04-13 13:50:40,227]\u001b[0m Trial 28 finished with value: 5.4569806666666665 and parameters: {'tweedie_variance_power': 1.3, 'max_depth': 9, 'learning_rate': 0.004238050147204214, 'subsample': 0.5, 'colsample_bytree': 0.30000000000000004, 'gamma': 2, 'reg_alpha': 2, 'reg_lambda': 2, 'min_child_weight': 1}. Best is trial 17 with value: 4.111476333333333.\u001b[0m\n"
     ]
    },
    {
     "name": "stdout",
     "output_type": "stream",
     "text": [
      "\n",
      "\n",
      "###################################### VALIDATION Loss ###########################################\n",
      "Last estimator val1_error 6.012601\n",
      "Last estimator val2_error 4.375093\n",
      "Last estimator val3_error 5.983248\n",
      "val_avg_error 5.4569806666666665\n",
      "##################################################################################################\n",
      "\n",
      " False \n",
      "\n",
      "\n",
      " False \n",
      "\n",
      "\n",
      " False \n",
      "\n",
      "\n",
      " False \n",
      "\n",
      "\n",
      " False \n",
      "\n",
      "\n",
      " False \n",
      "\n"
     ]
    },
    {
     "name": "stderr",
     "output_type": "stream",
     "text": [
      "\u001b[32m[I 2023-04-13 13:51:15,761]\u001b[0m Trial 29 finished with value: 4.098597333333333 and parameters: {'tweedie_variance_power': 1.6, 'max_depth': 5, 'learning_rate': 0.009678005622041122, 'subsample': 0.8, 'colsample_bytree': 0.4, 'gamma': 1, 'reg_alpha': 1, 'reg_lambda': 0, 'min_child_weight': 7}. Best is trial 29 with value: 4.098597333333333.\u001b[0m\n"
     ]
    },
    {
     "name": "stdout",
     "output_type": "stream",
     "text": [
      "\n",
      "\n",
      "###################################### VALIDATION Loss ###########################################\n",
      "Last estimator val1_error 4.378271\n",
      "Last estimator val2_error 3.555166\n",
      "Last estimator val3_error 4.362355\n",
      "val_avg_error 4.098597333333333\n",
      "##################################################################################################\n",
      "\n",
      " False \n",
      "\n",
      "\n",
      " False \n",
      "\n",
      "\n",
      " False \n",
      "\n",
      "\n",
      " False \n",
      "\n",
      "\n",
      " False \n",
      "\n",
      "\n",
      " False \n",
      "\n"
     ]
    },
    {
     "name": "stderr",
     "output_type": "stream",
     "text": [
      "\u001b[32m[I 2023-04-13 13:52:15,746]\u001b[0m Trial 30 finished with value: 4.484554666666667 and parameters: {'tweedie_variance_power': 1.6, 'max_depth': 4, 'learning_rate': 0.0006587327041809475, 'subsample': 0.8, 'colsample_bytree': 0.2, 'gamma': 1, 'reg_alpha': 2, 'reg_lambda': 0, 'min_child_weight': 7}. Best is trial 29 with value: 4.098597333333333.\u001b[0m\n"
     ]
    },
    {
     "name": "stdout",
     "output_type": "stream",
     "text": [
      "\n",
      "\n",
      "###################################### VALIDATION Loss ###########################################\n",
      "Last estimator val1_error 5.000572\n",
      "Last estimator val2_error 3.893059\n",
      "Last estimator val3_error 4.560033\n",
      "val_avg_error 4.484554666666667\n",
      "##################################################################################################\n",
      "\n",
      " False \n",
      "\n",
      "\n",
      " False \n",
      "\n",
      "\n",
      " False \n",
      "\n",
      "\n",
      " False \n",
      "\n",
      "\n",
      " False \n",
      "\n",
      "\n",
      " False \n",
      "\n"
     ]
    },
    {
     "name": "stderr",
     "output_type": "stream",
     "text": [
      "\u001b[32m[I 2023-04-13 13:53:03,847]\u001b[0m Trial 31 finished with value: 4.1022 and parameters: {'tweedie_variance_power': 1.6, 'max_depth': 5, 'learning_rate': 0.008420418970087806, 'subsample': 0.7000000000000001, 'colsample_bytree': 0.4, 'gamma': 0, 'reg_alpha': 1, 'reg_lambda': 0, 'min_child_weight': 7}. Best is trial 29 with value: 4.098597333333333.\u001b[0m\n"
     ]
    },
    {
     "name": "stdout",
     "output_type": "stream",
     "text": [
      "\n",
      "\n",
      "###################################### VALIDATION Loss ###########################################\n",
      "Last estimator val1_error 4.382103\n",
      "Last estimator val2_error 3.556976\n",
      "Last estimator val3_error 4.367521\n",
      "val_avg_error 4.1022\n",
      "##################################################################################################\n",
      "\n",
      " False \n",
      "\n",
      "\n",
      " False \n",
      "\n",
      "\n",
      " False \n",
      "\n",
      "\n",
      " False \n",
      "\n",
      "\n",
      " False \n",
      "\n",
      "\n",
      " False \n",
      "\n"
     ]
    },
    {
     "name": "stderr",
     "output_type": "stream",
     "text": [
      "\u001b[32m[I 2023-04-13 13:53:46,851]\u001b[0m Trial 32 finished with value: 4.479205 and parameters: {'tweedie_variance_power': 1.7000000000000002, 'max_depth': 5, 'learning_rate': 0.008436399151458463, 'subsample': 0.9, 'colsample_bytree': 0.4, 'gamma': 1, 'reg_alpha': 1, 'reg_lambda': 0, 'min_child_weight': 8}. Best is trial 29 with value: 4.098597333333333.\u001b[0m\n"
     ]
    },
    {
     "name": "stdout",
     "output_type": "stream",
     "text": [
      "\n",
      "\n",
      "###################################### VALIDATION Loss ###########################################\n",
      "Last estimator val1_error 4.730598\n",
      "Last estimator val2_error 3.98979\n",
      "Last estimator val3_error 4.717227\n",
      "val_avg_error 4.479205\n",
      "##################################################################################################\n",
      "\n",
      " False \n",
      "\n",
      "\n",
      " False \n",
      "\n",
      "\n",
      " False \n",
      "\n",
      "\n",
      " False \n",
      "\n",
      "\n",
      " False \n",
      "\n",
      "\n",
      " False \n",
      "\n"
     ]
    },
    {
     "name": "stderr",
     "output_type": "stream",
     "text": [
      "\u001b[32m[I 2023-04-13 13:54:50,896]\u001b[0m Trial 33 finished with value: 4.552414 and parameters: {'tweedie_variance_power': 1.7000000000000002, 'max_depth': 3, 'learning_rate': 0.0027016951320968235, 'subsample': 0.8, 'colsample_bytree': 0.30000000000000004, 'gamma': 0, 'reg_alpha': 0, 'reg_lambda': 0, 'min_child_weight': 7}. Best is trial 29 with value: 4.098597333333333.\u001b[0m\n"
     ]
    },
    {
     "name": "stdout",
     "output_type": "stream",
     "text": [
      "\n",
      "\n",
      "###################################### VALIDATION Loss ###########################################\n",
      "Last estimator val1_error 4.87209\n",
      "Last estimator val2_error 4.078947\n",
      "Last estimator val3_error 4.706205\n",
      "val_avg_error 4.552414\n",
      "##################################################################################################\n",
      "\n",
      " False \n",
      "\n",
      "\n",
      " False \n",
      "\n",
      "\n",
      " False \n",
      "\n",
      "\n",
      " False \n",
      "\n",
      "\n",
      " False \n",
      "\n",
      "\n",
      " False \n",
      "\n"
     ]
    },
    {
     "name": "stderr",
     "output_type": "stream",
     "text": [
      "\u001b[32m[I 2023-04-13 13:55:03,798]\u001b[0m Trial 34 finished with value: 4.099261 and parameters: {'tweedie_variance_power': 1.6, 'max_depth': 5, 'learning_rate': 0.04129353967960751, 'subsample': 0.7000000000000001, 'colsample_bytree': 0.4, 'gamma': 2, 'reg_alpha': 2, 'reg_lambda': 1, 'min_child_weight': 8}. Best is trial 29 with value: 4.098597333333333.\u001b[0m\n"
     ]
    },
    {
     "name": "stdout",
     "output_type": "stream",
     "text": [
      "\n",
      "\n",
      "###################################### VALIDATION Loss ###########################################\n",
      "Last estimator val1_error 4.392412\n",
      "Last estimator val2_error 3.562641\n",
      "Last estimator val3_error 4.34273\n",
      "val_avg_error 4.099261\n",
      "##################################################################################################\n",
      "\n",
      " False \n",
      "\n",
      "\n",
      " False \n",
      "\n",
      "\n",
      " False \n",
      "\n",
      "\n",
      " False \n",
      "\n",
      "\n",
      " False \n",
      "\n",
      "\n",
      " False \n",
      "\n"
     ]
    },
    {
     "name": "stderr",
     "output_type": "stream",
     "text": [
      "\u001b[32m[I 2023-04-13 13:55:14,391]\u001b[0m Trial 35 finished with value: 4.493991 and parameters: {'tweedie_variance_power': 1.4000000000000001, 'max_depth': 5, 'learning_rate': 0.04556199139714894, 'subsample': 0.9, 'colsample_bytree': 0.4, 'gamma': 2, 'reg_alpha': 1, 'reg_lambda': 1, 'min_child_weight': 8}. Best is trial 29 with value: 4.098597333333333.\u001b[0m\n"
     ]
    },
    {
     "name": "stdout",
     "output_type": "stream",
     "text": [
      "\n",
      "\n",
      "###################################### VALIDATION Loss ###########################################\n",
      "Last estimator val1_error 4.886755\n",
      "Last estimator val2_error 3.71923\n",
      "Last estimator val3_error 4.875988\n",
      "val_avg_error 4.493991\n",
      "##################################################################################################\n",
      "\n",
      " False \n",
      "\n",
      "\n",
      " False \n",
      "\n",
      "\n",
      " False \n",
      "\n",
      "\n",
      " False \n",
      "\n",
      "\n",
      " False \n",
      "\n",
      "\n",
      " False \n",
      "\n"
     ]
    },
    {
     "name": "stderr",
     "output_type": "stream",
     "text": [
      "\u001b[32m[I 2023-04-13 13:55:38,284]\u001b[0m Trial 36 finished with value: 4.137225666666667 and parameters: {'tweedie_variance_power': 1.6, 'max_depth': 4, 'learning_rate': 0.05074243697307494, 'subsample': 0.8, 'colsample_bytree': 0.1, 'gamma': 2, 'reg_alpha': 3, 'reg_lambda': 0, 'min_child_weight': 8}. Best is trial 29 with value: 4.098597333333333.\u001b[0m\n"
     ]
    },
    {
     "name": "stdout",
     "output_type": "stream",
     "text": [
      "\n",
      "\n",
      "###################################### VALIDATION Loss ###########################################\n",
      "Last estimator val1_error 4.477857\n",
      "Last estimator val2_error 3.56127\n",
      "Last estimator val3_error 4.37255\n",
      "val_avg_error 4.137225666666667\n",
      "##################################################################################################\n",
      "\n",
      " False \n",
      "\n",
      "\n",
      " False \n",
      "\n",
      "\n",
      " False \n",
      "\n",
      "\n",
      " False \n",
      "\n",
      "\n",
      " False \n",
      "\n",
      "\n",
      " False \n",
      "\n"
     ]
    },
    {
     "name": "stderr",
     "output_type": "stream",
     "text": [
      "\u001b[32m[I 2023-04-13 13:55:45,297]\u001b[0m Trial 37 finished with value: 5.708537 and parameters: {'tweedie_variance_power': 1.8000000000000003, 'max_depth': 5, 'learning_rate': 0.09407789215171077, 'subsample': 0.7000000000000001, 'colsample_bytree': 0.2, 'gamma': 1, 'reg_alpha': 0, 'reg_lambda': 1, 'min_child_weight': 6}. Best is trial 29 with value: 4.098597333333333.\u001b[0m\n"
     ]
    },
    {
     "name": "stdout",
     "output_type": "stream",
     "text": [
      "\n",
      "\n",
      "###################################### VALIDATION Loss ###########################################\n",
      "Last estimator val1_error 5.977521\n",
      "Last estimator val2_error 5.198244\n",
      "Last estimator val3_error 5.949846\n",
      "val_avg_error 5.708537\n",
      "##################################################################################################\n",
      "\n",
      " False \n",
      "\n",
      "\n",
      " False \n",
      "\n",
      "\n",
      " False \n",
      "\n",
      "\n",
      " False \n",
      "\n",
      "\n",
      " False \n",
      "\n",
      "\n",
      " False \n",
      "\n"
     ]
    },
    {
     "name": "stderr",
     "output_type": "stream",
     "text": [
      "\u001b[32m[I 2023-04-13 13:56:03,591]\u001b[0m Trial 38 finished with value: 4.113708333333333 and parameters: {'tweedie_variance_power': 1.5, 'max_depth': 4, 'learning_rate': 0.023943690062883327, 'subsample': 0.8, 'colsample_bytree': 0.30000000000000004, 'gamma': 1, 'reg_alpha': 2, 'reg_lambda': 0, 'min_child_weight': 7}. Best is trial 29 with value: 4.098597333333333.\u001b[0m\n"
     ]
    },
    {
     "name": "stdout",
     "output_type": "stream",
     "text": [
      "\n",
      "\n",
      "###################################### VALIDATION Loss ###########################################\n",
      "Last estimator val1_error 4.440781\n",
      "Last estimator val2_error 3.488718\n",
      "Last estimator val3_error 4.411626\n",
      "val_avg_error 4.113708333333333\n",
      "##################################################################################################\n",
      "\n",
      " False \n",
      "\n",
      "\n",
      " False \n",
      "\n",
      "\n",
      " False \n",
      "\n",
      "\n",
      " False \n",
      "\n",
      "\n",
      " False \n",
      "\n",
      "\n",
      " False \n",
      "\n"
     ]
    },
    {
     "name": "stderr",
     "output_type": "stream",
     "text": [
      "\u001b[32m[I 2023-04-13 13:56:17,077]\u001b[0m Trial 39 finished with value: 4.480361333333334 and parameters: {'tweedie_variance_power': 1.4000000000000001, 'max_depth': 3, 'learning_rate': 0.027660923887037128, 'subsample': 0.5, 'colsample_bytree': 0.4, 'gamma': 3, 'reg_alpha': 1, 'reg_lambda': 1, 'min_child_weight': 9}. Best is trial 29 with value: 4.098597333333333.\u001b[0m\n"
     ]
    },
    {
     "name": "stdout",
     "output_type": "stream",
     "text": [
      "\n",
      "\n",
      "###################################### VALIDATION Loss ###########################################\n",
      "Last estimator val1_error 4.867542\n",
      "Last estimator val2_error 3.729569\n",
      "Last estimator val3_error 4.843973\n",
      "val_avg_error 4.480361333333334\n",
      "##################################################################################################\n",
      "\n",
      " False \n",
      "\n",
      "\n",
      " False \n",
      "\n",
      "\n",
      " False \n",
      "\n",
      "\n",
      " False \n",
      "\n",
      "\n",
      " False \n",
      "\n",
      "\n",
      " False \n",
      "\n"
     ]
    },
    {
     "name": "stderr",
     "output_type": "stream",
     "text": [
      "\u001b[32m[I 2023-04-13 13:56:41,853]\u001b[0m Trial 40 finished with value: 4.475141666666667 and parameters: {'tweedie_variance_power': 1.7000000000000002, 'max_depth': 5, 'learning_rate': 0.016594918673890836, 'subsample': 0.9, 'colsample_bytree': 0.6, 'gamma': 2, 'reg_alpha': 2, 'reg_lambda': 0, 'min_child_weight': 6}. Best is trial 29 with value: 4.098597333333333.\u001b[0m\n"
     ]
    },
    {
     "name": "stdout",
     "output_type": "stream",
     "text": [
      "\n",
      "\n",
      "###################################### VALIDATION Loss ###########################################\n",
      "Last estimator val1_error 4.725262\n",
      "Last estimator val2_error 3.988587\n",
      "Last estimator val3_error 4.711576\n",
      "val_avg_error 4.475141666666667\n",
      "##################################################################################################\n",
      "\n",
      " False \n",
      "\n",
      "\n",
      " False \n",
      "\n",
      "\n",
      " False \n",
      "\n",
      "\n",
      " False \n",
      "\n",
      "\n",
      " False \n",
      "\n",
      "\n",
      " False \n",
      "\n"
     ]
    },
    {
     "name": "stderr",
     "output_type": "stream",
     "text": [
      "\u001b[32m[I 2023-04-13 13:56:57,036]\u001b[0m Trial 41 finished with value: 4.490892333333334 and parameters: {'tweedie_variance_power': 1.4000000000000001, 'max_depth': 4, 'learning_rate': 0.030507254283361433, 'subsample': 0.8, 'colsample_bytree': 0.30000000000000004, 'gamma': 1, 'reg_alpha': 2, 'reg_lambda': 0, 'min_child_weight': 7}. Best is trial 29 with value: 4.098597333333333.\u001b[0m\n"
     ]
    },
    {
     "name": "stdout",
     "output_type": "stream",
     "text": [
      "\n",
      "\n",
      "###################################### VALIDATION Loss ###########################################\n",
      "Last estimator val1_error 4.895501\n",
      "Last estimator val2_error 3.72368\n",
      "Last estimator val3_error 4.853496\n",
      "val_avg_error 4.490892333333334\n",
      "##################################################################################################\n",
      "\n",
      " False \n",
      "\n",
      "\n",
      " False \n",
      "\n",
      "\n",
      " False \n",
      "\n",
      "\n",
      " False \n",
      "\n",
      "\n",
      " False \n",
      "\n",
      "\n",
      " False \n",
      "\n"
     ]
    },
    {
     "name": "stderr",
     "output_type": "stream",
     "text": [
      "\u001b[32m[I 2023-04-13 13:57:08,056]\u001b[0m Trial 42 finished with value: 4.134535333333333 and parameters: {'tweedie_variance_power': 1.5, 'max_depth': 5, 'learning_rate': 0.05672022334441835, 'subsample': 0.7000000000000001, 'colsample_bytree': 0.30000000000000004, 'gamma': 1, 'reg_alpha': 2, 'reg_lambda': 0, 'min_child_weight': 8}. Best is trial 29 with value: 4.098597333333333.\u001b[0m\n"
     ]
    },
    {
     "name": "stdout",
     "output_type": "stream",
     "text": [
      "\n",
      "\n",
      "###################################### VALIDATION Loss ###########################################\n",
      "Last estimator val1_error 4.460544\n",
      "Last estimator val2_error 3.486426\n",
      "Last estimator val3_error 4.456636\n",
      "val_avg_error 4.134535333333333\n",
      "##################################################################################################\n",
      "\n",
      " False \n",
      "\n",
      "\n",
      " False \n",
      "\n",
      "\n",
      " False \n",
      "\n",
      "\n",
      " False \n",
      "\n",
      "\n",
      " False \n",
      "\n",
      "\n",
      " False \n",
      "\n"
     ]
    },
    {
     "name": "stderr",
     "output_type": "stream",
     "text": [
      "\u001b[32m[I 2023-04-13 13:57:25,942]\u001b[0m Trial 43 finished with value: 4.096131333333333 and parameters: {'tweedie_variance_power': 1.5, 'max_depth': 4, 'learning_rate': 0.019490962045155873, 'subsample': 0.9, 'colsample_bytree': 0.4, 'gamma': 2, 'reg_alpha': 4, 'reg_lambda': 1, 'min_child_weight': 7}. Best is trial 43 with value: 4.096131333333333.\u001b[0m\n"
     ]
    },
    {
     "name": "stdout",
     "output_type": "stream",
     "text": [
      "\n",
      "\n",
      "###################################### VALIDATION Loss ###########################################\n",
      "Last estimator val1_error 4.412949\n",
      "Last estimator val2_error 3.489478\n",
      "Last estimator val3_error 4.385967\n",
      "val_avg_error 4.096131333333333\n",
      "##################################################################################################\n",
      "\n",
      " False \n",
      "\n",
      "\n",
      " False \n",
      "\n",
      "\n",
      " False \n",
      "\n",
      "\n",
      " False \n",
      "\n",
      "\n",
      " False \n",
      "\n",
      "\n",
      " False \n",
      "\n"
     ]
    },
    {
     "name": "stderr",
     "output_type": "stream",
     "text": [
      "\u001b[32m[I 2023-04-13 13:57:54,361]\u001b[0m Trial 44 finished with value: 4.071516333333332 and parameters: {'tweedie_variance_power': 1.6, 'max_depth': 3, 'learning_rate': 0.017648866162048905, 'subsample': 0.9, 'colsample_bytree': 0.4, 'gamma': 2, 'reg_alpha': 4, 'reg_lambda': 1, 'min_child_weight': 6}. Best is trial 44 with value: 4.071516333333332.\u001b[0m\n"
     ]
    },
    {
     "name": "stdout",
     "output_type": "stream",
     "text": [
      "\n",
      "\n",
      "###################################### VALIDATION Loss ###########################################\n",
      "Last estimator val1_error 4.333742\n",
      "Last estimator val2_error 3.56301\n",
      "Last estimator val3_error 4.317797\n",
      "val_avg_error 4.071516333333332\n",
      "##################################################################################################\n",
      "\n",
      " False \n",
      "\n",
      "\n",
      " False \n",
      "\n",
      "\n",
      " False \n",
      "\n",
      "\n",
      " False \n",
      "\n",
      "\n",
      " False \n",
      "\n",
      "\n",
      " False \n",
      "\n"
     ]
    },
    {
     "name": "stderr",
     "output_type": "stream",
     "text": [
      "\u001b[32m[I 2023-04-13 13:58:12,490]\u001b[0m Trial 45 finished with value: 4.0907116666666665 and parameters: {'tweedie_variance_power': 1.5, 'max_depth': 3, 'learning_rate': 0.018037278499449385, 'subsample': 1.0, 'colsample_bytree': 0.4, 'gamma': 3, 'reg_alpha': 4, 'reg_lambda': 1, 'min_child_weight': 5}. Best is trial 44 with value: 4.071516333333332.\u001b[0m\n"
     ]
    },
    {
     "name": "stdout",
     "output_type": "stream",
     "text": [
      "\n",
      "\n",
      "###################################### VALIDATION Loss ###########################################\n",
      "Last estimator val1_error 4.38935\n",
      "Last estimator val2_error 3.49809\n",
      "Last estimator val3_error 4.384695\n",
      "val_avg_error 4.0907116666666665\n",
      "##################################################################################################\n",
      "\n",
      " False \n",
      "\n",
      "\n",
      " False \n",
      "\n",
      "\n",
      " False \n",
      "\n",
      "\n",
      " False \n",
      "\n",
      "\n",
      " False \n",
      "\n",
      "\n",
      " False \n",
      "\n"
     ]
    },
    {
     "name": "stderr",
     "output_type": "stream",
     "text": [
      "\u001b[32m[I 2023-04-13 13:58:21,562]\u001b[0m Trial 46 finished with value: 4.476628 and parameters: {'tweedie_variance_power': 1.4000000000000001, 'max_depth': 3, 'learning_rate': 0.06948433655480885, 'subsample': 1.0, 'colsample_bytree': 0.4, 'gamma': 3, 'reg_alpha': 4, 'reg_lambda': 1, 'min_child_weight': 5}. Best is trial 44 with value: 4.071516333333332.\u001b[0m\n"
     ]
    },
    {
     "name": "stdout",
     "output_type": "stream",
     "text": [
      "\n",
      "\n",
      "###################################### VALIDATION Loss ###########################################\n",
      "Last estimator val1_error 4.861413\n",
      "Last estimator val2_error 3.728234\n",
      "Last estimator val3_error 4.840237\n",
      "val_avg_error 4.476628\n",
      "##################################################################################################\n",
      "\n",
      " False \n",
      "\n",
      "\n",
      " False \n",
      "\n",
      "\n",
      " False \n",
      "\n",
      "\n",
      " False \n",
      "\n",
      "\n",
      " False \n",
      "\n",
      "\n",
      " False \n",
      "\n"
     ]
    },
    {
     "name": "stderr",
     "output_type": "stream",
     "text": [
      "\u001b[32m[I 2023-04-13 13:58:38,809]\u001b[0m Trial 47 finished with value: 4.092084666666667 and parameters: {'tweedie_variance_power': 1.5, 'max_depth': 3, 'learning_rate': 0.03474067151748575, 'subsample': 0.9, 'colsample_bytree': 0.5, 'gamma': 3, 'reg_alpha': 5, 'reg_lambda': 1, 'min_child_weight': 5}. Best is trial 44 with value: 4.071516333333332.\u001b[0m\n"
     ]
    },
    {
     "name": "stdout",
     "output_type": "stream",
     "text": [
      "\n",
      "\n",
      "###################################### VALIDATION Loss ###########################################\n",
      "Last estimator val1_error 4.398463\n",
      "Last estimator val2_error 3.494645\n",
      "Last estimator val3_error 4.383146\n",
      "val_avg_error 4.092084666666667\n",
      "##################################################################################################\n",
      "\n",
      " False \n",
      "\n",
      "\n",
      " False \n",
      "\n",
      "\n",
      " False \n",
      "\n",
      "\n",
      " False \n",
      "\n",
      "\n",
      " False \n",
      "\n",
      "\n",
      " False \n",
      "\n"
     ]
    },
    {
     "name": "stderr",
     "output_type": "stream",
     "text": [
      "\u001b[32m[I 2023-04-13 13:59:02,476]\u001b[0m Trial 48 finished with value: 4.089996999999999 and parameters: {'tweedie_variance_power': 1.5, 'max_depth': 3, 'learning_rate': 0.019818143148232385, 'subsample': 1.0, 'colsample_bytree': 0.5, 'gamma': 4, 'reg_alpha': 5, 'reg_lambda': 1, 'min_child_weight': 5}. Best is trial 44 with value: 4.071516333333332.\u001b[0m\n"
     ]
    },
    {
     "name": "stdout",
     "output_type": "stream",
     "text": [
      "\n",
      "\n",
      "###################################### VALIDATION Loss ###########################################\n",
      "Last estimator val1_error 4.391306\n",
      "Last estimator val2_error 3.496412\n",
      "Last estimator val3_error 4.382273\n",
      "val_avg_error 4.089996999999999\n",
      "##################################################################################################\n",
      "\n",
      " False \n",
      "\n",
      "\n",
      " False \n",
      "\n",
      "\n",
      " False \n",
      "\n",
      "\n",
      " False \n",
      "\n",
      "\n",
      " False \n",
      "\n",
      "\n",
      " False \n",
      "\n"
     ]
    },
    {
     "name": "stderr",
     "output_type": "stream",
     "text": [
      "\u001b[32m[I 2023-04-13 13:59:23,145]\u001b[0m Trial 49 finished with value: 4.088994666666667 and parameters: {'tweedie_variance_power': 1.5, 'max_depth': 3, 'learning_rate': 0.017594889304134765, 'subsample': 1.0, 'colsample_bytree': 0.6, 'gamma': 4, 'reg_alpha': 5, 'reg_lambda': 1, 'min_child_weight': 5}. Best is trial 44 with value: 4.071516333333332.\u001b[0m\n"
     ]
    },
    {
     "name": "stdout",
     "output_type": "stream",
     "text": [
      "\n",
      "\n",
      "###################################### VALIDATION Loss ###########################################\n",
      "Last estimator val1_error 4.389794\n",
      "Last estimator val2_error 3.499982\n",
      "Last estimator val3_error 4.377208\n",
      "val_avg_error 4.088994666666667\n",
      "##################################################################################################\n",
      "\n",
      " False \n",
      "\n",
      "\n",
      " False \n",
      "\n",
      "\n",
      " False \n",
      "\n",
      "\n",
      " False \n",
      "\n",
      "\n",
      " False \n",
      "\n",
      "\n",
      " False \n",
      "\n"
     ]
    },
    {
     "name": "stderr",
     "output_type": "stream",
     "text": [
      "\u001b[32m[I 2023-04-13 14:00:11,130]\u001b[0m Trial 50 finished with value: 5.142186 and parameters: {'tweedie_variance_power': 1.4000000000000001, 'max_depth': 3, 'learning_rate': 0.00012880494687873825, 'subsample': 1.0, 'colsample_bytree': 0.6, 'gamma': 4, 'reg_alpha': 5, 'reg_lambda': 1, 'min_child_weight': 5}. Best is trial 44 with value: 4.071516333333332.\u001b[0m\n"
     ]
    },
    {
     "name": "stdout",
     "output_type": "stream",
     "text": [
      "\n",
      "\n",
      "###################################### VALIDATION Loss ###########################################\n",
      "Last estimator val1_error 5.814311\n",
      "Last estimator val2_error 4.166101\n",
      "Last estimator val3_error 5.446146\n",
      "val_avg_error 5.142186\n",
      "##################################################################################################\n",
      "\n",
      " False \n",
      "\n",
      "\n",
      " False \n",
      "\n",
      "\n",
      " False \n",
      "\n",
      "\n",
      " False \n",
      "\n",
      "\n",
      " False \n",
      "\n",
      "\n",
      " False \n",
      "\n"
     ]
    },
    {
     "name": "stderr",
     "output_type": "stream",
     "text": [
      "\u001b[32m[I 2023-04-13 14:00:41,909]\u001b[0m Trial 51 finished with value: 4.088658 and parameters: {'tweedie_variance_power': 1.5, 'max_depth': 3, 'learning_rate': 0.01600564980142287, 'subsample': 1.0, 'colsample_bytree': 0.5, 'gamma': 4, 'reg_alpha': 5, 'reg_lambda': 1, 'min_child_weight': 5}. Best is trial 44 with value: 4.071516333333332.\u001b[0m\n"
     ]
    },
    {
     "name": "stdout",
     "output_type": "stream",
     "text": [
      "\n",
      "\n",
      "###################################### VALIDATION Loss ###########################################\n",
      "Last estimator val1_error 4.389319\n",
      "Last estimator val2_error 3.497811\n",
      "Last estimator val3_error 4.378844\n",
      "val_avg_error 4.088658\n",
      "##################################################################################################\n",
      "\n",
      " False \n",
      "\n",
      "\n",
      " False \n",
      "\n",
      "\n",
      " False \n",
      "\n",
      "\n",
      " False \n",
      "\n",
      "\n",
      " False \n",
      "\n",
      "\n",
      " False \n",
      "\n"
     ]
    },
    {
     "name": "stderr",
     "output_type": "stream",
     "text": [
      "\u001b[32m[I 2023-04-13 14:00:59,944]\u001b[0m Trial 52 finished with value: 4.089912333333333 and parameters: {'tweedie_variance_power': 1.5, 'max_depth': 3, 'learning_rate': 0.03451170758534077, 'subsample': 1.0, 'colsample_bytree': 0.5, 'gamma': 4, 'reg_alpha': 5, 'reg_lambda': 1, 'min_child_weight': 4}. Best is trial 44 with value: 4.071516333333332.\u001b[0m\n"
     ]
    },
    {
     "name": "stdout",
     "output_type": "stream",
     "text": [
      "\n",
      "\n",
      "###################################### VALIDATION Loss ###########################################\n",
      "Last estimator val1_error 4.391017\n",
      "Last estimator val2_error 3.497563\n",
      "Last estimator val3_error 4.381157\n",
      "val_avg_error 4.089912333333333\n",
      "##################################################################################################\n",
      "\n",
      " False \n",
      "\n",
      "\n",
      " False \n",
      "\n",
      "\n",
      " False \n",
      "\n",
      "\n",
      " False \n",
      "\n",
      "\n",
      " False \n",
      "\n",
      "\n",
      " False \n",
      "\n"
     ]
    },
    {
     "name": "stderr",
     "output_type": "stream",
     "text": [
      "\u001b[32m[I 2023-04-13 14:01:34,153]\u001b[0m Trial 53 finished with value: 4.469779333333334 and parameters: {'tweedie_variance_power': 1.4000000000000001, 'max_depth': 3, 'learning_rate': 0.012855567294298247, 'subsample': 1.0, 'colsample_bytree': 0.6, 'gamma': 5, 'reg_alpha': 5, 'reg_lambda': 1, 'min_child_weight': 4}. Best is trial 44 with value: 4.071516333333332.\u001b[0m\n"
     ]
    },
    {
     "name": "stdout",
     "output_type": "stream",
     "text": [
      "\n",
      "\n",
      "###################################### VALIDATION Loss ###########################################\n",
      "Last estimator val1_error 4.845208\n",
      "Last estimator val2_error 3.732021\n",
      "Last estimator val3_error 4.832109\n",
      "val_avg_error 4.469779333333334\n",
      "##################################################################################################\n",
      "\n",
      " False \n",
      "\n",
      "\n",
      " False \n",
      "\n",
      "\n",
      " False \n",
      "\n",
      "\n",
      " False \n",
      "\n",
      "\n",
      " False \n",
      "\n",
      "\n",
      " False \n",
      "\n"
     ]
    },
    {
     "name": "stderr",
     "output_type": "stream",
     "text": [
      "\u001b[32m[I 2023-04-13 14:01:54,930]\u001b[0m Trial 54 finished with value: 4.089976333333333 and parameters: {'tweedie_variance_power': 1.5, 'max_depth': 3, 'learning_rate': 0.020016102946287705, 'subsample': 1.0, 'colsample_bytree': 0.5, 'gamma': 4, 'reg_alpha': 5, 'reg_lambda': 1, 'min_child_weight': 4}. Best is trial 44 with value: 4.071516333333332.\u001b[0m\n"
     ]
    },
    {
     "name": "stdout",
     "output_type": "stream",
     "text": [
      "\n",
      "\n",
      "###################################### VALIDATION Loss ###########################################\n",
      "Last estimator val1_error 4.393358\n",
      "Last estimator val2_error 3.49564\n",
      "Last estimator val3_error 4.380931\n",
      "val_avg_error 4.089976333333333\n",
      "##################################################################################################\n",
      "\n",
      " False \n",
      "\n",
      "\n",
      " False \n",
      "\n",
      "\n",
      " False \n",
      "\n",
      "\n",
      " False \n",
      "\n",
      "\n",
      " False \n",
      "\n",
      "\n",
      " False \n",
      "\n"
     ]
    },
    {
     "name": "stderr",
     "output_type": "stream",
     "text": [
      "\u001b[32m[I 2023-04-13 14:02:03,789]\u001b[0m Trial 55 finished with value: 5.378818333333334 and parameters: {'tweedie_variance_power': 1.3, 'max_depth': 3, 'learning_rate': 0.03364315531514966, 'subsample': 1.0, 'colsample_bytree': 0.5, 'gamma': 4, 'reg_alpha': 5, 'reg_lambda': 1, 'min_child_weight': 4}. Best is trial 44 with value: 4.071516333333332.\u001b[0m\n"
     ]
    },
    {
     "name": "stdout",
     "output_type": "stream",
     "text": [
      "\n",
      "\n",
      "###################################### VALIDATION Loss ###########################################\n",
      "Last estimator val1_error 5.885143\n",
      "Last estimator val2_error 4.371991\n",
      "Last estimator val3_error 5.879321\n",
      "val_avg_error 5.378818333333334\n",
      "##################################################################################################\n",
      "\n",
      " False \n",
      "\n",
      "\n",
      " False \n",
      "\n",
      "\n",
      " False \n",
      "\n",
      "\n",
      " False \n",
      "\n",
      "\n",
      " False \n",
      "\n",
      "\n",
      " False \n",
      "\n"
     ]
    },
    {
     "name": "stderr",
     "output_type": "stream",
     "text": [
      "\u001b[32m[I 2023-04-13 14:02:33,315]\u001b[0m Trial 56 finished with value: 4.4701976666666665 and parameters: {'tweedie_variance_power': 1.4000000000000001, 'max_depth': 3, 'learning_rate': 0.013547978557873049, 'subsample': 1.0, 'colsample_bytree': 0.7000000000000001, 'gamma': 4, 'reg_alpha': 5, 'reg_lambda': 1, 'min_child_weight': 6}. Best is trial 44 with value: 4.071516333333332.\u001b[0m\n"
     ]
    },
    {
     "name": "stdout",
     "output_type": "stream",
     "text": [
      "\n",
      "\n",
      "###################################### VALIDATION Loss ###########################################\n",
      "Last estimator val1_error 4.844788\n",
      "Last estimator val2_error 3.732561\n",
      "Last estimator val3_error 4.833244\n",
      "val_avg_error 4.4701976666666665\n",
      "##################################################################################################\n",
      "\n",
      " False \n",
      "\n",
      "\n",
      " False \n",
      "\n",
      "\n",
      " False \n",
      "\n",
      "\n",
      " False \n",
      "\n",
      "\n",
      " False \n",
      "\n",
      "\n",
      " False \n",
      "\n"
     ]
    },
    {
     "name": "stderr",
     "output_type": "stream",
     "text": [
      "\u001b[32m[I 2023-04-13 14:02:56,058]\u001b[0m Trial 57 finished with value: 4.0930523333333335 and parameters: {'tweedie_variance_power': 1.5, 'max_depth': 4, 'learning_rate': 0.023178800896083502, 'subsample': 0.9, 'colsample_bytree': 0.6, 'gamma': 4, 'reg_alpha': 5, 'reg_lambda': 2, 'min_child_weight': 4}. Best is trial 44 with value: 4.071516333333332.\u001b[0m\n"
     ]
    },
    {
     "name": "stdout",
     "output_type": "stream",
     "text": [
      "\n",
      "\n",
      "###################################### VALIDATION Loss ###########################################\n",
      "Last estimator val1_error 4.397599\n",
      "Last estimator val2_error 3.490506\n",
      "Last estimator val3_error 4.391052\n",
      "val_avg_error 4.0930523333333335\n",
      "##################################################################################################\n",
      "\n",
      " False \n",
      "\n",
      "\n",
      " False \n",
      "\n",
      "\n",
      " False \n",
      "\n",
      "\n",
      " False \n",
      "\n",
      "\n",
      " False \n",
      "\n",
      "\n",
      " False \n",
      "\n"
     ]
    },
    {
     "name": "stderr",
     "output_type": "stream",
     "text": [
      "\u001b[32m[I 2023-04-13 14:03:03,169]\u001b[0m Trial 58 finished with value: 4.093675 and parameters: {'tweedie_variance_power': 1.5, 'max_depth': 3, 'learning_rate': 0.060958666266913285, 'subsample': 1.0, 'colsample_bytree': 0.5, 'gamma': 5, 'reg_alpha': 4, 'reg_lambda': 1, 'min_child_weight': 4}. Best is trial 44 with value: 4.071516333333332.\u001b[0m\n"
     ]
    },
    {
     "name": "stdout",
     "output_type": "stream",
     "text": [
      "\n",
      "\n",
      "###################################### VALIDATION Loss ###########################################\n",
      "Last estimator val1_error 4.392259\n",
      "Last estimator val2_error 3.50007\n",
      "Last estimator val3_error 4.388696\n",
      "val_avg_error 4.093675\n",
      "##################################################################################################\n",
      "\n",
      " False \n",
      "\n",
      "\n",
      " False \n",
      "\n",
      "\n",
      " False \n",
      "\n",
      "\n",
      " False \n",
      "\n",
      "\n",
      " False \n",
      "\n",
      "\n",
      " False \n",
      "\n"
     ]
    },
    {
     "name": "stderr",
     "output_type": "stream",
     "text": [
      "\u001b[32m[I 2023-04-13 14:03:40,479]\u001b[0m Trial 59 finished with value: 13.985302666666668 and parameters: {'tweedie_variance_power': 1.1, 'max_depth': 3, 'learning_rate': 0.0049785544613249605, 'subsample': 0.9, 'colsample_bytree': 0.6, 'gamma': 4, 'reg_alpha': 5, 'reg_lambda': 1, 'min_child_weight': 6}. Best is trial 44 with value: 4.071516333333332.\u001b[0m\n"
     ]
    },
    {
     "name": "stdout",
     "output_type": "stream",
     "text": [
      "\n",
      "\n",
      "###################################### VALIDATION Loss ###########################################\n",
      "Last estimator val1_error 15.589613\n",
      "Last estimator val2_error 10.784906\n",
      "Last estimator val3_error 15.581389\n",
      "val_avg_error 13.985302666666668\n",
      "##################################################################################################\n",
      "\n",
      " False \n",
      "\n",
      "\n",
      " False \n",
      "\n",
      "\n",
      " False \n",
      "\n",
      "\n",
      " False \n",
      "\n",
      "\n",
      " False \n",
      "\n",
      "\n",
      " False \n",
      "\n"
     ]
    },
    {
     "name": "stderr",
     "output_type": "stream",
     "text": [
      "\u001b[32m[I 2023-04-13 14:03:59,591]\u001b[0m Trial 60 finished with value: 4.096526 and parameters: {'tweedie_variance_power': 1.5, 'max_depth': 4, 'learning_rate': 0.014689009856453656, 'subsample': 1.0, 'colsample_bytree': 0.5, 'gamma': 5, 'reg_alpha': 5, 'reg_lambda': 5, 'min_child_weight': 5}. Best is trial 44 with value: 4.071516333333332.\u001b[0m\n"
     ]
    },
    {
     "name": "stdout",
     "output_type": "stream",
     "text": [
      "\n",
      "\n",
      "###################################### VALIDATION Loss ###########################################\n",
      "Last estimator val1_error 4.40697\n",
      "Last estimator val2_error 3.49471\n",
      "Last estimator val3_error 4.387898\n",
      "val_avg_error 4.096526\n",
      "##################################################################################################\n",
      "\n",
      " False \n",
      "\n",
      "\n",
      " False \n",
      "\n",
      "\n",
      " False \n",
      "\n",
      "\n",
      " False \n",
      "\n",
      "\n",
      " False \n",
      "\n",
      "\n",
      " False \n",
      "\n"
     ]
    },
    {
     "name": "stderr",
     "output_type": "stream",
     "text": [
      "\u001b[32m[I 2023-04-13 14:04:19,479]\u001b[0m Trial 61 finished with value: 4.089882 and parameters: {'tweedie_variance_power': 1.5, 'max_depth': 3, 'learning_rate': 0.017386315318856604, 'subsample': 1.0, 'colsample_bytree': 0.5, 'gamma': 4, 'reg_alpha': 4, 'reg_lambda': 1, 'min_child_weight': 5}. Best is trial 44 with value: 4.071516333333332.\u001b[0m\n"
     ]
    },
    {
     "name": "stdout",
     "output_type": "stream",
     "text": [
      "\n",
      "\n",
      "###################################### VALIDATION Loss ###########################################\n",
      "Last estimator val1_error 4.390081\n",
      "Last estimator val2_error 3.497136\n",
      "Last estimator val3_error 4.382429\n",
      "val_avg_error 4.089882\n",
      "##################################################################################################\n",
      "\n",
      " False \n",
      "\n",
      "\n",
      " False \n",
      "\n",
      "\n",
      " False \n",
      "\n",
      "\n",
      " False \n",
      "\n",
      "\n",
      " False \n",
      "\n",
      "\n",
      " False \n",
      "\n"
     ]
    },
    {
     "name": "stderr",
     "output_type": "stream",
     "text": [
      "\u001b[32m[I 2023-04-13 14:04:40,055]\u001b[0m Trial 62 finished with value: 4.470149333333333 and parameters: {'tweedie_variance_power': 1.4000000000000001, 'max_depth': 3, 'learning_rate': 0.0199073089608885, 'subsample': 1.0, 'colsample_bytree': 0.5, 'gamma': 4, 'reg_alpha': 5, 'reg_lambda': 1, 'min_child_weight': 5}. Best is trial 44 with value: 4.071516333333332.\u001b[0m\n"
     ]
    },
    {
     "name": "stdout",
     "output_type": "stream",
     "text": [
      "\n",
      "\n",
      "###################################### VALIDATION Loss ###########################################\n",
      "Last estimator val1_error 4.849033\n",
      "Last estimator val2_error 3.728376\n",
      "Last estimator val3_error 4.833039\n",
      "val_avg_error 4.470149333333333\n",
      "##################################################################################################\n",
      "\n",
      " False \n",
      "\n",
      "\n",
      " False \n",
      "\n",
      "\n",
      " False \n",
      "\n",
      "\n",
      " False \n",
      "\n",
      "\n",
      " False \n",
      "\n",
      "\n",
      " False \n",
      "\n"
     ]
    },
    {
     "name": "stderr",
     "output_type": "stream",
     "text": [
      "\u001b[32m[I 2023-04-13 14:05:02,614]\u001b[0m Trial 63 finished with value: 4.085809333333334 and parameters: {'tweedie_variance_power': 1.5, 'max_depth': 3, 'learning_rate': 0.039955236910305295, 'subsample': 0.9, 'colsample_bytree': 0.6, 'gamma': 4, 'reg_alpha': 4, 'reg_lambda': 2, 'min_child_weight': 4}. Best is trial 44 with value: 4.071516333333332.\u001b[0m\n"
     ]
    },
    {
     "name": "stdout",
     "output_type": "stream",
     "text": [
      "\n",
      "\n",
      "###################################### VALIDATION Loss ###########################################\n",
      "Last estimator val1_error 4.389905\n",
      "Last estimator val2_error 3.491333\n",
      "Last estimator val3_error 4.37619\n",
      "val_avg_error 4.085809333333334\n",
      "##################################################################################################\n",
      "\n",
      " False \n",
      "\n",
      "\n",
      " False \n",
      "\n",
      "\n",
      " False \n",
      "\n",
      "\n",
      " False \n",
      "\n",
      "\n",
      " False \n",
      "\n",
      "\n",
      " False \n",
      "\n"
     ]
    },
    {
     "name": "stderr",
     "output_type": "stream",
     "text": [
      "\u001b[32m[I 2023-04-13 14:05:17,771]\u001b[0m Trial 64 finished with value: 4.089357666666667 and parameters: {'tweedie_variance_power': 1.5, 'max_depth': 4, 'learning_rate': 0.041995651361079155, 'subsample': 0.9, 'colsample_bytree': 0.8, 'gamma': 4, 'reg_alpha': 4, 'reg_lambda': 2, 'min_child_weight': 3}. Best is trial 44 with value: 4.071516333333332.\u001b[0m\n"
     ]
    },
    {
     "name": "stdout",
     "output_type": "stream",
     "text": [
      "\n",
      "\n",
      "###################################### VALIDATION Loss ###########################################\n",
      "Last estimator val1_error 4.399117\n",
      "Last estimator val2_error 3.494289\n",
      "Last estimator val3_error 4.374667\n",
      "val_avg_error 4.089357666666667\n",
      "##################################################################################################\n",
      "\n",
      " False \n",
      "\n",
      "\n",
      " False \n",
      "\n",
      "\n",
      " False \n",
      "\n",
      "\n",
      " False \n",
      "\n",
      "\n",
      " False \n",
      "\n",
      "\n",
      " False \n",
      "\n"
     ]
    },
    {
     "name": "stderr",
     "output_type": "stream",
     "text": [
      "\u001b[32m[I 2023-04-13 14:05:32,974]\u001b[0m Trial 65 finished with value: 4.072710333333333 and parameters: {'tweedie_variance_power': 1.6, 'max_depth': 4, 'learning_rate': 0.04546087206730641, 'subsample': 0.9, 'colsample_bytree': 0.8, 'gamma': 4, 'reg_alpha': 4, 'reg_lambda': 2, 'min_child_weight': 3}. Best is trial 44 with value: 4.071516333333332.\u001b[0m\n"
     ]
    },
    {
     "name": "stdout",
     "output_type": "stream",
     "text": [
      "\n",
      "\n",
      "###################################### VALIDATION Loss ###########################################\n",
      "Last estimator val1_error 4.338419\n",
      "Last estimator val2_error 3.56364\n",
      "Last estimator val3_error 4.316072\n",
      "val_avg_error 4.072710333333333\n",
      "##################################################################################################\n",
      "\n",
      " False \n",
      "\n",
      "\n",
      " False \n",
      "\n",
      "\n",
      " False \n",
      "\n",
      "\n",
      " False \n",
      "\n",
      "\n",
      " False \n",
      "\n",
      "\n",
      " False \n",
      "\n"
     ]
    },
    {
     "name": "stderr",
     "output_type": "stream",
     "text": [
      "\u001b[32m[I 2023-04-13 14:05:41,215]\u001b[0m Trial 66 finished with value: 4.076485333333333 and parameters: {'tweedie_variance_power': 1.6, 'max_depth': 4, 'learning_rate': 0.08005810804217295, 'subsample': 0.9, 'colsample_bytree': 0.8, 'gamma': 4, 'reg_alpha': 4, 'reg_lambda': 3, 'min_child_weight': 3}. Best is trial 44 with value: 4.071516333333332.\u001b[0m\n"
     ]
    },
    {
     "name": "stdout",
     "output_type": "stream",
     "text": [
      "\n",
      "\n",
      "###################################### VALIDATION Loss ###########################################\n",
      "Last estimator val1_error 4.350214\n",
      "Last estimator val2_error 3.563814\n",
      "Last estimator val3_error 4.315428\n",
      "val_avg_error 4.076485333333333\n",
      "##################################################################################################\n",
      "\n",
      " False \n",
      "\n",
      "\n",
      " False \n",
      "\n",
      "\n",
      " False \n",
      "\n",
      "\n",
      " False \n",
      "\n",
      "\n",
      " False \n",
      "\n",
      "\n",
      " False \n",
      "\n"
     ]
    },
    {
     "name": "stderr",
     "output_type": "stream",
     "text": [
      "\u001b[32m[I 2023-04-13 14:05:49,089]\u001b[0m Trial 67 finished with value: 4.069543666666667 and parameters: {'tweedie_variance_power': 1.6, 'max_depth': 4, 'learning_rate': 0.09203411518209473, 'subsample': 0.9, 'colsample_bytree': 0.8, 'gamma': 5, 'reg_alpha': 4, 'reg_lambda': 3, 'min_child_weight': 3}. Best is trial 67 with value: 4.069543666666667.\u001b[0m\n"
     ]
    },
    {
     "name": "stdout",
     "output_type": "stream",
     "text": [
      "\n",
      "\n",
      "###################################### VALIDATION Loss ###########################################\n",
      "Last estimator val1_error 4.331136\n",
      "Last estimator val2_error 3.557848\n",
      "Last estimator val3_error 4.319647\n",
      "val_avg_error 4.069543666666667\n",
      "##################################################################################################\n",
      "\n",
      " False \n",
      "\n",
      "\n",
      " False \n",
      "\n",
      "\n",
      " False \n",
      "\n",
      "\n",
      " False \n",
      "\n",
      "\n",
      " False \n",
      "\n",
      "\n",
      " False \n",
      "\n"
     ]
    },
    {
     "name": "stderr",
     "output_type": "stream",
     "text": [
      "\u001b[32m[I 2023-04-13 14:06:00,514]\u001b[0m Trial 68 finished with value: 4.0750443333333335 and parameters: {'tweedie_variance_power': 1.6, 'max_depth': 4, 'learning_rate': 0.08761041439975839, 'subsample': 0.9, 'colsample_bytree': 0.9, 'gamma': 5, 'reg_alpha': 4, 'reg_lambda': 3, 'min_child_weight': 3}. Best is trial 67 with value: 4.069543666666667.\u001b[0m\n"
     ]
    },
    {
     "name": "stdout",
     "output_type": "stream",
     "text": [
      "\n",
      "\n",
      "###################################### VALIDATION Loss ###########################################\n",
      "Last estimator val1_error 4.343758\n",
      "Last estimator val2_error 3.56127\n",
      "Last estimator val3_error 4.320105\n",
      "val_avg_error 4.0750443333333335\n",
      "##################################################################################################\n",
      "\n",
      " False \n",
      "\n",
      "\n",
      " False \n",
      "\n",
      "\n",
      " False \n",
      "\n",
      "\n",
      " False \n",
      "\n",
      "\n",
      " False \n",
      "\n",
      "\n",
      " False \n",
      "\n"
     ]
    },
    {
     "name": "stderr",
     "output_type": "stream",
     "text": [
      "\u001b[32m[I 2023-04-13 14:06:08,401]\u001b[0m Trial 69 finished with value: 4.469779 and parameters: {'tweedie_variance_power': 1.7000000000000002, 'max_depth': 4, 'learning_rate': 0.09843365164359016, 'subsample': 0.9, 'colsample_bytree': 0.8, 'gamma': 5, 'reg_alpha': 4, 'reg_lambda': 3, 'min_child_weight': 3}. Best is trial 67 with value: 4.069543666666667.\u001b[0m\n"
     ]
    },
    {
     "name": "stdout",
     "output_type": "stream",
     "text": [
      "\n",
      "\n",
      "###################################### VALIDATION Loss ###########################################\n",
      "Last estimator val1_error 4.719187\n",
      "Last estimator val2_error 3.999189\n",
      "Last estimator val3_error 4.690961\n",
      "val_avg_error 4.469779\n",
      "##################################################################################################\n",
      "\n",
      " False \n",
      "\n",
      "\n",
      " False \n",
      "\n",
      "\n",
      " False \n",
      "\n",
      "\n",
      " False \n",
      "\n",
      "\n",
      " False \n",
      "\n",
      "\n",
      " False \n",
      "\n"
     ]
    },
    {
     "name": "stderr",
     "output_type": "stream",
     "text": [
      "\u001b[32m[I 2023-04-13 14:06:18,071]\u001b[0m Trial 70 finished with value: 4.074683666666666 and parameters: {'tweedie_variance_power': 1.6, 'max_depth': 4, 'learning_rate': 0.07204364477573864, 'subsample': 0.8, 'colsample_bytree': 0.9, 'gamma': 5, 'reg_alpha': 4, 'reg_lambda': 4, 'min_child_weight': 2}. Best is trial 67 with value: 4.069543666666667.\u001b[0m\n"
     ]
    },
    {
     "name": "stdout",
     "output_type": "stream",
     "text": [
      "\n",
      "\n",
      "###################################### VALIDATION Loss ###########################################\n",
      "Last estimator val1_error 4.343882\n",
      "Last estimator val2_error 3.566072\n",
      "Last estimator val3_error 4.314097\n",
      "val_avg_error 4.074683666666666\n",
      "##################################################################################################\n",
      "\n",
      " False \n",
      "\n",
      "\n",
      " False \n",
      "\n",
      "\n",
      " False \n",
      "\n",
      "\n",
      " False \n",
      "\n",
      "\n",
      " False \n",
      "\n",
      "\n",
      " False \n",
      "\n"
     ]
    },
    {
     "name": "stderr",
     "output_type": "stream",
     "text": [
      "\u001b[32m[I 2023-04-13 14:06:24,908]\u001b[0m Trial 71 finished with value: 4.074247333333333 and parameters: {'tweedie_variance_power': 1.6, 'max_depth': 4, 'learning_rate': 0.07488492139405792, 'subsample': 0.9, 'colsample_bytree': 0.9, 'gamma': 5, 'reg_alpha': 4, 'reg_lambda': 4, 'min_child_weight': 2}. Best is trial 67 with value: 4.069543666666667.\u001b[0m\n"
     ]
    },
    {
     "name": "stdout",
     "output_type": "stream",
     "text": [
      "\n",
      "\n",
      "###################################### VALIDATION Loss ###########################################\n",
      "Last estimator val1_error 4.33448\n",
      "Last estimator val2_error 3.563834\n",
      "Last estimator val3_error 4.324428\n",
      "val_avg_error 4.074247333333333\n",
      "##################################################################################################\n",
      "\n",
      " False \n",
      "\n",
      "\n",
      " False \n",
      "\n",
      "\n",
      " False \n",
      "\n",
      "\n",
      " False \n",
      "\n",
      "\n",
      " False \n",
      "\n",
      "\n",
      " False \n",
      "\n"
     ]
    },
    {
     "name": "stderr",
     "output_type": "stream",
     "text": [
      "\u001b[32m[I 2023-04-13 14:06:30,955]\u001b[0m Trial 72 finished with value: 4.067977333333334 and parameters: {'tweedie_variance_power': 1.6, 'max_depth': 4, 'learning_rate': 0.07837087977857655, 'subsample': 0.8, 'colsample_bytree': 0.9, 'gamma': 5, 'reg_alpha': 4, 'reg_lambda': 4, 'min_child_weight': 2}. Best is trial 72 with value: 4.067977333333334.\u001b[0m\n"
     ]
    },
    {
     "name": "stdout",
     "output_type": "stream",
     "text": [
      "\n",
      "\n",
      "###################################### VALIDATION Loss ###########################################\n",
      "Last estimator val1_error 4.328811\n",
      "Last estimator val2_error 3.562803\n",
      "Last estimator val3_error 4.312318\n",
      "val_avg_error 4.067977333333334\n",
      "##################################################################################################\n",
      "\n",
      " False \n",
      "\n",
      "\n",
      " False \n",
      "\n",
      "\n",
      " False \n",
      "\n",
      "\n",
      " False \n",
      "\n",
      "\n",
      " False \n",
      "\n",
      "\n",
      " False \n",
      "\n"
     ]
    },
    {
     "name": "stderr",
     "output_type": "stream",
     "text": [
      "\u001b[32m[I 2023-04-13 14:06:39,276]\u001b[0m Trial 73 finished with value: 4.075503 and parameters: {'tweedie_variance_power': 1.6, 'max_depth': 4, 'learning_rate': 0.08220730060338266, 'subsample': 0.8, 'colsample_bytree': 0.9, 'gamma': 5, 'reg_alpha': 4, 'reg_lambda': 4, 'min_child_weight': 2}. Best is trial 72 with value: 4.067977333333334.\u001b[0m\n"
     ]
    },
    {
     "name": "stdout",
     "output_type": "stream",
     "text": [
      "\n",
      "\n",
      "###################################### VALIDATION Loss ###########################################\n",
      "Last estimator val1_error 4.342951\n",
      "Last estimator val2_error 3.564831\n",
      "Last estimator val3_error 4.318727\n",
      "val_avg_error 4.075503\n",
      "##################################################################################################\n",
      "\n",
      " False \n",
      "\n",
      "\n",
      " False \n",
      "\n",
      "\n",
      " False \n",
      "\n",
      "\n",
      " False \n",
      "\n",
      "\n",
      " False \n",
      "\n",
      "\n",
      " False \n",
      "\n"
     ]
    },
    {
     "name": "stderr",
     "output_type": "stream",
     "text": [
      "\u001b[32m[I 2023-04-13 14:06:46,586]\u001b[0m Trial 74 finished with value: 4.072949333333334 and parameters: {'tweedie_variance_power': 1.6, 'max_depth': 4, 'learning_rate': 0.07717549980883655, 'subsample': 0.8, 'colsample_bytree': 0.9, 'gamma': 5, 'reg_alpha': 4, 'reg_lambda': 4, 'min_child_weight': 2}. Best is trial 72 with value: 4.067977333333334.\u001b[0m\n"
     ]
    },
    {
     "name": "stdout",
     "output_type": "stream",
     "text": [
      "\n",
      "\n",
      "###################################### VALIDATION Loss ###########################################\n",
      "Last estimator val1_error 4.335017\n",
      "Last estimator val2_error 3.56439\n",
      "Last estimator val3_error 4.319441\n",
      "val_avg_error 4.072949333333334\n",
      "##################################################################################################\n",
      "\n",
      " False \n",
      "\n",
      "\n",
      " False \n",
      "\n",
      "\n",
      " False \n",
      "\n",
      "\n",
      " False \n",
      "\n",
      "\n",
      " False \n",
      "\n",
      "\n",
      " False \n",
      "\n"
     ]
    },
    {
     "name": "stderr",
     "output_type": "stream",
     "text": [
      "\u001b[32m[I 2023-04-13 14:06:54,924]\u001b[0m Trial 75 finished with value: 4.458478666666667 and parameters: {'tweedie_variance_power': 1.7000000000000002, 'max_depth': 4, 'learning_rate': 0.06459577900325465, 'subsample': 0.8, 'colsample_bytree': 0.9, 'gamma': 5, 'reg_alpha': 3, 'reg_lambda': 4, 'min_child_weight': 2}. Best is trial 72 with value: 4.067977333333334.\u001b[0m\n"
     ]
    },
    {
     "name": "stdout",
     "output_type": "stream",
     "text": [
      "\n",
      "\n",
      "###################################### VALIDATION Loss ###########################################\n",
      "Last estimator val1_error 4.697514\n",
      "Last estimator val2_error 3.994486\n",
      "Last estimator val3_error 4.683436\n",
      "val_avg_error 4.458478666666667\n",
      "##################################################################################################\n",
      "\n",
      " False \n",
      "\n",
      "\n",
      " False \n",
      "\n",
      "\n",
      " False \n",
      "\n",
      "\n",
      " False \n",
      "\n",
      "\n",
      " False \n",
      "\n",
      "\n",
      " False \n",
      "\n"
     ]
    },
    {
     "name": "stderr",
     "output_type": "stream",
     "text": [
      "\u001b[32m[I 2023-04-13 14:07:03,655]\u001b[0m Trial 76 finished with value: 4.070968333333333 and parameters: {'tweedie_variance_power': 1.6, 'max_depth': 4, 'learning_rate': 0.05059467269226239, 'subsample': 0.8, 'colsample_bytree': 1.0, 'gamma': 5, 'reg_alpha': 4, 'reg_lambda': 4, 'min_child_weight': 2}. Best is trial 72 with value: 4.067977333333334.\u001b[0m\n"
     ]
    },
    {
     "name": "stdout",
     "output_type": "stream",
     "text": [
      "\n",
      "\n",
      "###################################### VALIDATION Loss ###########################################\n",
      "Last estimator val1_error 4.331568\n",
      "Last estimator val2_error 3.568071\n",
      "Last estimator val3_error 4.313266\n",
      "val_avg_error 4.070968333333333\n",
      "##################################################################################################\n",
      "\n",
      " False \n",
      "\n",
      "\n",
      " False \n",
      "\n",
      "\n",
      " False \n",
      "\n",
      "\n",
      " False \n",
      "\n",
      "\n",
      " False \n",
      "\n",
      "\n",
      " False \n",
      "\n"
     ]
    },
    {
     "name": "stderr",
     "output_type": "stream",
     "text": [
      "\u001b[32m[I 2023-04-13 14:07:15,050]\u001b[0m Trial 77 finished with value: 4.458266666666667 and parameters: {'tweedie_variance_power': 1.7000000000000002, 'max_depth': 4, 'learning_rate': 0.05225964392852761, 'subsample': 0.8, 'colsample_bytree': 1.0, 'gamma': 5, 'reg_alpha': 4, 'reg_lambda': 4, 'min_child_weight': 2}. Best is trial 72 with value: 4.067977333333334.\u001b[0m\n"
     ]
    },
    {
     "name": "stdout",
     "output_type": "stream",
     "text": [
      "\n",
      "\n",
      "###################################### VALIDATION Loss ###########################################\n",
      "Last estimator val1_error 4.697779\n",
      "Last estimator val2_error 3.994076\n",
      "Last estimator val3_error 4.682945\n",
      "val_avg_error 4.458266666666667\n",
      "##################################################################################################\n",
      "\n",
      " False \n",
      "\n",
      "\n",
      " False \n",
      "\n",
      "\n",
      " False \n",
      "\n",
      "\n",
      " False \n",
      "\n",
      "\n",
      " False \n",
      "\n",
      "\n",
      " False \n",
      "\n"
     ]
    },
    {
     "name": "stderr",
     "output_type": "stream",
     "text": [
      "\u001b[32m[I 2023-04-13 14:07:23,763]\u001b[0m Trial 78 finished with value: 4.067475333333333 and parameters: {'tweedie_variance_power': 1.6, 'max_depth': 5, 'learning_rate': 0.07096288394426943, 'subsample': 0.8, 'colsample_bytree': 0.9, 'gamma': 5, 'reg_alpha': 3, 'reg_lambda': 4, 'min_child_weight': 1}. Best is trial 78 with value: 4.067475333333333.\u001b[0m\n"
     ]
    },
    {
     "name": "stdout",
     "output_type": "stream",
     "text": [
      "\n",
      "\n",
      "###################################### VALIDATION Loss ###########################################\n",
      "Last estimator val1_error 4.332173\n",
      "Last estimator val2_error 3.554502\n",
      "Last estimator val3_error 4.315751\n",
      "val_avg_error 4.067475333333333\n",
      "##################################################################################################\n",
      "\n",
      " False \n",
      "\n",
      "\n",
      " False \n",
      "\n",
      "\n",
      " False \n",
      "\n",
      "\n",
      " False \n",
      "\n",
      "\n",
      " False \n",
      "\n",
      "\n",
      " False \n",
      "\n"
     ]
    },
    {
     "name": "stderr",
     "output_type": "stream",
     "text": [
      "\u001b[32m[I 2023-04-13 14:07:37,660]\u001b[0m Trial 79 finished with value: 4.0779749999999995 and parameters: {'tweedie_variance_power': 1.6, 'max_depth': 6, 'learning_rate': 0.050286356618442885, 'subsample': 0.8, 'colsample_bytree': 1.0, 'gamma': 5, 'reg_alpha': 3, 'reg_lambda': 5, 'min_child_weight': 1}. Best is trial 78 with value: 4.067475333333333.\u001b[0m\n"
     ]
    },
    {
     "name": "stdout",
     "output_type": "stream",
     "text": [
      "\n",
      "\n",
      "###################################### VALIDATION Loss ###########################################\n",
      "Last estimator val1_error 4.343465\n",
      "Last estimator val2_error 3.554444\n",
      "Last estimator val3_error 4.336016\n",
      "val_avg_error 4.0779749999999995\n",
      "##################################################################################################\n",
      "\n",
      " False \n",
      "\n",
      "\n",
      " False \n",
      "\n",
      "\n",
      " False \n",
      "\n",
      "\n",
      " False \n",
      "\n",
      "\n",
      " False \n",
      "\n",
      "\n",
      " False \n",
      "\n"
     ]
    },
    {
     "name": "stderr",
     "output_type": "stream",
     "text": [
      "\u001b[32m[I 2023-04-13 14:07:48,726]\u001b[0m Trial 80 finished with value: 4.460929333333333 and parameters: {'tweedie_variance_power': 1.7000000000000002, 'max_depth': 5, 'learning_rate': 0.06163846114225631, 'subsample': 0.8, 'colsample_bytree': 0.9, 'gamma': 5, 'reg_alpha': 3, 'reg_lambda': 4, 'min_child_weight': 1}. Best is trial 78 with value: 4.067475333333333.\u001b[0m\n"
     ]
    },
    {
     "name": "stdout",
     "output_type": "stream",
     "text": [
      "\n",
      "\n",
      "###################################### VALIDATION Loss ###########################################\n",
      "Last estimator val1_error 4.704069\n",
      "Last estimator val2_error 3.985794\n",
      "Last estimator val3_error 4.692925\n",
      "val_avg_error 4.460929333333333\n",
      "##################################################################################################\n",
      "\n",
      " False \n",
      "\n",
      "\n",
      " False \n",
      "\n",
      "\n",
      " False \n",
      "\n",
      "\n",
      " False \n",
      "\n",
      "\n",
      " False \n",
      "\n",
      "\n",
      " False \n",
      "\n"
     ]
    },
    {
     "name": "stderr",
     "output_type": "stream",
     "text": [
      "\u001b[32m[I 2023-04-13 14:07:57,981]\u001b[0m Trial 81 finished with value: 4.070731333333334 and parameters: {'tweedie_variance_power': 1.6, 'max_depth': 4, 'learning_rate': 0.07322425330126613, 'subsample': 0.8, 'colsample_bytree': 0.9, 'gamma': 5, 'reg_alpha': 4, 'reg_lambda': 4, 'min_child_weight': 2}. Best is trial 78 with value: 4.067475333333333.\u001b[0m\n"
     ]
    },
    {
     "name": "stdout",
     "output_type": "stream",
     "text": [
      "\n",
      "\n",
      "###################################### VALIDATION Loss ###########################################\n",
      "Last estimator val1_error 4.329733\n",
      "Last estimator val2_error 3.562155\n",
      "Last estimator val3_error 4.320306\n",
      "val_avg_error 4.070731333333334\n",
      "##################################################################################################\n",
      "\n",
      " False \n",
      "\n",
      "\n",
      " False \n",
      "\n",
      "\n",
      " False \n",
      "\n",
      "\n",
      " False \n",
      "\n",
      "\n",
      " False \n",
      "\n",
      "\n",
      " False \n",
      "\n"
     ]
    },
    {
     "name": "stderr",
     "output_type": "stream",
     "text": [
      "\u001b[32m[I 2023-04-13 14:08:07,707]\u001b[0m Trial 82 finished with value: 4.073409 and parameters: {'tweedie_variance_power': 1.6, 'max_depth': 5, 'learning_rate': 0.0739408018046006, 'subsample': 0.7000000000000001, 'colsample_bytree': 1.0, 'gamma': 5, 'reg_alpha': 4, 'reg_lambda': 4, 'min_child_weight': 2}. Best is trial 78 with value: 4.067475333333333.\u001b[0m\n"
     ]
    },
    {
     "name": "stdout",
     "output_type": "stream",
     "text": [
      "\n",
      "\n",
      "###################################### VALIDATION Loss ###########################################\n",
      "Last estimator val1_error 4.335995\n",
      "Last estimator val2_error 3.561\n",
      "Last estimator val3_error 4.323232\n",
      "val_avg_error 4.073409\n",
      "##################################################################################################\n",
      "\n",
      " False \n",
      "\n",
      "\n",
      " False \n",
      "\n",
      "\n",
      " False \n",
      "\n",
      "\n",
      " False \n",
      "\n",
      "\n",
      " False \n",
      "\n",
      "\n",
      " False \n",
      "\n"
     ]
    },
    {
     "name": "stderr",
     "output_type": "stream",
     "text": [
      "\u001b[32m[I 2023-04-13 14:08:16,598]\u001b[0m Trial 83 finished with value: 4.0731633333333335 and parameters: {'tweedie_variance_power': 1.6, 'max_depth': 5, 'learning_rate': 0.046693968328480204, 'subsample': 0.7000000000000001, 'colsample_bytree': 1.0, 'gamma': 5, 'reg_alpha': 4, 'reg_lambda': 4, 'min_child_weight': 2}. Best is trial 78 with value: 4.067475333333333.\u001b[0m\n"
     ]
    },
    {
     "name": "stdout",
     "output_type": "stream",
     "text": [
      "\n",
      "\n",
      "###################################### VALIDATION Loss ###########################################\n",
      "Last estimator val1_error 4.327364\n",
      "Last estimator val2_error 3.557349\n",
      "Last estimator val3_error 4.334777\n",
      "val_avg_error 4.0731633333333335\n",
      "##################################################################################################\n",
      "\n",
      " False \n",
      "\n",
      "\n",
      " False \n",
      "\n",
      "\n",
      " False \n",
      "\n",
      "\n",
      " False \n",
      "\n",
      "\n",
      " False \n",
      "\n",
      "\n",
      " False \n",
      "\n"
     ]
    },
    {
     "name": "stderr",
     "output_type": "stream",
     "text": [
      "\u001b[32m[I 2023-04-13 14:08:32,067]\u001b[0m Trial 84 finished with value: 4.073756333333333 and parameters: {'tweedie_variance_power': 1.6, 'max_depth': 5, 'learning_rate': 0.04638918951049332, 'subsample': 0.8, 'colsample_bytree': 0.8, 'gamma': 5, 'reg_alpha': 4, 'reg_lambda': 4, 'min_child_weight': 1}. Best is trial 78 with value: 4.067475333333333.\u001b[0m\n"
     ]
    },
    {
     "name": "stdout",
     "output_type": "stream",
     "text": [
      "\n",
      "\n",
      "###################################### VALIDATION Loss ###########################################\n",
      "Last estimator val1_error 4.338722\n",
      "Last estimator val2_error 3.553818\n",
      "Last estimator val3_error 4.328729\n",
      "val_avg_error 4.073756333333333\n",
      "##################################################################################################\n",
      "\n",
      " False \n",
      "\n",
      "\n",
      " False \n",
      "\n",
      "\n",
      " False \n",
      "\n",
      "\n",
      " False \n",
      "\n",
      "\n",
      " False \n",
      "\n",
      "\n",
      " False \n",
      "\n"
     ]
    },
    {
     "name": "stderr",
     "output_type": "stream",
     "text": [
      "\u001b[32m[I 2023-04-13 14:08:40,334]\u001b[0m Trial 85 finished with value: 4.467149 and parameters: {'tweedie_variance_power': 1.7000000000000002, 'max_depth': 5, 'learning_rate': 0.09568387630161702, 'subsample': 0.7000000000000001, 'colsample_bytree': 1.0, 'gamma': 5, 'reg_alpha': 3, 'reg_lambda': 5, 'min_child_weight': 2}. Best is trial 78 with value: 4.067475333333333.\u001b[0m\n"
     ]
    },
    {
     "name": "stdout",
     "output_type": "stream",
     "text": [
      "\n",
      "\n",
      "###################################### VALIDATION Loss ###########################################\n",
      "Last estimator val1_error 4.708463\n",
      "Last estimator val2_error 3.992122\n",
      "Last estimator val3_error 4.700862\n",
      "val_avg_error 4.467149\n",
      "##################################################################################################\n",
      "\n",
      " False \n",
      "\n",
      "\n",
      " False \n",
      "\n",
      "\n",
      " False \n",
      "\n",
      "\n",
      " False \n",
      "\n",
      "\n",
      " False \n",
      "\n",
      "\n",
      " False \n",
      "\n"
     ]
    },
    {
     "name": "stderr",
     "output_type": "stream",
     "text": [
      "\u001b[32m[I 2023-04-13 14:08:53,040]\u001b[0m Trial 86 finished with value: 4.078147333333334 and parameters: {'tweedie_variance_power': 1.6, 'max_depth': 6, 'learning_rate': 0.05440967304540634, 'subsample': 0.6, 'colsample_bytree': 1.0, 'gamma': 5, 'reg_alpha': 4, 'reg_lambda': 4, 'min_child_weight': 1}. Best is trial 78 with value: 4.067475333333333.\u001b[0m\n"
     ]
    },
    {
     "name": "stdout",
     "output_type": "stream",
     "text": [
      "\n",
      "\n",
      "###################################### VALIDATION Loss ###########################################\n",
      "Last estimator val1_error 4.344457\n",
      "Last estimator val2_error 3.555855\n",
      "Last estimator val3_error 4.33413\n",
      "val_avg_error 4.078147333333334\n",
      "##################################################################################################\n",
      "\n",
      " False \n",
      "\n",
      "\n",
      " False \n",
      "\n",
      "\n",
      " False \n",
      "\n",
      "\n",
      " False \n",
      "\n",
      "\n",
      " False \n",
      "\n",
      "\n",
      " False \n",
      "\n"
     ]
    },
    {
     "name": "stderr",
     "output_type": "stream",
     "text": [
      "\u001b[32m[I 2023-04-13 14:09:09,281]\u001b[0m Trial 87 finished with value: 4.457837333333333 and parameters: {'tweedie_variance_power': 1.7000000000000002, 'max_depth': 4, 'learning_rate': 0.030260085916597224, 'subsample': 0.8, 'colsample_bytree': 0.9, 'gamma': 5, 'reg_alpha': 4, 'reg_lambda': 4, 'min_child_weight': 3}. Best is trial 78 with value: 4.067475333333333.\u001b[0m\n"
     ]
    },
    {
     "name": "stdout",
     "output_type": "stream",
     "text": [
      "\n",
      "\n",
      "###################################### VALIDATION Loss ###########################################\n",
      "Last estimator val1_error 4.690912\n",
      "Last estimator val2_error 3.99666\n",
      "Last estimator val3_error 4.68594\n",
      "val_avg_error 4.457837333333333\n",
      "##################################################################################################\n",
      "\n",
      " False \n",
      "\n",
      "\n",
      " False \n",
      "\n",
      "\n",
      " False \n",
      "\n",
      "\n",
      " False \n",
      "\n",
      "\n",
      " False \n",
      "\n",
      "\n",
      " False \n",
      "\n"
     ]
    },
    {
     "name": "stderr",
     "output_type": "stream",
     "text": [
      "\u001b[32m[I 2023-04-13 14:09:17,622]\u001b[0m Trial 88 finished with value: 4.071631 and parameters: {'tweedie_variance_power': 1.6, 'max_depth': 4, 'learning_rate': 0.05878452854448729, 'subsample': 0.7000000000000001, 'colsample_bytree': 0.8, 'gamma': 5, 'reg_alpha': 4, 'reg_lambda': 4, 'min_child_weight': 2}. Best is trial 78 with value: 4.067475333333333.\u001b[0m\n"
     ]
    },
    {
     "name": "stdout",
     "output_type": "stream",
     "text": [
      "\n",
      "\n",
      "###################################### VALIDATION Loss ###########################################\n",
      "Last estimator val1_error 4.334909\n",
      "Last estimator val2_error 3.564664\n",
      "Last estimator val3_error 4.31532\n",
      "val_avg_error 4.071631\n",
      "##################################################################################################\n",
      "\n",
      " False \n",
      "\n",
      "\n",
      " False \n",
      "\n",
      "\n",
      " False \n",
      "\n",
      "\n",
      " False \n",
      "\n",
      "\n",
      " False \n",
      "\n",
      "\n",
      " False \n",
      "\n"
     ]
    },
    {
     "name": "stderr",
     "output_type": "stream",
     "text": [
      "\u001b[32m[I 2023-04-13 14:09:28,056]\u001b[0m Trial 89 finished with value: 5.730411 and parameters: {'tweedie_variance_power': 1.8000000000000003, 'max_depth': 10, 'learning_rate': 0.0631437727811533, 'subsample': 0.8, 'colsample_bytree': 0.8, 'gamma': 5, 'reg_alpha': 3, 'reg_lambda': 5, 'min_child_weight': 1}. Best is trial 78 with value: 4.067475333333333.\u001b[0m\n"
     ]
    },
    {
     "name": "stdout",
     "output_type": "stream",
     "text": [
      "\n",
      "\n",
      "###################################### VALIDATION Loss ###########################################\n",
      "Last estimator val1_error 5.929007\n",
      "Last estimator val2_error 5.194627\n",
      "Last estimator val3_error 6.067599\n",
      "val_avg_error 5.730411\n",
      "##################################################################################################\n",
      "\n",
      " False \n",
      "\n",
      "\n",
      " False \n",
      "\n",
      "\n",
      " False \n",
      "\n",
      "\n",
      " False \n",
      "\n",
      "\n",
      " False \n",
      "\n",
      "\n",
      " False \n",
      "\n"
     ]
    },
    {
     "name": "stderr",
     "output_type": "stream",
     "text": [
      "\u001b[32m[I 2023-04-13 14:09:35,336]\u001b[0m Trial 90 finished with value: 4.071095333333333 and parameters: {'tweedie_variance_power': 1.6, 'max_depth': 4, 'learning_rate': 0.09956753575490426, 'subsample': 0.7000000000000001, 'colsample_bytree': 0.8, 'gamma': 5, 'reg_alpha': 4, 'reg_lambda': 3, 'min_child_weight': 3}. Best is trial 78 with value: 4.067475333333333.\u001b[0m\n"
     ]
    },
    {
     "name": "stdout",
     "output_type": "stream",
     "text": [
      "\n",
      "\n",
      "###################################### VALIDATION Loss ###########################################\n",
      "Last estimator val1_error 4.330278\n",
      "Last estimator val2_error 3.567362\n",
      "Last estimator val3_error 4.315646\n",
      "val_avg_error 4.071095333333333\n",
      "##################################################################################################\n",
      "\n",
      " False \n",
      "\n",
      "\n",
      " False \n",
      "\n",
      "\n",
      " False \n",
      "\n",
      "\n",
      " False \n",
      "\n",
      "\n",
      " False \n",
      "\n",
      "\n",
      " False \n",
      "\n"
     ]
    },
    {
     "name": "stderr",
     "output_type": "stream",
     "text": [
      "\u001b[32m[I 2023-04-13 14:09:42,434]\u001b[0m Trial 91 finished with value: 4.079974 and parameters: {'tweedie_variance_power': 1.6, 'max_depth': 4, 'learning_rate': 0.0991958607860392, 'subsample': 0.7000000000000001, 'colsample_bytree': 0.8, 'gamma': 5, 'reg_alpha': 4, 'reg_lambda': 3, 'min_child_weight': 3}. Best is trial 78 with value: 4.067475333333333.\u001b[0m\n"
     ]
    },
    {
     "name": "stdout",
     "output_type": "stream",
     "text": [
      "\n",
      "\n",
      "###################################### VALIDATION Loss ###########################################\n",
      "Last estimator val1_error 4.343821\n",
      "Last estimator val2_error 3.568477\n",
      "Last estimator val3_error 4.327624\n",
      "val_avg_error 4.079974\n",
      "##################################################################################################\n",
      "\n",
      " False \n",
      "\n",
      "\n",
      " False \n",
      "\n",
      "\n",
      " False \n",
      "\n",
      "\n",
      " False \n",
      "\n",
      "\n",
      " False \n",
      "\n",
      "\n",
      " False \n",
      "\n"
     ]
    },
    {
     "name": "stderr",
     "output_type": "stream",
     "text": [
      "\u001b[32m[I 2023-04-13 14:09:47,619]\u001b[0m Trial 92 finished with value: 4.077289 and parameters: {'tweedie_variance_power': 1.6, 'max_depth': 4, 'learning_rate': 0.08190666092394712, 'subsample': 0.8, 'colsample_bytree': 0.8, 'gamma': 5, 'reg_alpha': 4, 'reg_lambda': 3, 'min_child_weight': 2}. Best is trial 78 with value: 4.067475333333333.\u001b[0m\n"
     ]
    },
    {
     "name": "stdout",
     "output_type": "stream",
     "text": [
      "\n",
      "\n",
      "###################################### VALIDATION Loss ###########################################\n",
      "Last estimator val1_error 4.340897\n",
      "Last estimator val2_error 3.568982\n",
      "Last estimator val3_error 4.321988\n",
      "val_avg_error 4.077289\n",
      "##################################################################################################\n",
      "\n",
      " False \n",
      "\n",
      "\n",
      " False \n",
      "\n",
      "\n",
      " False \n",
      "\n",
      "\n",
      " False \n",
      "\n",
      "\n",
      " False \n",
      "\n",
      "\n",
      " False \n",
      "\n"
     ]
    },
    {
     "name": "stderr",
     "output_type": "stream",
     "text": [
      "\u001b[32m[I 2023-04-13 14:09:56,063]\u001b[0m Trial 93 finished with value: 4.07861 and parameters: {'tweedie_variance_power': 1.6, 'max_depth': 4, 'learning_rate': 0.057824198089704154, 'subsample': 0.6, 'colsample_bytree': 0.7000000000000001, 'gamma': 5, 'reg_alpha': 4, 'reg_lambda': 3, 'min_child_weight': 3}. Best is trial 78 with value: 4.067475333333333.\u001b[0m\n"
     ]
    },
    {
     "name": "stdout",
     "output_type": "stream",
     "text": [
      "\n",
      "\n",
      "###################################### VALIDATION Loss ###########################################\n",
      "Last estimator val1_error 4.354737\n",
      "Last estimator val2_error 3.565192\n",
      "Last estimator val3_error 4.315901\n",
      "val_avg_error 4.07861\n",
      "##################################################################################################\n",
      "\n",
      " False \n",
      "\n",
      "\n",
      " False \n",
      "\n",
      "\n",
      " False \n",
      "\n",
      "\n",
      " False \n",
      "\n",
      "\n",
      " False \n",
      "\n",
      "\n",
      " False \n",
      "\n"
     ]
    },
    {
     "name": "stderr",
     "output_type": "stream",
     "text": [
      "\u001b[32m[I 2023-04-13 14:10:03,943]\u001b[0m Trial 94 finished with value: 4.462472333333333 and parameters: {'tweedie_variance_power': 1.7000000000000002, 'max_depth': 4, 'learning_rate': 0.07042246979128165, 'subsample': 0.7000000000000001, 'colsample_bytree': 0.7000000000000001, 'gamma': 5, 'reg_alpha': 4, 'reg_lambda': 4, 'min_child_weight': 2}. Best is trial 78 with value: 4.067475333333333.\u001b[0m\n"
     ]
    },
    {
     "name": "stdout",
     "output_type": "stream",
     "text": [
      "\n",
      "\n",
      "###################################### VALIDATION Loss ###########################################\n",
      "Last estimator val1_error 4.698816\n",
      "Last estimator val2_error 4.000273\n",
      "Last estimator val3_error 4.688328\n",
      "val_avg_error 4.462472333333333\n",
      "##################################################################################################\n",
      "\n",
      " False \n",
      "\n",
      "\n",
      " False \n",
      "\n",
      "\n",
      " False \n",
      "\n",
      "\n",
      " False \n",
      "\n",
      "\n",
      " False \n",
      "\n",
      "\n",
      " False \n",
      "\n"
     ]
    },
    {
     "name": "stderr",
     "output_type": "stream",
     "text": [
      "\u001b[32m[I 2023-04-13 14:10:19,465]\u001b[0m Trial 95 finished with value: 4.066834 and parameters: {'tweedie_variance_power': 1.6, 'max_depth': 4, 'learning_rate': 0.042982748574615016, 'subsample': 0.8, 'colsample_bytree': 0.9, 'gamma': 5, 'reg_alpha': 4, 'reg_lambda': 4, 'min_child_weight': 2}. Best is trial 95 with value: 4.066834.\u001b[0m\n"
     ]
    },
    {
     "name": "stdout",
     "output_type": "stream",
     "text": [
      "\n",
      "\n",
      "###################################### VALIDATION Loss ###########################################\n",
      "Last estimator val1_error 4.32718\n",
      "Last estimator val2_error 3.557894\n",
      "Last estimator val3_error 4.315428\n",
      "val_avg_error 4.066834\n",
      "##################################################################################################\n",
      "\n",
      " False \n",
      "\n",
      "\n",
      " False \n",
      "\n",
      "\n",
      " False \n",
      "\n",
      "\n",
      " False \n",
      "\n",
      "\n",
      " False \n",
      "\n",
      "\n",
      " False \n",
      "\n"
     ]
    },
    {
     "name": "stderr",
     "output_type": "stream",
     "text": [
      "\u001b[32m[I 2023-04-13 14:10:33,280]\u001b[0m Trial 96 finished with value: 4.463488333333333 and parameters: {'tweedie_variance_power': 1.7000000000000002, 'max_depth': 5, 'learning_rate': 0.038813411588415794, 'subsample': 0.9, 'colsample_bytree': 0.9, 'gamma': 5, 'reg_alpha': 3, 'reg_lambda': 3, 'min_child_weight': 3}. Best is trial 95 with value: 4.066834.\u001b[0m\n"
     ]
    },
    {
     "name": "stdout",
     "output_type": "stream",
     "text": [
      "\n",
      "\n",
      "###################################### VALIDATION Loss ###########################################\n",
      "Last estimator val1_error 4.708683\n",
      "Last estimator val2_error 3.987541\n",
      "Last estimator val3_error 4.694241\n",
      "val_avg_error 4.463488333333333\n",
      "##################################################################################################\n",
      "\n",
      " False \n",
      "\n",
      "\n",
      " False \n",
      "\n",
      "\n",
      " False \n",
      "\n",
      "\n",
      " False \n",
      "\n",
      "\n",
      " False \n",
      "\n",
      "\n",
      " False \n",
      "\n"
     ]
    },
    {
     "name": "stderr",
     "output_type": "stream",
     "text": [
      "\u001b[32m[I 2023-04-13 14:10:45,216]\u001b[0m Trial 97 finished with value: 4.073118 and parameters: {'tweedie_variance_power': 1.6, 'max_depth': 4, 'learning_rate': 0.02918675175333595, 'subsample': 0.4, 'colsample_bytree': 0.8, 'gamma': 5, 'reg_alpha': 4, 'reg_lambda': 4, 'min_child_weight': 1}. Best is trial 95 with value: 4.066834.\u001b[0m\n"
     ]
    },
    {
     "name": "stdout",
     "output_type": "stream",
     "text": [
      "\n",
      "\n",
      "###################################### VALIDATION Loss ###########################################\n",
      "Last estimator val1_error 4.332551\n",
      "Last estimator val2_error 3.568043\n",
      "Last estimator val3_error 4.31876\n",
      "val_avg_error 4.073118\n",
      "##################################################################################################\n",
      "\n",
      " False \n",
      "\n",
      "\n",
      " False \n",
      "\n",
      "\n",
      " False \n",
      "\n",
      "\n",
      " False \n",
      "\n",
      "\n",
      " False \n",
      "\n",
      "\n",
      " False \n",
      "\n"
     ]
    },
    {
     "name": "stderr",
     "output_type": "stream",
     "text": [
      "\u001b[32m[I 2023-04-13 14:10:54,161]\u001b[0m Trial 98 finished with value: 4.081809 and parameters: {'tweedie_variance_power': 1.6, 'max_depth': 4, 'learning_rate': 0.057303021370108044, 'subsample': 0.6, 'colsample_bytree': 0.8, 'gamma': 5, 'reg_alpha': 4, 'reg_lambda': 4, 'min_child_weight': 3}. Best is trial 95 with value: 4.066834.\u001b[0m\n"
     ]
    },
    {
     "name": "stdout",
     "output_type": "stream",
     "text": [
      "\n",
      "\n",
      "###################################### VALIDATION Loss ###########################################\n",
      "Last estimator val1_error 4.348071\n",
      "Last estimator val2_error 3.562695\n",
      "Last estimator val3_error 4.334661\n",
      "val_avg_error 4.081809\n",
      "##################################################################################################\n",
      "\n",
      " False \n",
      "\n",
      "\n",
      " False \n",
      "\n",
      "\n",
      " False \n",
      "\n",
      "\n",
      " False \n",
      "\n",
      "\n",
      " False \n",
      "\n",
      "\n",
      " False \n",
      "\n"
     ]
    },
    {
     "name": "stderr",
     "output_type": "stream",
     "text": [
      "\u001b[32m[I 2023-04-13 14:11:04,672]\u001b[0m Trial 99 finished with value: 4.457236666666667 and parameters: {'tweedie_variance_power': 1.7000000000000002, 'max_depth': 4, 'learning_rate': 0.04548593168685629, 'subsample': 0.7000000000000001, 'colsample_bytree': 0.9, 'gamma': 5, 'reg_alpha': 4, 'reg_lambda': 5, 'min_child_weight': 2}. Best is trial 95 with value: 4.066834.\u001b[0m\n"
     ]
    },
    {
     "name": "stdout",
     "output_type": "stream",
     "text": [
      "\n",
      "\n",
      "###################################### VALIDATION Loss ###########################################\n",
      "Last estimator val1_error 4.690495\n",
      "Last estimator val2_error 3.998008\n",
      "Last estimator val3_error 4.683207\n",
      "val_avg_error 4.457236666666667\n",
      "##################################################################################################\n",
      "\n",
      " False \n",
      "\n",
      "\n",
      " False \n",
      "\n",
      "\n",
      " False \n",
      "\n",
      "\n",
      " False \n",
      "\n",
      "\n",
      " False \n",
      "\n",
      "\n",
      " False \n",
      "\n"
     ]
    },
    {
     "name": "stderr",
     "output_type": "stream",
     "text": [
      "\u001b[32m[I 2023-04-13 14:11:17,324]\u001b[0m Trial 100 finished with value: 4.071967333333333 and parameters: {'tweedie_variance_power': 1.6, 'max_depth': 4, 'learning_rate': 0.03664271116294638, 'subsample': 0.9, 'colsample_bytree': 0.7000000000000001, 'gamma': 5, 'reg_alpha': 4, 'reg_lambda': 3, 'min_child_weight': 1}. Best is trial 95 with value: 4.066834.\u001b[0m\n"
     ]
    },
    {
     "name": "stdout",
     "output_type": "stream",
     "text": [
      "\n",
      "\n",
      "###################################### VALIDATION Loss ###########################################\n",
      "Last estimator val1_error 4.338512\n",
      "Last estimator val2_error 3.56184\n",
      "Last estimator val3_error 4.31555\n",
      "val_avg_error 4.071967333333333\n",
      "##################################################################################################\n",
      "\n",
      " False \n",
      "\n",
      "\n",
      " False \n",
      "\n",
      "\n",
      " False \n",
      "\n",
      "\n",
      " False \n",
      "\n",
      "\n",
      " False \n",
      "\n",
      "\n",
      " False \n",
      "\n"
     ]
    },
    {
     "name": "stderr",
     "output_type": "stream",
     "text": [
      "\u001b[32m[I 2023-04-13 14:11:31,373]\u001b[0m Trial 101 finished with value: 4.072442 and parameters: {'tweedie_variance_power': 1.6, 'max_depth': 4, 'learning_rate': 0.03649258135346505, 'subsample': 0.9, 'colsample_bytree': 0.7000000000000001, 'gamma': 5, 'reg_alpha': 4, 'reg_lambda': 3, 'min_child_weight': 1}. Best is trial 95 with value: 4.066834.\u001b[0m\n"
     ]
    },
    {
     "name": "stdout",
     "output_type": "stream",
     "text": [
      "\n",
      "\n",
      "###################################### VALIDATION Loss ###########################################\n",
      "Last estimator val1_error 4.339898\n",
      "Last estimator val2_error 3.562719\n",
      "Last estimator val3_error 4.314709\n",
      "val_avg_error 4.072442\n",
      "##################################################################################################\n",
      "\n",
      " False \n",
      "\n",
      "\n",
      " False \n",
      "\n",
      "\n",
      " False \n",
      "\n",
      "\n",
      " False \n",
      "\n",
      "\n",
      " False \n",
      "\n",
      "\n",
      " False \n",
      "\n"
     ]
    },
    {
     "name": "stderr",
     "output_type": "stream",
     "text": [
      "\u001b[32m[I 2023-04-13 14:11:47,151]\u001b[0m Trial 102 finished with value: 4.071829 and parameters: {'tweedie_variance_power': 1.6, 'max_depth': 4, 'learning_rate': 0.036142717788721614, 'subsample': 0.9, 'colsample_bytree': 0.7000000000000001, 'gamma': 5, 'reg_alpha': 4, 'reg_lambda': 3, 'min_child_weight': 1}. Best is trial 95 with value: 4.066834.\u001b[0m\n"
     ]
    },
    {
     "name": "stdout",
     "output_type": "stream",
     "text": [
      "\n",
      "\n",
      "###################################### VALIDATION Loss ###########################################\n",
      "Last estimator val1_error 4.333752\n",
      "Last estimator val2_error 3.563154\n",
      "Last estimator val3_error 4.318581\n",
      "val_avg_error 4.071829\n",
      "##################################################################################################\n",
      "\n",
      " False \n",
      "\n",
      "\n",
      " False \n",
      "\n",
      "\n",
      " False \n",
      "\n",
      "\n",
      " False \n",
      "\n",
      "\n",
      " False \n",
      "\n",
      "\n",
      " False \n",
      "\n"
     ]
    },
    {
     "name": "stderr",
     "output_type": "stream",
     "text": [
      "\u001b[32m[I 2023-04-13 14:12:04,126]\u001b[0m Trial 103 finished with value: 4.071766333333334 and parameters: {'tweedie_variance_power': 1.6, 'max_depth': 5, 'learning_rate': 0.027113722881630692, 'subsample': 0.8, 'colsample_bytree': 0.9, 'gamma': 5, 'reg_alpha': 4, 'reg_lambda': 3, 'min_child_weight': 1}. Best is trial 95 with value: 4.066834.\u001b[0m\n"
     ]
    },
    {
     "name": "stdout",
     "output_type": "stream",
     "text": [
      "\n",
      "\n",
      "###################################### VALIDATION Loss ###########################################\n",
      "Last estimator val1_error 4.332608\n",
      "Last estimator val2_error 3.552721\n",
      "Last estimator val3_error 4.32997\n",
      "val_avg_error 4.071766333333334\n",
      "##################################################################################################\n",
      "\n",
      " False \n",
      "\n",
      "\n",
      " False \n",
      "\n",
      "\n",
      " False \n",
      "\n",
      "\n",
      " False \n",
      "\n",
      "\n",
      " False \n",
      "\n",
      "\n",
      " False \n",
      "\n"
     ]
    },
    {
     "name": "stderr",
     "output_type": "stream",
     "text": [
      "\u001b[32m[I 2023-04-13 14:12:22,057]\u001b[0m Trial 104 finished with value: 4.073298 and parameters: {'tweedie_variance_power': 1.6, 'max_depth': 5, 'learning_rate': 0.026210703257811913, 'subsample': 0.8, 'colsample_bytree': 0.9, 'gamma': 5, 'reg_alpha': 4, 'reg_lambda': 3, 'min_child_weight': 1}. Best is trial 95 with value: 4.066834.\u001b[0m\n"
     ]
    },
    {
     "name": "stdout",
     "output_type": "stream",
     "text": [
      "\n",
      "\n",
      "###################################### VALIDATION Loss ###########################################\n",
      "Last estimator val1_error 4.329917\n",
      "Last estimator val2_error 3.555054\n",
      "Last estimator val3_error 4.334923\n",
      "val_avg_error 4.073298\n",
      "##################################################################################################\n",
      "\n",
      " False \n",
      "\n",
      "\n",
      " False \n",
      "\n",
      "\n",
      " False \n",
      "\n",
      "\n",
      " False \n",
      "\n",
      "\n",
      " False \n",
      "\n",
      "\n",
      " False \n",
      "\n"
     ]
    },
    {
     "name": "stderr",
     "output_type": "stream",
     "text": [
      "\u001b[32m[I 2023-04-13 14:12:30,377]\u001b[0m Trial 105 finished with value: 4.071086333333334 and parameters: {'tweedie_variance_power': 1.6, 'max_depth': 5, 'learning_rate': 0.06733084552447723, 'subsample': 0.8, 'colsample_bytree': 0.9, 'gamma': 5, 'reg_alpha': 3, 'reg_lambda': 4, 'min_child_weight': 1}. Best is trial 95 with value: 4.066834.\u001b[0m\n"
     ]
    },
    {
     "name": "stdout",
     "output_type": "stream",
     "text": [
      "\n",
      "\n",
      "###################################### VALIDATION Loss ###########################################\n",
      "Last estimator val1_error 4.33593\n",
      "Last estimator val2_error 3.5579\n",
      "Last estimator val3_error 4.319429\n",
      "val_avg_error 4.071086333333334\n",
      "##################################################################################################\n",
      "\n",
      " False \n",
      "\n",
      "\n",
      " False \n",
      "\n",
      "\n",
      " False \n",
      "\n",
      "\n",
      " False \n",
      "\n",
      "\n",
      " False \n",
      "\n",
      "\n",
      " False \n",
      "\n"
     ]
    },
    {
     "name": "stderr",
     "output_type": "stream",
     "text": [
      "\u001b[32m[I 2023-04-13 14:12:38,994]\u001b[0m Trial 106 finished with value: 4.073871 and parameters: {'tweedie_variance_power': 1.6, 'max_depth': 6, 'learning_rate': 0.08774111459035928, 'subsample': 0.8, 'colsample_bytree': 0.9, 'gamma': 5, 'reg_alpha': 3, 'reg_lambda': 4, 'min_child_weight': 1}. Best is trial 95 with value: 4.066834.\u001b[0m\n"
     ]
    },
    {
     "name": "stdout",
     "output_type": "stream",
     "text": [
      "\n",
      "\n",
      "###################################### VALIDATION Loss ###########################################\n",
      "Last estimator val1_error 4.339165\n",
      "Last estimator val2_error 3.556186\n",
      "Last estimator val3_error 4.326262\n",
      "val_avg_error 4.073871\n",
      "##################################################################################################\n",
      "\n",
      " False \n",
      "\n",
      "\n",
      " False \n",
      "\n",
      "\n",
      " False \n",
      "\n",
      "\n",
      " False \n",
      "\n",
      "\n",
      " False \n",
      "\n",
      "\n",
      " False \n",
      "\n"
     ]
    },
    {
     "name": "stderr",
     "output_type": "stream",
     "text": [
      "\u001b[32m[I 2023-04-13 14:12:46,805]\u001b[0m Trial 107 finished with value: 4.460986 and parameters: {'tweedie_variance_power': 1.7000000000000002, 'max_depth': 5, 'learning_rate': 0.06680636212486135, 'subsample': 0.7000000000000001, 'colsample_bytree': 0.9, 'gamma': 5, 'reg_alpha': 3, 'reg_lambda': 4, 'min_child_weight': 2}. Best is trial 95 with value: 4.066834.\u001b[0m\n"
     ]
    },
    {
     "name": "stdout",
     "output_type": "stream",
     "text": [
      "\n",
      "\n",
      "###################################### VALIDATION Loss ###########################################\n",
      "Last estimator val1_error 4.695784\n",
      "Last estimator val2_error 3.995029\n",
      "Last estimator val3_error 4.692145\n",
      "val_avg_error 4.460986\n",
      "##################################################################################################\n",
      "\n",
      " False \n",
      "\n",
      "\n",
      " False \n",
      "\n",
      "\n",
      " False \n",
      "\n",
      "\n",
      " False \n",
      "\n",
      "\n",
      " False \n",
      "\n",
      "\n",
      " False \n",
      "\n"
     ]
    },
    {
     "name": "stderr",
     "output_type": "stream",
     "text": [
      "\u001b[32m[I 2023-04-13 14:12:57,130]\u001b[0m Trial 108 finished with value: 4.075258666666667 and parameters: {'tweedie_variance_power': 1.6, 'max_depth': 5, 'learning_rate': 0.051574695308831575, 'subsample': 0.8, 'colsample_bytree': 1.0, 'gamma': 2, 'reg_alpha': 3, 'reg_lambda': 4, 'min_child_weight': 2}. Best is trial 95 with value: 4.066834.\u001b[0m\n"
     ]
    },
    {
     "name": "stdout",
     "output_type": "stream",
     "text": [
      "\n",
      "\n",
      "###################################### VALIDATION Loss ###########################################\n",
      "Last estimator val1_error 4.331156\n",
      "Last estimator val2_error 3.553207\n",
      "Last estimator val3_error 4.341413\n",
      "val_avg_error 4.075258666666667\n",
      "##################################################################################################\n",
      "\n",
      " False \n",
      "\n",
      "\n",
      " False \n",
      "\n",
      "\n",
      " False \n",
      "\n",
      "\n",
      " False \n",
      "\n",
      "\n",
      " False \n",
      "\n",
      "\n",
      " False \n",
      "\n"
     ]
    },
    {
     "name": "stderr",
     "output_type": "stream",
     "text": [
      "\u001b[32m[I 2023-04-13 14:13:04,798]\u001b[0m Trial 109 finished with value: 4.083212333333333 and parameters: {'tweedie_variance_power': 1.6, 'max_depth': 6, 'learning_rate': 0.08819206375038255, 'subsample': 0.7000000000000001, 'colsample_bytree': 0.9, 'gamma': 5, 'reg_alpha': 3, 'reg_lambda': 4, 'min_child_weight': 6}. Best is trial 95 with value: 4.066834.\u001b[0m\n"
     ]
    },
    {
     "name": "stdout",
     "output_type": "stream",
     "text": [
      "\n",
      "\n",
      "###################################### VALIDATION Loss ###########################################\n",
      "Last estimator val1_error 4.361831\n",
      "Last estimator val2_error 3.55354\n",
      "Last estimator val3_error 4.334266\n",
      "val_avg_error 4.083212333333333\n",
      "##################################################################################################\n",
      "\n",
      " False \n",
      "\n",
      "\n",
      " False \n",
      "\n",
      "\n",
      " False \n",
      "\n",
      "\n",
      " False \n",
      "\n",
      "\n",
      " False \n",
      "\n",
      "\n",
      " False \n",
      "\n"
     ]
    },
    {
     "name": "stderr",
     "output_type": "stream",
     "text": [
      "\u001b[32m[I 2023-04-13 14:14:51,118]\u001b[0m Trial 110 finished with value: 4.402158333333333 and parameters: {'tweedie_variance_power': 1.6, 'max_depth': 5, 'learning_rate': 0.0005257961084738489, 'subsample': 0.8, 'colsample_bytree': 1.0, 'gamma': 5, 'reg_alpha': 4, 'reg_lambda': 4, 'min_child_weight': 2}. Best is trial 95 with value: 4.066834.\u001b[0m\n"
     ]
    },
    {
     "name": "stdout",
     "output_type": "stream",
     "text": [
      "\n",
      "\n",
      "###################################### VALIDATION Loss ###########################################\n",
      "Last estimator val1_error 4.968181\n",
      "Last estimator val2_error 3.755398\n",
      "Last estimator val3_error 4.482896\n",
      "val_avg_error 4.402158333333333\n",
      "##################################################################################################\n",
      "\n",
      " False \n",
      "\n",
      "\n",
      " False \n",
      "\n",
      "\n",
      " False \n",
      "\n",
      "\n",
      " False \n",
      "\n",
      "\n",
      " False \n",
      "\n",
      "\n",
      " False \n",
      "\n"
     ]
    },
    {
     "name": "stderr",
     "output_type": "stream",
     "text": [
      "\u001b[32m[I 2023-04-13 14:14:59,840]\u001b[0m Trial 111 finished with value: 4.074976333333333 and parameters: {'tweedie_variance_power': 1.6, 'max_depth': 5, 'learning_rate': 0.06294112396563006, 'subsample': 0.8, 'colsample_bytree': 0.8, 'gamma': 5, 'reg_alpha': 4, 'reg_lambda': 3, 'min_child_weight': 1}. Best is trial 95 with value: 4.066834.\u001b[0m\n"
     ]
    },
    {
     "name": "stdout",
     "output_type": "stream",
     "text": [
      "\n",
      "\n",
      "###################################### VALIDATION Loss ###########################################\n",
      "Last estimator val1_error 4.347518\n",
      "Last estimator val2_error 3.557679\n",
      "Last estimator val3_error 4.319732\n",
      "val_avg_error 4.074976333333333\n",
      "##################################################################################################\n",
      "\n",
      " False \n",
      "\n",
      "\n",
      " False \n",
      "\n",
      "\n",
      " False \n",
      "\n",
      "\n",
      " False \n",
      "\n",
      "\n",
      " False \n",
      "\n",
      "\n",
      " False \n",
      "\n"
     ]
    },
    {
     "name": "stderr",
     "output_type": "stream",
     "text": [
      "\u001b[32m[I 2023-04-13 14:15:20,486]\u001b[0m Trial 112 finished with value: 4.067860333333333 and parameters: {'tweedie_variance_power': 1.6, 'max_depth': 4, 'learning_rate': 0.030996889629883954, 'subsample': 0.9, 'colsample_bytree': 0.8, 'gamma': 5, 'reg_alpha': 4, 'reg_lambda': 3, 'min_child_weight': 1}. Best is trial 95 with value: 4.066834.\u001b[0m\n"
     ]
    },
    {
     "name": "stdout",
     "output_type": "stream",
     "text": [
      "\n",
      "\n",
      "###################################### VALIDATION Loss ###########################################\n",
      "Last estimator val1_error 4.33024\n",
      "Last estimator val2_error 3.561073\n",
      "Last estimator val3_error 4.312268\n",
      "val_avg_error 4.067860333333333\n",
      "##################################################################################################\n",
      "\n",
      " False \n",
      "\n",
      "\n",
      " False \n",
      "\n",
      "\n",
      " False \n",
      "\n",
      "\n",
      " False \n",
      "\n",
      "\n",
      " False \n",
      "\n",
      "\n",
      " False \n",
      "\n"
     ]
    },
    {
     "name": "stderr",
     "output_type": "stream",
     "text": [
      "\u001b[32m[I 2023-04-13 14:15:30,391]\u001b[0m Trial 113 finished with value: 4.073541333333334 and parameters: {'tweedie_variance_power': 1.6, 'max_depth': 4, 'learning_rate': 0.06950368259824587, 'subsample': 0.8, 'colsample_bytree': 0.8, 'gamma': 5, 'reg_alpha': 4, 'reg_lambda': 4, 'min_child_weight': 1}. Best is trial 95 with value: 4.066834.\u001b[0m\n"
     ]
    },
    {
     "name": "stdout",
     "output_type": "stream",
     "text": [
      "\n",
      "\n",
      "###################################### VALIDATION Loss ###########################################\n",
      "Last estimator val1_error 4.343052\n",
      "Last estimator val2_error 3.56166\n",
      "Last estimator val3_error 4.315912\n",
      "val_avg_error 4.073541333333334\n",
      "##################################################################################################\n",
      "\n",
      " False \n",
      "\n",
      "\n",
      " False \n",
      "\n",
      "\n",
      " False \n",
      "\n",
      "\n",
      " False \n",
      "\n",
      "\n",
      " False \n",
      "\n",
      "\n",
      " False \n",
      "\n"
     ]
    },
    {
     "name": "stderr",
     "output_type": "stream",
     "text": [
      "\u001b[32m[I 2023-04-13 14:16:51,701]\u001b[0m Trial 114 finished with value: 4.502844 and parameters: {'tweedie_variance_power': 1.7000000000000002, 'max_depth': 4, 'learning_rate': 0.001981649582200613, 'subsample': 0.9, 'colsample_bytree': 0.9, 'gamma': 5, 'reg_alpha': 4, 'reg_lambda': 3, 'min_child_weight': 1}. Best is trial 95 with value: 4.066834.\u001b[0m\n"
     ]
    },
    {
     "name": "stdout",
     "output_type": "stream",
     "text": [
      "\n",
      "\n",
      "###################################### VALIDATION Loss ###########################################\n",
      "Last estimator val1_error 4.803508\n",
      "Last estimator val2_error 4.02201\n",
      "Last estimator val3_error 4.683014\n",
      "val_avg_error 4.502844\n",
      "##################################################################################################\n",
      "\n",
      " False \n",
      "\n",
      "\n",
      " False \n",
      "\n",
      "\n",
      " False \n",
      "\n",
      "\n",
      " False \n",
      "\n",
      "\n",
      " False \n",
      "\n",
      "\n",
      " False \n",
      "\n"
     ]
    },
    {
     "name": "stderr",
     "output_type": "stream",
     "text": [
      "\u001b[32m[I 2023-04-13 14:17:08,651]\u001b[0m Trial 115 finished with value: 4.071719666666667 and parameters: {'tweedie_variance_power': 1.6, 'max_depth': 4, 'learning_rate': 0.03204135429495806, 'subsample': 0.8, 'colsample_bytree': 0.9, 'gamma': 5, 'reg_alpha': 4, 'reg_lambda': 4, 'min_child_weight': 1}. Best is trial 95 with value: 4.066834.\u001b[0m\n"
     ]
    },
    {
     "name": "stdout",
     "output_type": "stream",
     "text": [
      "\n",
      "\n",
      "###################################### VALIDATION Loss ###########################################\n",
      "Last estimator val1_error 4.333869\n",
      "Last estimator val2_error 3.563511\n",
      "Last estimator val3_error 4.317779\n",
      "val_avg_error 4.071719666666667\n",
      "##################################################################################################\n",
      "\n",
      " False \n",
      "\n",
      "\n",
      " False \n",
      "\n",
      "\n",
      " False \n",
      "\n",
      "\n",
      " False \n",
      "\n",
      "\n",
      " False \n",
      "\n",
      "\n",
      " False \n",
      "\n"
     ]
    },
    {
     "name": "stderr",
     "output_type": "stream",
     "text": [
      "\u001b[32m[I 2023-04-13 14:17:18,466]\u001b[0m Trial 116 finished with value: 4.090704666666666 and parameters: {'tweedie_variance_power': 1.5, 'max_depth': 4, 'learning_rate': 0.04225387117272038, 'subsample': 0.9, 'colsample_bytree': 0.8, 'gamma': 5, 'reg_alpha': 4, 'reg_lambda': 4, 'min_child_weight': 2}. Best is trial 95 with value: 4.066834.\u001b[0m\n"
     ]
    },
    {
     "name": "stdout",
     "output_type": "stream",
     "text": [
      "\n",
      "\n",
      "###################################### VALIDATION Loss ###########################################\n",
      "Last estimator val1_error 4.397435\n",
      "Last estimator val2_error 3.495944\n",
      "Last estimator val3_error 4.378735\n",
      "val_avg_error 4.090704666666666\n",
      "##################################################################################################\n",
      "\n",
      " False \n",
      "\n",
      "\n",
      " False \n",
      "\n",
      "\n",
      " False \n",
      "\n",
      "\n",
      " False \n",
      "\n",
      "\n",
      " False \n",
      "\n",
      "\n",
      " False \n",
      "\n"
     ]
    },
    {
     "name": "stderr",
     "output_type": "stream",
     "text": [
      "\u001b[32m[I 2023-04-13 14:17:32,187]\u001b[0m Trial 117 finished with value: 4.070059666666666 and parameters: {'tweedie_variance_power': 1.6, 'max_depth': 4, 'learning_rate': 0.03280343661946973, 'subsample': 0.8, 'colsample_bytree': 0.9, 'gamma': 5, 'reg_alpha': 4, 'reg_lambda': 4, 'min_child_weight': 2}. Best is trial 95 with value: 4.066834.\u001b[0m\n"
     ]
    },
    {
     "name": "stdout",
     "output_type": "stream",
     "text": [
      "\n",
      "\n",
      "###################################### VALIDATION Loss ###########################################\n",
      "Last estimator val1_error 4.328532\n",
      "Last estimator val2_error 3.562395\n",
      "Last estimator val3_error 4.319252\n",
      "val_avg_error 4.070059666666666\n",
      "##################################################################################################\n",
      "\n",
      " False \n",
      "\n",
      "\n",
      " False \n",
      "\n",
      "\n",
      " False \n",
      "\n",
      "\n",
      " False \n",
      "\n",
      "\n",
      " False \n",
      "\n",
      "\n",
      " False \n",
      "\n"
     ]
    },
    {
     "name": "stderr",
     "output_type": "stream",
     "text": [
      "\u001b[32m[I 2023-04-13 14:17:44,062]\u001b[0m Trial 118 finished with value: 4.0763506666666665 and parameters: {'tweedie_variance_power': 1.6, 'max_depth': 4, 'learning_rate': 0.05317368267464799, 'subsample': 0.7000000000000001, 'colsample_bytree': 1.0, 'gamma': 2, 'reg_alpha': 3, 'reg_lambda': 4, 'min_child_weight': 2}. Best is trial 95 with value: 4.066834.\u001b[0m\n"
     ]
    },
    {
     "name": "stdout",
     "output_type": "stream",
     "text": [
      "\n",
      "\n",
      "###################################### VALIDATION Loss ###########################################\n",
      "Last estimator val1_error 4.341932\n",
      "Last estimator val2_error 3.55945\n",
      "Last estimator val3_error 4.32767\n",
      "val_avg_error 4.0763506666666665\n",
      "##################################################################################################\n",
      "\n",
      " False \n",
      "\n",
      "\n",
      " False \n",
      "\n",
      "\n",
      " False \n",
      "\n",
      "\n",
      " False \n",
      "\n",
      "\n",
      " False \n",
      "\n",
      "\n",
      " False \n",
      "\n"
     ]
    },
    {
     "name": "stderr",
     "output_type": "stream",
     "text": [
      "\u001b[32m[I 2023-04-13 14:17:54,774]\u001b[0m Trial 119 finished with value: 4.093697333333334 and parameters: {'tweedie_variance_power': 1.5, 'max_depth': 3, 'learning_rate': 0.07901898833394877, 'subsample': 0.9, 'colsample_bytree': 0.8, 'gamma': 5, 'reg_alpha': 4, 'reg_lambda': 4, 'min_child_weight': 2}. Best is trial 95 with value: 4.066834.\u001b[0m\n"
     ]
    },
    {
     "name": "stdout",
     "output_type": "stream",
     "text": [
      "\n",
      "\n",
      "###################################### VALIDATION Loss ###########################################\n",
      "Last estimator val1_error 4.389259\n",
      "Last estimator val2_error 3.497883\n",
      "Last estimator val3_error 4.39395\n",
      "val_avg_error 4.093697333333334\n",
      "##################################################################################################\n",
      "\n",
      " False \n",
      "\n",
      "\n",
      " False \n",
      "\n",
      "\n",
      " False \n",
      "\n",
      "\n",
      " False \n",
      "\n",
      "\n",
      " False \n",
      "\n",
      "\n",
      " False \n",
      "\n"
     ]
    },
    {
     "name": "stderr",
     "output_type": "stream",
     "text": [
      "\u001b[32m[I 2023-04-13 14:18:02,660]\u001b[0m Trial 120 finished with value: 4.465408 and parameters: {'tweedie_variance_power': 1.7000000000000002, 'max_depth': 4, 'learning_rate': 0.09931465780605796, 'subsample': 0.8, 'colsample_bytree': 0.9, 'gamma': 5, 'reg_alpha': 4, 'reg_lambda': 4, 'min_child_weight': 2}. Best is trial 95 with value: 4.066834.\u001b[0m\n"
     ]
    },
    {
     "name": "stdout",
     "output_type": "stream",
     "text": [
      "\n",
      "\n",
      "###################################### VALIDATION Loss ###########################################\n",
      "Last estimator val1_error 4.709749\n",
      "Last estimator val2_error 3.997561\n",
      "Last estimator val3_error 4.688914\n",
      "val_avg_error 4.465408\n",
      "##################################################################################################\n",
      "\n",
      " False \n",
      "\n",
      "\n",
      " False \n",
      "\n",
      "\n",
      " False \n",
      "\n",
      "\n",
      " False \n",
      "\n",
      "\n",
      " False \n",
      "\n",
      "\n",
      " False \n",
      "\n"
     ]
    },
    {
     "name": "stderr",
     "output_type": "stream",
     "text": [
      "\u001b[32m[I 2023-04-13 14:18:11,523]\u001b[0m Trial 121 finished with value: 4.068421333333333 and parameters: {'tweedie_variance_power': 1.6, 'max_depth': 4, 'learning_rate': 0.05696513548539849, 'subsample': 0.8, 'colsample_bytree': 0.9, 'gamma': 5, 'reg_alpha': 4, 'reg_lambda': 4, 'min_child_weight': 1}. Best is trial 95 with value: 4.066834.\u001b[0m\n"
     ]
    },
    {
     "name": "stdout",
     "output_type": "stream",
     "text": [
      "\n",
      "\n",
      "###################################### VALIDATION Loss ###########################################\n",
      "Last estimator val1_error 4.329266\n",
      "Last estimator val2_error 3.56224\n",
      "Last estimator val3_error 4.313758\n",
      "val_avg_error 4.068421333333333\n",
      "##################################################################################################\n",
      "\n",
      " False \n",
      "\n",
      "\n",
      " False \n",
      "\n",
      "\n",
      " False \n",
      "\n",
      "\n",
      " False \n",
      "\n",
      "\n",
      " False \n",
      "\n",
      "\n",
      " False \n",
      "\n"
     ]
    },
    {
     "name": "stderr",
     "output_type": "stream",
     "text": [
      "\u001b[32m[I 2023-04-13 14:18:25,088]\u001b[0m Trial 122 finished with value: 4.070299666666666 and parameters: {'tweedie_variance_power': 1.6, 'max_depth': 4, 'learning_rate': 0.05653589974574841, 'subsample': 0.8, 'colsample_bytree': 0.9, 'gamma': 5, 'reg_alpha': 4, 'reg_lambda': 4, 'min_child_weight': 2}. Best is trial 95 with value: 4.066834.\u001b[0m\n"
     ]
    },
    {
     "name": "stdout",
     "output_type": "stream",
     "text": [
      "\n",
      "\n",
      "###################################### VALIDATION Loss ###########################################\n",
      "Last estimator val1_error 4.333787\n",
      "Last estimator val2_error 3.5608\n",
      "Last estimator val3_error 4.316312\n",
      "val_avg_error 4.070299666666666\n",
      "##################################################################################################\n",
      "\n",
      " False \n",
      "\n",
      "\n",
      " False \n",
      "\n",
      "\n",
      " False \n",
      "\n",
      "\n",
      " False \n",
      "\n",
      "\n",
      " False \n",
      "\n",
      "\n",
      " False \n",
      "\n"
     ]
    },
    {
     "name": "stderr",
     "output_type": "stream",
     "text": [
      "\u001b[32m[I 2023-04-13 14:18:32,801]\u001b[0m Trial 123 finished with value: 7.444328333333334 and parameters: {'tweedie_variance_power': 1.2000000000000002, 'max_depth': 4, 'learning_rate': 0.04854966487803635, 'subsample': 0.8, 'colsample_bytree': 0.9, 'gamma': 5, 'reg_alpha': 4, 'reg_lambda': 4, 'min_child_weight': 1}. Best is trial 95 with value: 4.066834.\u001b[0m\n"
     ]
    },
    {
     "name": "stdout",
     "output_type": "stream",
     "text": [
      "\n",
      "\n",
      "###################################### VALIDATION Loss ###########################################\n",
      "Last estimator val1_error 8.227064\n",
      "Last estimator val2_error 5.893879\n",
      "Last estimator val3_error 8.212042\n",
      "val_avg_error 7.444328333333334\n",
      "##################################################################################################\n",
      "\n",
      " False \n",
      "\n",
      "\n",
      " False \n",
      "\n",
      "\n",
      " False \n",
      "\n",
      "\n",
      " False \n",
      "\n",
      "\n",
      " False \n",
      "\n",
      "\n",
      " False \n",
      "\n"
     ]
    },
    {
     "name": "stderr",
     "output_type": "stream",
     "text": [
      "\u001b[32m[I 2023-04-13 14:18:39,976]\u001b[0m Trial 124 finished with value: 4.067528666666667 and parameters: {'tweedie_variance_power': 1.6, 'max_depth': 4, 'learning_rate': 0.08403203197758452, 'subsample': 0.8, 'colsample_bytree': 0.9, 'gamma': 5, 'reg_alpha': 4, 'reg_lambda': 5, 'min_child_weight': 2}. Best is trial 95 with value: 4.066834.\u001b[0m\n"
     ]
    },
    {
     "name": "stdout",
     "output_type": "stream",
     "text": [
      "\n",
      "\n",
      "###################################### VALIDATION Loss ###########################################\n",
      "Last estimator val1_error 4.320141\n",
      "Last estimator val2_error 3.564312\n",
      "Last estimator val3_error 4.318133\n",
      "val_avg_error 4.067528666666667\n",
      "##################################################################################################\n",
      "\n",
      " False \n",
      "\n",
      "\n",
      " False \n",
      "\n",
      "\n",
      " False \n",
      "\n",
      "\n",
      " False \n",
      "\n",
      "\n",
      " False \n",
      "\n",
      "\n",
      " False \n",
      "\n"
     ]
    },
    {
     "name": "stderr",
     "output_type": "stream",
     "text": [
      "\u001b[32m[I 2023-04-13 14:18:46,736]\u001b[0m Trial 125 finished with value: 4.069398666666667 and parameters: {'tweedie_variance_power': 1.6, 'max_depth': 4, 'learning_rate': 0.0849142686055157, 'subsample': 0.8, 'colsample_bytree': 0.9, 'gamma': 5, 'reg_alpha': 4, 'reg_lambda': 5, 'min_child_weight': 2}. Best is trial 95 with value: 4.066834.\u001b[0m\n"
     ]
    },
    {
     "name": "stdout",
     "output_type": "stream",
     "text": [
      "\n",
      "\n",
      "###################################### VALIDATION Loss ###########################################\n",
      "Last estimator val1_error 4.32872\n",
      "Last estimator val2_error 3.566186\n",
      "Last estimator val3_error 4.31329\n",
      "val_avg_error 4.069398666666667\n",
      "##################################################################################################\n",
      "\n",
      " False \n",
      "\n",
      "\n",
      " False \n",
      "\n",
      "\n",
      " False \n",
      "\n",
      "\n",
      " False \n",
      "\n",
      "\n",
      " False \n",
      "\n",
      "\n",
      " False \n",
      "\n"
     ]
    },
    {
     "name": "stderr",
     "output_type": "stream",
     "text": [
      "\u001b[32m[I 2023-04-13 14:18:55,318]\u001b[0m Trial 126 finished with value: 4.0677449999999995 and parameters: {'tweedie_variance_power': 1.6, 'max_depth': 4, 'learning_rate': 0.07498040128971857, 'subsample': 0.8, 'colsample_bytree': 0.9, 'gamma': 5, 'reg_alpha': 4, 'reg_lambda': 5, 'min_child_weight': 2}. Best is trial 95 with value: 4.066834.\u001b[0m\n"
     ]
    },
    {
     "name": "stdout",
     "output_type": "stream",
     "text": [
      "\n",
      "\n",
      "###################################### VALIDATION Loss ###########################################\n",
      "Last estimator val1_error 4.324471\n",
      "Last estimator val2_error 3.563498\n",
      "Last estimator val3_error 4.315266\n",
      "val_avg_error 4.0677449999999995\n",
      "##################################################################################################\n",
      "\n",
      " False \n",
      "\n",
      "\n",
      " False \n",
      "\n",
      "\n",
      " False \n",
      "\n",
      "\n",
      " False \n",
      "\n",
      "\n",
      " False \n",
      "\n",
      "\n",
      " False \n",
      "\n"
     ]
    },
    {
     "name": "stderr",
     "output_type": "stream",
     "text": [
      "\u001b[32m[I 2023-04-13 14:19:04,328]\u001b[0m Trial 127 finished with value: 4.068613333333333 and parameters: {'tweedie_variance_power': 1.6, 'max_depth': 4, 'learning_rate': 0.08177464247443103, 'subsample': 0.8, 'colsample_bytree': 0.9, 'gamma': 5, 'reg_alpha': 4, 'reg_lambda': 5, 'min_child_weight': 2}. Best is trial 95 with value: 4.066834.\u001b[0m\n"
     ]
    },
    {
     "name": "stdout",
     "output_type": "stream",
     "text": [
      "\n",
      "\n",
      "###################################### VALIDATION Loss ###########################################\n",
      "Last estimator val1_error 4.324307\n",
      "Last estimator val2_error 3.563011\n",
      "Last estimator val3_error 4.318522\n",
      "val_avg_error 4.068613333333333\n",
      "##################################################################################################\n",
      "\n",
      " False \n",
      "\n",
      "\n",
      " False \n",
      "\n",
      "\n",
      " False \n",
      "\n",
      "\n",
      " False \n",
      "\n",
      "\n",
      " False \n",
      "\n",
      "\n",
      " False \n",
      "\n"
     ]
    },
    {
     "name": "stderr",
     "output_type": "stream",
     "text": [
      "\u001b[32m[I 2023-04-13 14:19:12,156]\u001b[0m Trial 128 finished with value: 4.070232333333333 and parameters: {'tweedie_variance_power': 1.6, 'max_depth': 4, 'learning_rate': 0.0827463702503117, 'subsample': 0.8, 'colsample_bytree': 0.9, 'gamma': 5, 'reg_alpha': 4, 'reg_lambda': 5, 'min_child_weight': 2}. Best is trial 95 with value: 4.066834.\u001b[0m\n"
     ]
    },
    {
     "name": "stdout",
     "output_type": "stream",
     "text": [
      "\n",
      "\n",
      "###################################### VALIDATION Loss ###########################################\n",
      "Last estimator val1_error 4.319173\n",
      "Last estimator val2_error 3.562976\n",
      "Last estimator val3_error 4.328548\n",
      "val_avg_error 4.070232333333333\n",
      "##################################################################################################\n",
      "\n",
      " False \n",
      "\n",
      "\n",
      " False \n",
      "\n",
      "\n",
      " False \n",
      "\n",
      "\n",
      " False \n",
      "\n",
      "\n",
      " False \n",
      "\n",
      "\n",
      " False \n",
      "\n"
     ]
    },
    {
     "name": "stderr",
     "output_type": "stream",
     "text": [
      "\u001b[32m[I 2023-04-13 14:19:20,311]\u001b[0m Trial 129 finished with value: 4.457474333333333 and parameters: {'tweedie_variance_power': 1.7000000000000002, 'max_depth': 4, 'learning_rate': 0.08801259600751914, 'subsample': 0.8, 'colsample_bytree': 0.9, 'gamma': 5, 'reg_alpha': 4, 'reg_lambda': 5, 'min_child_weight': 2}. Best is trial 95 with value: 4.066834.\u001b[0m\n"
     ]
    },
    {
     "name": "stdout",
     "output_type": "stream",
     "text": [
      "\n",
      "\n",
      "###################################### VALIDATION Loss ###########################################\n",
      "Last estimator val1_error 4.690372\n",
      "Last estimator val2_error 3.997919\n",
      "Last estimator val3_error 4.684132\n",
      "val_avg_error 4.457474333333333\n",
      "##################################################################################################\n",
      "\n",
      " False \n",
      "\n",
      "\n",
      " False \n",
      "\n",
      "\n",
      " False \n",
      "\n",
      "\n",
      " False \n",
      "\n",
      "\n",
      " False \n",
      "\n",
      "\n",
      " False \n",
      "\n"
     ]
    },
    {
     "name": "stderr",
     "output_type": "stream",
     "text": [
      "\u001b[32m[I 2023-04-13 14:20:45,066]\u001b[0m Trial 130 finished with value: 4.67383 and parameters: {'tweedie_variance_power': 1.5, 'max_depth': 4, 'learning_rate': 0.0002112828438835698, 'subsample': 0.8, 'colsample_bytree': 0.9, 'gamma': 5, 'reg_alpha': 4, 'reg_lambda': 5, 'min_child_weight': 2}. Best is trial 95 with value: 4.066834.\u001b[0m\n"
     ]
    },
    {
     "name": "stdout",
     "output_type": "stream",
     "text": [
      "\n",
      "\n",
      "###################################### VALIDATION Loss ###########################################\n",
      "Last estimator val1_error 5.304968\n",
      "Last estimator val2_error 3.876122\n",
      "Last estimator val3_error 4.8404\n",
      "val_avg_error 4.67383\n",
      "##################################################################################################\n",
      "\n",
      " False \n",
      "\n",
      "\n",
      " False \n",
      "\n",
      "\n",
      " False \n",
      "\n",
      "\n",
      " False \n",
      "\n",
      "\n",
      " False \n",
      "\n",
      "\n",
      " False \n",
      "\n"
     ]
    },
    {
     "name": "stderr",
     "output_type": "stream",
     "text": [
      "\u001b[32m[I 2023-04-13 14:20:54,966]\u001b[0m Trial 131 finished with value: 4.070739666666667 and parameters: {'tweedie_variance_power': 1.6, 'max_depth': 4, 'learning_rate': 0.08042673522127984, 'subsample': 0.8, 'colsample_bytree': 0.9, 'gamma': 5, 'reg_alpha': 4, 'reg_lambda': 5, 'min_child_weight': 2}. Best is trial 95 with value: 4.066834.\u001b[0m\n"
     ]
    },
    {
     "name": "stdout",
     "output_type": "stream",
     "text": [
      "\n",
      "\n",
      "###################################### VALIDATION Loss ###########################################\n",
      "Last estimator val1_error 4.331721\n",
      "Last estimator val2_error 3.557583\n",
      "Last estimator val3_error 4.322915\n",
      "val_avg_error 4.070739666666667\n",
      "##################################################################################################\n",
      "\n",
      " False \n",
      "\n",
      "\n",
      " False \n",
      "\n",
      "\n",
      " False \n",
      "\n",
      "\n",
      " False \n",
      "\n",
      "\n",
      " False \n",
      "\n",
      "\n",
      " False \n",
      "\n"
     ]
    },
    {
     "name": "stderr",
     "output_type": "stream",
     "text": [
      "\u001b[32m[I 2023-04-13 14:21:06,605]\u001b[0m Trial 132 finished with value: 4.070394 and parameters: {'tweedie_variance_power': 1.6, 'max_depth': 4, 'learning_rate': 0.0726674490964686, 'subsample': 0.8, 'colsample_bytree': 0.9, 'gamma': 5, 'reg_alpha': 4, 'reg_lambda': 5, 'min_child_weight': 2}. Best is trial 95 with value: 4.066834.\u001b[0m\n"
     ]
    },
    {
     "name": "stdout",
     "output_type": "stream",
     "text": [
      "\n",
      "\n",
      "###################################### VALIDATION Loss ###########################################\n",
      "Last estimator val1_error 4.332556\n",
      "Last estimator val2_error 3.565828\n",
      "Last estimator val3_error 4.312798\n",
      "val_avg_error 4.070394\n",
      "##################################################################################################\n",
      "\n",
      " False \n",
      "\n",
      "\n",
      " False \n",
      "\n",
      "\n",
      " False \n",
      "\n",
      "\n",
      " False \n",
      "\n",
      "\n",
      " False \n",
      "\n",
      "\n",
      " False \n",
      "\n"
     ]
    },
    {
     "name": "stderr",
     "output_type": "stream",
     "text": [
      "\u001b[32m[I 2023-04-13 14:21:12,997]\u001b[0m Trial 133 finished with value: 4.068184333333334 and parameters: {'tweedie_variance_power': 1.6, 'max_depth': 4, 'learning_rate': 0.08121577697180332, 'subsample': 0.8, 'colsample_bytree': 0.9, 'gamma': 5, 'reg_alpha': 4, 'reg_lambda': 5, 'min_child_weight': 2}. Best is trial 95 with value: 4.066834.\u001b[0m\n"
     ]
    },
    {
     "name": "stdout",
     "output_type": "stream",
     "text": [
      "\n",
      "\n",
      "###################################### VALIDATION Loss ###########################################\n",
      "Last estimator val1_error 4.323201\n",
      "Last estimator val2_error 3.564833\n",
      "Last estimator val3_error 4.316519\n",
      "val_avg_error 4.068184333333334\n",
      "##################################################################################################\n",
      "\n",
      " False \n",
      "\n",
      "\n",
      " False \n",
      "\n",
      "\n",
      " False \n",
      "\n",
      "\n",
      " False \n",
      "\n",
      "\n",
      " False \n",
      "\n",
      "\n",
      " False \n",
      "\n"
     ]
    },
    {
     "name": "stderr",
     "output_type": "stream",
     "text": [
      "\u001b[32m[I 2023-04-13 14:21:23,765]\u001b[0m Trial 134 finished with value: 4.072148666666667 and parameters: {'tweedie_variance_power': 1.6, 'max_depth': 4, 'learning_rate': 0.061251478523439616, 'subsample': 0.8, 'colsample_bytree': 0.9, 'gamma': 5, 'reg_alpha': 4, 'reg_lambda': 5, 'min_child_weight': 2}. Best is trial 95 with value: 4.066834.\u001b[0m\n"
     ]
    },
    {
     "name": "stdout",
     "output_type": "stream",
     "text": [
      "\n",
      "\n",
      "###################################### VALIDATION Loss ###########################################\n",
      "Last estimator val1_error 4.3403\n",
      "Last estimator val2_error 3.559054\n",
      "Last estimator val3_error 4.317092\n",
      "val_avg_error 4.072148666666667\n",
      "##################################################################################################\n",
      "\n",
      " False \n",
      "\n",
      "\n",
      " False \n",
      "\n",
      "\n",
      " False \n",
      "\n",
      "\n",
      " False \n",
      "\n",
      "\n",
      " False \n",
      "\n",
      "\n",
      " False \n",
      "\n"
     ]
    },
    {
     "name": "stderr",
     "output_type": "stream",
     "text": [
      "\u001b[32m[I 2023-04-13 14:21:32,279]\u001b[0m Trial 135 finished with value: 4.066863000000001 and parameters: {'tweedie_variance_power': 1.6, 'max_depth': 4, 'learning_rate': 0.08448154656643588, 'subsample': 0.8, 'colsample_bytree': 0.9, 'gamma': 5, 'reg_alpha': 4, 'reg_lambda': 5, 'min_child_weight': 2}. Best is trial 95 with value: 4.066834.\u001b[0m\n"
     ]
    },
    {
     "name": "stdout",
     "output_type": "stream",
     "text": [
      "\n",
      "\n",
      "###################################### VALIDATION Loss ###########################################\n",
      "Last estimator val1_error 4.324534\n",
      "Last estimator val2_error 3.56049\n",
      "Last estimator val3_error 4.315565\n",
      "val_avg_error 4.066863000000001\n",
      "##################################################################################################\n",
      "\n",
      " False \n",
      "\n",
      "\n",
      " False \n",
      "\n",
      "\n",
      " False \n",
      "\n",
      "\n",
      " False \n",
      "\n",
      "\n",
      " False \n",
      "\n",
      "\n",
      " False \n",
      "\n"
     ]
    },
    {
     "name": "stderr",
     "output_type": "stream",
     "text": [
      "\u001b[32m[I 2023-04-13 14:21:37,475]\u001b[0m Trial 136 finished with value: 4.105512333333333 and parameters: {'tweedie_variance_power': 1.6, 'max_depth': 4, 'learning_rate': 0.08568159247866293, 'subsample': 0.1, 'colsample_bytree': 1.0, 'gamma': 5, 'reg_alpha': 4, 'reg_lambda': 5, 'min_child_weight': 3}. Best is trial 95 with value: 4.066834.\u001b[0m\n"
     ]
    },
    {
     "name": "stdout",
     "output_type": "stream",
     "text": [
      "\n",
      "\n",
      "###################################### VALIDATION Loss ###########################################\n",
      "Last estimator val1_error 4.355\n",
      "Last estimator val2_error 3.609733\n",
      "Last estimator val3_error 4.351804\n",
      "val_avg_error 4.105512333333333\n",
      "##################################################################################################\n",
      "\n",
      " False \n",
      "\n",
      "\n",
      " False \n",
      "\n",
      "\n",
      " False \n",
      "\n",
      "\n",
      " False \n",
      "\n",
      "\n",
      " False \n",
      "\n",
      "\n",
      " False \n",
      "\n"
     ]
    },
    {
     "name": "stderr",
     "output_type": "stream",
     "text": [
      "\u001b[32m[I 2023-04-13 14:21:44,530]\u001b[0m Trial 137 finished with value: 4.4626280000000005 and parameters: {'tweedie_variance_power': 1.7000000000000002, 'max_depth': 4, 'learning_rate': 0.08133137601314162, 'subsample': 0.9, 'colsample_bytree': 0.9, 'gamma': 5, 'reg_alpha': 4, 'reg_lambda': 5, 'min_child_weight': 2}. Best is trial 95 with value: 4.066834.\u001b[0m\n"
     ]
    },
    {
     "name": "stdout",
     "output_type": "stream",
     "text": [
      "\n",
      "\n",
      "###################################### VALIDATION Loss ###########################################\n",
      "Last estimator val1_error 4.704086\n",
      "Last estimator val2_error 3.996652\n",
      "Last estimator val3_error 4.687146\n",
      "val_avg_error 4.4626280000000005\n",
      "##################################################################################################\n",
      "\n",
      " False \n",
      "\n",
      "\n",
      " False \n",
      "\n",
      "\n",
      " False \n",
      "\n",
      "\n",
      " False \n",
      "\n",
      "\n",
      " False \n",
      "\n",
      "\n",
      " False \n",
      "\n"
     ]
    },
    {
     "name": "stderr",
     "output_type": "stream",
     "text": [
      "\u001b[32m[I 2023-04-13 14:21:54,911]\u001b[0m Trial 138 finished with value: 4.0713593333333336 and parameters: {'tweedie_variance_power': 1.6, 'max_depth': 4, 'learning_rate': 0.06656848547184778, 'subsample': 0.8, 'colsample_bytree': 0.9, 'gamma': 5, 'reg_alpha': 4, 'reg_lambda': 5, 'min_child_weight': 2}. Best is trial 95 with value: 4.066834.\u001b[0m\n"
     ]
    },
    {
     "name": "stdout",
     "output_type": "stream",
     "text": [
      "\n",
      "\n",
      "###################################### VALIDATION Loss ###########################################\n",
      "Last estimator val1_error 4.330335\n",
      "Last estimator val2_error 3.562248\n",
      "Last estimator val3_error 4.321495\n",
      "val_avg_error 4.0713593333333336\n",
      "##################################################################################################\n",
      "\n",
      " False \n",
      "\n",
      "\n",
      " False \n",
      "\n",
      "\n",
      " False \n",
      "\n",
      "\n",
      " False \n",
      "\n",
      "\n",
      " False \n",
      "\n",
      "\n",
      " False \n",
      "\n"
     ]
    },
    {
     "name": "stderr",
     "output_type": "stream",
     "text": [
      "\u001b[32m[I 2023-04-13 14:22:02,756]\u001b[0m Trial 139 finished with value: 4.095272333333334 and parameters: {'tweedie_variance_power': 1.5, 'max_depth': 4, 'learning_rate': 0.08913163944777835, 'subsample': 0.8, 'colsample_bytree': 1.0, 'gamma': 5, 'reg_alpha': 4, 'reg_lambda': 5, 'min_child_weight': 1}. Best is trial 95 with value: 4.066834.\u001b[0m\n"
     ]
    },
    {
     "name": "stdout",
     "output_type": "stream",
     "text": [
      "\n",
      "\n",
      "###################################### VALIDATION Loss ###########################################\n",
      "Last estimator val1_error 4.4119\n",
      "Last estimator val2_error 3.503045\n",
      "Last estimator val3_error 4.370872\n",
      "val_avg_error 4.095272333333334\n",
      "##################################################################################################\n",
      "\n",
      " False \n",
      "\n",
      "\n",
      " False \n",
      "\n",
      "\n",
      " False \n",
      "\n",
      "\n",
      " False \n",
      "\n",
      "\n",
      " False \n",
      "\n",
      "\n",
      " False \n",
      "\n"
     ]
    },
    {
     "name": "stderr",
     "output_type": "stream",
     "text": [
      "\u001b[32m[I 2023-04-13 14:22:11,360]\u001b[0m Trial 140 finished with value: 4.072355333333333 and parameters: {'tweedie_variance_power': 1.6, 'max_depth': 4, 'learning_rate': 0.07663776101860924, 'subsample': 0.9, 'colsample_bytree': 0.9, 'gamma': 5, 'reg_alpha': 4, 'reg_lambda': 5, 'min_child_weight': 2}. Best is trial 95 with value: 4.066834.\u001b[0m\n"
     ]
    },
    {
     "name": "stdout",
     "output_type": "stream",
     "text": [
      "\n",
      "\n",
      "###################################### VALIDATION Loss ###########################################\n",
      "Last estimator val1_error 4.336709\n",
      "Last estimator val2_error 3.563722\n",
      "Last estimator val3_error 4.316635\n",
      "val_avg_error 4.072355333333333\n",
      "##################################################################################################\n",
      "\n",
      " False \n",
      "\n",
      "\n",
      " False \n",
      "\n",
      "\n",
      " False \n",
      "\n",
      "\n",
      " False \n",
      "\n",
      "\n",
      " False \n",
      "\n",
      "\n",
      " False \n",
      "\n"
     ]
    },
    {
     "name": "stderr",
     "output_type": "stream",
     "text": [
      "\u001b[32m[I 2023-04-13 14:22:20,010]\u001b[0m Trial 141 finished with value: 4.072936333333334 and parameters: {'tweedie_variance_power': 1.6, 'max_depth': 4, 'learning_rate': 0.05724111934854996, 'subsample': 0.8, 'colsample_bytree': 0.9, 'gamma': 5, 'reg_alpha': 4, 'reg_lambda': 5, 'min_child_weight': 2}. Best is trial 95 with value: 4.066834.\u001b[0m\n"
     ]
    },
    {
     "name": "stdout",
     "output_type": "stream",
     "text": [
      "\n",
      "\n",
      "###################################### VALIDATION Loss ###########################################\n",
      "Last estimator val1_error 4.341073\n",
      "Last estimator val2_error 3.562293\n",
      "Last estimator val3_error 4.315443\n",
      "val_avg_error 4.072936333333334\n",
      "##################################################################################################\n",
      "\n",
      " False \n",
      "\n",
      "\n",
      " False \n",
      "\n",
      "\n",
      " False \n",
      "\n",
      "\n",
      " False \n",
      "\n",
      "\n",
      " False \n",
      "\n",
      "\n",
      " False \n",
      "\n"
     ]
    },
    {
     "name": "stderr",
     "output_type": "stream",
     "text": [
      "\u001b[32m[I 2023-04-13 14:22:26,847]\u001b[0m Trial 142 finished with value: 4.077054333333334 and parameters: {'tweedie_variance_power': 1.6, 'max_depth': 4, 'learning_rate': 0.09877559297439983, 'subsample': 0.8, 'colsample_bytree': 0.9, 'gamma': 5, 'reg_alpha': 4, 'reg_lambda': 5, 'min_child_weight': 2}. Best is trial 95 with value: 4.066834.\u001b[0m\n"
     ]
    },
    {
     "name": "stdout",
     "output_type": "stream",
     "text": [
      "\n",
      "\n",
      "###################################### VALIDATION Loss ###########################################\n",
      "Last estimator val1_error 4.351565\n",
      "Last estimator val2_error 3.566201\n",
      "Last estimator val3_error 4.313397\n",
      "val_avg_error 4.077054333333334\n",
      "##################################################################################################\n",
      "\n",
      " False \n",
      "\n",
      "\n",
      " False \n",
      "\n",
      "\n",
      " False \n",
      "\n",
      "\n",
      " False \n",
      "\n",
      "\n",
      " False \n",
      "\n",
      "\n",
      " False \n",
      "\n"
     ]
    },
    {
     "name": "stderr",
     "output_type": "stream",
     "text": [
      "\u001b[32m[I 2023-04-13 14:22:35,080]\u001b[0m Trial 143 finished with value: 4.0718776666666665 and parameters: {'tweedie_variance_power': 1.6, 'max_depth': 4, 'learning_rate': 0.05605357740330609, 'subsample': 0.8, 'colsample_bytree': 0.9, 'gamma': 5, 'reg_alpha': 4, 'reg_lambda': 5, 'min_child_weight': 3}. Best is trial 95 with value: 4.066834.\u001b[0m\n"
     ]
    },
    {
     "name": "stdout",
     "output_type": "stream",
     "text": [
      "\n",
      "\n",
      "###################################### VALIDATION Loss ###########################################\n",
      "Last estimator val1_error 4.332333\n",
      "Last estimator val2_error 3.566067\n",
      "Last estimator val3_error 4.317233\n",
      "val_avg_error 4.0718776666666665\n",
      "##################################################################################################\n",
      "\n",
      " False \n",
      "\n",
      "\n",
      " False \n",
      "\n",
      "\n",
      " False \n",
      "\n",
      "\n",
      " False \n",
      "\n",
      "\n",
      " False \n",
      "\n",
      "\n",
      " False \n",
      "\n"
     ]
    },
    {
     "name": "stderr",
     "output_type": "stream",
     "text": [
      "\u001b[32m[I 2023-04-13 14:22:48,667]\u001b[0m Trial 144 finished with value: 4.067004 and parameters: {'tweedie_variance_power': 1.6, 'max_depth': 4, 'learning_rate': 0.04212584536026867, 'subsample': 0.8, 'colsample_bytree': 0.9, 'gamma': 5, 'reg_alpha': 4, 'reg_lambda': 5, 'min_child_weight': 2}. Best is trial 95 with value: 4.066834.\u001b[0m\n"
     ]
    },
    {
     "name": "stdout",
     "output_type": "stream",
     "text": [
      "\n",
      "\n",
      "###################################### VALIDATION Loss ###########################################\n",
      "Last estimator val1_error 4.325175\n",
      "Last estimator val2_error 3.561083\n",
      "Last estimator val3_error 4.314754\n",
      "val_avg_error 4.067004\n",
      "##################################################################################################\n",
      "\n",
      " False \n",
      "\n",
      "\n",
      " False \n",
      "\n",
      "\n",
      " False \n",
      "\n",
      "\n",
      " False \n",
      "\n",
      "\n",
      " False \n",
      "\n",
      "\n",
      " False \n",
      "\n"
     ]
    },
    {
     "name": "stderr",
     "output_type": "stream",
     "text": [
      "\u001b[32m[I 2023-04-13 14:22:59,140]\u001b[0m Trial 145 finished with value: 4.0703293333333335 and parameters: {'tweedie_variance_power': 1.6, 'max_depth': 4, 'learning_rate': 0.06901102566588568, 'subsample': 0.8, 'colsample_bytree': 0.9, 'gamma': 5, 'reg_alpha': 4, 'reg_lambda': 5, 'min_child_weight': 2}. Best is trial 95 with value: 4.066834.\u001b[0m\n"
     ]
    },
    {
     "name": "stdout",
     "output_type": "stream",
     "text": [
      "\n",
      "\n",
      "###################################### VALIDATION Loss ###########################################\n",
      "Last estimator val1_error 4.330488\n",
      "Last estimator val2_error 3.562677\n",
      "Last estimator val3_error 4.317823\n",
      "val_avg_error 4.0703293333333335\n",
      "##################################################################################################\n",
      "\n",
      " False \n",
      "\n",
      "\n",
      " False \n",
      "\n",
      "\n",
      " False \n",
      "\n",
      "\n",
      " False \n",
      "\n",
      "\n",
      " False \n",
      "\n",
      "\n",
      " False \n",
      "\n"
     ]
    },
    {
     "name": "stderr",
     "output_type": "stream",
     "text": [
      "\u001b[32m[I 2023-04-13 14:23:11,931]\u001b[0m Trial 146 finished with value: 4.067968333333334 and parameters: {'tweedie_variance_power': 1.6, 'max_depth': 4, 'learning_rate': 0.041804212471702636, 'subsample': 0.7000000000000001, 'colsample_bytree': 0.9, 'gamma': 5, 'reg_alpha': 4, 'reg_lambda': 5, 'min_child_weight': 1}. Best is trial 95 with value: 4.066834.\u001b[0m\n"
     ]
    },
    {
     "name": "stdout",
     "output_type": "stream",
     "text": [
      "\n",
      "\n",
      "###################################### VALIDATION Loss ###########################################\n",
      "Last estimator val1_error 4.321456\n",
      "Last estimator val2_error 3.562461\n",
      "Last estimator val3_error 4.319988\n",
      "val_avg_error 4.067968333333334\n",
      "##################################################################################################\n",
      "\n",
      " False \n",
      "\n",
      "\n",
      " False \n",
      "\n",
      "\n",
      " False \n",
      "\n",
      "\n",
      " False \n",
      "\n",
      "\n",
      " False \n",
      "\n",
      "\n",
      " False \n",
      "\n"
     ]
    },
    {
     "name": "stderr",
     "output_type": "stream",
     "text": [
      "\u001b[32m[I 2023-04-13 14:23:22,700]\u001b[0m Trial 147 finished with value: 4.088225666666666 and parameters: {'tweedie_variance_power': 1.5, 'max_depth': 4, 'learning_rate': 0.04095642227405268, 'subsample': 0.7000000000000001, 'colsample_bytree': 1.0, 'gamma': 5, 'reg_alpha': 4, 'reg_lambda': 5, 'min_child_weight': 1}. Best is trial 95 with value: 4.066834.\u001b[0m\n"
     ]
    },
    {
     "name": "stdout",
     "output_type": "stream",
     "text": [
      "\n",
      "\n",
      "###################################### VALIDATION Loss ###########################################\n",
      "Last estimator val1_error 4.3907\n",
      "Last estimator val2_error 3.496615\n",
      "Last estimator val3_error 4.377362\n",
      "val_avg_error 4.088225666666666\n",
      "##################################################################################################\n",
      "\n",
      " False \n",
      "\n",
      "\n",
      " False \n",
      "\n",
      "\n",
      " False \n",
      "\n",
      "\n",
      " False \n",
      "\n",
      "\n",
      " False \n",
      "\n",
      "\n",
      " False \n",
      "\n"
     ]
    },
    {
     "name": "stderr",
     "output_type": "stream",
     "text": [
      "\u001b[32m[I 2023-04-13 14:23:34,612]\u001b[0m Trial 148 finished with value: 4.073559333333333 and parameters: {'tweedie_variance_power': 1.6, 'max_depth': 4, 'learning_rate': 0.04803922293963171, 'subsample': 0.9, 'colsample_bytree': 0.9, 'gamma': 5, 'reg_alpha': 4, 'reg_lambda': 5, 'min_child_weight': 1}. Best is trial 95 with value: 4.066834.\u001b[0m\n"
     ]
    },
    {
     "name": "stdout",
     "output_type": "stream",
     "text": [
      "\n",
      "\n",
      "###################################### VALIDATION Loss ###########################################\n",
      "Last estimator val1_error 4.336262\n",
      "Last estimator val2_error 3.566186\n",
      "Last estimator val3_error 4.31823\n",
      "val_avg_error 4.073559333333333\n",
      "##################################################################################################\n",
      "\n",
      " False \n",
      "\n",
      "\n",
      " False \n",
      "\n",
      "\n",
      " False \n",
      "\n",
      "\n",
      " False \n",
      "\n",
      "\n",
      " False \n",
      "\n",
      "\n",
      " False \n",
      "\n"
     ]
    },
    {
     "name": "stderr",
     "output_type": "stream",
     "text": [
      "\u001b[32m[I 2023-04-13 14:23:49,856]\u001b[0m Trial 149 finished with value: 4.068256000000001 and parameters: {'tweedie_variance_power': 1.6, 'max_depth': 3, 'learning_rate': 0.04292825499758596, 'subsample': 0.7000000000000001, 'colsample_bytree': 0.9, 'gamma': 5, 'reg_alpha': 4, 'reg_lambda': 5, 'min_child_weight': 1}. Best is trial 95 with value: 4.066834.\u001b[0m\n"
     ]
    },
    {
     "name": "stdout",
     "output_type": "stream",
     "text": [
      "\n",
      "\n",
      "###################################### VALIDATION Loss ###########################################\n",
      "Last estimator val1_error 4.326474\n",
      "Last estimator val2_error 3.569968\n",
      "Last estimator val3_error 4.308326\n",
      "val_avg_error 4.068256000000001\n",
      "##################################################################################################\n",
      "\n",
      " False \n",
      "\n",
      "\n",
      " False \n",
      "\n",
      "\n",
      " False \n",
      "\n",
      "\n",
      " False \n",
      "\n",
      "\n",
      " False \n",
      "\n",
      "\n",
      " False \n",
      "\n"
     ]
    },
    {
     "name": "stderr",
     "output_type": "stream",
     "text": [
      "\u001b[32m[I 2023-04-13 14:24:00,972]\u001b[0m Trial 150 finished with value: 4.069527666666667 and parameters: {'tweedie_variance_power': 1.6, 'max_depth': 3, 'learning_rate': 0.0414335544625359, 'subsample': 0.7000000000000001, 'colsample_bytree': 0.8, 'gamma': 5, 'reg_alpha': 4, 'reg_lambda': 5, 'min_child_weight': 1}. Best is trial 95 with value: 4.066834.\u001b[0m\n"
     ]
    },
    {
     "name": "stdout",
     "output_type": "stream",
     "text": [
      "\n",
      "\n",
      "###################################### VALIDATION Loss ###########################################\n",
      "Last estimator val1_error 4.327729\n",
      "Last estimator val2_error 3.569561\n",
      "Last estimator val3_error 4.311293\n",
      "val_avg_error 4.069527666666667\n",
      "##################################################################################################\n",
      "\n",
      " False \n",
      "\n",
      "\n",
      " False \n",
      "\n",
      "\n",
      " False \n",
      "\n",
      "\n",
      " False \n",
      "\n",
      "\n",
      " False \n",
      "\n",
      "\n",
      " False \n",
      "\n"
     ]
    },
    {
     "name": "stderr",
     "output_type": "stream",
     "text": [
      "\u001b[32m[I 2023-04-13 14:24:12,209]\u001b[0m Trial 151 finished with value: 4.069096333333333 and parameters: {'tweedie_variance_power': 1.6, 'max_depth': 3, 'learning_rate': 0.04518775427050801, 'subsample': 0.7000000000000001, 'colsample_bytree': 0.8, 'gamma': 5, 'reg_alpha': 4, 'reg_lambda': 5, 'min_child_weight': 1}. Best is trial 95 with value: 4.066834.\u001b[0m\n"
     ]
    },
    {
     "name": "stdout",
     "output_type": "stream",
     "text": [
      "\n",
      "\n",
      "###################################### VALIDATION Loss ###########################################\n",
      "Last estimator val1_error 4.329848\n",
      "Last estimator val2_error 3.566827\n",
      "Last estimator val3_error 4.310614\n",
      "val_avg_error 4.069096333333333\n",
      "##################################################################################################\n",
      "\n",
      " False \n",
      "\n",
      "\n",
      " False \n",
      "\n",
      "\n",
      " False \n",
      "\n",
      "\n",
      " False \n",
      "\n",
      "\n",
      " False \n",
      "\n",
      "\n",
      " False \n",
      "\n"
     ]
    },
    {
     "name": "stderr",
     "output_type": "stream",
     "text": [
      "\u001b[32m[I 2023-04-13 14:24:23,289]\u001b[0m Trial 152 finished with value: 4.069994333333333 and parameters: {'tweedie_variance_power': 1.6, 'max_depth': 3, 'learning_rate': 0.04141287863462671, 'subsample': 0.7000000000000001, 'colsample_bytree': 0.8, 'gamma': 5, 'reg_alpha': 4, 'reg_lambda': 5, 'min_child_weight': 1}. Best is trial 95 with value: 4.066834.\u001b[0m\n"
     ]
    },
    {
     "name": "stdout",
     "output_type": "stream",
     "text": [
      "\n",
      "\n",
      "###################################### VALIDATION Loss ###########################################\n",
      "Last estimator val1_error 4.330243\n",
      "Last estimator val2_error 3.569594\n",
      "Last estimator val3_error 4.310146\n",
      "val_avg_error 4.069994333333333\n",
      "##################################################################################################\n",
      "\n",
      " False \n",
      "\n",
      "\n",
      " False \n",
      "\n",
      "\n",
      " False \n",
      "\n",
      "\n",
      " False \n",
      "\n",
      "\n",
      " False \n",
      "\n",
      "\n",
      " False \n",
      "\n"
     ]
    },
    {
     "name": "stderr",
     "output_type": "stream",
     "text": [
      "\u001b[32m[I 2023-04-13 14:24:36,418]\u001b[0m Trial 153 finished with value: 4.07012 and parameters: {'tweedie_variance_power': 1.6, 'max_depth': 3, 'learning_rate': 0.04257669508007531, 'subsample': 0.7000000000000001, 'colsample_bytree': 0.9, 'gamma': 5, 'reg_alpha': 4, 'reg_lambda': 5, 'min_child_weight': 1}. Best is trial 95 with value: 4.066834.\u001b[0m\n"
     ]
    },
    {
     "name": "stdout",
     "output_type": "stream",
     "text": [
      "\n",
      "\n",
      "###################################### VALIDATION Loss ###########################################\n",
      "Last estimator val1_error 4.32584\n",
      "Last estimator val2_error 3.567783\n",
      "Last estimator val3_error 4.316737\n",
      "val_avg_error 4.07012\n",
      "##################################################################################################\n",
      "\n",
      " False \n",
      "\n",
      "\n",
      " False \n",
      "\n",
      "\n",
      " False \n",
      "\n",
      "\n",
      " False \n",
      "\n",
      "\n",
      " False \n",
      "\n",
      "\n",
      " False \n",
      "\n"
     ]
    },
    {
     "name": "stderr",
     "output_type": "stream",
     "text": [
      "\u001b[32m[I 2023-04-13 14:24:50,254]\u001b[0m Trial 154 finished with value: 4.074176666666667 and parameters: {'tweedie_variance_power': 1.6, 'max_depth': 3, 'learning_rate': 0.0382904668117906, 'subsample': 0.6, 'colsample_bytree': 0.8, 'gamma': 5, 'reg_alpha': 4, 'reg_lambda': 5, 'min_child_weight': 1}. Best is trial 95 with value: 4.066834.\u001b[0m\n"
     ]
    },
    {
     "name": "stdout",
     "output_type": "stream",
     "text": [
      "\n",
      "\n",
      "###################################### VALIDATION Loss ###########################################\n",
      "Last estimator val1_error 4.334964\n",
      "Last estimator val2_error 3.57063\n",
      "Last estimator val3_error 4.316936\n",
      "val_avg_error 4.074176666666667\n",
      "##################################################################################################\n",
      "\n",
      " False \n",
      "\n",
      "\n",
      " False \n",
      "\n",
      "\n",
      " False \n",
      "\n",
      "\n",
      " False \n",
      "\n",
      "\n",
      " False \n",
      "\n",
      "\n",
      " False \n",
      "\n"
     ]
    },
    {
     "name": "stderr",
     "output_type": "stream",
     "text": [
      "\u001b[32m[I 2023-04-13 14:25:00,636]\u001b[0m Trial 155 finished with value: 4.0727839999999995 and parameters: {'tweedie_variance_power': 1.6, 'max_depth': 3, 'learning_rate': 0.04838113715648413, 'subsample': 0.7000000000000001, 'colsample_bytree': 0.9, 'gamma': 5, 'reg_alpha': 4, 'reg_lambda': 5, 'min_child_weight': 1}. Best is trial 95 with value: 4.066834.\u001b[0m\n"
     ]
    },
    {
     "name": "stdout",
     "output_type": "stream",
     "text": [
      "\n",
      "\n",
      "###################################### VALIDATION Loss ###########################################\n",
      "Last estimator val1_error 4.330094\n",
      "Last estimator val2_error 3.574028\n",
      "Last estimator val3_error 4.31423\n",
      "val_avg_error 4.0727839999999995\n",
      "##################################################################################################\n",
      "\n",
      " False \n",
      "\n",
      "\n",
      " False \n",
      "\n",
      "\n",
      " False \n",
      "\n",
      "\n",
      " False \n",
      "\n",
      "\n",
      " False \n",
      "\n",
      "\n",
      " False \n",
      "\n"
     ]
    },
    {
     "name": "stderr",
     "output_type": "stream",
     "text": [
      "\u001b[32m[I 2023-04-13 14:25:09,517]\u001b[0m Trial 156 finished with value: 4.072206666666666 and parameters: {'tweedie_variance_power': 1.6, 'max_depth': 3, 'learning_rate': 0.0632624195673599, 'subsample': 0.7000000000000001, 'colsample_bytree': 0.9, 'gamma': 5, 'reg_alpha': 4, 'reg_lambda': 5, 'min_child_weight': 1}. Best is trial 95 with value: 4.066834.\u001b[0m\n"
     ]
    },
    {
     "name": "stdout",
     "output_type": "stream",
     "text": [
      "\n",
      "\n",
      "###################################### VALIDATION Loss ###########################################\n",
      "Last estimator val1_error 4.329336\n",
      "Last estimator val2_error 3.5734\n",
      "Last estimator val3_error 4.313884\n",
      "val_avg_error 4.072206666666666\n",
      "##################################################################################################\n",
      "\n",
      " False \n",
      "\n",
      "\n",
      " False \n",
      "\n",
      "\n",
      " False \n",
      "\n",
      "\n",
      " False \n",
      "\n",
      "\n",
      " False \n",
      "\n",
      "\n",
      " False \n",
      "\n"
     ]
    },
    {
     "name": "stderr",
     "output_type": "stream",
     "text": [
      "\u001b[32m[I 2023-04-13 14:25:16,609]\u001b[0m Trial 157 finished with value: 4.0727736666666665 and parameters: {'tweedie_variance_power': 1.6, 'max_depth': 3, 'learning_rate': 0.05077423429054989, 'subsample': 0.7000000000000001, 'colsample_bytree': 0.8, 'gamma': 5, 'reg_alpha': 4, 'reg_lambda': 5, 'min_child_weight': 1}. Best is trial 95 with value: 4.066834.\u001b[0m\n"
     ]
    },
    {
     "name": "stdout",
     "output_type": "stream",
     "text": [
      "\n",
      "\n",
      "###################################### VALIDATION Loss ###########################################\n",
      "Last estimator val1_error 4.326867\n",
      "Last estimator val2_error 3.576684\n",
      "Last estimator val3_error 4.31477\n",
      "val_avg_error 4.0727736666666665\n",
      "##################################################################################################\n",
      "\n",
      " False \n",
      "\n",
      "\n",
      " False \n",
      "\n",
      "\n",
      " False \n",
      "\n",
      "\n",
      " False \n",
      "\n",
      "\n",
      " False \n",
      "\n",
      "\n",
      " False \n",
      "\n"
     ]
    },
    {
     "name": "stderr",
     "output_type": "stream",
     "text": [
      "\u001b[32m[I 2023-04-13 14:26:29,939]\u001b[0m Trial 158 finished with value: 4.213536666666666 and parameters: {'tweedie_variance_power': 1.6, 'max_depth': 3, 'learning_rate': 0.001000430964223274, 'subsample': 0.6, 'colsample_bytree': 0.9, 'gamma': 5, 'reg_alpha': 4, 'reg_lambda': 5, 'min_child_weight': 1}. Best is trial 95 with value: 4.066834.\u001b[0m\n"
     ]
    },
    {
     "name": "stdout",
     "output_type": "stream",
     "text": [
      "\n",
      "\n",
      "###################################### VALIDATION Loss ###########################################\n",
      "Last estimator val1_error 4.649592\n",
      "Last estimator val2_error 3.648033\n",
      "Last estimator val3_error 4.342985\n",
      "val_avg_error 4.213536666666666\n",
      "##################################################################################################\n",
      "\n",
      " False \n",
      "\n",
      "\n",
      " False \n",
      "\n",
      "\n",
      " False \n",
      "\n",
      "\n",
      " False \n",
      "\n",
      "\n",
      " False \n",
      "\n",
      "\n",
      " False \n",
      "\n"
     ]
    },
    {
     "name": "stderr",
     "output_type": "stream",
     "text": [
      "\u001b[32m[I 2023-04-13 14:27:33,012]\u001b[0m Trial 159 finished with value: 4.471213666666666 and parameters: {'tweedie_variance_power': 1.7000000000000002, 'max_depth': 3, 'learning_rate': 0.003490164246957094, 'subsample': 0.7000000000000001, 'colsample_bytree': 0.9, 'gamma': 5, 'reg_alpha': 4, 'reg_lambda': 5, 'min_child_weight': 1}. Best is trial 95 with value: 4.066834.\u001b[0m\n"
     ]
    },
    {
     "name": "stdout",
     "output_type": "stream",
     "text": [
      "\n",
      "\n",
      "###################################### VALIDATION Loss ###########################################\n",
      "Last estimator val1_error 4.717789\n",
      "Last estimator val2_error 4.01582\n",
      "Last estimator val3_error 4.680032\n",
      "val_avg_error 4.471213666666666\n",
      "##################################################################################################\n",
      "\n",
      " False \n",
      "\n",
      "\n",
      " False \n",
      "\n",
      "\n",
      " False \n",
      "\n",
      "\n",
      " False \n",
      "\n",
      "\n",
      " False \n",
      "\n",
      "\n",
      " False \n",
      "\n"
     ]
    },
    {
     "name": "stderr",
     "output_type": "stream",
     "text": [
      "\u001b[32m[I 2023-04-13 14:27:52,097]\u001b[0m Trial 160 finished with value: 4.069652666666666 and parameters: {'tweedie_variance_power': 1.6, 'max_depth': 3, 'learning_rate': 0.03114421756705422, 'subsample': 0.7000000000000001, 'colsample_bytree': 1.0, 'gamma': 5, 'reg_alpha': 4, 'reg_lambda': 5, 'min_child_weight': 10}. Best is trial 95 with value: 4.066834.\u001b[0m\n"
     ]
    },
    {
     "name": "stdout",
     "output_type": "stream",
     "text": [
      "\n",
      "\n",
      "###################################### VALIDATION Loss ###########################################\n",
      "Last estimator val1_error 4.326435\n",
      "Last estimator val2_error 3.568009\n",
      "Last estimator val3_error 4.314514\n",
      "val_avg_error 4.069652666666666\n",
      "##################################################################################################\n",
      "\n",
      " False \n",
      "\n",
      "\n",
      " False \n",
      "\n",
      "\n",
      " False \n",
      "\n",
      "\n",
      " False \n",
      "\n",
      "\n",
      " False \n",
      "\n",
      "\n",
      " False \n",
      "\n"
     ]
    },
    {
     "name": "stderr",
     "output_type": "stream",
     "text": [
      "\u001b[32m[I 2023-04-13 14:27:59,334]\u001b[0m Trial 161 finished with value: 4.079228333333333 and parameters: {'tweedie_variance_power': 1.6, 'max_depth': 3, 'learning_rate': 0.07373840952246451, 'subsample': 0.5, 'colsample_bytree': 0.8, 'gamma': 5, 'reg_alpha': 4, 'reg_lambda': 5, 'min_child_weight': 1}. Best is trial 95 with value: 4.066834.\u001b[0m\n"
     ]
    },
    {
     "name": "stdout",
     "output_type": "stream",
     "text": [
      "\n",
      "\n",
      "###################################### VALIDATION Loss ###########################################\n",
      "Last estimator val1_error 4.347497\n",
      "Last estimator val2_error 3.574358\n",
      "Last estimator val3_error 4.31583\n",
      "val_avg_error 4.079228333333333\n",
      "##################################################################################################\n",
      "\n",
      " False \n",
      "\n",
      "\n",
      " False \n",
      "\n",
      "\n",
      " False \n",
      "\n",
      "\n",
      " False \n",
      "\n",
      "\n",
      " False \n",
      "\n",
      "\n",
      " False \n",
      "\n"
     ]
    },
    {
     "name": "stderr",
     "output_type": "stream",
     "text": [
      "\u001b[32m[I 2023-04-13 14:28:08,047]\u001b[0m Trial 162 finished with value: 4.074811333333334 and parameters: {'tweedie_variance_power': 1.6, 'max_depth': 4, 'learning_rate': 0.06097248069933935, 'subsample': 0.8, 'colsample_bytree': 0.8, 'gamma': 5, 'reg_alpha': 4, 'reg_lambda': 5, 'min_child_weight': 1}. Best is trial 95 with value: 4.066834.\u001b[0m\n"
     ]
    },
    {
     "name": "stdout",
     "output_type": "stream",
     "text": [
      "\n",
      "\n",
      "###################################### VALIDATION Loss ###########################################\n",
      "Last estimator val1_error 4.338318\n",
      "Last estimator val2_error 3.564117\n",
      "Last estimator val3_error 4.321999\n",
      "val_avg_error 4.074811333333334\n",
      "##################################################################################################\n",
      "\n",
      " False \n",
      "\n",
      "\n",
      " False \n",
      "\n",
      "\n",
      " False \n",
      "\n",
      "\n",
      " False \n",
      "\n",
      "\n",
      " False \n",
      "\n",
      "\n",
      " False \n",
      "\n"
     ]
    },
    {
     "name": "stderr",
     "output_type": "stream",
     "text": [
      "\u001b[32m[I 2023-04-13 14:28:20,932]\u001b[0m Trial 163 finished with value: 4.074245333333334 and parameters: {'tweedie_variance_power': 1.6, 'max_depth': 4, 'learning_rate': 0.0712042415549367, 'subsample': 0.8, 'colsample_bytree': 0.8, 'gamma': 5, 'reg_alpha': 4, 'reg_lambda': 5, 'min_child_weight': 1}. Best is trial 95 with value: 4.066834.\u001b[0m\n"
     ]
    },
    {
     "name": "stdout",
     "output_type": "stream",
     "text": [
      "\n",
      "\n",
      "###################################### VALIDATION Loss ###########################################\n",
      "Last estimator val1_error 4.344039\n",
      "Last estimator val2_error 3.560823\n",
      "Last estimator val3_error 4.317874\n",
      "val_avg_error 4.074245333333334\n",
      "##################################################################################################\n",
      "\n",
      " False \n",
      "\n",
      "\n",
      " False \n",
      "\n",
      "\n",
      " False \n",
      "\n",
      "\n",
      " False \n",
      "\n",
      "\n",
      " False \n",
      "\n",
      "\n",
      " False \n",
      "\n"
     ]
    },
    {
     "name": "stderr",
     "output_type": "stream",
     "text": [
      "\u001b[32m[I 2023-04-13 14:28:33,398]\u001b[0m Trial 164 finished with value: 4.0832006666666665 and parameters: {'tweedie_variance_power': 1.6, 'max_depth': 7, 'learning_rate': 0.04398000414263492, 'subsample': 0.8, 'colsample_bytree': 0.9, 'gamma': 5, 'reg_alpha': 4, 'reg_lambda': 5, 'min_child_weight': 1}. Best is trial 95 with value: 4.066834.\u001b[0m\n"
     ]
    },
    {
     "name": "stdout",
     "output_type": "stream",
     "text": [
      "\n",
      "\n",
      "###################################### VALIDATION Loss ###########################################\n",
      "Last estimator val1_error 4.354441\n",
      "Last estimator val2_error 3.554438\n",
      "Last estimator val3_error 4.340723\n",
      "val_avg_error 4.0832006666666665\n",
      "##################################################################################################\n",
      "\n",
      " False \n",
      "\n",
      "\n",
      " False \n",
      "\n",
      "\n",
      " False \n",
      "\n",
      "\n",
      " False \n",
      "\n",
      "\n",
      " False \n",
      "\n",
      "\n",
      " False \n",
      "\n"
     ]
    },
    {
     "name": "stderr",
     "output_type": "stream",
     "text": [
      "\u001b[32m[I 2023-04-13 14:28:45,195]\u001b[0m Trial 165 finished with value: 4.076877666666666 and parameters: {'tweedie_variance_power': 1.6, 'max_depth': 3, 'learning_rate': 0.08827021662556778, 'subsample': 0.9, 'colsample_bytree': 0.9, 'gamma': 5, 'reg_alpha': 4, 'reg_lambda': 5, 'min_child_weight': 2}. Best is trial 95 with value: 4.066834.\u001b[0m\n"
     ]
    },
    {
     "name": "stdout",
     "output_type": "stream",
     "text": [
      "\n",
      "\n",
      "###################################### VALIDATION Loss ###########################################\n",
      "Last estimator val1_error 4.333606\n",
      "Last estimator val2_error 3.56805\n",
      "Last estimator val3_error 4.328977\n",
      "val_avg_error 4.076877666666666\n",
      "##################################################################################################\n",
      "\n",
      " False \n",
      "\n",
      "\n",
      " False \n",
      "\n",
      "\n",
      " False \n",
      "\n",
      "\n",
      " False \n",
      "\n",
      "\n",
      " False \n",
      "\n",
      "\n",
      " False \n",
      "\n"
     ]
    },
    {
     "name": "stderr",
     "output_type": "stream",
     "text": [
      "\u001b[32m[I 2023-04-13 14:28:55,397]\u001b[0m Trial 166 finished with value: 4.069998333333333 and parameters: {'tweedie_variance_power': 1.6, 'max_depth': 4, 'learning_rate': 0.053435421918531185, 'subsample': 0.7000000000000001, 'colsample_bytree': 0.8, 'gamma': 5, 'reg_alpha': 4, 'reg_lambda': 5, 'min_child_weight': 1}. Best is trial 95 with value: 4.066834.\u001b[0m\n"
     ]
    },
    {
     "name": "stdout",
     "output_type": "stream",
     "text": [
      "\n",
      "\n",
      "###################################### VALIDATION Loss ###########################################\n",
      "Last estimator val1_error 4.330381\n",
      "Last estimator val2_error 3.559618\n",
      "Last estimator val3_error 4.319996\n",
      "val_avg_error 4.069998333333333\n",
      "##################################################################################################\n",
      "\n",
      " False \n",
      "\n",
      "\n",
      " False \n",
      "\n",
      "\n",
      " False \n",
      "\n",
      "\n",
      " False \n",
      "\n",
      "\n",
      " False \n",
      "\n",
      "\n",
      " False \n",
      "\n"
     ]
    },
    {
     "name": "stderr",
     "output_type": "stream",
     "text": [
      "\u001b[32m[I 2023-04-13 14:29:01,620]\u001b[0m Trial 167 finished with value: 9.660130666666667 and parameters: {'tweedie_variance_power': 1.9, 'max_depth': 4, 'learning_rate': 0.09927807530331065, 'subsample': 0.8, 'colsample_bytree': 0.9, 'gamma': 5, 'reg_alpha': 4, 'reg_lambda': 5, 'min_child_weight': 2}. Best is trial 95 with value: 4.066834.\u001b[0m\n"
     ]
    },
    {
     "name": "stdout",
     "output_type": "stream",
     "text": [
      "\n",
      "\n",
      "###################################### VALIDATION Loss ###########################################\n",
      "Last estimator val1_error 9.950977\n",
      "Last estimator val2_error 9.06348\n",
      "Last estimator val3_error 9.965935\n",
      "val_avg_error 9.660130666666667\n",
      "##################################################################################################\n",
      "\n",
      " False \n",
      "\n",
      "\n",
      " False \n",
      "\n",
      "\n",
      " False \n",
      "\n",
      "\n",
      " False \n",
      "\n",
      "\n",
      " False \n",
      "\n",
      "\n",
      " False \n",
      "\n"
     ]
    },
    {
     "name": "stderr",
     "output_type": "stream",
     "text": [
      "\u001b[32m[I 2023-04-13 14:29:07,746]\u001b[0m Trial 168 finished with value: 4.0934843333333335 and parameters: {'tweedie_variance_power': 1.5, 'max_depth': 3, 'learning_rate': 0.06334991415485886, 'subsample': 0.7000000000000001, 'colsample_bytree': 0.9, 'gamma': 5, 'reg_alpha': 4, 'reg_lambda': 5, 'min_child_weight': 1}. Best is trial 95 with value: 4.066834.\u001b[0m\n"
     ]
    },
    {
     "name": "stdout",
     "output_type": "stream",
     "text": [
      "\n",
      "\n",
      "###################################### VALIDATION Loss ###########################################\n",
      "Last estimator val1_error 4.400578\n",
      "Last estimator val2_error 3.509144\n",
      "Last estimator val3_error 4.370731\n",
      "val_avg_error 4.0934843333333335\n",
      "##################################################################################################\n",
      "\n",
      " False \n",
      "\n",
      "\n",
      " False \n",
      "\n",
      "\n",
      " False \n",
      "\n",
      "\n",
      " False \n",
      "\n",
      "\n",
      " False \n",
      "\n",
      "\n",
      " False \n",
      "\n"
     ]
    },
    {
     "name": "stderr",
     "output_type": "stream",
     "text": [
      "\u001b[32m[I 2023-04-13 14:29:20,216]\u001b[0m Trial 169 finished with value: 4.4579173333333335 and parameters: {'tweedie_variance_power': 1.7000000000000002, 'max_depth': 4, 'learning_rate': 0.034936900421608345, 'subsample': 0.8, 'colsample_bytree': 0.8, 'gamma': 5, 'reg_alpha': 4, 'reg_lambda': 5, 'min_child_weight': 3}. Best is trial 95 with value: 4.066834.\u001b[0m\n"
     ]
    },
    {
     "name": "stdout",
     "output_type": "stream",
     "text": [
      "\n",
      "\n",
      "###################################### VALIDATION Loss ###########################################\n",
      "Last estimator val1_error 4.698483\n",
      "Last estimator val2_error 3.993507\n",
      "Last estimator val3_error 4.681762\n",
      "val_avg_error 4.4579173333333335\n",
      "##################################################################################################\n",
      "\n",
      " False \n",
      "\n",
      "\n",
      " False \n",
      "\n",
      "\n",
      " False \n",
      "\n",
      "\n",
      " False \n",
      "\n",
      "\n",
      " False \n",
      "\n",
      "\n",
      " False \n",
      "\n"
     ]
    },
    {
     "name": "stderr",
     "output_type": "stream",
     "text": [
      "\u001b[32m[I 2023-04-13 14:29:29,366]\u001b[0m Trial 170 finished with value: 4.070577 and parameters: {'tweedie_variance_power': 1.6, 'max_depth': 4, 'learning_rate': 0.07674874399993044, 'subsample': 0.8, 'colsample_bytree': 0.9, 'gamma': 5, 'reg_alpha': 4, 'reg_lambda': 5, 'min_child_weight': 2}. Best is trial 95 with value: 4.066834.\u001b[0m\n"
     ]
    },
    {
     "name": "stdout",
     "output_type": "stream",
     "text": [
      "\n",
      "\n",
      "###################################### VALIDATION Loss ###########################################\n",
      "Last estimator val1_error 4.333252\n",
      "Last estimator val2_error 3.563241\n",
      "Last estimator val3_error 4.315238\n",
      "val_avg_error 4.070577\n",
      "##################################################################################################\n",
      "\n",
      " False \n",
      "\n",
      "\n",
      " False \n",
      "\n",
      "\n",
      " False \n",
      "\n",
      "\n",
      " False \n",
      "\n",
      "\n",
      " False \n",
      "\n",
      "\n",
      " False \n",
      "\n"
     ]
    },
    {
     "name": "stderr",
     "output_type": "stream",
     "text": [
      "\u001b[32m[I 2023-04-13 14:29:50,837]\u001b[0m Trial 171 finished with value: 4.069932333333333 and parameters: {'tweedie_variance_power': 1.6, 'max_depth': 3, 'learning_rate': 0.024183440797390054, 'subsample': 0.7000000000000001, 'colsample_bytree': 1.0, 'gamma': 5, 'reg_alpha': 4, 'reg_lambda': 5, 'min_child_weight': 2}. Best is trial 95 with value: 4.066834.\u001b[0m\n"
     ]
    },
    {
     "name": "stdout",
     "output_type": "stream",
     "text": [
      "\n",
      "\n",
      "###################################### VALIDATION Loss ###########################################\n",
      "Last estimator val1_error 4.329276\n",
      "Last estimator val2_error 3.57081\n",
      "Last estimator val3_error 4.309711\n",
      "val_avg_error 4.069932333333333\n",
      "##################################################################################################\n",
      "\n",
      " False \n",
      "\n",
      "\n",
      " False \n",
      "\n",
      "\n",
      " False \n",
      "\n",
      "\n",
      " False \n",
      "\n",
      "\n",
      " False \n",
      "\n",
      "\n",
      " False \n",
      "\n"
     ]
    },
    {
     "name": "stderr",
     "output_type": "stream",
     "text": [
      "\u001b[32m[I 2023-04-13 14:30:06,049]\u001b[0m Trial 172 finished with value: 4.070726666666666 and parameters: {'tweedie_variance_power': 1.6, 'max_depth': 3, 'learning_rate': 0.03251452316765861, 'subsample': 0.7000000000000001, 'colsample_bytree': 1.0, 'gamma': 5, 'reg_alpha': 4, 'reg_lambda': 5, 'min_child_weight': 1}. Best is trial 95 with value: 4.066834.\u001b[0m\n"
     ]
    },
    {
     "name": "stdout",
     "output_type": "stream",
     "text": [
      "\n",
      "\n",
      "###################################### VALIDATION Loss ###########################################\n",
      "Last estimator val1_error 4.329829\n",
      "Last estimator val2_error 3.570067\n",
      "Last estimator val3_error 4.312284\n",
      "val_avg_error 4.070726666666666\n",
      "##################################################################################################\n",
      "\n",
      " False \n",
      "\n",
      "\n",
      " False \n",
      "\n",
      "\n",
      " False \n",
      "\n",
      "\n",
      " False \n",
      "\n",
      "\n",
      " False \n",
      "\n",
      "\n",
      " False \n",
      "\n"
     ]
    },
    {
     "name": "stderr",
     "output_type": "stream",
     "text": [
      "\u001b[32m[I 2023-04-13 14:30:21,158]\u001b[0m Trial 173 finished with value: 4.072860666666666 and parameters: {'tweedie_variance_power': 1.6, 'max_depth': 3, 'learning_rate': 0.027552161780691344, 'subsample': 0.6, 'colsample_bytree': 1.0, 'gamma': 5, 'reg_alpha': 4, 'reg_lambda': 5, 'min_child_weight': 1}. Best is trial 95 with value: 4.066834.\u001b[0m\n"
     ]
    },
    {
     "name": "stdout",
     "output_type": "stream",
     "text": [
      "\n",
      "\n",
      "###################################### VALIDATION Loss ###########################################\n",
      "Last estimator val1_error 4.331772\n",
      "Last estimator val2_error 3.574833\n",
      "Last estimator val3_error 4.311977\n",
      "val_avg_error 4.072860666666666\n",
      "##################################################################################################\n",
      "\n",
      " False \n",
      "\n",
      "\n",
      " False \n",
      "\n",
      "\n",
      " False \n",
      "\n",
      "\n",
      " False \n",
      "\n",
      "\n",
      " False \n",
      "\n",
      "\n",
      " False \n",
      "\n"
     ]
    },
    {
     "name": "stderr",
     "output_type": "stream",
     "text": [
      "\u001b[32m[I 2023-04-13 14:30:33,921]\u001b[0m Trial 174 finished with value: 4.072372333333333 and parameters: {'tweedie_variance_power': 1.6, 'max_depth': 3, 'learning_rate': 0.029495659955157197, 'subsample': 0.7000000000000001, 'colsample_bytree': 0.9, 'gamma': 5, 'reg_alpha': 4, 'reg_lambda': 5, 'min_child_weight': 2}. Best is trial 95 with value: 4.066834.\u001b[0m\n"
     ]
    },
    {
     "name": "stdout",
     "output_type": "stream",
     "text": [
      "\n",
      "\n",
      "###################################### VALIDATION Loss ###########################################\n",
      "Last estimator val1_error 4.327599\n",
      "Last estimator val2_error 3.573024\n",
      "Last estimator val3_error 4.316494\n",
      "val_avg_error 4.072372333333333\n",
      "##################################################################################################\n",
      "\n",
      " False \n",
      "\n",
      "\n",
      " False \n",
      "\n",
      "\n",
      " False \n",
      "\n",
      "\n",
      " False \n",
      "\n",
      "\n",
      " False \n",
      "\n",
      "\n",
      " False \n",
      "\n"
     ]
    },
    {
     "name": "stderr",
     "output_type": "stream",
     "text": [
      "\u001b[32m[I 2023-04-13 14:30:44,787]\u001b[0m Trial 175 finished with value: 4.068939333333334 and parameters: {'tweedie_variance_power': 1.6, 'max_depth': 4, 'learning_rate': 0.038024396897980345, 'subsample': 0.7000000000000001, 'colsample_bytree': 0.9, 'gamma': 5, 'reg_alpha': 4, 'reg_lambda': 5, 'min_child_weight': 10}. Best is trial 95 with value: 4.066834.\u001b[0m\n"
     ]
    },
    {
     "name": "stdout",
     "output_type": "stream",
     "text": [
      "\n",
      "\n",
      "###################################### VALIDATION Loss ###########################################\n",
      "Last estimator val1_error 4.32575\n",
      "Last estimator val2_error 3.566445\n",
      "Last estimator val3_error 4.314623\n",
      "val_avg_error 4.068939333333334\n",
      "##################################################################################################\n",
      "\n",
      " False \n",
      "\n",
      "\n",
      " False \n",
      "\n",
      "\n",
      " False \n",
      "\n",
      "\n",
      " False \n",
      "\n",
      "\n",
      " False \n",
      "\n",
      "\n",
      " False \n",
      "\n"
     ]
    },
    {
     "name": "stderr",
     "output_type": "stream",
     "text": [
      "\u001b[32m[I 2023-04-13 14:30:54,228]\u001b[0m Trial 176 finished with value: 4.074708333333333 and parameters: {'tweedie_variance_power': 1.6, 'max_depth': 4, 'learning_rate': 0.03892776024113669, 'subsample': 0.8, 'colsample_bytree': 0.9, 'gamma': 5, 'reg_alpha': 4, 'reg_lambda': 5, 'min_child_weight': 10}. Best is trial 95 with value: 4.066834.\u001b[0m\n"
     ]
    },
    {
     "name": "stdout",
     "output_type": "stream",
     "text": [
      "\n",
      "\n",
      "###################################### VALIDATION Loss ###########################################\n",
      "Last estimator val1_error 4.339922\n",
      "Last estimator val2_error 3.56589\n",
      "Last estimator val3_error 4.318313\n",
      "val_avg_error 4.074708333333333\n",
      "##################################################################################################\n",
      "\n",
      " False \n",
      "\n",
      "\n",
      " False \n",
      "\n",
      "\n",
      " False \n",
      "\n",
      "\n",
      " False \n",
      "\n",
      "\n",
      " False \n",
      "\n",
      "\n",
      " False \n",
      "\n"
     ]
    },
    {
     "name": "stderr",
     "output_type": "stream",
     "text": [
      "\u001b[32m[I 2023-04-13 14:31:06,064]\u001b[0m Trial 177 finished with value: 4.0682583333333335 and parameters: {'tweedie_variance_power': 1.6, 'max_depth': 4, 'learning_rate': 0.04585204138521771, 'subsample': 0.8, 'colsample_bytree': 0.9, 'gamma': 5, 'reg_alpha': 4, 'reg_lambda': 5, 'min_child_weight': 9}. Best is trial 95 with value: 4.066834.\u001b[0m\n"
     ]
    },
    {
     "name": "stdout",
     "output_type": "stream",
     "text": [
      "\n",
      "\n",
      "###################################### VALIDATION Loss ###########################################\n",
      "Last estimator val1_error 4.326302\n",
      "Last estimator val2_error 3.563097\n",
      "Last estimator val3_error 4.315376\n",
      "val_avg_error 4.0682583333333335\n",
      "##################################################################################################\n",
      "\n",
      " False \n",
      "\n",
      "\n",
      " False \n",
      "\n",
      "\n",
      " False \n",
      "\n",
      "\n",
      " False \n",
      "\n",
      "\n",
      " False \n",
      "\n",
      "\n",
      " False \n",
      "\n"
     ]
    },
    {
     "name": "stderr",
     "output_type": "stream",
     "text": [
      "\u001b[32m[I 2023-04-13 14:31:16,804]\u001b[0m Trial 178 finished with value: 4.069516 and parameters: {'tweedie_variance_power': 1.6, 'max_depth': 4, 'learning_rate': 0.04625243432010743, 'subsample': 0.8, 'colsample_bytree': 0.9, 'gamma': 5, 'reg_alpha': 4, 'reg_lambda': 5, 'min_child_weight': 9}. Best is trial 95 with value: 4.066834.\u001b[0m\n"
     ]
    },
    {
     "name": "stdout",
     "output_type": "stream",
     "text": [
      "\n",
      "\n",
      "###################################### VALIDATION Loss ###########################################\n",
      "Last estimator val1_error 4.332096\n",
      "Last estimator val2_error 3.563522\n",
      "Last estimator val3_error 4.31293\n",
      "val_avg_error 4.069516\n",
      "##################################################################################################\n",
      "\n",
      " False \n",
      "\n",
      "\n",
      " False \n",
      "\n",
      "\n",
      " False \n",
      "\n",
      "\n",
      " False \n",
      "\n",
      "\n",
      " False \n",
      "\n",
      "\n",
      " False \n",
      "\n"
     ]
    },
    {
     "name": "stderr",
     "output_type": "stream",
     "text": [
      "\u001b[32m[I 2023-04-13 14:31:27,497]\u001b[0m Trial 179 finished with value: 4.069285333333333 and parameters: {'tweedie_variance_power': 1.6, 'max_depth': 4, 'learning_rate': 0.04694634250641924, 'subsample': 0.8, 'colsample_bytree': 0.9, 'gamma': 5, 'reg_alpha': 4, 'reg_lambda': 5, 'min_child_weight': 9}. Best is trial 95 with value: 4.066834.\u001b[0m\n"
     ]
    },
    {
     "name": "stdout",
     "output_type": "stream",
     "text": [
      "\n",
      "\n",
      "###################################### VALIDATION Loss ###########################################\n",
      "Last estimator val1_error 4.328707\n",
      "Last estimator val2_error 3.563602\n",
      "Last estimator val3_error 4.315547\n",
      "val_avg_error 4.069285333333333\n",
      "##################################################################################################\n",
      "\n",
      " False \n",
      "\n",
      "\n",
      " False \n",
      "\n",
      "\n",
      " False \n",
      "\n",
      "\n",
      " False \n",
      "\n",
      "\n",
      " False \n",
      "\n",
      "\n",
      " False \n",
      "\n"
     ]
    },
    {
     "name": "stderr",
     "output_type": "stream",
     "text": [
      "\u001b[32m[I 2023-04-13 14:31:36,467]\u001b[0m Trial 180 finished with value: 4.073483333333333 and parameters: {'tweedie_variance_power': 1.6, 'max_depth': 4, 'learning_rate': 0.052924493838987494, 'subsample': 0.8, 'colsample_bytree': 0.9, 'gamma': 5, 'reg_alpha': 4, 'reg_lambda': 5, 'min_child_weight': 10}. Best is trial 95 with value: 4.066834.\u001b[0m\n"
     ]
    },
    {
     "name": "stdout",
     "output_type": "stream",
     "text": [
      "\n",
      "\n",
      "###################################### VALIDATION Loss ###########################################\n",
      "Last estimator val1_error 4.336807\n",
      "Last estimator val2_error 3.566121\n",
      "Last estimator val3_error 4.317522\n",
      "val_avg_error 4.073483333333333\n",
      "##################################################################################################\n",
      "\n",
      " False \n",
      "\n",
      "\n",
      " False \n",
      "\n",
      "\n",
      " False \n",
      "\n",
      "\n",
      " False \n",
      "\n",
      "\n",
      " False \n",
      "\n",
      "\n",
      " False \n",
      "\n"
     ]
    },
    {
     "name": "stderr",
     "output_type": "stream",
     "text": [
      "\u001b[32m[I 2023-04-13 14:31:47,417]\u001b[0m Trial 181 finished with value: 4.069508333333333 and parameters: {'tweedie_variance_power': 1.6, 'max_depth': 4, 'learning_rate': 0.04568243358420197, 'subsample': 0.8, 'colsample_bytree': 0.9, 'gamma': 5, 'reg_alpha': 4, 'reg_lambda': 5, 'min_child_weight': 9}. Best is trial 95 with value: 4.066834.\u001b[0m\n"
     ]
    },
    {
     "name": "stdout",
     "output_type": "stream",
     "text": [
      "\n",
      "\n",
      "###################################### VALIDATION Loss ###########################################\n",
      "Last estimator val1_error 4.331563\n",
      "Last estimator val2_error 3.563024\n",
      "Last estimator val3_error 4.313938\n",
      "val_avg_error 4.069508333333333\n",
      "##################################################################################################\n",
      "\n",
      " False \n",
      "\n",
      "\n",
      " False \n",
      "\n",
      "\n",
      " False \n",
      "\n",
      "\n",
      " False \n",
      "\n",
      "\n",
      " False \n",
      "\n",
      "\n",
      " False \n",
      "\n"
     ]
    },
    {
     "name": "stderr",
     "output_type": "stream",
     "text": [
      "\u001b[32m[I 2023-04-13 14:31:59,691]\u001b[0m Trial 182 finished with value: 4.0725620000000005 and parameters: {'tweedie_variance_power': 1.6, 'max_depth': 4, 'learning_rate': 0.055824194963640134, 'subsample': 0.8, 'colsample_bytree': 0.9, 'gamma': 5, 'reg_alpha': 4, 'reg_lambda': 5, 'min_child_weight': 9}. Best is trial 95 with value: 4.066834.\u001b[0m\n"
     ]
    },
    {
     "name": "stdout",
     "output_type": "stream",
     "text": [
      "\n",
      "\n",
      "###################################### VALIDATION Loss ###########################################\n",
      "Last estimator val1_error 4.338866\n",
      "Last estimator val2_error 3.56342\n",
      "Last estimator val3_error 4.3154\n",
      "val_avg_error 4.0725620000000005\n",
      "##################################################################################################\n",
      "\n",
      " False \n",
      "\n",
      "\n",
      " False \n",
      "\n",
      "\n",
      " False \n",
      "\n",
      "\n",
      " False \n",
      "\n",
      "\n",
      " False \n",
      "\n",
      "\n",
      " False \n",
      "\n"
     ]
    },
    {
     "name": "stderr",
     "output_type": "stream",
     "text": [
      "\u001b[32m[I 2023-04-13 14:32:10,629]\u001b[0m Trial 183 finished with value: 4.071453333333333 and parameters: {'tweedie_variance_power': 1.6, 'max_depth': 4, 'learning_rate': 0.048291891464397316, 'subsample': 0.8, 'colsample_bytree': 0.9, 'gamma': 5, 'reg_alpha': 4, 'reg_lambda': 5, 'min_child_weight': 9}. Best is trial 95 with value: 4.066834.\u001b[0m\n"
     ]
    },
    {
     "name": "stdout",
     "output_type": "stream",
     "text": [
      "\n",
      "\n",
      "###################################### VALIDATION Loss ###########################################\n",
      "Last estimator val1_error 4.334521\n",
      "Last estimator val2_error 3.565947\n",
      "Last estimator val3_error 4.313892\n",
      "val_avg_error 4.071453333333333\n",
      "##################################################################################################\n",
      "\n",
      " False \n",
      "\n",
      "\n",
      " False \n",
      "\n",
      "\n",
      " False \n",
      "\n",
      "\n",
      " False \n",
      "\n",
      "\n",
      " False \n",
      "\n",
      "\n",
      " False \n",
      "\n"
     ]
    },
    {
     "name": "stderr",
     "output_type": "stream",
     "text": [
      "\u001b[32m[I 2023-04-13 14:32:23,405]\u001b[0m Trial 184 finished with value: 4.074102 and parameters: {'tweedie_variance_power': 1.6, 'max_depth': 4, 'learning_rate': 0.03685645349890413, 'subsample': 0.8, 'colsample_bytree': 0.9, 'gamma': 5, 'reg_alpha': 4, 'reg_lambda': 5, 'min_child_weight': 9}. Best is trial 95 with value: 4.066834.\u001b[0m\n"
     ]
    },
    {
     "name": "stdout",
     "output_type": "stream",
     "text": [
      "\n",
      "\n",
      "###################################### VALIDATION Loss ###########################################\n",
      "Last estimator val1_error 4.335608\n",
      "Last estimator val2_error 3.566362\n",
      "Last estimator val3_error 4.320336\n",
      "val_avg_error 4.074102\n",
      "##################################################################################################\n",
      "\n",
      " False \n",
      "\n",
      "\n",
      " False \n",
      "\n",
      "\n",
      " False \n",
      "\n",
      "\n",
      " False \n",
      "\n",
      "\n",
      " False \n",
      "\n",
      "\n",
      " False \n",
      "\n"
     ]
    },
    {
     "name": "stderr",
     "output_type": "stream",
     "text": [
      "\u001b[32m[I 2023-04-13 14:32:30,620]\u001b[0m Trial 185 finished with value: 4.071186 and parameters: {'tweedie_variance_power': 1.6, 'max_depth': 4, 'learning_rate': 0.06591659794156875, 'subsample': 0.8, 'colsample_bytree': 0.9, 'gamma': 5, 'reg_alpha': 4, 'reg_lambda': 5, 'min_child_weight': 9}. Best is trial 95 with value: 4.066834.\u001b[0m\n"
     ]
    },
    {
     "name": "stdout",
     "output_type": "stream",
     "text": [
      "\n",
      "\n",
      "###################################### VALIDATION Loss ###########################################\n",
      "Last estimator val1_error 4.335217\n",
      "Last estimator val2_error 3.565534\n",
      "Last estimator val3_error 4.312807\n",
      "val_avg_error 4.071186\n",
      "##################################################################################################\n",
      "\n",
      " False \n",
      "\n",
      "\n",
      " False \n",
      "\n",
      "\n",
      " False \n",
      "\n",
      "\n",
      " False \n",
      "\n",
      "\n",
      " False \n",
      "\n",
      "\n",
      " False \n",
      "\n"
     ]
    },
    {
     "name": "stderr",
     "output_type": "stream",
     "text": [
      "\u001b[32m[I 2023-04-13 14:32:40,683]\u001b[0m Trial 186 finished with value: 4.068803666666667 and parameters: {'tweedie_variance_power': 1.6, 'max_depth': 4, 'learning_rate': 0.04493044325277917, 'subsample': 0.8, 'colsample_bytree': 0.9, 'gamma': 5, 'reg_alpha': 4, 'reg_lambda': 5, 'min_child_weight': 10}. Best is trial 95 with value: 4.066834.\u001b[0m\n"
     ]
    },
    {
     "name": "stdout",
     "output_type": "stream",
     "text": [
      "\n",
      "\n",
      "###################################### VALIDATION Loss ###########################################\n",
      "Last estimator val1_error 4.323666\n",
      "Last estimator val2_error 3.565662\n",
      "Last estimator val3_error 4.317083\n",
      "val_avg_error 4.068803666666667\n",
      "##################################################################################################\n",
      "\n",
      " False \n",
      "\n",
      "\n",
      " False \n",
      "\n",
      "\n",
      " False \n",
      "\n",
      "\n",
      " False \n",
      "\n",
      "\n",
      " False \n",
      "\n",
      "\n",
      " False \n",
      "\n"
     ]
    },
    {
     "name": "stderr",
     "output_type": "stream",
     "text": [
      "\u001b[32m[I 2023-04-13 14:32:48,261]\u001b[0m Trial 187 finished with value: 4.074237 and parameters: {'tweedie_variance_power': 1.6, 'max_depth': 4, 'learning_rate': 0.06078463984358561, 'subsample': 0.8, 'colsample_bytree': 0.9, 'gamma': 5, 'reg_alpha': 4, 'reg_lambda': 5, 'min_child_weight': 10}. Best is trial 95 with value: 4.066834.\u001b[0m\n"
     ]
    },
    {
     "name": "stdout",
     "output_type": "stream",
     "text": [
      "\n",
      "\n",
      "###################################### VALIDATION Loss ###########################################\n",
      "Last estimator val1_error 4.337301\n",
      "Last estimator val2_error 3.56731\n",
      "Last estimator val3_error 4.3181\n",
      "val_avg_error 4.074237\n",
      "##################################################################################################\n",
      "\n",
      " False \n",
      "\n",
      "\n",
      " False \n",
      "\n",
      "\n",
      " False \n",
      "\n",
      "\n",
      " False \n",
      "\n",
      "\n",
      " False \n",
      "\n",
      "\n",
      " False \n",
      "\n"
     ]
    },
    {
     "name": "stderr",
     "output_type": "stream",
     "text": [
      "\u001b[32m[I 2023-04-13 14:32:57,196]\u001b[0m Trial 188 finished with value: 4.068755666666666 and parameters: {'tweedie_variance_power': 1.6, 'max_depth': 4, 'learning_rate': 0.07868176732999038, 'subsample': 0.8, 'colsample_bytree': 0.9, 'gamma': 5, 'reg_alpha': 4, 'reg_lambda': 5, 'min_child_weight': 8}. Best is trial 95 with value: 4.066834.\u001b[0m\n"
     ]
    },
    {
     "name": "stdout",
     "output_type": "stream",
     "text": [
      "\n",
      "\n",
      "###################################### VALIDATION Loss ###########################################\n",
      "Last estimator val1_error 4.329482\n",
      "Last estimator val2_error 3.561975\n",
      "Last estimator val3_error 4.31481\n",
      "val_avg_error 4.068755666666666\n",
      "##################################################################################################\n",
      "\n",
      " False \n",
      "\n",
      "\n",
      " False \n",
      "\n",
      "\n",
      " False \n",
      "\n",
      "\n",
      " False \n",
      "\n",
      "\n",
      " False \n",
      "\n",
      "\n",
      " False \n",
      "\n"
     ]
    },
    {
     "name": "stderr",
     "output_type": "stream",
     "text": [
      "\u001b[32m[I 2023-04-13 14:33:11,346]\u001b[0m Trial 189 finished with value: 4.071222 and parameters: {'tweedie_variance_power': 1.6, 'max_depth': 4, 'learning_rate': 0.04005983264521185, 'subsample': 0.8, 'colsample_bytree': 0.9, 'gamma': 5, 'reg_alpha': 4, 'reg_lambda': 5, 'min_child_weight': 10}. Best is trial 95 with value: 4.066834.\u001b[0m\n"
     ]
    },
    {
     "name": "stdout",
     "output_type": "stream",
     "text": [
      "\n",
      "\n",
      "###################################### VALIDATION Loss ###########################################\n",
      "Last estimator val1_error 4.330018\n",
      "Last estimator val2_error 3.563823\n",
      "Last estimator val3_error 4.319825\n",
      "val_avg_error 4.071222\n",
      "##################################################################################################\n",
      "\n",
      " False \n",
      "\n",
      "\n",
      " False \n",
      "\n",
      "\n",
      " False \n",
      "\n",
      "\n",
      " False \n",
      "\n",
      "\n",
      " False \n",
      "\n",
      "\n",
      " False \n",
      "\n"
     ]
    },
    {
     "name": "stderr",
     "output_type": "stream",
     "text": [
      "\u001b[32m[I 2023-04-13 14:33:24,461]\u001b[0m Trial 190 finished with value: 4.087925333333334 and parameters: {'tweedie_variance_power': 1.5, 'max_depth': 4, 'learning_rate': 0.05337115997818532, 'subsample': 0.8, 'colsample_bytree': 0.9, 'gamma': 5, 'reg_alpha': 4, 'reg_lambda': 5, 'min_child_weight': 8}. Best is trial 95 with value: 4.066834.\u001b[0m\n"
     ]
    },
    {
     "name": "stdout",
     "output_type": "stream",
     "text": [
      "\n",
      "\n",
      "###################################### VALIDATION Loss ###########################################\n",
      "Last estimator val1_error 4.396195\n",
      "Last estimator val2_error 3.490852\n",
      "Last estimator val3_error 4.376729\n",
      "val_avg_error 4.087925333333334\n",
      "##################################################################################################\n",
      "\n",
      " False \n",
      "\n",
      "\n",
      " False \n",
      "\n",
      "\n",
      " False \n",
      "\n",
      "\n",
      " False \n",
      "\n",
      "\n",
      " False \n",
      "\n",
      "\n",
      " False \n",
      "\n"
     ]
    },
    {
     "name": "stderr",
     "output_type": "stream",
     "text": [
      "\u001b[32m[I 2023-04-13 14:33:33,561]\u001b[0m Trial 191 finished with value: 4.0738883333333336 and parameters: {'tweedie_variance_power': 1.6, 'max_depth': 4, 'learning_rate': 0.07675363095186466, 'subsample': 0.8, 'colsample_bytree': 0.9, 'gamma': 5, 'reg_alpha': 4, 'reg_lambda': 5, 'min_child_weight': 10}. Best is trial 95 with value: 4.066834.\u001b[0m\n"
     ]
    },
    {
     "name": "stdout",
     "output_type": "stream",
     "text": [
      "\n",
      "\n",
      "###################################### VALIDATION Loss ###########################################\n",
      "Last estimator val1_error 4.336785\n",
      "Last estimator val2_error 3.559978\n",
      "Last estimator val3_error 4.324902\n",
      "val_avg_error 4.0738883333333336\n",
      "##################################################################################################\n",
      "\n",
      " False \n",
      "\n",
      "\n",
      " False \n",
      "\n",
      "\n",
      " False \n",
      "\n",
      "\n",
      " False \n",
      "\n",
      "\n",
      " False \n",
      "\n",
      "\n",
      " False \n",
      "\n"
     ]
    },
    {
     "name": "stderr",
     "output_type": "stream",
     "text": [
      "\u001b[32m[I 2023-04-13 14:33:40,467]\u001b[0m Trial 192 finished with value: 4.076549666666667 and parameters: {'tweedie_variance_power': 1.6, 'max_depth': 4, 'learning_rate': 0.08389106483547817, 'subsample': 0.8, 'colsample_bytree': 0.9, 'gamma': 5, 'reg_alpha': 4, 'reg_lambda': 5, 'min_child_weight': 10}. Best is trial 95 with value: 4.066834.\u001b[0m\n"
     ]
    },
    {
     "name": "stdout",
     "output_type": "stream",
     "text": [
      "\n",
      "\n",
      "###################################### VALIDATION Loss ###########################################\n",
      "Last estimator val1_error 4.33263\n",
      "Last estimator val2_error 3.569988\n",
      "Last estimator val3_error 4.327031\n",
      "val_avg_error 4.076549666666667\n",
      "##################################################################################################\n",
      "\n",
      " False \n",
      "\n",
      "\n",
      " False \n",
      "\n",
      "\n",
      " False \n",
      "\n",
      "\n",
      " False \n",
      "\n",
      "\n",
      " False \n",
      "\n",
      "\n",
      " False \n",
      "\n"
     ]
    },
    {
     "name": "stderr",
     "output_type": "stream",
     "text": [
      "\u001b[32m[I 2023-04-13 14:33:52,504]\u001b[0m Trial 193 finished with value: 4.075304666666667 and parameters: {'tweedie_variance_power': 1.6, 'max_depth': 4, 'learning_rate': 0.0674438250829374, 'subsample': 0.8, 'colsample_bytree': 0.9, 'gamma': 5, 'reg_alpha': 4, 'reg_lambda': 5, 'min_child_weight': 10}. Best is trial 95 with value: 4.066834.\u001b[0m\n"
     ]
    },
    {
     "name": "stdout",
     "output_type": "stream",
     "text": [
      "\n",
      "\n",
      "###################################### VALIDATION Loss ###########################################\n",
      "Last estimator val1_error 4.345532\n",
      "Last estimator val2_error 3.562963\n",
      "Last estimator val3_error 4.317419\n",
      "val_avg_error 4.075304666666667\n",
      "##################################################################################################\n",
      "\n",
      " False \n",
      "\n",
      "\n",
      " False \n",
      "\n",
      "\n",
      " False \n",
      "\n",
      "\n",
      " False \n",
      "\n",
      "\n",
      " False \n",
      "\n",
      "\n",
      " False \n",
      "\n"
     ]
    },
    {
     "name": "stderr",
     "output_type": "stream",
     "text": [
      "\u001b[32m[I 2023-04-13 14:50:48,878]\u001b[0m Trial 194 finished with value: 4.092667333333334 and parameters: {'tweedie_variance_power': 1.6, 'max_depth': 9, 'learning_rate': 0.059006240423774566, 'subsample': 0.8, 'colsample_bytree': 0.9, 'gamma': 5, 'reg_alpha': 4, 'reg_lambda': 5, 'min_child_weight': 10}. Best is trial 95 with value: 4.066834.\u001b[0m\n"
     ]
    },
    {
     "name": "stdout",
     "output_type": "stream",
     "text": [
      "\n",
      "\n",
      "###################################### VALIDATION Loss ###########################################\n",
      "Last estimator val1_error 4.375069\n",
      "Last estimator val2_error 3.561399\n",
      "Last estimator val3_error 4.341534\n",
      "val_avg_error 4.092667333333334\n",
      "##################################################################################################\n",
      "\n",
      " False \n",
      "\n",
      "\n",
      " False \n",
      "\n",
      "\n",
      " False \n",
      "\n",
      "\n",
      " False \n",
      "\n",
      "\n",
      " False \n",
      "\n",
      "\n",
      " False \n",
      "\n"
     ]
    },
    {
     "name": "stderr",
     "output_type": "stream",
     "text": [
      "\u001b[32m[I 2023-04-13 14:51:36,292]\u001b[0m Trial 195 finished with value: 4.067420666666667 and parameters: {'tweedie_variance_power': 1.6, 'max_depth': 4, 'learning_rate': 0.006611688575262171, 'subsample': 0.8, 'colsample_bytree': 0.9, 'gamma': 5, 'reg_alpha': 4, 'reg_lambda': 5, 'min_child_weight': 8}. Best is trial 95 with value: 4.066834.\u001b[0m\n"
     ]
    },
    {
     "name": "stdout",
     "output_type": "stream",
     "text": [
      "\n",
      "\n",
      "###################################### VALIDATION Loss ###########################################\n",
      "Last estimator val1_error 4.324244\n",
      "Last estimator val2_error 3.565908\n",
      "Last estimator val3_error 4.31211\n",
      "val_avg_error 4.067420666666667\n",
      "##################################################################################################\n",
      "\n",
      " False \n",
      "\n",
      "\n",
      " False \n",
      "\n",
      "\n",
      " False \n",
      "\n",
      "\n",
      " False \n",
      "\n",
      "\n",
      " False \n",
      "\n",
      "\n",
      " False \n",
      "\n"
     ]
    },
    {
     "name": "stderr",
     "output_type": "stream",
     "text": [
      "\u001b[32m[I 2023-04-13 14:51:50,999]\u001b[0m Trial 196 finished with value: 4.071698 and parameters: {'tweedie_variance_power': 1.6, 'max_depth': 4, 'learning_rate': 0.03434737321092715, 'subsample': 0.8, 'colsample_bytree': 0.9, 'gamma': 5, 'reg_alpha': 4, 'reg_lambda': 5, 'min_child_weight': 8}. Best is trial 95 with value: 4.066834.\u001b[0m\n"
     ]
    },
    {
     "name": "stdout",
     "output_type": "stream",
     "text": [
      "\n",
      "\n",
      "###################################### VALIDATION Loss ###########################################\n",
      "Last estimator val1_error 4.331579\n",
      "Last estimator val2_error 3.567459\n",
      "Last estimator val3_error 4.316056\n",
      "val_avg_error 4.071698\n",
      "##################################################################################################\n",
      "\n",
      " False \n",
      "\n",
      "\n",
      " False \n",
      "\n",
      "\n",
      " False \n",
      "\n",
      "\n",
      " False \n",
      "\n",
      "\n",
      " False \n",
      "\n",
      "\n",
      " False \n",
      "\n"
     ]
    },
    {
     "name": "stderr",
     "output_type": "stream",
     "text": [
      "\u001b[32m[I 2023-04-13 14:52:00,716]\u001b[0m Trial 197 finished with value: 4.070767333333333 and parameters: {'tweedie_variance_power': 1.6, 'max_depth': 4, 'learning_rate': 0.046603411551377115, 'subsample': 0.8, 'colsample_bytree': 0.9, 'gamma': 5, 'reg_alpha': 4, 'reg_lambda': 5, 'min_child_weight': 8}. Best is trial 95 with value: 4.066834.\u001b[0m\n"
     ]
    },
    {
     "name": "stdout",
     "output_type": "stream",
     "text": [
      "\n",
      "\n",
      "###################################### VALIDATION Loss ###########################################\n",
      "Last estimator val1_error 4.333046\n",
      "Last estimator val2_error 3.566723\n",
      "Last estimator val3_error 4.312533\n",
      "val_avg_error 4.070767333333333\n",
      "##################################################################################################\n",
      "\n",
      " False \n",
      "\n",
      "\n",
      " False \n",
      "\n",
      "\n",
      " False \n",
      "\n",
      "\n",
      " False \n",
      "\n",
      "\n",
      " False \n",
      "\n",
      "\n",
      " False \n",
      "\n"
     ]
    },
    {
     "name": "stderr",
     "output_type": "stream",
     "text": [
      "\u001b[32m[I 2023-04-13 14:53:25,316]\u001b[0m Trial 198 finished with value: 4.125525 and parameters: {'tweedie_variance_power': 1.6, 'max_depth': 4, 'learning_rate': 0.0016707133742231593, 'subsample': 0.8, 'colsample_bytree': 0.9, 'gamma': 5, 'reg_alpha': 4, 'reg_lambda': 5, 'min_child_weight': 7}. Best is trial 95 with value: 4.066834.\u001b[0m\n"
     ]
    },
    {
     "name": "stdout",
     "output_type": "stream",
     "text": [
      "\n",
      "\n",
      "###################################### VALIDATION Loss ###########################################\n",
      "Last estimator val1_error 4.465667\n",
      "Last estimator val2_error 3.59146\n",
      "Last estimator val3_error 4.319448\n",
      "val_avg_error 4.125525\n",
      "##################################################################################################\n",
      "\n",
      " False \n",
      "\n",
      "\n",
      " False \n",
      "\n",
      "\n",
      " False \n",
      "\n",
      "\n",
      " False \n",
      "\n",
      "\n",
      " False \n",
      "\n",
      "\n",
      " False \n",
      "\n"
     ]
    },
    {
     "name": "stderr",
     "output_type": "stream",
     "text": [
      "\u001b[32m[I 2023-04-13 14:53:38,051]\u001b[0m Trial 199 finished with value: 4.068494666666666 and parameters: {'tweedie_variance_power': 1.6, 'max_depth': 4, 'learning_rate': 0.040835484053030696, 'subsample': 0.8, 'colsample_bytree': 0.9, 'gamma': 5, 'reg_alpha': 4, 'reg_lambda': 5, 'min_child_weight': 9}. Best is trial 95 with value: 4.066834.\u001b[0m\n"
     ]
    },
    {
     "name": "stdout",
     "output_type": "stream",
     "text": [
      "\n",
      "\n",
      "###################################### VALIDATION Loss ###########################################\n",
      "Last estimator val1_error 4.327989\n",
      "Last estimator val2_error 3.563497\n",
      "Last estimator val3_error 4.313998\n",
      "val_avg_error 4.068494666666666\n",
      "##################################################################################################\n",
      "\n",
      " False \n",
      "\n",
      "\n",
      " False \n",
      "\n",
      "\n",
      " False \n",
      "\n",
      "\n",
      " False \n",
      "\n",
      "\n",
      " False \n",
      "\n",
      "\n",
      " False \n",
      "\n"
     ]
    },
    {
     "name": "stderr",
     "output_type": "stream",
     "text": [
      "\u001b[32m[I 2023-04-13 14:54:27,307]\u001b[0m Trial 200 finished with value: 4.073098333333333 and parameters: {'tweedie_variance_power': 1.6, 'max_depth': 5, 'learning_rate': 0.0062429640483851415, 'subsample': 0.7000000000000001, 'colsample_bytree': 0.9, 'gamma': 5, 'reg_alpha': 4, 'reg_lambda': 5, 'min_child_weight': 7}. Best is trial 95 with value: 4.066834.\u001b[0m\n"
     ]
    },
    {
     "name": "stdout",
     "output_type": "stream",
     "text": [
      "\n",
      "\n",
      "###################################### VALIDATION Loss ###########################################\n",
      "Last estimator val1_error 4.338594\n",
      "Last estimator val2_error 3.558961\n",
      "Last estimator val3_error 4.32174\n",
      "val_avg_error 4.073098333333333\n",
      "##################################################################################################\n",
      "\n",
      " False \n",
      "\n",
      "\n",
      " False \n",
      "\n",
      "\n",
      " False \n",
      "\n",
      "\n",
      " False \n",
      "\n",
      "\n",
      " False \n",
      "\n",
      "\n",
      " False \n",
      "\n"
     ]
    },
    {
     "name": "stderr",
     "output_type": "stream",
     "text": [
      "\u001b[32m[I 2023-04-13 14:54:35,785]\u001b[0m Trial 201 finished with value: 4.074614 and parameters: {'tweedie_variance_power': 1.6, 'max_depth': 4, 'learning_rate': 0.039224817522143324, 'subsample': 0.8, 'colsample_bytree': 0.9, 'gamma': 5, 'reg_alpha': 4, 'reg_lambda': 5, 'min_child_weight': 9}. Best is trial 95 with value: 4.066834.\u001b[0m\n"
     ]
    },
    {
     "name": "stdout",
     "output_type": "stream",
     "text": [
      "\n",
      "\n",
      "###################################### VALIDATION Loss ###########################################\n",
      "Last estimator val1_error 4.339114\n",
      "Last estimator val2_error 3.567451\n",
      "Last estimator val3_error 4.317277\n",
      "val_avg_error 4.074614\n",
      "##################################################################################################\n",
      "\n",
      " False \n",
      "\n",
      "\n",
      " False \n",
      "\n",
      "\n",
      " False \n",
      "\n",
      "\n",
      " False \n",
      "\n",
      "\n",
      " False \n",
      "\n",
      "\n",
      " False \n",
      "\n"
     ]
    },
    {
     "name": "stderr",
     "output_type": "stream",
     "text": [
      "\u001b[32m[I 2023-04-13 14:54:46,530]\u001b[0m Trial 202 finished with value: 4.067235666666667 and parameters: {'tweedie_variance_power': 1.6, 'max_depth': 4, 'learning_rate': 0.044876705788266864, 'subsample': 0.8, 'colsample_bytree': 0.9, 'gamma': 5, 'reg_alpha': 4, 'reg_lambda': 5, 'min_child_weight': 8}. Best is trial 95 with value: 4.066834.\u001b[0m\n"
     ]
    },
    {
     "name": "stdout",
     "output_type": "stream",
     "text": [
      "\n",
      "\n",
      "###################################### VALIDATION Loss ###########################################\n",
      "Last estimator val1_error 4.323595\n",
      "Last estimator val2_error 3.563697\n",
      "Last estimator val3_error 4.314415\n",
      "val_avg_error 4.067235666666667\n",
      "##################################################################################################\n",
      "\n",
      " False \n",
      "\n",
      "\n",
      " False \n",
      "\n",
      "\n",
      " False \n",
      "\n",
      "\n",
      " False \n",
      "\n",
      "\n",
      " False \n",
      "\n",
      "\n",
      " False \n",
      "\n"
     ]
    },
    {
     "name": "stderr",
     "output_type": "stream",
     "text": [
      "\u001b[32m[I 2023-04-13 14:55:01,352]\u001b[0m Trial 203 finished with value: 4.07223 and parameters: {'tweedie_variance_power': 1.6, 'max_depth': 4, 'learning_rate': 0.03467306247533011, 'subsample': 0.8, 'colsample_bytree': 0.9, 'gamma': 5, 'reg_alpha': 4, 'reg_lambda': 5, 'min_child_weight': 8}. Best is trial 95 with value: 4.066834.\u001b[0m\n"
     ]
    },
    {
     "name": "stdout",
     "output_type": "stream",
     "text": [
      "\n",
      "\n",
      "###################################### VALIDATION Loss ###########################################\n",
      "Last estimator val1_error 4.333652\n",
      "Last estimator val2_error 3.567713\n",
      "Last estimator val3_error 4.315325\n",
      "val_avg_error 4.07223\n",
      "##################################################################################################\n",
      "\n",
      " False \n",
      "\n",
      "\n",
      " False \n",
      "\n",
      "\n",
      " False \n",
      "\n",
      "\n",
      " False \n",
      "\n",
      "\n",
      " False \n",
      "\n",
      "\n",
      " False \n",
      "\n"
     ]
    },
    {
     "name": "stderr",
     "output_type": "stream",
     "text": [
      "\u001b[32m[I 2023-04-13 14:55:10,663]\u001b[0m Trial 204 finished with value: 4.083485666666667 and parameters: {'tweedie_variance_power': 1.6, 'max_depth': 4, 'learning_rate': 0.043608121599906485, 'subsample': 0.4, 'colsample_bytree': 0.9, 'gamma': 5, 'reg_alpha': 4, 'reg_lambda': 5, 'min_child_weight': 8}. Best is trial 95 with value: 4.066834.\u001b[0m\n"
     ]
    },
    {
     "name": "stdout",
     "output_type": "stream",
     "text": [
      "\n",
      "\n",
      "###################################### VALIDATION Loss ###########################################\n",
      "Last estimator val1_error 4.350253\n",
      "Last estimator val2_error 3.56415\n",
      "Last estimator val3_error 4.336054\n",
      "val_avg_error 4.083485666666667\n",
      "##################################################################################################\n",
      "\n",
      " False \n",
      "\n",
      "\n",
      " False \n",
      "\n",
      "\n",
      " False \n",
      "\n",
      "\n",
      " False \n",
      "\n",
      "\n",
      " False \n",
      "\n",
      "\n",
      " False \n",
      "\n"
     ]
    },
    {
     "name": "stderr",
     "output_type": "stream",
     "text": [
      "\u001b[32m[I 2023-04-13 14:55:20,288]\u001b[0m Trial 205 finished with value: 4.074585 and parameters: {'tweedie_variance_power': 1.6, 'max_depth': 4, 'learning_rate': 0.0725694081192752, 'subsample': 0.8, 'colsample_bytree': 0.9, 'gamma': 5, 'reg_alpha': 4, 'reg_lambda': 5, 'min_child_weight': 8}. Best is trial 95 with value: 4.066834.\u001b[0m\n"
     ]
    },
    {
     "name": "stdout",
     "output_type": "stream",
     "text": [
      "\n",
      "\n",
      "###################################### VALIDATION Loss ###########################################\n",
      "Last estimator val1_error 4.339038\n",
      "Last estimator val2_error 3.564693\n",
      "Last estimator val3_error 4.320024\n",
      "val_avg_error 4.074585\n",
      "##################################################################################################\n",
      "\n",
      " False \n",
      "\n",
      "\n",
      " False \n",
      "\n",
      "\n",
      " False \n",
      "\n",
      "\n",
      " False \n",
      "\n",
      "\n",
      " False \n",
      "\n",
      "\n",
      " False \n",
      "\n"
     ]
    },
    {
     "name": "stderr",
     "output_type": "stream",
     "text": [
      "\u001b[32m[I 2023-04-13 14:55:29,637]\u001b[0m Trial 206 finished with value: 4.0705946666666675 and parameters: {'tweedie_variance_power': 1.6, 'max_depth': 4, 'learning_rate': 0.054986322797022515, 'subsample': 0.8, 'colsample_bytree': 0.9, 'gamma': 5, 'reg_alpha': 4, 'reg_lambda': 5, 'min_child_weight': 7}. Best is trial 95 with value: 4.066834.\u001b[0m\n"
     ]
    },
    {
     "name": "stdout",
     "output_type": "stream",
     "text": [
      "\n",
      "\n",
      "###################################### VALIDATION Loss ###########################################\n",
      "Last estimator val1_error 4.333764\n",
      "Last estimator val2_error 3.565417\n",
      "Last estimator val3_error 4.312603\n",
      "val_avg_error 4.0705946666666675\n",
      "##################################################################################################\n",
      "\n",
      " False \n",
      "\n",
      "\n",
      " False \n",
      "\n",
      "\n",
      " False \n",
      "\n",
      "\n",
      " False \n",
      "\n",
      "\n",
      " False \n",
      "\n",
      "\n",
      " False \n",
      "\n"
     ]
    },
    {
     "name": "stderr",
     "output_type": "stream",
     "text": [
      "\u001b[32m[I 2023-04-13 14:55:40,505]\u001b[0m Trial 207 finished with value: 4.0762453333333335 and parameters: {'tweedie_variance_power': 1.6, 'max_depth': 4, 'learning_rate': 0.0378159727677722, 'subsample': 0.8, 'colsample_bytree': 0.9, 'gamma': 5, 'reg_alpha': 4, 'reg_lambda': 5, 'min_child_weight': 8}. Best is trial 95 with value: 4.066834.\u001b[0m\n"
     ]
    },
    {
     "name": "stdout",
     "output_type": "stream",
     "text": [
      "\n",
      "\n",
      "###################################### VALIDATION Loss ###########################################\n",
      "Last estimator val1_error 4.341798\n",
      "Last estimator val2_error 3.569747\n",
      "Last estimator val3_error 4.317191\n",
      "val_avg_error 4.0762453333333335\n",
      "##################################################################################################\n",
      "\n",
      " False \n",
      "\n",
      "\n",
      " False \n",
      "\n",
      "\n",
      " False \n",
      "\n",
      "\n",
      " False \n",
      "\n",
      "\n",
      " False \n",
      "\n",
      "\n",
      " False \n",
      "\n"
     ]
    },
    {
     "name": "stderr",
     "output_type": "stream",
     "text": [
      "\u001b[32m[I 2023-04-13 14:56:11,754]\u001b[0m Trial 208 finished with value: 4.069685 and parameters: {'tweedie_variance_power': 1.6, 'max_depth': 4, 'learning_rate': 0.010949304260035774, 'subsample': 0.8, 'colsample_bytree': 0.9, 'gamma': 5, 'reg_alpha': 4, 'reg_lambda': 5, 'min_child_weight': 8}. Best is trial 95 with value: 4.066834.\u001b[0m\n"
     ]
    },
    {
     "name": "stdout",
     "output_type": "stream",
     "text": [
      "\n",
      "\n",
      "###################################### VALIDATION Loss ###########################################\n",
      "Last estimator val1_error 4.326762\n",
      "Last estimator val2_error 3.565434\n",
      "Last estimator val3_error 4.316859\n",
      "val_avg_error 4.069685\n",
      "##################################################################################################\n",
      "\n",
      " False \n",
      "\n",
      "\n",
      " False \n",
      "\n",
      "\n",
      " False \n",
      "\n",
      "\n",
      " False \n",
      "\n",
      "\n",
      " False \n",
      "\n",
      "\n",
      " False \n",
      "\n"
     ]
    },
    {
     "name": "stderr",
     "output_type": "stream",
     "text": [
      "\u001b[32m[I 2023-04-13 14:57:12,071]\u001b[0m Trial 209 finished with value: 4.086050333333334 and parameters: {'tweedie_variance_power': 1.6, 'max_depth': 4, 'learning_rate': 0.002682519674725694, 'subsample': 0.8, 'colsample_bytree': 0.9, 'gamma': 5, 'reg_alpha': 4, 'reg_lambda': 5, 'min_child_weight': 10}. Best is trial 95 with value: 4.066834.\u001b[0m\n"
     ]
    },
    {
     "name": "stdout",
     "output_type": "stream",
     "text": [
      "\n",
      "\n",
      "###################################### VALIDATION Loss ###########################################\n",
      "Last estimator val1_error 4.368272\n",
      "Last estimator val2_error 3.574122\n",
      "Last estimator val3_error 4.315757\n",
      "val_avg_error 4.086050333333334\n",
      "##################################################################################################\n",
      "\n",
      " False \n",
      "\n",
      "\n",
      " False \n",
      "\n",
      "\n",
      " False \n",
      "\n",
      "\n",
      " False \n",
      "\n",
      "\n",
      " False \n",
      "\n",
      "\n",
      " False \n",
      "\n"
     ]
    },
    {
     "name": "stderr",
     "output_type": "stream",
     "text": [
      "\u001b[32m[I 2023-04-13 14:57:18,972]\u001b[0m Trial 210 finished with value: 4.466237333333334 and parameters: {'tweedie_variance_power': 1.7000000000000002, 'max_depth': 4, 'learning_rate': 0.06359548457652733, 'subsample': 0.9, 'colsample_bytree': 0.9, 'gamma': 5, 'reg_alpha': 4, 'reg_lambda': 5, 'min_child_weight': 9}. Best is trial 95 with value: 4.066834.\u001b[0m\n"
     ]
    },
    {
     "name": "stdout",
     "output_type": "stream",
     "text": [
      "\n",
      "\n",
      "###################################### VALIDATION Loss ###########################################\n",
      "Last estimator val1_error 4.706114\n",
      "Last estimator val2_error 4.006423\n",
      "Last estimator val3_error 4.686175\n",
      "val_avg_error 4.466237333333334\n",
      "##################################################################################################\n",
      "\n",
      " False \n",
      "\n",
      "\n",
      " False \n",
      "\n",
      "\n",
      " False \n",
      "\n",
      "\n",
      " False \n",
      "\n",
      "\n",
      " False \n",
      "\n",
      "\n",
      " False \n",
      "\n"
     ]
    },
    {
     "name": "stderr",
     "output_type": "stream",
     "text": [
      "\u001b[32m[I 2023-04-13 14:57:29,707]\u001b[0m Trial 211 finished with value: 4.071212 and parameters: {'tweedie_variance_power': 1.6, 'max_depth': 4, 'learning_rate': 0.048475355182522516, 'subsample': 0.8, 'colsample_bytree': 0.9, 'gamma': 5, 'reg_alpha': 4, 'reg_lambda': 5, 'min_child_weight': 9}. Best is trial 95 with value: 4.066834.\u001b[0m\n"
     ]
    },
    {
     "name": "stdout",
     "output_type": "stream",
     "text": [
      "\n",
      "\n",
      "###################################### VALIDATION Loss ###########################################\n",
      "Last estimator val1_error 4.335641\n",
      "Last estimator val2_error 3.564574\n",
      "Last estimator val3_error 4.313421\n",
      "val_avg_error 4.071212\n",
      "##################################################################################################\n",
      "\n",
      " False \n",
      "\n",
      "\n",
      " False \n",
      "\n",
      "\n",
      " False \n",
      "\n",
      "\n",
      " False \n",
      "\n",
      "\n",
      " False \n",
      "\n",
      "\n",
      " False \n",
      "\n"
     ]
    },
    {
     "name": "stderr",
     "output_type": "stream",
     "text": [
      "\u001b[32m[I 2023-04-13 14:58:05,929]\u001b[0m Trial 212 finished with value: 4.070579333333334 and parameters: {'tweedie_variance_power': 1.6, 'max_depth': 4, 'learning_rate': 0.007530318511446711, 'subsample': 0.8, 'colsample_bytree': 0.9, 'gamma': 5, 'reg_alpha': 4, 'reg_lambda': 5, 'min_child_weight': 8}. Best is trial 95 with value: 4.066834.\u001b[0m\n"
     ]
    },
    {
     "name": "stdout",
     "output_type": "stream",
     "text": [
      "\n",
      "\n",
      "###################################### VALIDATION Loss ###########################################\n",
      "Last estimator val1_error 4.327401\n",
      "Last estimator val2_error 3.57091\n",
      "Last estimator val3_error 4.313427\n",
      "val_avg_error 4.070579333333334\n",
      "##################################################################################################\n",
      "\n",
      " False \n",
      "\n",
      "\n",
      " False \n",
      "\n",
      "\n",
      " False \n",
      "\n",
      "\n",
      " False \n",
      "\n",
      "\n",
      " False \n",
      "\n",
      "\n",
      " False \n",
      "\n"
     ]
    },
    {
     "name": "stderr",
     "output_type": "stream",
     "text": [
      "\u001b[32m[I 2023-04-13 14:58:17,508]\u001b[0m Trial 213 finished with value: 4.069756 and parameters: {'tweedie_variance_power': 1.6, 'max_depth': 4, 'learning_rate': 0.043870584141763876, 'subsample': 0.8, 'colsample_bytree': 0.9, 'gamma': 5, 'reg_alpha': 4, 'reg_lambda': 5, 'min_child_weight': 9}. Best is trial 95 with value: 4.066834.\u001b[0m\n"
     ]
    },
    {
     "name": "stdout",
     "output_type": "stream",
     "text": [
      "\n",
      "\n",
      "###################################### VALIDATION Loss ###########################################\n",
      "Last estimator val1_error 4.329903\n",
      "Last estimator val2_error 3.56349\n",
      "Last estimator val3_error 4.315875\n",
      "val_avg_error 4.069756\n",
      "##################################################################################################\n",
      "\n",
      " False \n",
      "\n",
      "\n",
      " False \n",
      "\n",
      "\n",
      " False \n",
      "\n",
      "\n",
      " False \n",
      "\n",
      "\n",
      " False \n",
      "\n",
      "\n",
      " False \n",
      "\n"
     ]
    },
    {
     "name": "stderr",
     "output_type": "stream",
     "text": [
      "\u001b[32m[I 2023-04-13 14:58:27,185]\u001b[0m Trial 214 finished with value: 4.0691999999999995 and parameters: {'tweedie_variance_power': 1.6, 'max_depth': 4, 'learning_rate': 0.05164312230186377, 'subsample': 0.8, 'colsample_bytree': 0.9, 'gamma': 5, 'reg_alpha': 4, 'reg_lambda': 5, 'min_child_weight': 9}. Best is trial 95 with value: 4.066834.\u001b[0m\n"
     ]
    },
    {
     "name": "stdout",
     "output_type": "stream",
     "text": [
      "\n",
      "\n",
      "###################################### VALIDATION Loss ###########################################\n",
      "Last estimator val1_error 4.331154\n",
      "Last estimator val2_error 3.564041\n",
      "Last estimator val3_error 4.312405\n",
      "val_avg_error 4.0691999999999995\n",
      "##################################################################################################\n",
      "\n",
      " False \n",
      "\n",
      "\n",
      " False \n",
      "\n",
      "\n",
      " False \n",
      "\n",
      "\n",
      " False \n",
      "\n",
      "\n",
      " False \n",
      "\n",
      "\n",
      " False \n",
      "\n"
     ]
    },
    {
     "name": "stderr",
     "output_type": "stream",
     "text": [
      "\u001b[32m[I 2023-04-13 14:58:44,509]\u001b[0m Trial 215 finished with value: 4.06907 and parameters: {'tweedie_variance_power': 1.6, 'max_depth': 4, 'learning_rate': 0.03073059099163347, 'subsample': 0.8, 'colsample_bytree': 0.9, 'gamma': 5, 'reg_alpha': 4, 'reg_lambda': 5, 'min_child_weight': 9}. Best is trial 95 with value: 4.066834.\u001b[0m\n"
     ]
    },
    {
     "name": "stdout",
     "output_type": "stream",
     "text": [
      "\n",
      "\n",
      "###################################### VALIDATION Loss ###########################################\n",
      "Last estimator val1_error 4.328404\n",
      "Last estimator val2_error 3.564609\n",
      "Last estimator val3_error 4.314197\n",
      "val_avg_error 4.06907\n",
      "##################################################################################################\n",
      "\n",
      " False \n",
      "\n",
      "\n",
      " False \n",
      "\n",
      "\n",
      " False \n",
      "\n",
      "\n",
      " False \n",
      "\n",
      "\n",
      " False \n",
      "\n",
      "\n",
      " False \n",
      "\n"
     ]
    },
    {
     "name": "stderr",
     "output_type": "stream",
     "text": [
      "\u001b[32m[I 2023-04-13 14:58:58,658]\u001b[0m Trial 216 finished with value: 4.073708333333333 and parameters: {'tweedie_variance_power': 1.6, 'max_depth': 4, 'learning_rate': 0.023082956302472698, 'subsample': 0.8, 'colsample_bytree': 0.9, 'gamma': 5, 'reg_alpha': 4, 'reg_lambda': 5, 'min_child_weight': 10}. Best is trial 95 with value: 4.066834.\u001b[0m\n"
     ]
    },
    {
     "name": "stdout",
     "output_type": "stream",
     "text": [
      "\n",
      "\n",
      "###################################### VALIDATION Loss ###########################################\n",
      "Last estimator val1_error 4.331169\n",
      "Last estimator val2_error 3.567532\n",
      "Last estimator val3_error 4.322424\n",
      "val_avg_error 4.073708333333333\n",
      "##################################################################################################\n",
      "\n",
      " False \n",
      "\n",
      "\n",
      " False \n",
      "\n",
      "\n",
      " False \n",
      "\n",
      "\n",
      " False \n",
      "\n",
      "\n",
      " False \n",
      "\n",
      "\n",
      " False \n",
      "\n"
     ]
    },
    {
     "name": "stderr",
     "output_type": "stream",
     "text": [
      "\u001b[32m[I 2023-04-13 14:59:17,427]\u001b[0m Trial 217 finished with value: 4.067969000000001 and parameters: {'tweedie_variance_power': 1.6, 'max_depth': 4, 'learning_rate': 0.027969789345597, 'subsample': 0.7000000000000001, 'colsample_bytree': 1.0, 'gamma': 5, 'reg_alpha': 4, 'reg_lambda': 5, 'min_child_weight': 9}. Best is trial 95 with value: 4.066834.\u001b[0m\n"
     ]
    },
    {
     "name": "stdout",
     "output_type": "stream",
     "text": [
      "\n",
      "\n",
      "###################################### VALIDATION Loss ###########################################\n",
      "Last estimator val1_error 4.327265\n",
      "Last estimator val2_error 3.563772\n",
      "Last estimator val3_error 4.31287\n",
      "val_avg_error 4.067969000000001\n",
      "##################################################################################################\n",
      "\n",
      " False \n",
      "\n",
      "\n",
      " False \n",
      "\n",
      "\n",
      " False \n",
      "\n",
      "\n",
      " False \n",
      "\n",
      "\n",
      " False \n",
      "\n",
      "\n",
      " False \n",
      "\n"
     ]
    },
    {
     "name": "stderr",
     "output_type": "stream",
     "text": [
      "\u001b[32m[I 2023-04-13 14:59:28,611]\u001b[0m Trial 218 finished with value: 4.070293 and parameters: {'tweedie_variance_power': 1.6, 'max_depth': 4, 'learning_rate': 0.02712566307028695, 'subsample': 0.7000000000000001, 'colsample_bytree': 1.0, 'gamma': 5, 'reg_alpha': 4, 'reg_lambda': 5, 'min_child_weight': 9}. Best is trial 95 with value: 4.066834.\u001b[0m\n"
     ]
    },
    {
     "name": "stdout",
     "output_type": "stream",
     "text": [
      "\n",
      "\n",
      "###################################### VALIDATION Loss ###########################################\n",
      "Last estimator val1_error 4.327569\n",
      "Last estimator val2_error 3.569935\n",
      "Last estimator val3_error 4.313375\n",
      "val_avg_error 4.070293\n",
      "##################################################################################################\n",
      "\n",
      " False \n",
      "\n",
      "\n",
      " False \n",
      "\n",
      "\n",
      " False \n",
      "\n",
      "\n",
      " False \n",
      "\n",
      "\n",
      " False \n",
      "\n",
      "\n",
      " False \n",
      "\n"
     ]
    },
    {
     "name": "stderr",
     "output_type": "stream",
     "text": [
      "\u001b[32m[I 2023-04-13 14:59:39,608]\u001b[0m Trial 219 finished with value: 4.1018273333333335 and parameters: {'tweedie_variance_power': 1.6, 'max_depth': 4, 'learning_rate': 0.02943578840299538, 'subsample': 0.2, 'colsample_bytree': 1.0, 'gamma': 5, 'reg_alpha': 4, 'reg_lambda': 5, 'min_child_weight': 9}. Best is trial 95 with value: 4.066834.\u001b[0m\n"
     ]
    },
    {
     "name": "stdout",
     "output_type": "stream",
     "text": [
      "\n",
      "\n",
      "###################################### VALIDATION Loss ###########################################\n",
      "Last estimator val1_error 4.382261\n",
      "Last estimator val2_error 3.582977\n",
      "Last estimator val3_error 4.340244\n",
      "val_avg_error 4.1018273333333335\n",
      "##################################################################################################\n",
      "\n",
      " False \n",
      "\n",
      "\n",
      " False \n",
      "\n",
      "\n",
      " False \n",
      "\n",
      "\n",
      " False \n",
      "\n",
      "\n",
      " False \n",
      "\n",
      "\n",
      " False \n",
      "\n"
     ]
    },
    {
     "name": "stderr",
     "output_type": "stream",
     "text": [
      "\u001b[32m[I 2023-04-13 15:00:02,706]\u001b[0m Trial 220 finished with value: 7.437712 and parameters: {'tweedie_variance_power': 1.2000000000000002, 'max_depth': 4, 'learning_rate': 0.03207037111434938, 'subsample': 0.8, 'colsample_bytree': 1.0, 'gamma': 5, 'reg_alpha': 4, 'reg_lambda': 5, 'min_child_weight': 9}. Best is trial 95 with value: 4.066834.\u001b[0m\n"
     ]
    },
    {
     "name": "stdout",
     "output_type": "stream",
     "text": [
      "\n",
      "\n",
      "###################################### VALIDATION Loss ###########################################\n",
      "Last estimator val1_error 8.219178\n",
      "Last estimator val2_error 5.886149\n",
      "Last estimator val3_error 8.207809\n",
      "val_avg_error 7.437712\n",
      "##################################################################################################\n",
      "\n",
      " False \n",
      "\n",
      "\n",
      " False \n",
      "\n",
      "\n",
      " False \n",
      "\n",
      "\n",
      " False \n",
      "\n",
      "\n",
      " False \n",
      "\n",
      "\n",
      " False \n",
      "\n"
     ]
    },
    {
     "name": "stderr",
     "output_type": "stream",
     "text": [
      "\u001b[32m[I 2023-04-13 15:00:12,984]\u001b[0m Trial 221 finished with value: 4.070443666666667 and parameters: {'tweedie_variance_power': 1.6, 'max_depth': 4, 'learning_rate': 0.03475090985929584, 'subsample': 0.7000000000000001, 'colsample_bytree': 0.9, 'gamma': 5, 'reg_alpha': 4, 'reg_lambda': 5, 'min_child_weight': 9}. Best is trial 95 with value: 4.066834.\u001b[0m\n"
     ]
    },
    {
     "name": "stdout",
     "output_type": "stream",
     "text": [
      "\n",
      "\n",
      "###################################### VALIDATION Loss ###########################################\n",
      "Last estimator val1_error 4.324849\n",
      "Last estimator val2_error 3.567668\n",
      "Last estimator val3_error 4.318814\n",
      "val_avg_error 4.070443666666667\n",
      "##################################################################################################\n",
      "\n",
      " False \n",
      "\n",
      "\n",
      " False \n",
      "\n",
      "\n",
      " False \n",
      "\n",
      "\n",
      " False \n",
      "\n",
      "\n",
      " False \n",
      "\n",
      "\n",
      " False \n",
      "\n"
     ]
    },
    {
     "name": "stderr",
     "output_type": "stream",
     "text": [
      "\u001b[32m[I 2023-04-13 15:00:27,906]\u001b[0m Trial 222 finished with value: 4.070270333333333 and parameters: {'tweedie_variance_power': 1.6, 'max_depth': 4, 'learning_rate': 0.040475338190696444, 'subsample': 0.7000000000000001, 'colsample_bytree': 0.9, 'gamma': 5, 'reg_alpha': 4, 'reg_lambda': 5, 'min_child_weight': 8}. Best is trial 95 with value: 4.066834.\u001b[0m\n"
     ]
    },
    {
     "name": "stdout",
     "output_type": "stream",
     "text": [
      "\n",
      "\n",
      "###################################### VALIDATION Loss ###########################################\n",
      "Last estimator val1_error 4.325867\n",
      "Last estimator val2_error 3.564766\n",
      "Last estimator val3_error 4.320178\n",
      "val_avg_error 4.070270333333333\n",
      "##################################################################################################\n",
      "\n",
      " False \n",
      "\n",
      "\n",
      " False \n",
      "\n",
      "\n",
      " False \n",
      "\n",
      "\n",
      " False \n",
      "\n",
      "\n",
      " False \n",
      "\n",
      "\n",
      " False \n",
      "\n"
     ]
    },
    {
     "name": "stderr",
     "output_type": "stream",
     "text": [
      "\u001b[32m[I 2023-04-13 15:00:45,271]\u001b[0m Trial 223 finished with value: 4.0701496666666666 and parameters: {'tweedie_variance_power': 1.6, 'max_depth': 4, 'learning_rate': 0.02035467496643904, 'subsample': 0.7000000000000001, 'colsample_bytree': 0.9, 'gamma': 5, 'reg_alpha': 4, 'reg_lambda': 5, 'min_child_weight': 2}. Best is trial 95 with value: 4.066834.\u001b[0m\n"
     ]
    },
    {
     "name": "stdout",
     "output_type": "stream",
     "text": [
      "\n",
      "\n",
      "###################################### VALIDATION Loss ###########################################\n",
      "Last estimator val1_error 4.330844\n",
      "Last estimator val2_error 3.564703\n",
      "Last estimator val3_error 4.314902\n",
      "val_avg_error 4.0701496666666666\n",
      "##################################################################################################\n",
      "\n",
      " False \n",
      "\n",
      "\n",
      " False \n",
      "\n",
      "\n",
      " False \n",
      "\n",
      "\n",
      " False \n",
      "\n",
      "\n",
      " False \n",
      "\n",
      "\n",
      " False \n",
      "\n"
     ]
    },
    {
     "name": "stderr",
     "output_type": "stream",
     "text": [
      "\u001b[32m[I 2023-04-13 15:00:54,231]\u001b[0m Trial 224 finished with value: 4.071000000000001 and parameters: {'tweedie_variance_power': 1.6, 'max_depth': 4, 'learning_rate': 0.07940588989896301, 'subsample': 0.8, 'colsample_bytree': 0.9, 'gamma': 5, 'reg_alpha': 4, 'reg_lambda': 5, 'min_child_weight': 2}. Best is trial 95 with value: 4.066834.\u001b[0m\n"
     ]
    },
    {
     "name": "stdout",
     "output_type": "stream",
     "text": [
      "\n",
      "\n",
      "###################################### VALIDATION Loss ###########################################\n",
      "Last estimator val1_error 4.330951\n",
      "Last estimator val2_error 3.561319\n",
      "Last estimator val3_error 4.32073\n",
      "val_avg_error 4.071000000000001\n",
      "##################################################################################################\n",
      "\n",
      " False \n",
      "\n",
      "\n",
      " False \n",
      "\n",
      "\n",
      " False \n",
      "\n",
      "\n",
      " False \n",
      "\n",
      "\n",
      " False \n",
      "\n",
      "\n",
      " False \n",
      "\n"
     ]
    },
    {
     "name": "stderr",
     "output_type": "stream",
     "text": [
      "\u001b[32m[I 2023-04-13 15:01:05,910]\u001b[0m Trial 225 finished with value: 4.072090666666667 and parameters: {'tweedie_variance_power': 1.6, 'max_depth': 4, 'learning_rate': 0.030181315301251756, 'subsample': 0.8, 'colsample_bytree': 0.9, 'gamma': 5, 'reg_alpha': 4, 'reg_lambda': 5, 'min_child_weight': 9}. Best is trial 95 with value: 4.066834.\u001b[0m\n"
     ]
    },
    {
     "name": "stdout",
     "output_type": "stream",
     "text": [
      "\n",
      "\n",
      "###################################### VALIDATION Loss ###########################################\n",
      "Last estimator val1_error 4.330449\n",
      "Last estimator val2_error 3.568611\n",
      "Last estimator val3_error 4.317212\n",
      "val_avg_error 4.072090666666667\n",
      "##################################################################################################\n",
      "\n",
      " False \n",
      "\n",
      "\n",
      " False \n",
      "\n",
      "\n",
      " False \n",
      "\n",
      "\n",
      " False \n",
      "\n",
      "\n",
      " False \n",
      "\n",
      "\n",
      " False \n",
      "\n"
     ]
    },
    {
     "name": "stderr",
     "output_type": "stream",
     "text": [
      "\u001b[32m[I 2023-04-13 15:01:15,902]\u001b[0m Trial 226 finished with value: 4.0690273333333336 and parameters: {'tweedie_variance_power': 1.6, 'max_depth': 4, 'learning_rate': 0.036133960256503166, 'subsample': 0.7000000000000001, 'colsample_bytree': 1.0, 'gamma': 5, 'reg_alpha': 4, 'reg_lambda': 5, 'min_child_weight': 1}. Best is trial 95 with value: 4.066834.\u001b[0m\n"
     ]
    },
    {
     "name": "stdout",
     "output_type": "stream",
     "text": [
      "\n",
      "\n",
      "###################################### VALIDATION Loss ###########################################\n",
      "Last estimator val1_error 4.322602\n",
      "Last estimator val2_error 3.56667\n",
      "Last estimator val3_error 4.31781\n",
      "val_avg_error 4.0690273333333336\n",
      "##################################################################################################\n",
      "\n",
      " False \n",
      "\n",
      "\n",
      " False \n",
      "\n",
      "\n",
      " False \n",
      "\n",
      "\n",
      " False \n",
      "\n",
      "\n",
      " False \n",
      "\n",
      "\n",
      " False \n",
      "\n"
     ]
    },
    {
     "name": "stderr",
     "output_type": "stream",
     "text": [
      "\u001b[32m[I 2023-04-13 15:01:33,534]\u001b[0m Trial 227 finished with value: 4.068214666666667 and parameters: {'tweedie_variance_power': 1.6, 'max_depth': 4, 'learning_rate': 0.02445532972769655, 'subsample': 0.8, 'colsample_bytree': 1.0, 'gamma': 5, 'reg_alpha': 4, 'reg_lambda': 5, 'min_child_weight': 2}. Best is trial 95 with value: 4.066834.\u001b[0m\n"
     ]
    },
    {
     "name": "stdout",
     "output_type": "stream",
     "text": [
      "\n",
      "\n",
      "###################################### VALIDATION Loss ###########################################\n",
      "Last estimator val1_error 4.325424\n",
      "Last estimator val2_error 3.563022\n",
      "Last estimator val3_error 4.316198\n",
      "val_avg_error 4.068214666666667\n",
      "##################################################################################################\n",
      "\n",
      " False \n",
      "\n",
      "\n",
      " False \n",
      "\n",
      "\n",
      " False \n",
      "\n",
      "\n",
      " False \n",
      "\n",
      "\n",
      " False \n",
      "\n",
      "\n",
      " False \n",
      "\n"
     ]
    },
    {
     "name": "stderr",
     "output_type": "stream",
     "text": [
      "\u001b[32m[I 2023-04-13 15:01:49,149]\u001b[0m Trial 228 finished with value: 4.067797666666666 and parameters: {'tweedie_variance_power': 1.6, 'max_depth': 4, 'learning_rate': 0.03522293132963262, 'subsample': 0.7000000000000001, 'colsample_bytree': 1.0, 'gamma': 5, 'reg_alpha': 4, 'reg_lambda': 5, 'min_child_weight': 2}. Best is trial 95 with value: 4.066834.\u001b[0m\n"
     ]
    },
    {
     "name": "stdout",
     "output_type": "stream",
     "text": [
      "\n",
      "\n",
      "###################################### VALIDATION Loss ###########################################\n",
      "Last estimator val1_error 4.325798\n",
      "Last estimator val2_error 3.563729\n",
      "Last estimator val3_error 4.313866\n",
      "val_avg_error 4.067797666666666\n",
      "##################################################################################################\n",
      "\n",
      " False \n",
      "\n",
      "\n",
      " False \n",
      "\n",
      "\n",
      " False \n",
      "\n",
      "\n",
      " False \n",
      "\n",
      "\n",
      " False \n",
      "\n",
      "\n",
      " False \n",
      "\n"
     ]
    },
    {
     "name": "stderr",
     "output_type": "stream",
     "text": [
      "\u001b[32m[I 2023-04-13 15:02:16,083]\u001b[0m Trial 229 finished with value: 4.088124333333333 and parameters: {'tweedie_variance_power': 1.6, 'max_depth': 10, 'learning_rate': 0.025355265525889105, 'subsample': 0.6, 'colsample_bytree': 1.0, 'gamma': 5, 'reg_alpha': 4, 'reg_lambda': 5, 'min_child_weight': 2}. Best is trial 95 with value: 4.066834.\u001b[0m\n"
     ]
    },
    {
     "name": "stdout",
     "output_type": "stream",
     "text": [
      "\n",
      "\n",
      "###################################### VALIDATION Loss ###########################################\n",
      "Last estimator val1_error 4.368302\n",
      "Last estimator val2_error 3.549702\n",
      "Last estimator val3_error 4.346369\n",
      "val_avg_error 4.088124333333333\n",
      "##################################################################################################\n",
      "\n",
      " False \n",
      "\n",
      "\n",
      " False \n",
      "\n",
      "\n",
      " False \n",
      "\n",
      "\n",
      " False \n",
      "\n",
      "\n",
      " False \n",
      "\n",
      "\n",
      " False \n",
      "\n"
     ]
    },
    {
     "name": "stderr",
     "output_type": "stream",
     "text": [
      "\u001b[32m[I 2023-04-13 15:02:24,544]\u001b[0m Trial 230 finished with value: 4.074686333333333 and parameters: {'tweedie_variance_power': 1.6, 'max_depth': 4, 'learning_rate': 0.08911635477450065, 'subsample': 0.8, 'colsample_bytree': 1.0, 'gamma': 5, 'reg_alpha': 2, 'reg_lambda': 5, 'min_child_weight': 2}. Best is trial 95 with value: 4.066834.\u001b[0m\n"
     ]
    },
    {
     "name": "stdout",
     "output_type": "stream",
     "text": [
      "\n",
      "\n",
      "###################################### VALIDATION Loss ###########################################\n",
      "Last estimator val1_error 4.340476\n",
      "Last estimator val2_error 3.567125\n",
      "Last estimator val3_error 4.316458\n",
      "val_avg_error 4.074686333333333\n",
      "##################################################################################################\n",
      "\n",
      " False \n",
      "\n",
      "\n",
      " False \n",
      "\n",
      "\n",
      " False \n",
      "\n",
      "\n",
      " False \n",
      "\n",
      "\n",
      " False \n",
      "\n",
      "\n",
      " False \n",
      "\n"
     ]
    },
    {
     "name": "stderr",
     "output_type": "stream",
     "text": [
      "\u001b[32m[I 2023-04-13 15:02:37,239]\u001b[0m Trial 231 finished with value: 4.067980333333334 and parameters: {'tweedie_variance_power': 1.6, 'max_depth': 4, 'learning_rate': 0.03509996453327621, 'subsample': 0.7000000000000001, 'colsample_bytree': 1.0, 'gamma': 5, 'reg_alpha': 4, 'reg_lambda': 5, 'min_child_weight': 2}. Best is trial 95 with value: 4.066834.\u001b[0m\n"
     ]
    },
    {
     "name": "stdout",
     "output_type": "stream",
     "text": [
      "\n",
      "\n",
      "###################################### VALIDATION Loss ###########################################\n",
      "Last estimator val1_error 4.323301\n",
      "Last estimator val2_error 3.563673\n",
      "Last estimator val3_error 4.316967\n",
      "val_avg_error 4.067980333333334\n",
      "##################################################################################################\n",
      "\n",
      " False \n",
      "\n",
      "\n",
      " False \n",
      "\n",
      "\n",
      " False \n",
      "\n",
      "\n",
      " False \n",
      "\n",
      "\n",
      " False \n",
      "\n",
      "\n",
      " False \n",
      "\n"
     ]
    },
    {
     "name": "stderr",
     "output_type": "stream",
     "text": [
      "\u001b[32m[I 2023-04-13 15:02:49,258]\u001b[0m Trial 232 finished with value: 4.0667393333333335 and parameters: {'tweedie_variance_power': 1.6, 'max_depth': 4, 'learning_rate': 0.03781099119927495, 'subsample': 0.7000000000000001, 'colsample_bytree': 1.0, 'gamma': 5, 'reg_alpha': 4, 'reg_lambda': 5, 'min_child_weight': 2}. Best is trial 232 with value: 4.0667393333333335.\u001b[0m\n"
     ]
    },
    {
     "name": "stdout",
     "output_type": "stream",
     "text": [
      "\n",
      "\n",
      "###################################### VALIDATION Loss ###########################################\n",
      "Last estimator val1_error 4.324105\n",
      "Last estimator val2_error 3.564915\n",
      "Last estimator val3_error 4.311198\n",
      "val_avg_error 4.0667393333333335\n",
      "##################################################################################################\n",
      "\n",
      " False \n",
      "\n",
      "\n",
      " False \n",
      "\n",
      "\n",
      " False \n",
      "\n",
      "\n",
      " False \n",
      "\n",
      "\n",
      " False \n",
      "\n",
      "\n",
      " False \n",
      "\n"
     ]
    },
    {
     "name": "stderr",
     "output_type": "stream",
     "text": [
      "\u001b[32m[I 2023-04-13 15:03:11,745]\u001b[0m Trial 233 finished with value: 4.068994666666667 and parameters: {'tweedie_variance_power': 1.6, 'max_depth': 4, 'learning_rate': 0.02260527687312473, 'subsample': 0.7000000000000001, 'colsample_bytree': 1.0, 'gamma': 3, 'reg_alpha': 4, 'reg_lambda': 5, 'min_child_weight': 2}. Best is trial 232 with value: 4.0667393333333335.\u001b[0m\n"
     ]
    },
    {
     "name": "stdout",
     "output_type": "stream",
     "text": [
      "\n",
      "\n",
      "###################################### VALIDATION Loss ###########################################\n",
      "Last estimator val1_error 4.330808\n",
      "Last estimator val2_error 3.559773\n",
      "Last estimator val3_error 4.316403\n",
      "val_avg_error 4.068994666666667\n",
      "##################################################################################################\n",
      "\n",
      " False \n",
      "\n",
      "\n",
      " False \n",
      "\n",
      "\n",
      " False \n",
      "\n",
      "\n",
      " False \n",
      "\n",
      "\n",
      " False \n",
      "\n",
      "\n",
      " False \n",
      "\n"
     ]
    },
    {
     "name": "stderr",
     "output_type": "stream",
     "text": [
      "\u001b[32m[I 2023-04-13 15:03:25,872]\u001b[0m Trial 234 finished with value: 4.070668 and parameters: {'tweedie_variance_power': 1.6, 'max_depth': 4, 'learning_rate': 0.03363349859845728, 'subsample': 0.8, 'colsample_bytree': 1.0, 'gamma': 5, 'reg_alpha': 4, 'reg_lambda': 5, 'min_child_weight': 2}. Best is trial 232 with value: 4.0667393333333335.\u001b[0m\n"
     ]
    },
    {
     "name": "stdout",
     "output_type": "stream",
     "text": [
      "\n",
      "\n",
      "###################################### VALIDATION Loss ###########################################\n",
      "Last estimator val1_error 4.333151\n",
      "Last estimator val2_error 3.566497\n",
      "Last estimator val3_error 4.312356\n",
      "val_avg_error 4.070668\n",
      "##################################################################################################\n",
      "\n",
      " False \n",
      "\n",
      "\n",
      " False \n",
      "\n",
      "\n",
      " False \n",
      "\n",
      "\n",
      " False \n",
      "\n",
      "\n",
      " False \n",
      "\n",
      "\n",
      " False \n",
      "\n"
     ]
    },
    {
     "name": "stderr",
     "output_type": "stream",
     "text": [
      "\u001b[32m[I 2023-04-13 15:03:43,156]\u001b[0m Trial 235 finished with value: 4.068904666666667 and parameters: {'tweedie_variance_power': 1.6, 'max_depth': 4, 'learning_rate': 0.040218138378813564, 'subsample': 0.7000000000000001, 'colsample_bytree': 1.0, 'gamma': 5, 'reg_alpha': 4, 'reg_lambda': 5, 'min_child_weight': 2}. Best is trial 232 with value: 4.0667393333333335.\u001b[0m\n"
     ]
    },
    {
     "name": "stdout",
     "output_type": "stream",
     "text": [
      "\n",
      "\n",
      "###################################### VALIDATION Loss ###########################################\n",
      "Last estimator val1_error 4.323206\n",
      "Last estimator val2_error 3.561849\n",
      "Last estimator val3_error 4.321659\n",
      "val_avg_error 4.068904666666667\n",
      "##################################################################################################\n",
      "\n",
      " False \n",
      "\n",
      "\n",
      " False \n",
      "\n",
      "\n",
      " False \n",
      "\n",
      "\n",
      " False \n",
      "\n",
      "\n",
      " False \n",
      "\n",
      "\n",
      " False \n",
      "\n"
     ]
    },
    {
     "name": "stderr",
     "output_type": "stream",
     "text": [
      "\u001b[32m[I 2023-04-13 15:03:59,997]\u001b[0m Trial 236 finished with value: 4.069079666666667 and parameters: {'tweedie_variance_power': 1.6, 'max_depth': 4, 'learning_rate': 0.02670617442339745, 'subsample': 0.8, 'colsample_bytree': 1.0, 'gamma': 5, 'reg_alpha': 4, 'reg_lambda': 5, 'min_child_weight': 2}. Best is trial 232 with value: 4.0667393333333335.\u001b[0m\n"
     ]
    },
    {
     "name": "stdout",
     "output_type": "stream",
     "text": [
      "\n",
      "\n",
      "###################################### VALIDATION Loss ###########################################\n",
      "Last estimator val1_error 4.322769\n",
      "Last estimator val2_error 3.564991\n",
      "Last estimator val3_error 4.319479\n",
      "val_avg_error 4.069079666666667\n",
      "##################################################################################################\n",
      "\n",
      " False \n",
      "\n",
      "\n",
      " False \n",
      "\n",
      "\n",
      " False \n",
      "\n",
      "\n",
      " False \n",
      "\n",
      "\n",
      " False \n",
      "\n",
      "\n",
      " False \n",
      "\n"
     ]
    },
    {
     "name": "stderr",
     "output_type": "stream",
     "text": [
      "\u001b[32m[I 2023-04-13 15:04:10,712]\u001b[0m Trial 237 finished with value: 4.0742606666666665 and parameters: {'tweedie_variance_power': 1.6, 'max_depth': 4, 'learning_rate': 0.07215053163734067, 'subsample': 0.6, 'colsample_bytree': 1.0, 'gamma': 5, 'reg_alpha': 4, 'reg_lambda': 5, 'min_child_weight': 2}. Best is trial 232 with value: 4.0667393333333335.\u001b[0m\n"
     ]
    },
    {
     "name": "stdout",
     "output_type": "stream",
     "text": [
      "\n",
      "\n",
      "###################################### VALIDATION Loss ###########################################\n",
      "Last estimator val1_error 4.339273\n",
      "Last estimator val2_error 3.565725\n",
      "Last estimator val3_error 4.317784\n",
      "val_avg_error 4.0742606666666665\n",
      "##################################################################################################\n",
      "\n",
      " False \n",
      "\n",
      "\n",
      " False \n",
      "\n",
      "\n",
      " False \n",
      "\n",
      "\n",
      " False \n",
      "\n",
      "\n",
      " False \n",
      "\n",
      "\n",
      " False \n",
      "\n"
     ]
    },
    {
     "name": "stderr",
     "output_type": "stream",
     "text": [
      "\u001b[32m[I 2023-04-13 15:05:09,108]\u001b[0m Trial 238 finished with value: 4.069377 and parameters: {'tweedie_variance_power': 1.6, 'max_depth': 4, 'learning_rate': 0.004806342143250523, 'subsample': 0.7000000000000001, 'colsample_bytree': 1.0, 'gamma': 5, 'reg_alpha': 4, 'reg_lambda': 4, 'min_child_weight': 2}. Best is trial 232 with value: 4.0667393333333335.\u001b[0m\n"
     ]
    },
    {
     "name": "stdout",
     "output_type": "stream",
     "text": [
      "\n",
      "\n",
      "###################################### VALIDATION Loss ###########################################\n",
      "Last estimator val1_error 4.330445\n",
      "Last estimator val2_error 3.566216\n",
      "Last estimator val3_error 4.31147\n",
      "val_avg_error 4.069377\n",
      "##################################################################################################\n",
      "\n",
      " False \n",
      "\n",
      "\n",
      " False \n",
      "\n",
      "\n",
      " False \n",
      "\n",
      "\n",
      " False \n",
      "\n",
      "\n",
      " False \n",
      "\n",
      "\n",
      " False \n",
      "\n"
     ]
    },
    {
     "name": "stderr",
     "output_type": "stream",
     "text": [
      "\u001b[32m[I 2023-04-13 15:05:21,620]\u001b[0m Trial 239 finished with value: 4.074154333333333 and parameters: {'tweedie_variance_power': 1.6, 'max_depth': 5, 'learning_rate': 0.04166874766728017, 'subsample': 0.8, 'colsample_bytree': 1.0, 'gamma': 5, 'reg_alpha': 0, 'reg_lambda': 5, 'min_child_weight': 2}. Best is trial 232 with value: 4.0667393333333335.\u001b[0m\n"
     ]
    },
    {
     "name": "stdout",
     "output_type": "stream",
     "text": [
      "\n",
      "\n",
      "###################################### VALIDATION Loss ###########################################\n",
      "Last estimator val1_error 4.338331\n",
      "Last estimator val2_error 3.554119\n",
      "Last estimator val3_error 4.330013\n",
      "val_avg_error 4.074154333333333\n",
      "##################################################################################################\n",
      "\n",
      " False \n",
      "\n",
      "\n",
      " False \n",
      "\n",
      "\n",
      " False \n",
      "\n",
      "\n",
      " False \n",
      "\n",
      "\n",
      " False \n",
      "\n",
      "\n",
      " False \n",
      "\n"
     ]
    },
    {
     "name": "stderr",
     "output_type": "stream",
     "text": [
      "\u001b[32m[I 2023-04-13 15:05:29,654]\u001b[0m Trial 240 finished with value: 4.071959 and parameters: {'tweedie_variance_power': 1.6, 'max_depth': 4, 'learning_rate': 0.058163936252439145, 'subsample': 0.8, 'colsample_bytree': 1.0, 'gamma': 5, 'reg_alpha': 4, 'reg_lambda': 5, 'min_child_weight': 2}. Best is trial 232 with value: 4.0667393333333335.\u001b[0m\n"
     ]
    },
    {
     "name": "stdout",
     "output_type": "stream",
     "text": [
      "\n",
      "\n",
      "###################################### VALIDATION Loss ###########################################\n",
      "Last estimator val1_error 4.33462\n",
      "Last estimator val2_error 3.567913\n",
      "Last estimator val3_error 4.313344\n",
      "val_avg_error 4.071959\n",
      "##################################################################################################\n",
      "\n",
      " False \n",
      "\n",
      "\n",
      " False \n",
      "\n",
      "\n",
      " False \n",
      "\n",
      "\n",
      " False \n",
      "\n",
      "\n",
      " False \n",
      "\n",
      "\n",
      " False \n",
      "\n"
     ]
    },
    {
     "name": "stderr",
     "output_type": "stream",
     "text": [
      "\u001b[32m[I 2023-04-13 15:05:41,693]\u001b[0m Trial 241 finished with value: 4.067412 and parameters: {'tweedie_variance_power': 1.6, 'max_depth': 4, 'learning_rate': 0.038118249837673965, 'subsample': 0.7000000000000001, 'colsample_bytree': 1.0, 'gamma': 5, 'reg_alpha': 4, 'reg_lambda': 5, 'min_child_weight': 2}. Best is trial 232 with value: 4.0667393333333335.\u001b[0m\n"
     ]
    },
    {
     "name": "stdout",
     "output_type": "stream",
     "text": [
      "\n",
      "\n",
      "###################################### VALIDATION Loss ###########################################\n",
      "Last estimator val1_error 4.324598\n",
      "Last estimator val2_error 3.563561\n",
      "Last estimator val3_error 4.314077\n",
      "val_avg_error 4.067412\n",
      "##################################################################################################\n",
      "\n",
      " False \n",
      "\n",
      "\n",
      " False \n",
      "\n",
      "\n",
      " False \n",
      "\n",
      "\n",
      " False \n",
      "\n",
      "\n",
      " False \n",
      "\n",
      "\n",
      " False \n",
      "\n"
     ]
    },
    {
     "name": "stderr",
     "output_type": "stream",
     "text": [
      "\u001b[32m[I 2023-04-13 15:05:59,574]\u001b[0m Trial 242 finished with value: 4.069099333333333 and parameters: {'tweedie_variance_power': 1.6, 'max_depth': 4, 'learning_rate': 0.03392927644877105, 'subsample': 0.7000000000000001, 'colsample_bytree': 1.0, 'gamma': 5, 'reg_alpha': 4, 'reg_lambda': 5, 'min_child_weight': 2}. Best is trial 232 with value: 4.0667393333333335.\u001b[0m\n"
     ]
    },
    {
     "name": "stdout",
     "output_type": "stream",
     "text": [
      "\n",
      "\n",
      "###################################### VALIDATION Loss ###########################################\n",
      "Last estimator val1_error 4.328413\n",
      "Last estimator val2_error 3.560026\n",
      "Last estimator val3_error 4.318859\n",
      "val_avg_error 4.069099333333333\n",
      "##################################################################################################\n",
      "\n",
      " False \n",
      "\n",
      "\n",
      " False \n",
      "\n",
      "\n",
      " False \n",
      "\n",
      "\n",
      " False \n",
      "\n",
      "\n",
      " False \n",
      "\n",
      "\n",
      " False \n",
      "\n"
     ]
    },
    {
     "name": "stderr",
     "output_type": "stream",
     "text": [
      "\u001b[32m[I 2023-04-13 15:06:15,167]\u001b[0m Trial 243 finished with value: 4.067670333333333 and parameters: {'tweedie_variance_power': 1.6, 'max_depth': 4, 'learning_rate': 0.03876397500234606, 'subsample': 0.7000000000000001, 'colsample_bytree': 1.0, 'gamma': 5, 'reg_alpha': 4, 'reg_lambda': 5, 'min_child_weight': 2}. Best is trial 232 with value: 4.0667393333333335.\u001b[0m\n"
     ]
    },
    {
     "name": "stdout",
     "output_type": "stream",
     "text": [
      "\n",
      "\n",
      "###################################### VALIDATION Loss ###########################################\n",
      "Last estimator val1_error 4.319963\n",
      "Last estimator val2_error 3.563548\n",
      "Last estimator val3_error 4.3195\n",
      "val_avg_error 4.067670333333333\n",
      "##################################################################################################\n",
      "\n",
      " False \n",
      "\n",
      "\n",
      " False \n",
      "\n",
      "\n",
      " False \n",
      "\n",
      "\n",
      " False \n",
      "\n",
      "\n",
      " False \n",
      "\n",
      "\n",
      " False \n",
      "\n"
     ]
    },
    {
     "name": "stderr",
     "output_type": "stream",
     "text": [
      "\u001b[32m[I 2023-04-13 15:06:38,242]\u001b[0m Trial 244 finished with value: 4.066742333333333 and parameters: {'tweedie_variance_power': 1.6, 'max_depth': 4, 'learning_rate': 0.030757612959129387, 'subsample': 0.7000000000000001, 'colsample_bytree': 1.0, 'gamma': 5, 'reg_alpha': 4, 'reg_lambda': 5, 'min_child_weight': 2}. Best is trial 232 with value: 4.0667393333333335.\u001b[0m\n"
     ]
    },
    {
     "name": "stdout",
     "output_type": "stream",
     "text": [
      "\n",
      "\n",
      "###################################### VALIDATION Loss ###########################################\n",
      "Last estimator val1_error 4.326086\n",
      "Last estimator val2_error 3.561546\n",
      "Last estimator val3_error 4.312595\n",
      "val_avg_error 4.066742333333333\n",
      "##################################################################################################\n",
      "\n",
      " False \n",
      "\n",
      "\n",
      " False \n",
      "\n",
      "\n",
      " False \n",
      "\n",
      "\n",
      " False \n",
      "\n",
      "\n",
      " False \n",
      "\n",
      "\n",
      " False \n",
      "\n"
     ]
    },
    {
     "name": "stderr",
     "output_type": "stream",
     "text": [
      "\u001b[32m[I 2023-04-13 15:06:53,084]\u001b[0m Trial 245 finished with value: 4.067716333333333 and parameters: {'tweedie_variance_power': 1.6, 'max_depth': 4, 'learning_rate': 0.03117563449012902, 'subsample': 0.7000000000000001, 'colsample_bytree': 1.0, 'gamma': 5, 'reg_alpha': 4, 'reg_lambda': 5, 'min_child_weight': 2}. Best is trial 232 with value: 4.0667393333333335.\u001b[0m\n"
     ]
    },
    {
     "name": "stdout",
     "output_type": "stream",
     "text": [
      "\n",
      "\n",
      "###################################### VALIDATION Loss ###########################################\n",
      "Last estimator val1_error 4.328942\n",
      "Last estimator val2_error 3.562767\n",
      "Last estimator val3_error 4.31144\n",
      "val_avg_error 4.067716333333333\n",
      "##################################################################################################\n",
      "\n",
      " False \n",
      "\n",
      "\n",
      " False \n",
      "\n",
      "\n",
      " False \n",
      "\n",
      "\n",
      " False \n",
      "\n",
      "\n",
      " False \n",
      "\n",
      "\n",
      " False \n",
      "\n"
     ]
    },
    {
     "name": "stderr",
     "output_type": "stream",
     "text": [
      "\u001b[32m[I 2023-04-13 15:07:18,518]\u001b[0m Trial 246 finished with value: 4.067531 and parameters: {'tweedie_variance_power': 1.6, 'max_depth': 4, 'learning_rate': 0.02629515852756331, 'subsample': 0.7000000000000001, 'colsample_bytree': 1.0, 'gamma': 5, 'reg_alpha': 4, 'reg_lambda': 5, 'min_child_weight': 2}. Best is trial 232 with value: 4.0667393333333335.\u001b[0m\n"
     ]
    },
    {
     "name": "stdout",
     "output_type": "stream",
     "text": [
      "\n",
      "\n",
      "###################################### VALIDATION Loss ###########################################\n",
      "Last estimator val1_error 4.329273\n",
      "Last estimator val2_error 3.560328\n",
      "Last estimator val3_error 4.312992\n",
      "val_avg_error 4.067531\n",
      "##################################################################################################\n",
      "\n",
      " False \n",
      "\n",
      "\n",
      " False \n",
      "\n",
      "\n",
      " False \n",
      "\n",
      "\n",
      " False \n",
      "\n",
      "\n",
      " False \n",
      "\n",
      "\n",
      " False \n",
      "\n"
     ]
    },
    {
     "name": "stderr",
     "output_type": "stream",
     "text": [
      "\u001b[32m[I 2023-04-13 15:07:45,182]\u001b[0m Trial 247 finished with value: 4.066033333333333 and parameters: {'tweedie_variance_power': 1.6, 'max_depth': 4, 'learning_rate': 0.026524247762319743, 'subsample': 0.7000000000000001, 'colsample_bytree': 1.0, 'gamma': 5, 'reg_alpha': 4, 'reg_lambda': 5, 'min_child_weight': 2}. Best is trial 247 with value: 4.066033333333333.\u001b[0m\n"
     ]
    },
    {
     "name": "stdout",
     "output_type": "stream",
     "text": [
      "\n",
      "\n",
      "###################################### VALIDATION Loss ###########################################\n",
      "Last estimator val1_error 4.325695\n",
      "Last estimator val2_error 3.559354\n",
      "Last estimator val3_error 4.313051\n",
      "val_avg_error 4.066033333333333\n",
      "##################################################################################################\n",
      "\n",
      " False \n",
      "\n",
      "\n",
      " False \n",
      "\n",
      "\n",
      " False \n",
      "\n",
      "\n",
      " False \n",
      "\n",
      "\n",
      " False \n",
      "\n",
      "\n",
      " False \n",
      "\n"
     ]
    },
    {
     "name": "stderr",
     "output_type": "stream",
     "text": [
      "\u001b[32m[I 2023-04-13 15:08:00,653]\u001b[0m Trial 248 finished with value: 4.070635666666667 and parameters: {'tweedie_variance_power': 1.6, 'max_depth': 4, 'learning_rate': 0.02120381066797723, 'subsample': 0.7000000000000001, 'colsample_bytree': 1.0, 'gamma': 5, 'reg_alpha': 4, 'reg_lambda': 5, 'min_child_weight': 2}. Best is trial 247 with value: 4.066033333333333.\u001b[0m\n"
     ]
    },
    {
     "name": "stdout",
     "output_type": "stream",
     "text": [
      "\n",
      "\n",
      "###################################### VALIDATION Loss ###########################################\n",
      "Last estimator val1_error 4.329835\n",
      "Last estimator val2_error 3.567835\n",
      "Last estimator val3_error 4.314237\n",
      "val_avg_error 4.070635666666667\n",
      "##################################################################################################\n",
      "\n",
      " False \n",
      "\n",
      "\n",
      " False \n",
      "\n",
      "\n",
      " False \n",
      "\n",
      "\n",
      " False \n",
      "\n",
      "\n",
      " False \n",
      "\n",
      "\n",
      " False \n",
      "\n"
     ]
    },
    {
     "name": "stderr",
     "output_type": "stream",
     "text": [
      "\u001b[32m[I 2023-04-13 15:08:22,925]\u001b[0m Trial 249 finished with value: 4.066388666666667 and parameters: {'tweedie_variance_power': 1.6, 'max_depth': 4, 'learning_rate': 0.026137441696477467, 'subsample': 0.7000000000000001, 'colsample_bytree': 1.0, 'gamma': 5, 'reg_alpha': 4, 'reg_lambda': 5, 'min_child_weight': 2}. Best is trial 247 with value: 4.066033333333333.\u001b[0m\n"
     ]
    },
    {
     "name": "stdout",
     "output_type": "stream",
     "text": [
      "\n",
      "\n",
      "###################################### VALIDATION Loss ###########################################\n",
      "Last estimator val1_error 4.324986\n",
      "Last estimator val2_error 3.561731\n",
      "Last estimator val3_error 4.312449\n",
      "val_avg_error 4.066388666666667\n",
      "##################################################################################################\n",
      "\n",
      " False \n",
      "\n",
      "\n",
      " False \n",
      "\n",
      "\n",
      " False \n",
      "\n",
      "\n",
      " False \n",
      "\n",
      "\n",
      " False \n",
      "\n",
      "\n",
      " False \n",
      "\n"
     ]
    },
    {
     "name": "stderr",
     "output_type": "stream",
     "text": [
      "\u001b[32m[I 2023-04-13 15:08:38,785]\u001b[0m Trial 250 finished with value: 4.069709333333333 and parameters: {'tweedie_variance_power': 1.6, 'max_depth': 4, 'learning_rate': 0.024858550615868134, 'subsample': 0.7000000000000001, 'colsample_bytree': 1.0, 'gamma': 5, 'reg_alpha': 4, 'reg_lambda': 5, 'min_child_weight': 2}. Best is trial 247 with value: 4.066033333333333.\u001b[0m\n"
     ]
    },
    {
     "name": "stdout",
     "output_type": "stream",
     "text": [
      "\n",
      "\n",
      "###################################### VALIDATION Loss ###########################################\n",
      "Last estimator val1_error 4.328359\n",
      "Last estimator val2_error 3.56816\n",
      "Last estimator val3_error 4.312609\n",
      "val_avg_error 4.069709333333333\n",
      "##################################################################################################\n",
      "\n",
      " False \n",
      "\n",
      "\n",
      " False \n",
      "\n",
      "\n",
      " False \n",
      "\n",
      "\n",
      " False \n",
      "\n",
      "\n",
      " False \n",
      "\n",
      "\n",
      " False \n",
      "\n"
     ]
    },
    {
     "name": "stderr",
     "output_type": "stream",
     "text": [
      "\u001b[32m[I 2023-04-13 15:08:56,944]\u001b[0m Trial 251 finished with value: 4.08771 and parameters: {'tweedie_variance_power': 1.5, 'max_depth': 4, 'learning_rate': 0.02462579011364593, 'subsample': 0.7000000000000001, 'colsample_bytree': 1.0, 'gamma': 5, 'reg_alpha': 4, 'reg_lambda': 5, 'min_child_weight': 2}. Best is trial 247 with value: 4.066033333333333.\u001b[0m\n"
     ]
    },
    {
     "name": "stdout",
     "output_type": "stream",
     "text": [
      "\n",
      "\n",
      "###################################### VALIDATION Loss ###########################################\n",
      "Last estimator val1_error 4.388317\n",
      "Last estimator val2_error 3.494141\n",
      "Last estimator val3_error 4.380672\n",
      "val_avg_error 4.08771\n",
      "##################################################################################################\n",
      "\n",
      " False \n",
      "\n",
      "\n",
      " False \n",
      "\n",
      "\n",
      " False \n",
      "\n",
      "\n",
      " False \n",
      "\n",
      "\n",
      " False \n",
      "\n",
      "\n",
      " False \n",
      "\n"
     ]
    },
    {
     "name": "stderr",
     "output_type": "stream",
     "text": [
      "\u001b[32m[I 2023-04-13 15:09:15,261]\u001b[0m Trial 252 finished with value: 4.066620333333333 and parameters: {'tweedie_variance_power': 1.6, 'max_depth': 4, 'learning_rate': 0.029083736914147326, 'subsample': 0.7000000000000001, 'colsample_bytree': 1.0, 'gamma': 5, 'reg_alpha': 4, 'reg_lambda': 5, 'min_child_weight': 2}. Best is trial 247 with value: 4.066033333333333.\u001b[0m\n"
     ]
    },
    {
     "name": "stdout",
     "output_type": "stream",
     "text": [
      "\n",
      "\n",
      "###################################### VALIDATION Loss ###########################################\n",
      "Last estimator val1_error 4.324598\n",
      "Last estimator val2_error 3.560191\n",
      "Last estimator val3_error 4.315072\n",
      "val_avg_error 4.066620333333333\n",
      "##################################################################################################\n",
      "\n",
      " False \n",
      "\n",
      "\n",
      " False \n",
      "\n",
      "\n",
      " False \n",
      "\n",
      "\n",
      " False \n",
      "\n",
      "\n",
      " False \n",
      "\n",
      "\n",
      " False \n",
      "\n"
     ]
    },
    {
     "name": "stderr",
     "output_type": "stream",
     "text": [
      "\u001b[32m[I 2023-04-13 15:09:32,275]\u001b[0m Trial 253 finished with value: 4.066198 and parameters: {'tweedie_variance_power': 1.6, 'max_depth': 4, 'learning_rate': 0.028358254017244726, 'subsample': 0.7000000000000001, 'colsample_bytree': 1.0, 'gamma': 5, 'reg_alpha': 4, 'reg_lambda': 5, 'min_child_weight': 2}. Best is trial 247 with value: 4.066033333333333.\u001b[0m\n"
     ]
    },
    {
     "name": "stdout",
     "output_type": "stream",
     "text": [
      "\n",
      "\n",
      "###################################### VALIDATION Loss ###########################################\n",
      "Last estimator val1_error 4.324208\n",
      "Last estimator val2_error 3.561732\n",
      "Last estimator val3_error 4.312654\n",
      "val_avg_error 4.066198\n",
      "##################################################################################################\n",
      "\n",
      " False \n",
      "\n",
      "\n",
      " False \n",
      "\n",
      "\n",
      " False \n",
      "\n",
      "\n",
      " False \n",
      "\n",
      "\n",
      " False \n",
      "\n",
      "\n",
      " False \n",
      "\n"
     ]
    },
    {
     "name": "stderr",
     "output_type": "stream",
     "text": [
      "\u001b[32m[I 2023-04-13 15:09:49,754]\u001b[0m Trial 254 finished with value: 4.066810333333334 and parameters: {'tweedie_variance_power': 1.6, 'max_depth': 4, 'learning_rate': 0.02850985418045522, 'subsample': 0.7000000000000001, 'colsample_bytree': 1.0, 'gamma': 5, 'reg_alpha': 4, 'reg_lambda': 5, 'min_child_weight': 2}. Best is trial 247 with value: 4.066033333333333.\u001b[0m\n"
     ]
    },
    {
     "name": "stdout",
     "output_type": "stream",
     "text": [
      "\n",
      "\n",
      "###################################### VALIDATION Loss ###########################################\n",
      "Last estimator val1_error 4.324162\n",
      "Last estimator val2_error 3.561317\n",
      "Last estimator val3_error 4.314952\n",
      "val_avg_error 4.066810333333334\n",
      "##################################################################################################\n",
      "\n",
      " False \n",
      "\n",
      "\n",
      " False \n",
      "\n",
      "\n",
      " False \n",
      "\n",
      "\n",
      " False \n",
      "\n",
      "\n",
      " False \n",
      "\n",
      "\n",
      " False \n",
      "\n"
     ]
    },
    {
     "name": "stderr",
     "output_type": "stream",
     "text": [
      "\u001b[32m[I 2023-04-13 15:10:06,409]\u001b[0m Trial 255 finished with value: 4.068776 and parameters: {'tweedie_variance_power': 1.6, 'max_depth': 4, 'learning_rate': 0.028629061559660978, 'subsample': 0.7000000000000001, 'colsample_bytree': 1.0, 'gamma': 5, 'reg_alpha': 4, 'reg_lambda': 5, 'min_child_weight': 2}. Best is trial 247 with value: 4.066033333333333.\u001b[0m\n"
     ]
    },
    {
     "name": "stdout",
     "output_type": "stream",
     "text": [
      "\n",
      "\n",
      "###################################### VALIDATION Loss ###########################################\n",
      "Last estimator val1_error 4.324852\n",
      "Last estimator val2_error 3.565999\n",
      "Last estimator val3_error 4.315477\n",
      "val_avg_error 4.068776\n",
      "##################################################################################################\n",
      "\n",
      " False \n",
      "\n",
      "\n",
      " False \n",
      "\n",
      "\n",
      " False \n",
      "\n",
      "\n",
      " False \n",
      "\n",
      "\n",
      " False \n",
      "\n",
      "\n",
      " False \n",
      "\n"
     ]
    },
    {
     "name": "stderr",
     "output_type": "stream",
     "text": [
      "\u001b[32m[I 2023-04-13 15:10:27,347]\u001b[0m Trial 256 finished with value: 4.066674666666667 and parameters: {'tweedie_variance_power': 1.6, 'max_depth': 4, 'learning_rate': 0.02801852288556205, 'subsample': 0.7000000000000001, 'colsample_bytree': 1.0, 'gamma': 5, 'reg_alpha': 4, 'reg_lambda': 5, 'min_child_weight': 2}. Best is trial 247 with value: 4.066033333333333.\u001b[0m\n"
     ]
    },
    {
     "name": "stdout",
     "output_type": "stream",
     "text": [
      "\n",
      "\n",
      "###################################### VALIDATION Loss ###########################################\n",
      "Last estimator val1_error 4.327761\n",
      "Last estimator val2_error 3.559311\n",
      "Last estimator val3_error 4.312952\n",
      "val_avg_error 4.066674666666667\n",
      "##################################################################################################\n",
      "\n",
      " False \n",
      "\n",
      "\n",
      " False \n",
      "\n",
      "\n",
      " False \n",
      "\n",
      "\n",
      " False \n",
      "\n",
      "\n",
      " False \n",
      "\n",
      "\n",
      " False \n",
      "\n"
     ]
    },
    {
     "name": "stderr",
     "output_type": "stream",
     "text": [
      "\u001b[32m[I 2023-04-13 15:10:45,999]\u001b[0m Trial 257 finished with value: 4.0675859999999995 and parameters: {'tweedie_variance_power': 1.6, 'max_depth': 4, 'learning_rate': 0.02809813259583872, 'subsample': 0.7000000000000001, 'colsample_bytree': 1.0, 'gamma': 5, 'reg_alpha': 4, 'reg_lambda': 5, 'min_child_weight': 2}. Best is trial 247 with value: 4.066033333333333.\u001b[0m\n"
     ]
    },
    {
     "name": "stdout",
     "output_type": "stream",
     "text": [
      "\n",
      "\n",
      "###################################### VALIDATION Loss ###########################################\n",
      "Last estimator val1_error 4.327681\n",
      "Last estimator val2_error 3.562668\n",
      "Last estimator val3_error 4.312409\n",
      "val_avg_error 4.0675859999999995\n",
      "##################################################################################################\n",
      "\n",
      " False \n",
      "\n",
      "\n",
      " False \n",
      "\n",
      "\n",
      " False \n",
      "\n",
      "\n",
      " False \n",
      "\n",
      "\n",
      " False \n",
      "\n",
      "\n",
      " False \n",
      "\n"
     ]
    },
    {
     "name": "stderr",
     "output_type": "stream",
     "text": [
      "\u001b[32m[I 2023-04-13 15:11:05,655]\u001b[0m Trial 258 finished with value: 4.0685986666666665 and parameters: {'tweedie_variance_power': 1.6, 'max_depth': 4, 'learning_rate': 0.018887117367858346, 'subsample': 0.7000000000000001, 'colsample_bytree': 1.0, 'gamma': 5, 'reg_alpha': 4, 'reg_lambda': 5, 'min_child_weight': 2}. Best is trial 247 with value: 4.066033333333333.\u001b[0m\n"
     ]
    },
    {
     "name": "stdout",
     "output_type": "stream",
     "text": [
      "\n",
      "\n",
      "###################################### VALIDATION Loss ###########################################\n",
      "Last estimator val1_error 4.329387\n",
      "Last estimator val2_error 3.565243\n",
      "Last estimator val3_error 4.311166\n",
      "val_avg_error 4.0685986666666665\n",
      "##################################################################################################\n",
      "\n",
      " False \n",
      "\n",
      "\n",
      " False \n",
      "\n",
      "\n",
      " False \n",
      "\n",
      "\n",
      " False \n",
      "\n",
      "\n",
      " False \n",
      "\n",
      "\n",
      " False \n",
      "\n"
     ]
    },
    {
     "name": "stderr",
     "output_type": "stream",
     "text": [
      "\u001b[32m[I 2023-04-13 15:11:25,753]\u001b[0m Trial 259 finished with value: 4.067131 and parameters: {'tweedie_variance_power': 1.6, 'max_depth': 4, 'learning_rate': 0.027239829370184765, 'subsample': 0.7000000000000001, 'colsample_bytree': 1.0, 'gamma': 5, 'reg_alpha': 4, 'reg_lambda': 5, 'min_child_weight': 2}. Best is trial 247 with value: 4.066033333333333.\u001b[0m\n"
     ]
    },
    {
     "name": "stdout",
     "output_type": "stream",
     "text": [
      "\n",
      "\n",
      "###################################### VALIDATION Loss ###########################################\n",
      "Last estimator val1_error 4.326545\n",
      "Last estimator val2_error 3.56003\n",
      "Last estimator val3_error 4.314818\n",
      "val_avg_error 4.067131\n",
      "##################################################################################################\n",
      "\n",
      " False \n",
      "\n",
      "\n",
      " False \n",
      "\n",
      "\n",
      " False \n",
      "\n",
      "\n",
      " False \n",
      "\n",
      "\n",
      " False \n",
      "\n",
      "\n",
      " False \n",
      "\n"
     ]
    },
    {
     "name": "stderr",
     "output_type": "stream",
     "text": [
      "\u001b[32m[I 2023-04-13 15:11:44,188]\u001b[0m Trial 260 finished with value: 4.066264666666666 and parameters: {'tweedie_variance_power': 1.6, 'max_depth': 4, 'learning_rate': 0.0284645242234113, 'subsample': 0.7000000000000001, 'colsample_bytree': 1.0, 'gamma': 5, 'reg_alpha': 4, 'reg_lambda': 2, 'min_child_weight': 2}. Best is trial 247 with value: 4.066033333333333.\u001b[0m\n"
     ]
    },
    {
     "name": "stdout",
     "output_type": "stream",
     "text": [
      "\n",
      "\n",
      "###################################### VALIDATION Loss ###########################################\n",
      "Last estimator val1_error 4.327215\n",
      "Last estimator val2_error 3.559315\n",
      "Last estimator val3_error 4.312264\n",
      "val_avg_error 4.066264666666666\n",
      "##################################################################################################\n",
      "\n",
      " False \n",
      "\n",
      "\n",
      " False \n",
      "\n",
      "\n",
      " False \n",
      "\n",
      "\n",
      " False \n",
      "\n",
      "\n",
      " False \n",
      "\n",
      "\n",
      " False \n",
      "\n"
     ]
    },
    {
     "name": "stderr",
     "output_type": "stream",
     "text": [
      "\u001b[32m[I 2023-04-13 15:12:08,591]\u001b[0m Trial 261 finished with value: 4.067319666666666 and parameters: {'tweedie_variance_power': 1.6, 'max_depth': 4, 'learning_rate': 0.022199838347185114, 'subsample': 0.7000000000000001, 'colsample_bytree': 1.0, 'gamma': 5, 'reg_alpha': 4, 'reg_lambda': 2, 'min_child_weight': 2}. Best is trial 247 with value: 4.066033333333333.\u001b[0m\n"
     ]
    },
    {
     "name": "stdout",
     "output_type": "stream",
     "text": [
      "\n",
      "\n",
      "###################################### VALIDATION Loss ###########################################\n",
      "Last estimator val1_error 4.329721\n",
      "Last estimator val2_error 3.559219\n",
      "Last estimator val3_error 4.313019\n",
      "val_avg_error 4.067319666666666\n",
      "##################################################################################################\n",
      "\n",
      " False \n",
      "\n",
      "\n",
      " False \n",
      "\n",
      "\n",
      " False \n",
      "\n",
      "\n",
      " False \n",
      "\n",
      "\n",
      " False \n",
      "\n",
      "\n",
      " False \n",
      "\n"
     ]
    },
    {
     "name": "stderr",
     "output_type": "stream",
     "text": [
      "\u001b[32m[I 2023-04-13 15:12:26,926]\u001b[0m Trial 262 finished with value: 4.06928 and parameters: {'tweedie_variance_power': 1.6, 'max_depth': 4, 'learning_rate': 0.021997698981644206, 'subsample': 0.7000000000000001, 'colsample_bytree': 1.0, 'gamma': 5, 'reg_alpha': 4, 'reg_lambda': 2, 'min_child_weight': 2}. Best is trial 247 with value: 4.066033333333333.\u001b[0m\n"
     ]
    },
    {
     "name": "stdout",
     "output_type": "stream",
     "text": [
      "\n",
      "\n",
      "###################################### VALIDATION Loss ###########################################\n",
      "Last estimator val1_error 4.329472\n",
      "Last estimator val2_error 3.563656\n",
      "Last estimator val3_error 4.314712\n",
      "val_avg_error 4.06928\n",
      "##################################################################################################\n",
      "\n",
      " False \n",
      "\n",
      "\n",
      " False \n",
      "\n",
      "\n",
      " False \n",
      "\n",
      "\n",
      " False \n",
      "\n",
      "\n",
      " False \n",
      "\n",
      "\n",
      " False \n",
      "\n"
     ]
    },
    {
     "name": "stderr",
     "output_type": "stream",
     "text": [
      "\u001b[32m[I 2023-04-13 15:12:49,058]\u001b[0m Trial 263 finished with value: 4.0673319999999995 and parameters: {'tweedie_variance_power': 1.6, 'max_depth': 4, 'learning_rate': 0.02677975735393568, 'subsample': 0.7000000000000001, 'colsample_bytree': 1.0, 'gamma': 5, 'reg_alpha': 4, 'reg_lambda': 5, 'min_child_weight': 2}. Best is trial 247 with value: 4.066033333333333.\u001b[0m\n"
     ]
    },
    {
     "name": "stdout",
     "output_type": "stream",
     "text": [
      "\n",
      "\n",
      "###################################### VALIDATION Loss ###########################################\n",
      "Last estimator val1_error 4.327659\n",
      "Last estimator val2_error 3.560024\n",
      "Last estimator val3_error 4.314313\n",
      "val_avg_error 4.0673319999999995\n",
      "##################################################################################################\n",
      "\n",
      " False \n",
      "\n",
      "\n",
      " False \n",
      "\n",
      "\n",
      " False \n",
      "\n",
      "\n",
      " False \n",
      "\n",
      "\n",
      " False \n",
      "\n",
      "\n",
      " False \n",
      "\n"
     ]
    },
    {
     "name": "stderr",
     "output_type": "stream",
     "text": [
      "\u001b[32m[I 2023-04-13 15:13:06,977]\u001b[0m Trial 264 finished with value: 4.455328333333333 and parameters: {'tweedie_variance_power': 1.7000000000000002, 'max_depth': 4, 'learning_rate': 0.02656669349509269, 'subsample': 0.7000000000000001, 'colsample_bytree': 1.0, 'gamma': 5, 'reg_alpha': 4, 'reg_lambda': 5, 'min_child_weight': 2}. Best is trial 247 with value: 4.066033333333333.\u001b[0m\n"
     ]
    },
    {
     "name": "stdout",
     "output_type": "stream",
     "text": [
      "\n",
      "\n",
      "###################################### VALIDATION Loss ###########################################\n",
      "Last estimator val1_error 4.687535\n",
      "Last estimator val2_error 3.996405\n",
      "Last estimator val3_error 4.682045\n",
      "val_avg_error 4.455328333333333\n",
      "##################################################################################################\n",
      "\n",
      " False \n",
      "\n",
      "\n",
      " False \n",
      "\n",
      "\n",
      " False \n",
      "\n",
      "\n",
      " False \n",
      "\n",
      "\n",
      " False \n",
      "\n",
      "\n",
      " False \n",
      "\n"
     ]
    },
    {
     "name": "stderr",
     "output_type": "stream",
     "text": [
      "\u001b[32m[I 2023-04-13 15:13:23,935]\u001b[0m Trial 265 finished with value: 4.069990333333333 and parameters: {'tweedie_variance_power': 1.6, 'max_depth': 4, 'learning_rate': 0.02121202544550791, 'subsample': 0.7000000000000001, 'colsample_bytree': 1.0, 'gamma': 5, 'reg_alpha': 4, 'reg_lambda': 2, 'min_child_weight': 2}. Best is trial 247 with value: 4.066033333333333.\u001b[0m\n"
     ]
    },
    {
     "name": "stdout",
     "output_type": "stream",
     "text": [
      "\n",
      "\n",
      "###################################### VALIDATION Loss ###########################################\n",
      "Last estimator val1_error 4.331536\n",
      "Last estimator val2_error 3.564586\n",
      "Last estimator val3_error 4.313849\n",
      "val_avg_error 4.069990333333333\n",
      "##################################################################################################\n",
      "\n",
      " False \n",
      "\n",
      "\n",
      " False \n",
      "\n",
      "\n",
      " False \n",
      "\n",
      "\n",
      " False \n",
      "\n",
      "\n",
      " False \n",
      "\n",
      "\n",
      " False \n",
      "\n"
     ]
    },
    {
     "name": "stderr",
     "output_type": "stream",
     "text": [
      "\u001b[32m[I 2023-04-13 15:13:53,269]\u001b[0m Trial 266 finished with value: 4.068262666666667 and parameters: {'tweedie_variance_power': 1.6, 'max_depth': 4, 'learning_rate': 0.015587772811969205, 'subsample': 0.7000000000000001, 'colsample_bytree': 1.0, 'gamma': 5, 'reg_alpha': 4, 'reg_lambda': 2, 'min_child_weight': 2}. Best is trial 247 with value: 4.066033333333333.\u001b[0m\n"
     ]
    },
    {
     "name": "stdout",
     "output_type": "stream",
     "text": [
      "\n",
      "\n",
      "###################################### VALIDATION Loss ###########################################\n",
      "Last estimator val1_error 4.327335\n",
      "Last estimator val2_error 3.55923\n",
      "Last estimator val3_error 4.318223\n",
      "val_avg_error 4.068262666666667\n",
      "##################################################################################################\n",
      "\n",
      " False \n",
      "\n",
      "\n",
      " False \n",
      "\n",
      "\n",
      " False \n",
      "\n",
      "\n",
      " False \n",
      "\n",
      "\n",
      " False \n",
      "\n",
      "\n",
      " False \n",
      "\n"
     ]
    },
    {
     "name": "stderr",
     "output_type": "stream",
     "text": [
      "\u001b[32m[I 2023-04-13 15:14:09,539]\u001b[0m Trial 267 finished with value: 4.069815333333334 and parameters: {'tweedie_variance_power': 1.6, 'max_depth': 4, 'learning_rate': 0.028992427340312828, 'subsample': 0.7000000000000001, 'colsample_bytree': 1.0, 'gamma': 5, 'reg_alpha': 4, 'reg_lambda': 2, 'min_child_weight': 2}. Best is trial 247 with value: 4.066033333333333.\u001b[0m\n"
     ]
    },
    {
     "name": "stdout",
     "output_type": "stream",
     "text": [
      "\n",
      "\n",
      "###################################### VALIDATION Loss ###########################################\n",
      "Last estimator val1_error 4.326245\n",
      "Last estimator val2_error 3.560524\n",
      "Last estimator val3_error 4.322677\n",
      "val_avg_error 4.069815333333334\n",
      "##################################################################################################\n",
      "\n",
      " False \n",
      "\n",
      "\n",
      " False \n",
      "\n",
      "\n",
      " False \n",
      "\n",
      "\n",
      " False \n",
      "\n",
      "\n",
      " False \n",
      "\n",
      "\n",
      " False \n",
      "\n"
     ]
    },
    {
     "name": "stderr",
     "output_type": "stream",
     "text": [
      "\u001b[32m[I 2023-04-13 15:14:28,665]\u001b[0m Trial 268 finished with value: 4.072740666666667 and parameters: {'tweedie_variance_power': 1.6, 'max_depth': 4, 'learning_rate': 0.02397935404615313, 'subsample': 0.6, 'colsample_bytree': 1.0, 'gamma': 5, 'reg_alpha': 4, 'reg_lambda': 5, 'min_child_weight': 2}. Best is trial 247 with value: 4.066033333333333.\u001b[0m\n"
     ]
    },
    {
     "name": "stdout",
     "output_type": "stream",
     "text": [
      "\n",
      "\n",
      "###################################### VALIDATION Loss ###########################################\n",
      "Last estimator val1_error 4.337796\n",
      "Last estimator val2_error 3.562689\n",
      "Last estimator val3_error 4.317737\n",
      "val_avg_error 4.072740666666667\n",
      "##################################################################################################\n",
      "\n",
      " False \n",
      "\n",
      "\n",
      " False \n",
      "\n",
      "\n",
      " False \n",
      "\n",
      "\n",
      " False \n",
      "\n",
      "\n",
      " False \n",
      "\n",
      "\n",
      " False \n",
      "\n"
     ]
    },
    {
     "name": "stderr",
     "output_type": "stream",
     "text": [
      "\u001b[32m[I 2023-04-13 15:14:42,695]\u001b[0m Trial 269 finished with value: 4.068342666666666 and parameters: {'tweedie_variance_power': 1.6, 'max_depth': 4, 'learning_rate': 0.027401408497814514, 'subsample': 0.7000000000000001, 'colsample_bytree': 1.0, 'gamma': 5, 'reg_alpha': 4, 'reg_lambda': 5, 'min_child_weight': 2}. Best is trial 247 with value: 4.066033333333333.\u001b[0m\n"
     ]
    },
    {
     "name": "stdout",
     "output_type": "stream",
     "text": [
      "\n",
      "\n",
      "###################################### VALIDATION Loss ###########################################\n",
      "Last estimator val1_error 4.328726\n",
      "Last estimator val2_error 3.564554\n",
      "Last estimator val3_error 4.311748\n",
      "val_avg_error 4.068342666666666\n",
      "##################################################################################################\n",
      "\n",
      " False \n",
      "\n",
      "\n",
      " False \n",
      "\n",
      "\n",
      " False \n",
      "\n",
      "\n",
      " False \n",
      "\n",
      "\n",
      " False \n",
      "\n",
      "\n",
      " False \n",
      "\n"
     ]
    },
    {
     "name": "stderr",
     "output_type": "stream",
     "text": [
      "\u001b[32m[I 2023-04-13 15:14:57,045]\u001b[0m Trial 270 finished with value: 4.086218333333333 and parameters: {'tweedie_variance_power': 1.5, 'max_depth': 4, 'learning_rate': 0.02865151958394458, 'subsample': 0.7000000000000001, 'colsample_bytree': 1.0, 'gamma': 5, 'reg_alpha': 4, 'reg_lambda': 2, 'min_child_weight': 2}. Best is trial 247 with value: 4.066033333333333.\u001b[0m\n"
     ]
    },
    {
     "name": "stdout",
     "output_type": "stream",
     "text": [
      "\n",
      "\n",
      "###################################### VALIDATION Loss ###########################################\n",
      "Last estimator val1_error 4.391635\n",
      "Last estimator val2_error 3.492684\n",
      "Last estimator val3_error 4.374336\n",
      "val_avg_error 4.086218333333333\n",
      "##################################################################################################\n",
      "\n",
      " False \n",
      "\n",
      "\n",
      " False \n",
      "\n",
      "\n",
      " False \n",
      "\n",
      "\n",
      " False \n",
      "\n",
      "\n",
      " False \n",
      "\n",
      "\n",
      " False \n",
      "\n"
     ]
    },
    {
     "name": "stderr",
     "output_type": "stream",
     "text": [
      "\u001b[32m[I 2023-04-13 15:15:18,454]\u001b[0m Trial 271 finished with value: 4.069109999999999 and parameters: {'tweedie_variance_power': 1.6, 'max_depth': 4, 'learning_rate': 0.020124481945934147, 'subsample': 0.7000000000000001, 'colsample_bytree': 1.0, 'gamma': 5, 'reg_alpha': 4, 'reg_lambda': 2, 'min_child_weight': 2}. Best is trial 247 with value: 4.066033333333333.\u001b[0m\n"
     ]
    },
    {
     "name": "stdout",
     "output_type": "stream",
     "text": [
      "\n",
      "\n",
      "###################################### VALIDATION Loss ###########################################\n",
      "Last estimator val1_error 4.329285\n",
      "Last estimator val2_error 3.566096\n",
      "Last estimator val3_error 4.311949\n",
      "val_avg_error 4.069109999999999\n",
      "##################################################################################################\n",
      "\n",
      " False \n",
      "\n",
      "\n",
      " False \n",
      "\n",
      "\n",
      " False \n",
      "\n",
      "\n",
      " False \n",
      "\n",
      "\n",
      " False \n",
      "\n",
      "\n",
      " False \n",
      "\n"
     ]
    },
    {
     "name": "stderr",
     "output_type": "stream",
     "text": [
      "\u001b[32m[I 2023-04-13 15:15:34,830]\u001b[0m Trial 272 finished with value: 4.456228 and parameters: {'tweedie_variance_power': 1.7000000000000002, 'max_depth': 4, 'learning_rate': 0.023628164418121614, 'subsample': 0.7000000000000001, 'colsample_bytree': 1.0, 'gamma': 5, 'reg_alpha': 4, 'reg_lambda': 2, 'min_child_weight': 3}. Best is trial 247 with value: 4.066033333333333.\u001b[0m\n"
     ]
    },
    {
     "name": "stdout",
     "output_type": "stream",
     "text": [
      "\n",
      "\n",
      "###################################### VALIDATION Loss ###########################################\n",
      "Last estimator val1_error 4.690486\n",
      "Last estimator val2_error 3.997622\n",
      "Last estimator val3_error 4.680576\n",
      "val_avg_error 4.456228\n",
      "##################################################################################################\n",
      "\n",
      " False \n",
      "\n",
      "\n",
      " False \n",
      "\n",
      "\n",
      " False \n",
      "\n",
      "\n",
      " False \n",
      "\n",
      "\n",
      " False \n",
      "\n",
      "\n",
      " False \n",
      "\n"
     ]
    },
    {
     "name": "stderr",
     "output_type": "stream",
     "text": [
      "\u001b[32m[I 2023-04-13 15:15:50,587]\u001b[0m Trial 273 finished with value: 4.0676060000000005 and parameters: {'tweedie_variance_power': 1.6, 'max_depth': 4, 'learning_rate': 0.030639152611449803, 'subsample': 0.7000000000000001, 'colsample_bytree': 1.0, 'gamma': 5, 'reg_alpha': 5, 'reg_lambda': 5, 'min_child_weight': 2}. Best is trial 247 with value: 4.066033333333333.\u001b[0m\n"
     ]
    },
    {
     "name": "stdout",
     "output_type": "stream",
     "text": [
      "\n",
      "\n",
      "###################################### VALIDATION Loss ###########################################\n",
      "Last estimator val1_error 4.324093\n",
      "Last estimator val2_error 3.56145\n",
      "Last estimator val3_error 4.317275\n",
      "val_avg_error 4.0676060000000005\n",
      "##################################################################################################\n",
      "\n",
      " False \n",
      "\n",
      "\n",
      " False \n",
      "\n",
      "\n",
      " False \n",
      "\n",
      "\n",
      " False \n",
      "\n",
      "\n",
      " False \n",
      "\n",
      "\n",
      " False \n",
      "\n"
     ]
    },
    {
     "name": "stderr",
     "output_type": "stream",
     "text": [
      "\u001b[32m[I 2023-04-13 15:16:10,393]\u001b[0m Trial 274 finished with value: 5.624516333333333 and parameters: {'tweedie_variance_power': 1.8000000000000003, 'max_depth': 4, 'learning_rate': 0.018084843991802883, 'subsample': 0.7000000000000001, 'colsample_bytree': 1.0, 'gamma': 5, 'reg_alpha': 2, 'reg_lambda': 2, 'min_child_weight': 2}. Best is trial 247 with value: 4.066033333333333.\u001b[0m\n"
     ]
    },
    {
     "name": "stdout",
     "output_type": "stream",
     "text": [
      "\n",
      "\n",
      "###################################### VALIDATION Loss ###########################################\n",
      "Last estimator val1_error 5.855856\n",
      "Last estimator val2_error 5.159368\n",
      "Last estimator val3_error 5.858325\n",
      "val_avg_error 5.624516333333333\n",
      "##################################################################################################\n",
      "\n",
      " False \n",
      "\n",
      "\n",
      " False \n",
      "\n",
      "\n",
      " False \n",
      "\n",
      "\n",
      " False \n",
      "\n",
      "\n",
      " False \n",
      "\n",
      "\n",
      " False \n",
      "\n"
     ]
    },
    {
     "name": "stderr",
     "output_type": "stream",
     "text": [
      "\u001b[32m[I 2023-04-13 15:16:29,731]\u001b[0m Trial 275 finished with value: 4.066416 and parameters: {'tweedie_variance_power': 1.6, 'max_depth': 4, 'learning_rate': 0.03018976852199801, 'subsample': 0.7000000000000001, 'colsample_bytree': 1.0, 'gamma': 5, 'reg_alpha': 5, 'reg_lambda': 5, 'min_child_weight': 2}. Best is trial 247 with value: 4.066033333333333.\u001b[0m\n"
     ]
    },
    {
     "name": "stdout",
     "output_type": "stream",
     "text": [
      "\n",
      "\n",
      "###################################### VALIDATION Loss ###########################################\n",
      "Last estimator val1_error 4.320108\n",
      "Last estimator val2_error 3.558306\n",
      "Last estimator val3_error 4.320834\n",
      "val_avg_error 4.066416\n",
      "##################################################################################################\n",
      "\n",
      " False \n",
      "\n",
      "\n",
      " False \n",
      "\n",
      "\n",
      " False \n",
      "\n",
      "\n",
      " False \n",
      "\n",
      "\n",
      " False \n",
      "\n",
      "\n",
      " False \n",
      "\n"
     ]
    },
    {
     "name": "stderr",
     "output_type": "stream",
     "text": [
      "\u001b[32m[I 2023-04-13 15:16:46,292]\u001b[0m Trial 276 finished with value: 4.087945666666667 and parameters: {'tweedie_variance_power': 1.5, 'max_depth': 4, 'learning_rate': 0.025403233758645463, 'subsample': 0.7000000000000001, 'colsample_bytree': 1.0, 'gamma': 5, 'reg_alpha': 5, 'reg_lambda': 5, 'min_child_weight': 3}. Best is trial 247 with value: 4.066033333333333.\u001b[0m\n"
     ]
    },
    {
     "name": "stdout",
     "output_type": "stream",
     "text": [
      "\n",
      "\n",
      "###################################### VALIDATION Loss ###########################################\n",
      "Last estimator val1_error 4.390907\n",
      "Last estimator val2_error 3.496303\n",
      "Last estimator val3_error 4.376627\n",
      "val_avg_error 4.087945666666667\n",
      "##################################################################################################\n",
      "\n",
      " False \n",
      "\n",
      "\n",
      " False \n",
      "\n",
      "\n",
      " False \n",
      "\n",
      "\n",
      " False \n",
      "\n",
      "\n",
      " False \n",
      "\n",
      "\n",
      " False \n",
      "\n"
     ]
    },
    {
     "name": "stderr",
     "output_type": "stream",
     "text": [
      "\u001b[32m[I 2023-04-13 15:17:01,184]\u001b[0m Trial 277 finished with value: 4.066721 and parameters: {'tweedie_variance_power': 1.6, 'max_depth': 4, 'learning_rate': 0.031241182560790018, 'subsample': 0.7000000000000001, 'colsample_bytree': 1.0, 'gamma': 5, 'reg_alpha': 5, 'reg_lambda': 5, 'min_child_weight': 2}. Best is trial 247 with value: 4.066033333333333.\u001b[0m\n"
     ]
    },
    {
     "name": "stdout",
     "output_type": "stream",
     "text": [
      "\n",
      "\n",
      "###################################### VALIDATION Loss ###########################################\n",
      "Last estimator val1_error 4.325443\n",
      "Last estimator val2_error 3.56338\n",
      "Last estimator val3_error 4.31134\n",
      "val_avg_error 4.066721\n",
      "##################################################################################################\n",
      "\n",
      " False \n",
      "\n",
      "\n",
      " False \n",
      "\n",
      "\n",
      " False \n",
      "\n",
      "\n",
      " False \n",
      "\n",
      "\n",
      " False \n",
      "\n",
      "\n",
      " False \n",
      "\n"
     ]
    },
    {
     "name": "stderr",
     "output_type": "stream",
     "text": [
      "\u001b[32m[I 2023-04-13 15:17:17,100]\u001b[0m Trial 278 finished with value: 4.069355666666667 and parameters: {'tweedie_variance_power': 1.6, 'max_depth': 4, 'learning_rate': 0.028729522335473132, 'subsample': 0.7000000000000001, 'colsample_bytree': 1.0, 'gamma': 5, 'reg_alpha': 5, 'reg_lambda': 5, 'min_child_weight': 2}. Best is trial 247 with value: 4.066033333333333.\u001b[0m\n"
     ]
    },
    {
     "name": "stdout",
     "output_type": "stream",
     "text": [
      "\n",
      "\n",
      "###################################### VALIDATION Loss ###########################################\n",
      "Last estimator val1_error 4.327277\n",
      "Last estimator val2_error 3.565491\n",
      "Last estimator val3_error 4.315299\n",
      "val_avg_error 4.069355666666667\n",
      "##################################################################################################\n",
      "\n",
      " False \n",
      "\n",
      "\n",
      " False \n",
      "\n",
      "\n",
      " False \n",
      "\n",
      "\n",
      " False \n",
      "\n",
      "\n",
      " False \n",
      "\n",
      "\n",
      " False \n",
      "\n"
     ]
    },
    {
     "name": "stderr",
     "output_type": "stream",
     "text": [
      "\u001b[32m[I 2023-04-13 15:17:34,495]\u001b[0m Trial 279 finished with value: 4.072534 and parameters: {'tweedie_variance_power': 1.6, 'max_depth': 7, 'learning_rate': 0.03120765884913205, 'subsample': 0.7000000000000001, 'colsample_bytree': 1.0, 'gamma': 5, 'reg_alpha': 5, 'reg_lambda': 2, 'min_child_weight': 2}. Best is trial 247 with value: 4.066033333333333.\u001b[0m\n"
     ]
    },
    {
     "name": "stdout",
     "output_type": "stream",
     "text": [
      "\n",
      "\n",
      "###################################### VALIDATION Loss ###########################################\n",
      "Last estimator val1_error 4.322544\n",
      "Last estimator val2_error 3.54966\n",
      "Last estimator val3_error 4.345398\n",
      "val_avg_error 4.072534\n",
      "##################################################################################################\n",
      "\n",
      " False \n",
      "\n",
      "\n",
      " False \n",
      "\n",
      "\n",
      " False \n",
      "\n",
      "\n",
      " False \n",
      "\n",
      "\n",
      " False \n",
      "\n",
      "\n",
      " False \n",
      "\n"
     ]
    },
    {
     "name": "stderr",
     "output_type": "stream",
     "text": [
      "\u001b[32m[I 2023-04-13 15:17:54,444]\u001b[0m Trial 280 finished with value: 4.071238666666667 and parameters: {'tweedie_variance_power': 1.6, 'max_depth': 4, 'learning_rate': 0.022022140241238053, 'subsample': 0.6, 'colsample_bytree': 1.0, 'gamma': 5, 'reg_alpha': 5, 'reg_lambda': 5, 'min_child_weight': 2}. Best is trial 247 with value: 4.066033333333333.\u001b[0m\n"
     ]
    },
    {
     "name": "stdout",
     "output_type": "stream",
     "text": [
      "\n",
      "\n",
      "###################################### VALIDATION Loss ###########################################\n",
      "Last estimator val1_error 4.335166\n",
      "Last estimator val2_error 3.564359\n",
      "Last estimator val3_error 4.314191\n",
      "val_avg_error 4.071238666666667\n",
      "##################################################################################################\n",
      "\n",
      " False \n",
      "\n",
      "\n",
      " False \n",
      "\n",
      "\n",
      " False \n",
      "\n",
      "\n",
      " False \n",
      "\n",
      "\n",
      " False \n",
      "\n",
      "\n",
      " False \n",
      "\n"
     ]
    },
    {
     "name": "stderr",
     "output_type": "stream",
     "text": [
      "\u001b[32m[I 2023-04-13 15:18:08,624]\u001b[0m Trial 281 finished with value: 4.068472333333333 and parameters: {'tweedie_variance_power': 1.6, 'max_depth': 4, 'learning_rate': 0.026169607943853736, 'subsample': 0.7000000000000001, 'colsample_bytree': 1.0, 'gamma': 5, 'reg_alpha': 5, 'reg_lambda': 5, 'min_child_weight': 2}. Best is trial 247 with value: 4.066033333333333.\u001b[0m\n"
     ]
    },
    {
     "name": "stdout",
     "output_type": "stream",
     "text": [
      "\n",
      "\n",
      "###################################### VALIDATION Loss ###########################################\n",
      "Last estimator val1_error 4.326361\n",
      "Last estimator val2_error 3.566761\n",
      "Last estimator val3_error 4.312295\n",
      "val_avg_error 4.068472333333333\n",
      "##################################################################################################\n",
      "\n",
      " False \n",
      "\n",
      "\n",
      " False \n",
      "\n",
      "\n",
      " False \n",
      "\n",
      "\n",
      " False \n",
      "\n",
      "\n",
      " False \n",
      "\n",
      "\n",
      " False \n",
      "\n"
     ]
    },
    {
     "name": "stderr",
     "output_type": "stream",
     "text": [
      "\u001b[32m[I 2023-04-13 15:18:21,269]\u001b[0m Trial 282 finished with value: 4.065639333333333 and parameters: {'tweedie_variance_power': 1.6, 'max_depth': 5, 'learning_rate': 0.03154135575677926, 'subsample': 0.7000000000000001, 'colsample_bytree': 1.0, 'gamma': 5, 'reg_alpha': 5, 'reg_lambda': 5, 'min_child_weight': 3}. Best is trial 282 with value: 4.065639333333333.\u001b[0m\n"
     ]
    },
    {
     "name": "stdout",
     "output_type": "stream",
     "text": [
      "\n",
      "\n",
      "###################################### VALIDATION Loss ###########################################\n",
      "Last estimator val1_error 4.324774\n",
      "Last estimator val2_error 3.555566\n",
      "Last estimator val3_error 4.316578\n",
      "val_avg_error 4.065639333333333\n",
      "##################################################################################################\n",
      "\n",
      " False \n",
      "\n",
      "\n",
      " False \n",
      "\n",
      "\n",
      " False \n",
      "\n",
      "\n",
      " False \n",
      "\n",
      "\n",
      " False \n",
      "\n",
      "\n",
      " False \n",
      "\n"
     ]
    },
    {
     "name": "stderr",
     "output_type": "stream",
     "text": [
      "\u001b[32m[I 2023-04-13 15:18:36,507]\u001b[0m Trial 283 finished with value: 4.069144666666666 and parameters: {'tweedie_variance_power': 1.6, 'max_depth': 5, 'learning_rate': 0.03163355475902977, 'subsample': 0.7000000000000001, 'colsample_bytree': 1.0, 'gamma': 5, 'reg_alpha': 5, 'reg_lambda': 5, 'min_child_weight': 3}. Best is trial 282 with value: 4.065639333333333.\u001b[0m\n"
     ]
    },
    {
     "name": "stdout",
     "output_type": "stream",
     "text": [
      "\n",
      "\n",
      "###################################### VALIDATION Loss ###########################################\n",
      "Last estimator val1_error 4.3292\n",
      "Last estimator val2_error 3.55588\n",
      "Last estimator val3_error 4.322354\n",
      "val_avg_error 4.069144666666666\n",
      "##################################################################################################\n",
      "\n",
      " False \n",
      "\n",
      "\n",
      " False \n",
      "\n",
      "\n",
      " False \n",
      "\n",
      "\n",
      " False \n",
      "\n",
      "\n",
      " False \n",
      "\n",
      "\n",
      " False \n",
      "\n"
     ]
    },
    {
     "name": "stderr",
     "output_type": "stream",
     "text": [
      "\u001b[32m[I 2023-04-13 15:18:58,809]\u001b[0m Trial 284 finished with value: 4.072129333333334 and parameters: {'tweedie_variance_power': 1.6, 'max_depth': 6, 'learning_rate': 0.02492975248732179, 'subsample': 0.7000000000000001, 'colsample_bytree': 1.0, 'gamma': 5, 'reg_alpha': 5, 'reg_lambda': 5, 'min_child_weight': 2}. Best is trial 282 with value: 4.065639333333333.\u001b[0m\n"
     ]
    },
    {
     "name": "stdout",
     "output_type": "stream",
     "text": [
      "\n",
      "\n",
      "###################################### VALIDATION Loss ###########################################\n",
      "Last estimator val1_error 4.332163\n",
      "Last estimator val2_error 3.554459\n",
      "Last estimator val3_error 4.329766\n",
      "val_avg_error 4.072129333333334\n",
      "##################################################################################################\n",
      "\n",
      " False \n",
      "\n",
      "\n",
      " False \n",
      "\n",
      "\n",
      " False \n",
      "\n",
      "\n",
      " False \n",
      "\n",
      "\n",
      " False \n",
      "\n",
      "\n",
      " False \n",
      "\n"
     ]
    },
    {
     "name": "stderr",
     "output_type": "stream",
     "text": [
      "\u001b[32m[I 2023-04-13 15:19:21,770]\u001b[0m Trial 285 finished with value: 4.070752333333334 and parameters: {'tweedie_variance_power': 1.6, 'max_depth': 5, 'learning_rate': 0.021830865759221833, 'subsample': 0.6, 'colsample_bytree': 1.0, 'gamma': 5, 'reg_alpha': 5, 'reg_lambda': 5, 'min_child_weight': 3}. Best is trial 282 with value: 4.065639333333333.\u001b[0m\n"
     ]
    },
    {
     "name": "stdout",
     "output_type": "stream",
     "text": [
      "\n",
      "\n",
      "###################################### VALIDATION Loss ###########################################\n",
      "Last estimator val1_error 4.33709\n",
      "Last estimator val2_error 3.557731\n",
      "Last estimator val3_error 4.317436\n",
      "val_avg_error 4.070752333333334\n",
      "##################################################################################################\n",
      "\n",
      " False \n",
      "\n",
      "\n",
      " False \n",
      "\n",
      "\n",
      " False \n",
      "\n",
      "\n",
      " False \n",
      "\n",
      "\n",
      " False \n",
      "\n",
      "\n",
      " False \n",
      "\n"
     ]
    },
    {
     "name": "stderr",
     "output_type": "stream",
     "text": [
      "\u001b[32m[I 2023-04-13 15:19:36,487]\u001b[0m Trial 286 finished with value: 4.068134333333333 and parameters: {'tweedie_variance_power': 1.6, 'max_depth': 4, 'learning_rate': 0.028168649200058977, 'subsample': 0.7000000000000001, 'colsample_bytree': 1.0, 'gamma': 5, 'reg_alpha': 5, 'reg_lambda': 5, 'min_child_weight': 2}. Best is trial 282 with value: 4.065639333333333.\u001b[0m\n"
     ]
    },
    {
     "name": "stdout",
     "output_type": "stream",
     "text": [
      "\n",
      "\n",
      "###################################### VALIDATION Loss ###########################################\n",
      "Last estimator val1_error 4.325406\n",
      "Last estimator val2_error 3.565722\n",
      "Last estimator val3_error 4.313275\n",
      "val_avg_error 4.068134333333333\n",
      "##################################################################################################\n",
      "\n",
      " False \n",
      "\n",
      "\n",
      " False \n",
      "\n",
      "\n",
      " False \n",
      "\n",
      "\n",
      " False \n",
      "\n",
      "\n",
      " False \n",
      "\n",
      "\n",
      " False \n",
      "\n"
     ]
    },
    {
     "name": "stderr",
     "output_type": "stream",
     "text": [
      "\u001b[32m[I 2023-04-13 15:19:52,897]\u001b[0m Trial 287 finished with value: 4.4557649999999995 and parameters: {'tweedie_variance_power': 1.7000000000000002, 'max_depth': 6, 'learning_rate': 0.03322850404965638, 'subsample': 0.7000000000000001, 'colsample_bytree': 1.0, 'gamma': 5, 'reg_alpha': 5, 'reg_lambda': 5, 'min_child_weight': 2}. Best is trial 282 with value: 4.065639333333333.\u001b[0m\n"
     ]
    },
    {
     "name": "stdout",
     "output_type": "stream",
     "text": [
      "\n",
      "\n",
      "###################################### VALIDATION Loss ###########################################\n",
      "Last estimator val1_error 4.684506\n",
      "Last estimator val2_error 3.983693\n",
      "Last estimator val3_error 4.699096\n",
      "val_avg_error 4.4557649999999995\n",
      "##################################################################################################\n",
      "\n",
      " False \n",
      "\n",
      "\n",
      " False \n",
      "\n",
      "\n",
      " False \n",
      "\n",
      "\n",
      " False \n",
      "\n",
      "\n",
      " False \n",
      "\n",
      "\n",
      " False \n",
      "\n"
     ]
    },
    {
     "name": "stderr",
     "output_type": "stream",
     "text": [
      "\u001b[32m[I 2023-04-13 15:20:15,399]\u001b[0m Trial 288 finished with value: 4.066105333333334 and parameters: {'tweedie_variance_power': 1.6, 'max_depth': 4, 'learning_rate': 0.026084914002458694, 'subsample': 0.7000000000000001, 'colsample_bytree': 1.0, 'gamma': 5, 'reg_alpha': 5, 'reg_lambda': 5, 'min_child_weight': 2}. Best is trial 282 with value: 4.065639333333333.\u001b[0m\n"
     ]
    },
    {
     "name": "stdout",
     "output_type": "stream",
     "text": [
      "\n",
      "\n",
      "###################################### VALIDATION Loss ###########################################\n",
      "Last estimator val1_error 4.325618\n",
      "Last estimator val2_error 3.561856\n",
      "Last estimator val3_error 4.310842\n",
      "val_avg_error 4.066105333333334\n",
      "##################################################################################################\n",
      "\n",
      " False \n",
      "\n",
      "\n",
      " False \n",
      "\n",
      "\n",
      " False \n",
      "\n",
      "\n",
      " False \n",
      "\n",
      "\n",
      " False \n",
      "\n",
      "\n",
      " False \n",
      "\n"
     ]
    },
    {
     "name": "stderr",
     "output_type": "stream",
     "text": [
      "\u001b[32m[I 2023-04-13 15:20:41,304]\u001b[0m Trial 289 finished with value: 4.069430333333333 and parameters: {'tweedie_variance_power': 1.6, 'max_depth': 4, 'learning_rate': 0.0187056236268911, 'subsample': 0.7000000000000001, 'colsample_bytree': 1.0, 'gamma': 5, 'reg_alpha': 5, 'reg_lambda': 5, 'min_child_weight': 2}. Best is trial 282 with value: 4.065639333333333.\u001b[0m\n"
     ]
    },
    {
     "name": "stdout",
     "output_type": "stream",
     "text": [
      "\n",
      "\n",
      "###################################### VALIDATION Loss ###########################################\n",
      "Last estimator val1_error 4.332437\n",
      "Last estimator val2_error 3.562501\n",
      "Last estimator val3_error 4.313353\n",
      "val_avg_error 4.069430333333333\n",
      "##################################################################################################\n",
      "\n",
      " False \n",
      "\n",
      "\n",
      " False \n",
      "\n",
      "\n",
      " False \n",
      "\n",
      "\n",
      " False \n",
      "\n",
      "\n",
      " False \n",
      "\n",
      "\n",
      " False \n",
      "\n"
     ]
    },
    {
     "name": "stderr",
     "output_type": "stream",
     "text": [
      "\u001b[32m[I 2023-04-13 15:21:00,673]\u001b[0m Trial 290 finished with value: 4.086610666666666 and parameters: {'tweedie_variance_power': 1.5, 'max_depth': 4, 'learning_rate': 0.023518991115946852, 'subsample': 0.7000000000000001, 'colsample_bytree': 1.0, 'gamma': 5, 'reg_alpha': 5, 'reg_lambda': 5, 'min_child_weight': 2}. Best is trial 282 with value: 4.065639333333333.\u001b[0m\n"
     ]
    },
    {
     "name": "stdout",
     "output_type": "stream",
     "text": [
      "\n",
      "\n",
      "###################################### VALIDATION Loss ###########################################\n",
      "Last estimator val1_error 4.390199\n",
      "Last estimator val2_error 3.496509\n",
      "Last estimator val3_error 4.373124\n",
      "val_avg_error 4.086610666666666\n",
      "##################################################################################################\n",
      "\n",
      " False \n",
      "\n",
      "\n",
      " False \n",
      "\n",
      "\n",
      " False \n",
      "\n",
      "\n",
      " False \n",
      "\n",
      "\n",
      " False \n",
      "\n",
      "\n",
      " False \n",
      "\n"
     ]
    },
    {
     "name": "stderr",
     "output_type": "stream",
     "text": [
      "\u001b[32m[I 2023-04-13 15:21:29,508]\u001b[0m Trial 291 finished with value: 4.070375333333334 and parameters: {'tweedie_variance_power': 1.6, 'max_depth': 5, 'learning_rate': 0.013967592091073757, 'subsample': 0.7000000000000001, 'colsample_bytree': 1.0, 'gamma': 5, 'reg_alpha': 5, 'reg_lambda': 5, 'min_child_weight': 3}. Best is trial 282 with value: 4.065639333333333.\u001b[0m\n"
     ]
    },
    {
     "name": "stdout",
     "output_type": "stream",
     "text": [
      "\n",
      "\n",
      "###################################### VALIDATION Loss ###########################################\n",
      "Last estimator val1_error 4.334281\n",
      "Last estimator val2_error 3.555126\n",
      "Last estimator val3_error 4.321719\n",
      "val_avg_error 4.070375333333334\n",
      "##################################################################################################\n",
      "\n",
      " False \n",
      "\n",
      "\n",
      " False \n",
      "\n",
      "\n",
      " False \n",
      "\n",
      "\n",
      " False \n",
      "\n",
      "\n",
      " False \n",
      "\n",
      "\n",
      " False \n",
      "\n"
     ]
    },
    {
     "name": "stderr",
     "output_type": "stream",
     "text": [
      "\u001b[32m[I 2023-04-13 15:21:48,512]\u001b[0m Trial 292 finished with value: 4.067635 and parameters: {'tweedie_variance_power': 1.6, 'max_depth': 4, 'learning_rate': 0.0332426078908364, 'subsample': 0.7000000000000001, 'colsample_bytree': 1.0, 'gamma': 5, 'reg_alpha': 5, 'reg_lambda': 5, 'min_child_weight': 2}. Best is trial 282 with value: 4.065639333333333.\u001b[0m\n"
     ]
    },
    {
     "name": "stdout",
     "output_type": "stream",
     "text": [
      "\n",
      "\n",
      "###################################### VALIDATION Loss ###########################################\n",
      "Last estimator val1_error 4.324553\n",
      "Last estimator val2_error 3.55984\n",
      "Last estimator val3_error 4.318512\n",
      "val_avg_error 4.067635\n",
      "##################################################################################################\n",
      "\n",
      " False \n",
      "\n",
      "\n",
      " False \n",
      "\n",
      "\n",
      " False \n",
      "\n",
      "\n",
      " False \n",
      "\n",
      "\n",
      " False \n",
      "\n",
      "\n",
      " False \n",
      "\n"
     ]
    },
    {
     "name": "stderr",
     "output_type": "stream",
     "text": [
      "\u001b[32m[I 2023-04-13 15:22:06,056]\u001b[0m Trial 293 finished with value: 4.068840000000001 and parameters: {'tweedie_variance_power': 1.6, 'max_depth': 4, 'learning_rate': 0.026169408882941638, 'subsample': 0.7000000000000001, 'colsample_bytree': 1.0, 'gamma': 0, 'reg_alpha': 5, 'reg_lambda': 2, 'min_child_weight': 2}. Best is trial 282 with value: 4.065639333333333.\u001b[0m\n"
     ]
    },
    {
     "name": "stdout",
     "output_type": "stream",
     "text": [
      "\n",
      "\n",
      "###################################### VALIDATION Loss ###########################################\n",
      "Last estimator val1_error 4.324627\n",
      "Last estimator val2_error 3.562356\n",
      "Last estimator val3_error 4.319537\n",
      "val_avg_error 4.068840000000001\n",
      "##################################################################################################\n",
      "\n",
      " False \n",
      "\n",
      "\n",
      " False \n",
      "\n",
      "\n",
      " False \n",
      "\n",
      "\n",
      " False \n",
      "\n",
      "\n",
      " False \n",
      "\n",
      "\n",
      " False \n",
      "\n"
     ]
    },
    {
     "name": "stderr",
     "output_type": "stream",
     "text": [
      "\u001b[32m[I 2023-04-13 15:22:23,454]\u001b[0m Trial 294 finished with value: 4.074186 and parameters: {'tweedie_variance_power': 1.6, 'max_depth': 4, 'learning_rate': 0.031363888193384856, 'subsample': 0.6, 'colsample_bytree': 1.0, 'gamma': 5, 'reg_alpha': 3, 'reg_lambda': 5, 'min_child_weight': 2}. Best is trial 282 with value: 4.065639333333333.\u001b[0m\n"
     ]
    },
    {
     "name": "stdout",
     "output_type": "stream",
     "text": [
      "\n",
      "\n",
      "###################################### VALIDATION Loss ###########################################\n",
      "Last estimator val1_error 4.338003\n",
      "Last estimator val2_error 3.562538\n",
      "Last estimator val3_error 4.322017\n",
      "val_avg_error 4.074186\n",
      "##################################################################################################\n",
      "\n",
      " False \n",
      "\n",
      "\n",
      " False \n",
      "\n",
      "\n",
      " False \n",
      "\n",
      "\n",
      " False \n",
      "\n",
      "\n",
      " False \n",
      "\n",
      "\n",
      " False \n",
      "\n"
     ]
    },
    {
     "name": "stderr",
     "output_type": "stream",
     "text": [
      "\u001b[32m[I 2023-04-13 15:22:42,667]\u001b[0m Trial 295 finished with value: 4.066934 and parameters: {'tweedie_variance_power': 1.6, 'max_depth': 4, 'learning_rate': 0.025889974742150806, 'subsample': 0.7000000000000001, 'colsample_bytree': 1.0, 'gamma': 5, 'reg_alpha': 5, 'reg_lambda': 5, 'min_child_weight': 2}. Best is trial 282 with value: 4.065639333333333.\u001b[0m\n"
     ]
    },
    {
     "name": "stdout",
     "output_type": "stream",
     "text": [
      "\n",
      "\n",
      "###################################### VALIDATION Loss ###########################################\n",
      "Last estimator val1_error 4.325661\n",
      "Last estimator val2_error 3.563467\n",
      "Last estimator val3_error 4.311674\n",
      "val_avg_error 4.066934\n",
      "##################################################################################################\n",
      "\n",
      " False \n",
      "\n",
      "\n",
      " False \n",
      "\n",
      "\n",
      " False \n",
      "\n",
      "\n",
      " False \n",
      "\n",
      "\n",
      " False \n",
      "\n",
      "\n",
      " False \n",
      "\n"
     ]
    },
    {
     "name": "stderr",
     "output_type": "stream",
     "text": [
      "\u001b[32m[I 2023-04-13 15:23:09,550]\u001b[0m Trial 296 finished with value: 4.068200999999999 and parameters: {'tweedie_variance_power': 1.6, 'max_depth': 4, 'learning_rate': 0.022050258497779043, 'subsample': 0.7000000000000001, 'colsample_bytree': 1.0, 'gamma': 5, 'reg_alpha': 5, 'reg_lambda': 5, 'min_child_weight': 2}. Best is trial 282 with value: 4.065639333333333.\u001b[0m\n"
     ]
    },
    {
     "name": "stdout",
     "output_type": "stream",
     "text": [
      "\n",
      "\n",
      "###################################### VALIDATION Loss ###########################################\n",
      "Last estimator val1_error 4.329662\n",
      "Last estimator val2_error 3.562421\n",
      "Last estimator val3_error 4.31252\n",
      "val_avg_error 4.068200999999999\n",
      "##################################################################################################\n",
      "\n",
      " False \n",
      "\n",
      "\n",
      " False \n",
      "\n",
      "\n",
      " False \n",
      "\n",
      "\n",
      " False \n",
      "\n",
      "\n",
      " False \n",
      "\n",
      "\n",
      " False \n",
      "\n"
     ]
    },
    {
     "name": "stderr",
     "output_type": "stream",
     "text": [
      "\u001b[32m[I 2023-04-13 15:23:29,252]\u001b[0m Trial 297 finished with value: 4.458339333333334 and parameters: {'tweedie_variance_power': 1.7000000000000002, 'max_depth': 4, 'learning_rate': 0.016818684343856808, 'subsample': 0.5, 'colsample_bytree': 1.0, 'gamma': 5, 'reg_alpha': 5, 'reg_lambda': 5, 'min_child_weight': 2}. Best is trial 282 with value: 4.065639333333333.\u001b[0m\n"
     ]
    },
    {
     "name": "stdout",
     "output_type": "stream",
     "text": [
      "\n",
      "\n",
      "###################################### VALIDATION Loss ###########################################\n",
      "Last estimator val1_error 4.691803\n",
      "Last estimator val2_error 3.999662\n",
      "Last estimator val3_error 4.683553\n",
      "val_avg_error 4.458339333333334\n",
      "##################################################################################################\n",
      "\n",
      " False \n",
      "\n",
      "\n",
      " False \n",
      "\n",
      "\n",
      " False \n",
      "\n",
      "\n",
      " False \n",
      "\n",
      "\n",
      " False \n",
      "\n",
      "\n",
      " False \n",
      "\n"
     ]
    },
    {
     "name": "stderr",
     "output_type": "stream",
     "text": [
      "\u001b[32m[I 2023-04-13 15:23:47,010]\u001b[0m Trial 298 finished with value: 4.068364666666667 and parameters: {'tweedie_variance_power': 1.6, 'max_depth': 5, 'learning_rate': 0.033033626003869526, 'subsample': 0.7000000000000001, 'colsample_bytree': 1.0, 'gamma': 5, 'reg_alpha': 5, 'reg_lambda': 5, 'min_child_weight': 2}. Best is trial 282 with value: 4.065639333333333.\u001b[0m\n"
     ]
    },
    {
     "name": "stdout",
     "output_type": "stream",
     "text": [
      "\n",
      "\n",
      "###################################### VALIDATION Loss ###########################################\n",
      "Last estimator val1_error 4.331253\n",
      "Last estimator val2_error 3.555201\n",
      "Last estimator val3_error 4.31864\n",
      "val_avg_error 4.068364666666667\n",
      "##################################################################################################\n",
      "\n",
      " False \n",
      "\n",
      "\n",
      " False \n",
      "\n",
      "\n",
      " False \n",
      "\n",
      "\n",
      " False \n",
      "\n",
      "\n",
      " False \n",
      "\n",
      "\n",
      " False \n",
      "\n"
     ]
    },
    {
     "name": "stderr",
     "output_type": "stream",
     "text": [
      "\u001b[32m[I 2023-04-13 15:24:01,687]\u001b[0m Trial 299 finished with value: 4.068200666666667 and parameters: {'tweedie_variance_power': 1.6, 'max_depth': 4, 'learning_rate': 0.03614312825614391, 'subsample': 0.7000000000000001, 'colsample_bytree': 1.0, 'gamma': 5, 'reg_alpha': 5, 'reg_lambda': 5, 'min_child_weight': 3}. Best is trial 282 with value: 4.065639333333333.\u001b[0m\n"
     ]
    },
    {
     "name": "stdout",
     "output_type": "stream",
     "text": [
      "\n",
      "\n",
      "###################################### VALIDATION Loss ###########################################\n",
      "Last estimator val1_error 4.326266\n",
      "Last estimator val2_error 3.563978\n",
      "Last estimator val3_error 4.314358\n",
      "val_avg_error 4.068200666666667\n",
      "##################################################################################################\n",
      "\n",
      " False \n",
      "\n",
      "\n",
      " False \n",
      "\n",
      "\n",
      " False \n",
      "\n",
      "\n",
      " False \n",
      "\n",
      "\n",
      " False \n",
      "\n",
      "\n",
      " False \n",
      "\n"
     ]
    },
    {
     "name": "stderr",
     "output_type": "stream",
     "text": [
      "\u001b[32m[I 2023-04-13 15:24:14,759]\u001b[0m Trial 300 finished with value: 4.069994333333334 and parameters: {'tweedie_variance_power': 1.6, 'max_depth': 4, 'learning_rate': 0.029287899870368426, 'subsample': 0.7000000000000001, 'colsample_bytree': 1.0, 'gamma': 4, 'reg_alpha': 5, 'reg_lambda': 5, 'min_child_weight': 2}. Best is trial 282 with value: 4.065639333333333.\u001b[0m\n"
     ]
    },
    {
     "name": "stdout",
     "output_type": "stream",
     "text": [
      "\n",
      "\n",
      "###################################### VALIDATION Loss ###########################################\n",
      "Last estimator val1_error 4.326498\n",
      "Last estimator val2_error 3.56611\n",
      "Last estimator val3_error 4.317375\n",
      "val_avg_error 4.069994333333334\n",
      "##################################################################################################\n",
      "\n",
      " False \n",
      "\n",
      "\n",
      " False \n",
      "\n",
      "\n",
      " False \n",
      "\n",
      "\n",
      " False \n",
      "\n",
      "\n",
      " False \n",
      "\n",
      "\n",
      " False \n",
      "\n"
     ]
    },
    {
     "name": "stderr",
     "output_type": "stream",
     "text": [
      "\u001b[32m[I 2023-04-13 15:24:29,484]\u001b[0m Trial 301 finished with value: 4.070021333333333 and parameters: {'tweedie_variance_power': 1.6, 'max_depth': 4, 'learning_rate': 0.024222175321843235, 'subsample': 0.7000000000000001, 'colsample_bytree': 1.0, 'gamma': 5, 'reg_alpha': 5, 'reg_lambda': 5, 'min_child_weight': 2}. Best is trial 282 with value: 4.065639333333333.\u001b[0m\n"
     ]
    },
    {
     "name": "stdout",
     "output_type": "stream",
     "text": [
      "\n",
      "\n",
      "###################################### VALIDATION Loss ###########################################\n",
      "Last estimator val1_error 4.327525\n",
      "Last estimator val2_error 3.567321\n",
      "Last estimator val3_error 4.315218\n",
      "val_avg_error 4.070021333333333\n",
      "##################################################################################################\n",
      "\n",
      " False \n",
      "\n",
      "\n",
      " False \n",
      "\n",
      "\n",
      " False \n",
      "\n",
      "\n",
      " False \n",
      "\n",
      "\n",
      " False \n",
      "\n",
      "\n",
      " False \n",
      "\n"
     ]
    },
    {
     "name": "stderr",
     "output_type": "stream",
     "text": [
      "\u001b[32m[I 2023-04-13 15:24:39,795]\u001b[0m Trial 302 finished with value: 4.071339333333333 and parameters: {'tweedie_variance_power': 1.6, 'max_depth': 4, 'learning_rate': 0.036105194496911706, 'subsample': 0.6, 'colsample_bytree': 1.0, 'gamma': 5, 'reg_alpha': 5, 'reg_lambda': 5, 'min_child_weight': 2}. Best is trial 282 with value: 4.065639333333333.\u001b[0m\n"
     ]
    },
    {
     "name": "stdout",
     "output_type": "stream",
     "text": [
      "\n",
      "\n",
      "###################################### VALIDATION Loss ###########################################\n",
      "Last estimator val1_error 4.330544\n",
      "Last estimator val2_error 3.566308\n",
      "Last estimator val3_error 4.317166\n",
      "val_avg_error 4.071339333333333\n",
      "##################################################################################################\n",
      "\n",
      " False \n",
      "\n",
      "\n",
      " False \n",
      "\n",
      "\n",
      " False \n",
      "\n",
      "\n",
      " False \n",
      "\n",
      "\n",
      " False \n",
      "\n",
      "\n",
      " False \n",
      "\n"
     ]
    },
    {
     "name": "stderr",
     "output_type": "stream",
     "text": [
      "\u001b[32m[I 2023-04-13 15:25:05,628]\u001b[0m Trial 303 finished with value: 4.098061666666666 and parameters: {'tweedie_variance_power': 1.6, 'max_depth': 4, 'learning_rate': 0.02094917416482088, 'subsample': 0.7000000000000001, 'colsample_bytree': 0.1, 'gamma': 5, 'reg_alpha': 5, 'reg_lambda': 5, 'min_child_weight': 2}. Best is trial 282 with value: 4.065639333333333.\u001b[0m\n"
     ]
    },
    {
     "name": "stdout",
     "output_type": "stream",
     "text": [
      "\n",
      "\n",
      "###################################### VALIDATION Loss ###########################################\n",
      "Last estimator val1_error 4.37578\n",
      "Last estimator val2_error 3.57705\n",
      "Last estimator val3_error 4.341355\n",
      "val_avg_error 4.098061666666666\n",
      "##################################################################################################\n",
      "\n",
      " False \n",
      "\n",
      "\n",
      " False \n",
      "\n",
      "\n",
      " False \n",
      "\n",
      "\n",
      " False \n",
      "\n",
      "\n",
      " False \n",
      "\n",
      "\n",
      " False \n",
      "\n"
     ]
    },
    {
     "name": "stderr",
     "output_type": "stream",
     "text": [
      "\u001b[32m[I 2023-04-13 15:25:26,122]\u001b[0m Trial 304 finished with value: 4.094301000000001 and parameters: {'tweedie_variance_power': 1.5, 'max_depth': 8, 'learning_rate': 0.027739132168372052, 'subsample': 0.7000000000000001, 'colsample_bytree': 1.0, 'gamma': 5, 'reg_alpha': 3, 'reg_lambda': 5, 'min_child_weight': 2}. Best is trial 282 with value: 4.065639333333333.\u001b[0m\n"
     ]
    },
    {
     "name": "stdout",
     "output_type": "stream",
     "text": [
      "\n",
      "\n",
      "###################################### VALIDATION Loss ###########################################\n",
      "Last estimator val1_error 4.405087\n",
      "Last estimator val2_error 3.478668\n",
      "Last estimator val3_error 4.399148\n",
      "val_avg_error 4.094301000000001\n",
      "##################################################################################################\n",
      "\n",
      " False \n",
      "\n",
      "\n",
      " False \n",
      "\n",
      "\n",
      " False \n",
      "\n",
      "\n",
      " False \n",
      "\n",
      "\n",
      " False \n",
      "\n",
      "\n",
      " False \n",
      "\n"
     ]
    },
    {
     "name": "stderr",
     "output_type": "stream",
     "text": [
      "\u001b[32m[I 2023-04-13 15:25:42,665]\u001b[0m Trial 305 finished with value: 4.067229666666667 and parameters: {'tweedie_variance_power': 1.6, 'max_depth': 4, 'learning_rate': 0.029756986439767243, 'subsample': 0.7000000000000001, 'colsample_bytree': 1.0, 'gamma': 5, 'reg_alpha': 5, 'reg_lambda': 5, 'min_child_weight': 2}. Best is trial 282 with value: 4.065639333333333.\u001b[0m\n"
     ]
    },
    {
     "name": "stdout",
     "output_type": "stream",
     "text": [
      "\n",
      "\n",
      "###################################### VALIDATION Loss ###########################################\n",
      "Last estimator val1_error 4.324571\n",
      "Last estimator val2_error 3.562325\n",
      "Last estimator val3_error 4.314793\n",
      "val_avg_error 4.067229666666667\n",
      "##################################################################################################\n",
      "\n",
      " False \n",
      "\n",
      "\n",
      " False \n",
      "\n",
      "\n",
      " False \n",
      "\n",
      "\n",
      " False \n",
      "\n",
      "\n",
      " False \n",
      "\n",
      "\n",
      " False \n",
      "\n"
     ]
    },
    {
     "name": "stderr",
     "output_type": "stream",
     "text": [
      "\u001b[32m[I 2023-04-13 15:25:58,733]\u001b[0m Trial 306 finished with value: 4.067069333333333 and parameters: {'tweedie_variance_power': 1.6, 'max_depth': 4, 'learning_rate': 0.030372416589633286, 'subsample': 0.7000000000000001, 'colsample_bytree': 1.0, 'gamma': 5, 'reg_alpha': 5, 'reg_lambda': 5, 'min_child_weight': 2}. Best is trial 282 with value: 4.065639333333333.\u001b[0m\n"
     ]
    },
    {
     "name": "stdout",
     "output_type": "stream",
     "text": [
      "\n",
      "\n",
      "###################################### VALIDATION Loss ###########################################\n",
      "Last estimator val1_error 4.323513\n",
      "Last estimator val2_error 3.56261\n",
      "Last estimator val3_error 4.315085\n",
      "val_avg_error 4.067069333333333\n",
      "##################################################################################################\n",
      "\n",
      " False \n",
      "\n",
      "\n",
      " False \n",
      "\n",
      "\n",
      " False \n",
      "\n",
      "\n",
      " False \n",
      "\n",
      "\n",
      " False \n",
      "\n",
      "\n",
      " False \n",
      "\n"
     ]
    },
    {
     "name": "stderr",
     "output_type": "stream",
     "text": [
      "\u001b[32m[I 2023-04-13 15:26:17,716]\u001b[0m Trial 307 finished with value: 4.067382666666667 and parameters: {'tweedie_variance_power': 1.6, 'max_depth': 4, 'learning_rate': 0.029938490453215748, 'subsample': 0.7000000000000001, 'colsample_bytree': 1.0, 'gamma': 3, 'reg_alpha': 5, 'reg_lambda': 5, 'min_child_weight': 2}. Best is trial 282 with value: 4.065639333333333.\u001b[0m\n"
     ]
    },
    {
     "name": "stdout",
     "output_type": "stream",
     "text": [
      "\n",
      "\n",
      "###################################### VALIDATION Loss ###########################################\n",
      "Last estimator val1_error 4.322472\n",
      "Last estimator val2_error 3.559875\n",
      "Last estimator val3_error 4.319801\n",
      "val_avg_error 4.067382666666667\n",
      "##################################################################################################\n",
      "\n",
      " False \n",
      "\n",
      "\n",
      " False \n",
      "\n",
      "\n",
      " False \n",
      "\n",
      "\n",
      " False \n",
      "\n",
      "\n",
      " False \n",
      "\n",
      "\n",
      " False \n",
      "\n"
     ]
    },
    {
     "name": "stderr",
     "output_type": "stream",
     "text": [
      "\u001b[32m[I 2023-04-13 15:26:35,584]\u001b[0m Trial 308 finished with value: 4.067816 and parameters: {'tweedie_variance_power': 1.6, 'max_depth': 4, 'learning_rate': 0.030447906938347667, 'subsample': 0.7000000000000001, 'colsample_bytree': 1.0, 'gamma': 2, 'reg_alpha': 5, 'reg_lambda': 5, 'min_child_weight': 2}. Best is trial 282 with value: 4.065639333333333.\u001b[0m\n"
     ]
    },
    {
     "name": "stdout",
     "output_type": "stream",
     "text": [
      "\n",
      "\n",
      "###################################### VALIDATION Loss ###########################################\n",
      "Last estimator val1_error 4.321074\n",
      "Last estimator val2_error 3.559765\n",
      "Last estimator val3_error 4.322609\n",
      "val_avg_error 4.067816\n",
      "##################################################################################################\n",
      "\n",
      " False \n",
      "\n",
      "\n",
      " False \n",
      "\n",
      "\n",
      " False \n",
      "\n",
      "\n",
      " False \n",
      "\n",
      "\n",
      " False \n",
      "\n",
      "\n",
      " False \n",
      "\n"
     ]
    },
    {
     "name": "stderr",
     "output_type": "stream",
     "text": [
      "\u001b[32m[I 2023-04-13 15:26:59,158]\u001b[0m Trial 309 finished with value: 4.068025666666666 and parameters: {'tweedie_variance_power': 1.6, 'max_depth': 4, 'learning_rate': 0.025260503738615957, 'subsample': 0.7000000000000001, 'colsample_bytree': 1.0, 'gamma': 5, 'reg_alpha': 5, 'reg_lambda': 5, 'min_child_weight': 2}. Best is trial 282 with value: 4.065639333333333.\u001b[0m\n"
     ]
    },
    {
     "name": "stdout",
     "output_type": "stream",
     "text": [
      "\n",
      "\n",
      "###################################### VALIDATION Loss ###########################################\n",
      "Last estimator val1_error 4.325799\n",
      "Last estimator val2_error 3.561814\n",
      "Last estimator val3_error 4.316464\n",
      "val_avg_error 4.068025666666666\n",
      "##################################################################################################\n",
      "\n",
      " False \n",
      "\n",
      "\n",
      " False \n",
      "\n",
      "\n",
      " False \n",
      "\n",
      "\n",
      " False \n",
      "\n",
      "\n",
      " False \n",
      "\n",
      "\n",
      " False \n",
      "\n"
     ]
    },
    {
     "name": "stderr",
     "output_type": "stream",
     "text": [
      "\u001b[32m[I 2023-04-13 15:27:14,222]\u001b[0m Trial 310 finished with value: 4.068339333333333 and parameters: {'tweedie_variance_power': 1.6, 'max_depth': 4, 'learning_rate': 0.03219102994754458, 'subsample': 0.7000000000000001, 'colsample_bytree': 1.0, 'gamma': 1, 'reg_alpha': 5, 'reg_lambda': 5, 'min_child_weight': 2}. Best is trial 282 with value: 4.065639333333333.\u001b[0m\n"
     ]
    },
    {
     "name": "stdout",
     "output_type": "stream",
     "text": [
      "\n",
      "\n",
      "###################################### VALIDATION Loss ###########################################\n",
      "Last estimator val1_error 4.327554\n",
      "Last estimator val2_error 3.562682\n",
      "Last estimator val3_error 4.314782\n",
      "val_avg_error 4.068339333333333\n",
      "##################################################################################################\n",
      "\n",
      " False \n",
      "\n",
      "\n",
      " False \n",
      "\n",
      "\n",
      " False \n",
      "\n",
      "\n",
      " False \n",
      "\n",
      "\n",
      " False \n",
      "\n",
      "\n",
      " False \n",
      "\n"
     ]
    },
    {
     "name": "stderr",
     "output_type": "stream",
     "text": [
      "\u001b[32m[I 2023-04-13 15:27:26,723]\u001b[0m Trial 311 finished with value: 4.0666813333333325 and parameters: {'tweedie_variance_power': 1.6, 'max_depth': 4, 'learning_rate': 0.036635539458860014, 'subsample': 0.7000000000000001, 'colsample_bytree': 1.0, 'gamma': 4, 'reg_alpha': 5, 'reg_lambda': 5, 'min_child_weight': 2}. Best is trial 282 with value: 4.065639333333333.\u001b[0m\n"
     ]
    },
    {
     "name": "stdout",
     "output_type": "stream",
     "text": [
      "\n",
      "\n",
      "###################################### VALIDATION Loss ###########################################\n",
      "Last estimator val1_error 4.325575\n",
      "Last estimator val2_error 3.56404\n",
      "Last estimator val3_error 4.310429\n",
      "val_avg_error 4.0666813333333325\n",
      "##################################################################################################\n",
      "\n",
      " False \n",
      "\n",
      "\n",
      " False \n",
      "\n",
      "\n",
      " False \n",
      "\n",
      "\n",
      " False \n",
      "\n",
      "\n",
      " False \n",
      "\n",
      "\n",
      " False \n",
      "\n"
     ]
    },
    {
     "name": "stderr",
     "output_type": "stream",
     "text": [
      "\u001b[32m[I 2023-04-13 15:27:41,176]\u001b[0m Trial 312 finished with value: 4.067433666666666 and parameters: {'tweedie_variance_power': 1.6, 'max_depth': 4, 'learning_rate': 0.026911503011259535, 'subsample': 0.7000000000000001, 'colsample_bytree': 1.0, 'gamma': 3, 'reg_alpha': 5, 'reg_lambda': 5, 'min_child_weight': 2}. Best is trial 282 with value: 4.065639333333333.\u001b[0m\n"
     ]
    },
    {
     "name": "stdout",
     "output_type": "stream",
     "text": [
      "\n",
      "\n",
      "###################################### VALIDATION Loss ###########################################\n",
      "Last estimator val1_error 4.324462\n",
      "Last estimator val2_error 3.564748\n",
      "Last estimator val3_error 4.313091\n",
      "val_avg_error 4.067433666666666\n",
      "##################################################################################################\n",
      "\n",
      " False \n",
      "\n",
      "\n",
      " False \n",
      "\n",
      "\n",
      " False \n",
      "\n",
      "\n",
      " False \n",
      "\n",
      "\n",
      " False \n",
      "\n",
      "\n",
      " False \n",
      "\n"
     ]
    },
    {
     "name": "stderr",
     "output_type": "stream",
     "text": [
      "\u001b[32m[I 2023-04-13 15:27:57,759]\u001b[0m Trial 313 finished with value: 4.09232 and parameters: {'tweedie_variance_power': 1.6, 'max_depth': 4, 'learning_rate': 0.022817382039772002, 'subsample': 0.7000000000000001, 'colsample_bytree': 0.2, 'gamma': 3, 'reg_alpha': 5, 'reg_lambda': 5, 'min_child_weight': 2}. Best is trial 282 with value: 4.065639333333333.\u001b[0m\n"
     ]
    },
    {
     "name": "stdout",
     "output_type": "stream",
     "text": [
      "\n",
      "\n",
      "###################################### VALIDATION Loss ###########################################\n",
      "Last estimator val1_error 4.370415\n",
      "Last estimator val2_error 3.567605\n",
      "Last estimator val3_error 4.33894\n",
      "val_avg_error 4.09232\n",
      "##################################################################################################\n",
      "\n",
      " False \n",
      "\n",
      "\n",
      " False \n",
      "\n",
      "\n",
      " False \n",
      "\n",
      "\n",
      " False \n",
      "\n",
      "\n",
      " False \n",
      "\n",
      "\n",
      " False \n",
      "\n"
     ]
    },
    {
     "name": "stderr",
     "output_type": "stream",
     "text": [
      "\u001b[32m[I 2023-04-13 15:28:11,736]\u001b[0m Trial 314 finished with value: 4.456171666666666 and parameters: {'tweedie_variance_power': 1.7000000000000002, 'max_depth': 4, 'learning_rate': 0.03365671499562343, 'subsample': 0.7000000000000001, 'colsample_bytree': 1.0, 'gamma': 5, 'reg_alpha': 5, 'reg_lambda': 5, 'min_child_weight': 2}. Best is trial 282 with value: 4.065639333333333.\u001b[0m\n"
     ]
    },
    {
     "name": "stdout",
     "output_type": "stream",
     "text": [
      "\n",
      "\n",
      "###################################### VALIDATION Loss ###########################################\n",
      "Last estimator val1_error 4.688125\n",
      "Last estimator val2_error 3.999036\n",
      "Last estimator val3_error 4.681354\n",
      "val_avg_error 4.456171666666666\n",
      "##################################################################################################\n",
      "\n",
      " False \n",
      "\n",
      "\n",
      " False \n",
      "\n",
      "\n",
      " False \n",
      "\n",
      "\n",
      " False \n",
      "\n",
      "\n",
      " False \n",
      "\n",
      "\n",
      " False \n",
      "\n"
     ]
    },
    {
     "name": "stderr",
     "output_type": "stream",
     "text": [
      "\u001b[32m[I 2023-04-13 15:28:35,267]\u001b[0m Trial 315 finished with value: 4.069722666666666 and parameters: {'tweedie_variance_power': 1.6, 'max_depth': 4, 'learning_rate': 0.019765714072335204, 'subsample': 0.7000000000000001, 'colsample_bytree': 1.0, 'gamma': 4, 'reg_alpha': 5, 'reg_lambda': 5, 'min_child_weight': 2}. Best is trial 282 with value: 4.065639333333333.\u001b[0m\n"
     ]
    },
    {
     "name": "stdout",
     "output_type": "stream",
     "text": [
      "\n",
      "\n",
      "###################################### VALIDATION Loss ###########################################\n",
      "Last estimator val1_error 4.329228\n",
      "Last estimator val2_error 3.563396\n",
      "Last estimator val3_error 4.316544\n",
      "val_avg_error 4.069722666666666\n",
      "##################################################################################################\n",
      "\n",
      " False \n",
      "\n",
      "\n",
      " False \n",
      "\n",
      "\n",
      " False \n",
      "\n",
      "\n",
      " False \n",
      "\n",
      "\n",
      " False \n",
      "\n",
      "\n",
      " False \n",
      "\n"
     ]
    },
    {
     "name": "stderr",
     "output_type": "stream",
     "text": [
      "\u001b[32m[I 2023-04-13 15:28:54,519]\u001b[0m Trial 316 finished with value: 4.072026 and parameters: {'tweedie_variance_power': 1.6, 'max_depth': 4, 'learning_rate': 0.028979713565526727, 'subsample': 0.6, 'colsample_bytree': 1.0, 'gamma': 5, 'reg_alpha': 5, 'reg_lambda': 5, 'min_child_weight': 2}. Best is trial 282 with value: 4.065639333333333.\u001b[0m\n"
     ]
    },
    {
     "name": "stdout",
     "output_type": "stream",
     "text": [
      "\n",
      "\n",
      "###################################### VALIDATION Loss ###########################################\n",
      "Last estimator val1_error 4.334672\n",
      "Last estimator val2_error 3.564042\n",
      "Last estimator val3_error 4.317364\n",
      "val_avg_error 4.072026\n",
      "##################################################################################################\n",
      "\n",
      " False \n",
      "\n",
      "\n",
      " False \n",
      "\n",
      "\n",
      " False \n",
      "\n",
      "\n",
      " False \n",
      "\n",
      "\n",
      " False \n",
      "\n",
      "\n",
      " False \n",
      "\n"
     ]
    },
    {
     "name": "stderr",
     "output_type": "stream",
     "text": [
      "\u001b[32m[I 2023-04-13 15:29:07,244]\u001b[0m Trial 317 finished with value: 4.069576666666666 and parameters: {'tweedie_variance_power': 1.6, 'max_depth': 4, 'learning_rate': 0.03584776846088655, 'subsample': 0.7000000000000001, 'colsample_bytree': 1.0, 'gamma': 4, 'reg_alpha': 5, 'reg_lambda': 5, 'min_child_weight': 3}. Best is trial 282 with value: 4.065639333333333.\u001b[0m\n"
     ]
    },
    {
     "name": "stdout",
     "output_type": "stream",
     "text": [
      "\n",
      "\n",
      "###################################### VALIDATION Loss ###########################################\n",
      "Last estimator val1_error 4.326723\n",
      "Last estimator val2_error 3.565225\n",
      "Last estimator val3_error 4.316782\n",
      "val_avg_error 4.069576666666666\n",
      "##################################################################################################\n",
      "\n",
      " False \n",
      "\n",
      "\n",
      " False \n",
      "\n",
      "\n",
      " False \n",
      "\n",
      "\n",
      " False \n",
      "\n",
      "\n",
      " False \n",
      "\n",
      "\n",
      " False \n",
      "\n"
     ]
    },
    {
     "name": "stderr",
     "output_type": "stream",
     "text": [
      "\u001b[32m[I 2023-04-13 15:29:28,958]\u001b[0m Trial 318 finished with value: 4.068978333333333 and parameters: {'tweedie_variance_power': 1.6, 'max_depth': 4, 'learning_rate': 0.02521486600891578, 'subsample': 0.7000000000000001, 'colsample_bytree': 1.0, 'gamma': 3, 'reg_alpha': 5, 'reg_lambda': 5, 'min_child_weight': 2}. Best is trial 282 with value: 4.065639333333333.\u001b[0m\n"
     ]
    },
    {
     "name": "stdout",
     "output_type": "stream",
     "text": [
      "\n",
      "\n",
      "###################################### VALIDATION Loss ###########################################\n",
      "Last estimator val1_error 4.328131\n",
      "Last estimator val2_error 3.560769\n",
      "Last estimator val3_error 4.318035\n",
      "val_avg_error 4.068978333333333\n",
      "##################################################################################################\n",
      "\n",
      " False \n",
      "\n",
      "\n",
      " False \n",
      "\n",
      "\n",
      " False \n",
      "\n",
      "\n",
      " False \n",
      "\n",
      "\n",
      " False \n",
      "\n",
      "\n",
      " False \n",
      "\n"
     ]
    },
    {
     "name": "stderr",
     "output_type": "stream",
     "text": [
      "\u001b[32m[I 2023-04-13 15:29:43,693]\u001b[0m Trial 319 finished with value: 4.088065333333333 and parameters: {'tweedie_variance_power': 1.5, 'max_depth': 4, 'learning_rate': 0.030471401559119975, 'subsample': 0.7000000000000001, 'colsample_bytree': 1.0, 'gamma': 5, 'reg_alpha': 5, 'reg_lambda': 5, 'min_child_weight': 2}. Best is trial 282 with value: 4.065639333333333.\u001b[0m\n"
     ]
    },
    {
     "name": "stdout",
     "output_type": "stream",
     "text": [
      "\n",
      "\n",
      "###################################### VALIDATION Loss ###########################################\n",
      "Last estimator val1_error 4.395694\n",
      "Last estimator val2_error 3.494773\n",
      "Last estimator val3_error 4.373729\n",
      "val_avg_error 4.088065333333333\n",
      "##################################################################################################\n",
      "\n",
      " False \n",
      "\n",
      "\n",
      " False \n",
      "\n",
      "\n",
      " False \n",
      "\n",
      "\n",
      " False \n",
      "\n",
      "\n",
      " False \n",
      "\n",
      "\n",
      " False \n",
      "\n"
     ]
    },
    {
     "name": "stderr",
     "output_type": "stream",
     "text": [
      "\u001b[32m[I 2023-04-13 15:30:03,651]\u001b[0m Trial 320 finished with value: 4.067908 and parameters: {'tweedie_variance_power': 1.6, 'max_depth': 4, 'learning_rate': 0.023079512371673248, 'subsample': 0.7000000000000001, 'colsample_bytree': 1.0, 'gamma': 3, 'reg_alpha': 5, 'reg_lambda': 5, 'min_child_weight': 2}. Best is trial 282 with value: 4.065639333333333.\u001b[0m\n"
     ]
    },
    {
     "name": "stdout",
     "output_type": "stream",
     "text": [
      "\n",
      "\n",
      "###################################### VALIDATION Loss ###########################################\n",
      "Last estimator val1_error 4.326622\n",
      "Last estimator val2_error 3.561576\n",
      "Last estimator val3_error 4.315526\n",
      "val_avg_error 4.067908\n",
      "##################################################################################################\n",
      "\n",
      " False \n",
      "\n",
      "\n",
      " False \n",
      "\n",
      "\n",
      " False \n",
      "\n",
      "\n",
      " False \n",
      "\n",
      "\n",
      " False \n",
      "\n",
      "\n",
      " False \n",
      "\n"
     ]
    },
    {
     "name": "stderr",
     "output_type": "stream",
     "text": [
      "\u001b[32m[I 2023-04-13 15:30:21,501]\u001b[0m Trial 321 finished with value: 4.069356 and parameters: {'tweedie_variance_power': 1.6, 'max_depth': 4, 'learning_rate': 0.028727793280556933, 'subsample': 0.7000000000000001, 'colsample_bytree': 1.0, 'gamma': 5, 'reg_alpha': 5, 'reg_lambda': 5, 'min_child_weight': 2}. Best is trial 282 with value: 4.065639333333333.\u001b[0m\n"
     ]
    },
    {
     "name": "stdout",
     "output_type": "stream",
     "text": [
      "\n",
      "\n",
      "###################################### VALIDATION Loss ###########################################\n",
      "Last estimator val1_error 4.327278\n",
      "Last estimator val2_error 3.565492\n",
      "Last estimator val3_error 4.315298\n",
      "val_avg_error 4.069356\n",
      "##################################################################################################\n",
      "\n",
      " False \n",
      "\n",
      "\n",
      " False \n",
      "\n",
      "\n",
      " False \n",
      "\n",
      "\n",
      " False \n",
      "\n",
      "\n",
      " False \n",
      "\n",
      "\n",
      " False \n",
      "\n"
     ]
    },
    {
     "name": "stderr",
     "output_type": "stream",
     "text": [
      "\u001b[32m[I 2023-04-13 15:32:15,326]\u001b[0m Trial 322 finished with value: 4.6806676666666664 and parameters: {'tweedie_variance_power': 1.6, 'max_depth': 4, 'learning_rate': 0.00024269584576421958, 'subsample': 0.7000000000000001, 'colsample_bytree': 1.0, 'gamma': 4, 'reg_alpha': 5, 'reg_lambda': 5, 'min_child_weight': 2}. Best is trial 282 with value: 4.065639333333333.\u001b[0m\n"
     ]
    },
    {
     "name": "stdout",
     "output_type": "stream",
     "text": [
      "\n",
      "\n",
      "###################################### VALIDATION Loss ###########################################\n",
      "Last estimator val1_error 5.281237\n",
      "Last estimator val2_error 3.982065\n",
      "Last estimator val3_error 4.778701\n",
      "val_avg_error 4.6806676666666664\n",
      "##################################################################################################\n",
      "\n",
      " False \n",
      "\n",
      "\n",
      " False \n",
      "\n",
      "\n",
      " False \n",
      "\n",
      "\n",
      " False \n",
      "\n",
      "\n",
      " False \n",
      "\n",
      "\n",
      " False \n",
      "\n"
     ]
    },
    {
     "name": "stderr",
     "output_type": "stream",
     "text": [
      "\u001b[32m[I 2023-04-13 15:32:26,939]\u001b[0m Trial 323 finished with value: 4.067927 and parameters: {'tweedie_variance_power': 1.6, 'max_depth': 4, 'learning_rate': 0.035723331539896645, 'subsample': 0.7000000000000001, 'colsample_bytree': 1.0, 'gamma': 5, 'reg_alpha': 5, 'reg_lambda': 2, 'min_child_weight': 2}. Best is trial 282 with value: 4.065639333333333.\u001b[0m\n"
     ]
    },
    {
     "name": "stdout",
     "output_type": "stream",
     "text": [
      "\n",
      "\n",
      "###################################### VALIDATION Loss ###########################################\n",
      "Last estimator val1_error 4.325874\n",
      "Last estimator val2_error 3.5645\n",
      "Last estimator val3_error 4.313407\n",
      "val_avg_error 4.067927\n",
      "##################################################################################################\n",
      "\n",
      " False \n",
      "\n",
      "\n",
      " False \n",
      "\n",
      "\n",
      " False \n",
      "\n",
      "\n",
      " False \n",
      "\n"
     ]
    }
   ],
   "source": [
    "\n",
    "if __name__ == \"__main__\":\n",
    "    study = optuna.create_study(direction=\"minimize\")\n",
    "    study.optimize(objective, timeout=12000, n_trials=500)\n",
    "\n",
    "    pruned_trials = study.get_trials(deepcopy=False, states=[TrialState.PRUNED])\n",
    "    complete_trials = study.get_trials(deepcopy=False, states=[TrialState.COMPLETE])\n",
    "\n",
    "    print(\"Study statistics: \")\n",
    "    print(\"  Number of finished trials: \", len(study.trials))\n",
    "    print(\"  Number of pruned trials: \", len(pruned_trials))\n",
    "    print(\"  Number of complete trials: \", len(complete_trials))\n",
    "\n",
    "    print(\"Best trial:\")\n",
    "    trial = study.best_trial\n",
    "\n",
    "    print(\"  Value: \", trial.value)\n",
    "\n",
    "    print(\"  Params: \")\n",
    "    for key, value in trial.params.items():\n",
    "        print(\"    {}: {}\".format(key, value))\n",
    "\n",
    "    #print(\"Best hyperparameters:\", study.best_params)\n",
    "\n",
    "    fig = optuna.visualization.plot_parallel_coordinate(study)\n",
    "    fig.show()\n",
    "\n",
    "    fig = optuna.visualization.plot_optimization_history(study)\n",
    "    fig.show()\n",
    "\n",
    "    fig = optuna.visualization.plot_slice(study)\n",
    "    fig.show()\n",
    "\n",
    "    fig = optuna.visualization.plot_param_importances(study)\n",
    "    fig.show()\n",
    "\n",
    "    best_tweedie_variance_power = study.best_params[\"tweedie_variance_power\"]\n",
    "    best_params = {\"max_depth\": study.best_params[\"max_depth\"],\n",
    "            \"eta\": study.best_params[\"eta\"],\n",
    "            \"subsample\" : study.best_params[\"subsample\"],\n",
    "            \"colsample_bytree\": study.best_params[\"colsample_bytree\"],\n",
    "            'eval_metric':'tweedie-nloglik@'+str(best_tweedie_variance_power), ## try using AUC as well.. \n",
    "            'tweedie_variance_power': best_tweedie_variance_power,\n",
    "            'gamma': study.best_params[\"gamma\"],\n",
    "            'reg_alpha': study.best_params[\"reg_alpha\"], \n",
    "            'reg_lambda': study.best_params[\"reg_lambda\"],\n",
    "            'min_child_weight': study.best_params[\"min_child_weight\"],\n",
    "            \"objective\": 'reg:tweedie',\n",
    "            }\n",
    "    early_stopping_rounds = 30\n",
    "    eval_metric = 'tweedie-nloglik@'+str(best_tweedie_variance_power)\n",
    "    num_round= 1000\n",
    "\n",
    "    t_v_t = train_validate_n_test()\n",
    "    best_model = t_v_t.make_predictions(best_params,num_round, early_stopping_rounds)\n",
    "    t_v_t.evaluate_predictions(best_model)\n",
    "\n",
    "    # t_v_t.display_tweedie_plot() # compare the graphs from target histogram and this function to choose tweedie_variance_power \n",
    "    # X_test,label_test, preds = t_v_t.evaluate_predictions()\n",
    "    # t_v_t.visualize_tree()\n",
    "    # # print('\\n',\"tweedie_variance_power \",tweedie_variance_power,'\\n')"
   ]
  }
 ],
 "metadata": {
  "kernelspec": {
   "display_name": "base",
   "language": "python",
   "name": "python3"
  },
  "language_info": {
   "codemirror_mode": {
    "name": "ipython",
    "version": 3
   },
   "file_extension": ".py",
   "mimetype": "text/x-python",
   "name": "python",
   "nbconvert_exporter": "python",
   "pygments_lexer": "ipython3",
   "version": "3.9.5"
  },
  "orig_nbformat": 4
 },
 "nbformat": 4,
 "nbformat_minor": 2
}
