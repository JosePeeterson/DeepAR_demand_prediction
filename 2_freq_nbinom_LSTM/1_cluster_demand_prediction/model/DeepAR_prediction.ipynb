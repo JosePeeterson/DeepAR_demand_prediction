{
 "cells": [
  {
   "cell_type": "code",
   "execution_count": 62,
   "metadata": {},
   "outputs": [],
   "source": [
    "from ctypes import FormatError\n",
    "import numpy as np\n",
    "\n",
    "import warnings\n",
    "warnings.filterwarnings(\"ignore\")\n",
    "\n",
    "import os,sys\n",
    "\n",
    "sys.path.append(os.path.abspath(os.path.join('C:\\Work\\WORK_PACKAGE\\Demand_forecasting\\github\\DeepAR-pytorch\\My_model\\\\2_freq_nbinom_LSTM')))\n",
    "\n",
    "sys.path.append(os.path.abspath(os.path.join('C:\\Work\\WORK_PACKAGE\\Demand_forecasting\\github\\DeepAR-pytorch\\My_model\\\\2_freq_nbinom_LSTM\\\\1_cluster_demand_prediction\\data\\weather_data')))\n",
    "sys.path.append(os.path.abspath(os.path.join('C:\\Work\\WORK_PACKAGE\\Demand_forecasting\\github\\DeepAR-pytorch\\My_model\\2_freq_nbinom_LSTM\\1_cluster_demand_prediction\\data\\demand_data')))\n",
    "\n",
    "\n",
    "\n",
    "from pytorch_forecasting.data.encoders import TorchNormalizer\n",
    "from pytorch_forecasting.metrics import SMAPE, RMSE\n",
    "from torchmetrics import R2Score, SymmetricMeanAbsolutePercentageError, MeanSquaredError\n",
    "\n",
    "import matplotlib.pyplot as plt\n",
    "import pandas as pd\n",
    "from pytorch_forecasting.data import TimeSeriesDataSet\n",
    "from pytorch_forecasting.data import NaNLabelEncoder\n",
    "from pytorch_lightning.callbacks import EarlyStopping, LearningRateMonitor\n",
    "import pytorch_lightning as pl\n",
    "import torch\n",
    "from pytorch_forecasting.data.encoders import TorchNormalizer\n",
    "import os,sys\n",
    "import numpy as np\n",
    "from statsmodels.tsa.stattools import adfuller\n",
    "from statsmodels.tsa.seasonal import seasonal_decompose\n",
    "from statsmodels.graphics.tsaplots import plot_acf\n",
    "from statsmodels.graphics.tsaplots import plot_pacf\n",
    "from statsmodels.tsa.stattools import acf,pacf\n",
    "from scipy.signal import find_peaks\n",
    "import operator\n",
    "import statsmodels.api as sm\n",
    "from itertools import combinations\n",
    "import pickle\n",
    "from pytorch_forecasting import Baseline\n",
    "import random\n",
    "from pytorch_forecasting import DeepAR,NegativeBinomialDistributionLoss\n",
    "from itertools import product\n",
    "from sklearn.metrics import mean_absolute_error, mean_squared_error"
   ]
  },
  {
   "cell_type": "code",
   "execution_count": 63,
   "metadata": {},
   "outputs": [],
   "source": [
    "\"\"\"\n",
    "Set Random seed\n",
    "\"\"\"\n",
    "\n",
    "random.seed(0)\n",
    "torch.manual_seed(0)\n",
    "np.random.seed(0)"
   ]
  },
  {
   "cell_type": "code",
   "execution_count": 64,
   "metadata": {},
   "outputs": [],
   "source": [
    "\"\"\"\n",
    "Import pre-processed Data\n",
    "\n",
    "response and target are the same thing\n",
    "\"\"\"\n",
    "with open(\"C:\\Work\\WORK_PACKAGE\\Demand_forecasting\\github\\DeepAR-pytorch\\My_model\\\\2_freq_nbinom_LSTM\\\\1_cluster_demand_prediction\\\\final_response_ts.pkl\",'rb') as f:\n",
    "    final_response_ts = pickle.load(f)\n",
    "\n",
    "with open(\"C:\\Work\\WORK_PACKAGE\\Demand_forecasting\\github\\DeepAR-pytorch\\My_model\\\\2_freq_nbinom_LSTM\\\\1_cluster_demand_prediction\\\\final_num_covariate_ts.pkl\",'rb') as f:\n",
    "    final_num_covariate_ts = pickle.load(f)\n",
    "\n",
    "with open(\"C:\\Work\\WORK_PACKAGE\\Demand_forecasting\\github\\DeepAR-pytorch\\My_model\\\\2_freq_nbinom_LSTM\\\\1_cluster_demand_prediction\\\\final_cat_covariate_ts.pkl\",'rb') as f:\n",
    "    final_cat_covariate_ts = pickle.load(f)\n",
    "\n",
    "###### concatenate response and covariate time series into a single dataframe  #########\n",
    "df3 = pd.DataFrame(final_response_ts) # response and target are the same thing\n",
    "df4 = pd.DataFrame(final_num_covariate_ts)\n",
    "df5 = pd.DataFrame(final_cat_covariate_ts)\n",
    "df6 = pd.concat([df4,df5], axis=1) # dataframe of all covariates\n",
    "\n",
    "df1 = pd.DataFrame({\"time_idx\":np.arange(0,len(df3))})\n",
    "df2 = pd.DataFrame({\"group\":np.tile(0,len(df3))}) # identifies the series in case of univariate and multivariate series\n",
    "df = pd.concat([df1,df2,df3], axis=1)\n",
    "###### concatenate response and covariate time series into a single dataframe  #########\n",
    "\n",
    "\n",
    "#################### add date information ts ####################\n",
    "df[\"date\"] = pd.Timestamp(\"2021-09-24\") + pd.to_timedelta(df.time_idx, \"H\")\n",
    "df['_hour_of_day'] = df[\"date\"].dt.hour.astype(str)\n",
    "df['_day_of_week'] = df[\"date\"].dt.dayofweek.astype(str)\n",
    "df['_day_of_month'] = df[\"date\"].dt.day.astype(str)\n",
    "df['_day_of_year'] = df[\"date\"].dt.dayofyear.astype(str)\n",
    "df['_week_of_year'] = df[\"date\"].dt.weekofyear.astype(str)\n",
    "df['_month_of_year'] = df[\"date\"].dt.month.astype(str)\n",
    "df['_year'] = df[\"date\"].dt.year.astype(str)\n",
    "#################### add date information ts ####################\n",
    "\n",
    "Target = list(final_response_ts.keys())[0] # response and target are the same thing\n",
    "\n",
    "tr_stop_idx = int(0.77*len(df3))\n",
    "val_stop_idx = tr_stop_idx + int(0.077*len(df3)) + 25\n",
    "tes_stop_idx = len(df3)\n",
    "\n",
    "cat_col1 = list(final_cat_covariate_ts.keys())[0] # for column name agnostic\n",
    "cat_col2 = list(final_cat_covariate_ts.keys())[1] # for column name agnostic\n",
    "cat_col3 = list(final_cat_covariate_ts.keys())[2] # for column name agnostic\n",
    "cat_col4 = list(final_cat_covariate_ts.keys())[3] # for column name agnostic\n",
    "\n",
    "num_cols_list = list(final_num_covariate_ts.keys())[:3] # for column name agnostic\n",
    "#num_cols_list.append(Target) # for column name agnostic\n",
    "\n"
   ]
  },
  {
   "cell_type": "code",
   "execution_count": 65,
   "metadata": {},
   "outputs": [
    {
     "data": {
      "text/plain": [
       "14"
      ]
     },
     "execution_count": 65,
     "metadata": {},
     "output_type": "execute_result"
    }
   ],
   "source": [
    "\"\"\"\n",
    "set inputs here\n",
    "(hyperparameters grid search)\n",
    "\n",
    "\"\"\"\n",
    "######### Network Architecture ###################\n",
    "\n",
    "###### Create hyperparameters grid ###### \n",
    "# After tuning replace the list with the single best hparams value inside list\n",
    "hparams_grid = {\"LSTM_neuron_size\":[320],\n",
    "\t            \"num_layers\":[2],\n",
    "                \"batch_size\":[4,32],\n",
    "                \"learning_rate\":[0.1],\n",
    "                \"max_encoder_length\":[168],\n",
    "                \"max_prediction_length\":[24],\n",
    "                \"dropout\":[0.1],\n",
    "\t            \"Num_epochs\":[50],\n",
    "                \"df_cov1\":list(df6.columns)}\n",
    "#\"activation_functions\":[],\n",
    "###### Create hyperparameters grid ###### \n",
    "\n",
    "Loss=NegativeBinomialDistributionLoss()\n",
    "\n",
    "######### Network Architecture ###################\n",
    "\n",
    "\n",
    "\n",
    "\n",
    "######### Training Routine ###################\n",
    "fdv_steps = 10 # fast_dev_run\n",
    "######### Training Routine ###################\n",
    "\n",
    "\n",
    "############## Inputs for 2) Persistance model ( seasonal naive forecast ) #######################\n",
    "season_len = 168 # length of season\n",
    "num_past_seas = 6 # number of past seasons to use in averaging\n",
    "seas_pred_strt_idx = 1008 # seasonal naive forecast start index, in hours use the df dataframe\n",
    "############## Inputs for 2) Persistance model ( seasonal naive forecast ) #######################\n",
    "\n",
    "\n",
    "param_comb_cnt=0\n",
    "for neu,lay,bat,lr,enc_len,pred_len,drop,num_ep,df_cov_col1 in product(*[x for x in hparams_grid.values()]):\n",
    "    param_comb_cnt+=1\n",
    "param_comb_cnt"
   ]
  },
  {
   "cell_type": "code",
   "execution_count": 66,
   "metadata": {},
   "outputs": [
    {
     "data": {
      "text/plain": [
       "'\\nData loading sanity check\\n\\n'"
      ]
     },
     "execution_count": 66,
     "metadata": {},
     "output_type": "execute_result"
    }
   ],
   "source": [
    "\"\"\"\n",
    "Data loading sanity check\n",
    "\n",
    "\"\"\"\n",
    "\n",
    "######## View the entire data using this code ##################\n",
    "#print(train_dataset.data['categoricals'])\n",
    "######## View the data entire using this code ##################\n",
    "\n",
    "######## View the data for each batch using this code ##################\n",
    "# for x,y in iter(train_dataloader):\n",
    "#     print(x[\"encoder_cat\"][0][0:72,2])\n",
    "#     break\n",
    "######## View the data for each batch using this code ##################\n"
   ]
  },
  {
   "cell_type": "code",
   "execution_count": 67,
   "metadata": {},
   "outputs": [
    {
     "name": "stderr",
     "output_type": "stream",
     "text": [
      "GPU available: False, used: False\n",
      "TPU available: False, using: 0 TPU cores\n",
      "IPU available: False, using: 0 IPUs\n",
      "HPU available: False, using: 0 HPUs\n",
      "`Trainer(limit_train_batches=1.0)` was configured so 100% of the batches per epoch will be used..\n",
      "`Trainer(limit_val_batches=1.0)` was configured so 100% of the batches will be used..\n",
      "\n",
      "  | Name                   | Type                             | Params\n",
      "----------------------------------------------------------------------------\n",
      "0 | loss                   | NegativeBinomialDistributionLoss | 0     \n",
      "1 | logging_metrics        | ModuleList                       | 0     \n",
      "2 | embeddings             | MultiEmbedding                   | 2.6 K \n",
      "3 | rnn                    | LSTM                             | 1.3 M \n",
      "4 | distribution_projector | Linear                           | 642   \n",
      "----------------------------------------------------------------------------\n",
      "1.3 M     Trainable params\n",
      "0         Non-trainable params\n",
      "1.3 M     Total params\n",
      "5.256     Total estimated model params size (MB)\n"
     ]
    },
    {
     "data": {
      "application/vnd.jupyter.widget-view+json": {
       "model_id": "03691bdcaf294b79ae26035914395c30",
       "version_major": 2,
       "version_minor": 0
      },
      "text/plain": [
       "Sanity Checking: 0it [00:00, ?it/s]"
      ]
     },
     "metadata": {},
     "output_type": "display_data"
    },
    {
     "data": {
      "application/vnd.jupyter.widget-view+json": {
       "model_id": "541d083031404a8d8bce6cdf72d440bf",
       "version_major": 2,
       "version_minor": 0
      },
      "text/plain": [
       "Training: 0it [00:00, ?it/s]"
      ]
     },
     "metadata": {},
     "output_type": "display_data"
    },
    {
     "data": {
      "application/vnd.jupyter.widget-view+json": {
       "model_id": "cdd425f8a563427e963111f912a9c878",
       "version_major": 2,
       "version_minor": 0
      },
      "text/plain": [
       "Predict:   0%|          | 0/30 [00:00<?, ? batches/s]"
      ]
     },
     "metadata": {},
     "output_type": "display_data"
    },
    {
     "data": {
      "image/png": "[encoded data removed]",
      "text/plain": [
       "<Figure size 432x288 with 1 Axes>"
      ]
     },
     "metadata": {
      "needs_background": "light"
     },
     "output_type": "display_data"
    },
    {
     "name": "stdout",
     "output_type": "stream",
     "text": [
      "RMSE :  2.5495097567963922\n"
     ]
    },
    {
     "name": "stderr",
     "output_type": "stream",
     "text": [
      "GPU available: False, used: False\n",
      "TPU available: False, using: 0 TPU cores\n",
      "IPU available: False, using: 0 IPUs\n",
      "HPU available: False, using: 0 HPUs\n",
      "`Trainer(limit_train_batches=1.0)` was configured so 100% of the batches per epoch will be used..\n",
      "`Trainer(limit_val_batches=1.0)` was configured so 100% of the batches will be used..\n"
     ]
    },
    {
     "ename": "RuntimeError",
     "evalue": "Only Tensors created explicitly by the user (graph leaves) support the deepcopy protocol at the moment",
     "output_type": "error",
     "traceback": [
      "\u001b[1;31m---------------------------------------------------------------------------\u001b[0m",
      "\u001b[1;31mRuntimeError\u001b[0m                              Traceback (most recent call last)",
      "\u001b[1;32mc:\\Work\\WORK_PACKAGE\\Demand_forecasting\\github\\DeepAR-pytorch\\My_model\\2_freq_nbinom_LSTM\\1_cluster_demand_prediction\\model\\DeepAR_prediction.ipynb Cell 6\u001b[0m in \u001b[0;36m<cell line: 15>\u001b[1;34m()\u001b[0m\n\u001b[0;32m    <a href='vscode-notebook-cell:/c%3A/Work/WORK_PACKAGE/Demand_forecasting/github/DeepAR-pytorch/My_model/2_freq_nbinom_LSTM/1_cluster_demand_prediction/model/DeepAR_prediction.ipynb#W6sZmlsZQ%3D%3D?line=113'>114</a>\u001b[0m trainer \u001b[39m=\u001b[39m pl\u001b[39m.\u001b[39mTrainer(\n\u001b[0;32m    <a href='vscode-notebook-cell:/c%3A/Work/WORK_PACKAGE/Demand_forecasting/github/DeepAR-pytorch/My_model/2_freq_nbinom_LSTM/1_cluster_demand_prediction/model/DeepAR_prediction.ipynb#W6sZmlsZQ%3D%3D?line=114'>115</a>\u001b[0m     max_epochs\u001b[39m=\u001b[39mnum_ep,\n\u001b[0;32m    <a href='vscode-notebook-cell:/c%3A/Work/WORK_PACKAGE/Demand_forecasting/github/DeepAR-pytorch/My_model/2_freq_nbinom_LSTM/1_cluster_demand_prediction/model/DeepAR_prediction.ipynb#W6sZmlsZQ%3D%3D?line=115'>116</a>\u001b[0m     gpus\u001b[39m=\u001b[39m\u001b[39m0\u001b[39m,\n\u001b[1;32m   (...)\u001b[0m\n\u001b[0;32m    <a href='vscode-notebook-cell:/c%3A/Work/WORK_PACKAGE/Demand_forecasting/github/DeepAR-pytorch/My_model/2_freq_nbinom_LSTM/1_cluster_demand_prediction/model/DeepAR_prediction.ipynb#W6sZmlsZQ%3D%3D?line=126'>127</a>\u001b[0m     \u001b[39m#default_root_dir=\"C:\\Work\\WORK_PACKAGE\\Demand_forecasting\\github\\DeepAR-pytorch\\My_model\\2_freq_nbinom_LSTM\\1_cluster_demand_prediction\\logs\"\u001b[39;00m\n\u001b[0;32m    <a href='vscode-notebook-cell:/c%3A/Work/WORK_PACKAGE/Demand_forecasting/github/DeepAR-pytorch/My_model/2_freq_nbinom_LSTM/1_cluster_demand_prediction/model/DeepAR_prediction.ipynb#W6sZmlsZQ%3D%3D?line=127'>128</a>\u001b[0m )\n\u001b[0;32m    <a href='vscode-notebook-cell:/c%3A/Work/WORK_PACKAGE/Demand_forecasting/github/DeepAR-pytorch/My_model/2_freq_nbinom_LSTM/1_cluster_demand_prediction/model/DeepAR_prediction.ipynb#W6sZmlsZQ%3D%3D?line=128'>129</a>\u001b[0m \u001b[39m#print(f\"training routing:\\n \\n {trainer}\")\u001b[39;00m\n\u001b[1;32m--> <a href='vscode-notebook-cell:/c%3A/Work/WORK_PACKAGE/Demand_forecasting/github/DeepAR-pytorch/My_model/2_freq_nbinom_LSTM/1_cluster_demand_prediction/model/DeepAR_prediction.ipynb#W6sZmlsZQ%3D%3D?line=129'>130</a>\u001b[0m deepar \u001b[39m=\u001b[39m DeepAR\u001b[39m.\u001b[39;49mfrom_dataset(\n\u001b[0;32m    <a href='vscode-notebook-cell:/c%3A/Work/WORK_PACKAGE/Demand_forecasting/github/DeepAR-pytorch/My_model/2_freq_nbinom_LSTM/1_cluster_demand_prediction/model/DeepAR_prediction.ipynb#W6sZmlsZQ%3D%3D?line=130'>131</a>\u001b[0m     train_dataset,\n\u001b[0;32m    <a href='vscode-notebook-cell:/c%3A/Work/WORK_PACKAGE/Demand_forecasting/github/DeepAR-pytorch/My_model/2_freq_nbinom_LSTM/1_cluster_demand_prediction/model/DeepAR_prediction.ipynb#W6sZmlsZQ%3D%3D?line=131'>132</a>\u001b[0m     \u001b[39m#learning_rate=lr,\u001b[39;49;00m\n\u001b[0;32m    <a href='vscode-notebook-cell:/c%3A/Work/WORK_PACKAGE/Demand_forecasting/github/DeepAR-pytorch/My_model/2_freq_nbinom_LSTM/1_cluster_demand_prediction/model/DeepAR_prediction.ipynb#W6sZmlsZQ%3D%3D?line=132'>133</a>\u001b[0m     hidden_size\u001b[39m=\u001b[39;49mneu,\n\u001b[0;32m    <a href='vscode-notebook-cell:/c%3A/Work/WORK_PACKAGE/Demand_forecasting/github/DeepAR-pytorch/My_model/2_freq_nbinom_LSTM/1_cluster_demand_prediction/model/DeepAR_prediction.ipynb#W6sZmlsZQ%3D%3D?line=133'>134</a>\u001b[0m     rnn_layers\u001b[39m=\u001b[39;49mlay,\n\u001b[0;32m    <a href='vscode-notebook-cell:/c%3A/Work/WORK_PACKAGE/Demand_forecasting/github/DeepAR-pytorch/My_model/2_freq_nbinom_LSTM/1_cluster_demand_prediction/model/DeepAR_prediction.ipynb#W6sZmlsZQ%3D%3D?line=134'>135</a>\u001b[0m     dropout\u001b[39m=\u001b[39;49mdrop,\n\u001b[0;32m    <a href='vscode-notebook-cell:/c%3A/Work/WORK_PACKAGE/Demand_forecasting/github/DeepAR-pytorch/My_model/2_freq_nbinom_LSTM/1_cluster_demand_prediction/model/DeepAR_prediction.ipynb#W6sZmlsZQ%3D%3D?line=135'>136</a>\u001b[0m     loss\u001b[39m=\u001b[39;49mLoss,\n\u001b[0;32m    <a href='vscode-notebook-cell:/c%3A/Work/WORK_PACKAGE/Demand_forecasting/github/DeepAR-pytorch/My_model/2_freq_nbinom_LSTM/1_cluster_demand_prediction/model/DeepAR_prediction.ipynb#W6sZmlsZQ%3D%3D?line=136'>137</a>\u001b[0m     log_interval\u001b[39m=\u001b[39;49m\u001b[39m10\u001b[39;49m,\n\u001b[0;32m    <a href='vscode-notebook-cell:/c%3A/Work/WORK_PACKAGE/Demand_forecasting/github/DeepAR-pytorch/My_model/2_freq_nbinom_LSTM/1_cluster_demand_prediction/model/DeepAR_prediction.ipynb#W6sZmlsZQ%3D%3D?line=137'>138</a>\u001b[0m     log_val_interval\u001b[39m=\u001b[39;49m\u001b[39m3\u001b[39;49m,\n\u001b[0;32m    <a href='vscode-notebook-cell:/c%3A/Work/WORK_PACKAGE/Demand_forecasting/github/DeepAR-pytorch/My_model/2_freq_nbinom_LSTM/1_cluster_demand_prediction/model/DeepAR_prediction.ipynb#W6sZmlsZQ%3D%3D?line=138'>139</a>\u001b[0m     log_gradient_flow\u001b[39m=\u001b[39;49m\u001b[39mTrue\u001b[39;49;00m,\n\u001b[0;32m    <a href='vscode-notebook-cell:/c%3A/Work/WORK_PACKAGE/Demand_forecasting/github/DeepAR-pytorch/My_model/2_freq_nbinom_LSTM/1_cluster_demand_prediction/model/DeepAR_prediction.ipynb#W6sZmlsZQ%3D%3D?line=139'>140</a>\u001b[0m     \u001b[39m# reduce_on_plateau_patience=3,\u001b[39;49;00m\n\u001b[0;32m    <a href='vscode-notebook-cell:/c%3A/Work/WORK_PACKAGE/Demand_forecasting/github/DeepAR-pytorch/My_model/2_freq_nbinom_LSTM/1_cluster_demand_prediction/model/DeepAR_prediction.ipynb#W6sZmlsZQ%3D%3D?line=140'>141</a>\u001b[0m )\n\u001b[0;32m    <a href='vscode-notebook-cell:/c%3A/Work/WORK_PACKAGE/Demand_forecasting/github/DeepAR-pytorch/My_model/2_freq_nbinom_LSTM/1_cluster_demand_prediction/model/DeepAR_prediction.ipynb#W6sZmlsZQ%3D%3D?line=141'>142</a>\u001b[0m \u001b[39m#print(f\"Number of parameters in network: {deepar.size()/1e3:.1f}k\")\u001b[39;00m\n\u001b[0;32m    <a href='vscode-notebook-cell:/c%3A/Work/WORK_PACKAGE/Demand_forecasting/github/DeepAR-pytorch/My_model/2_freq_nbinom_LSTM/1_cluster_demand_prediction/model/DeepAR_prediction.ipynb#W6sZmlsZQ%3D%3D?line=142'>143</a>\u001b[0m \u001b[39m# print(f\"Model :\\n \\n {deepar}\")\u001b[39;00m\n\u001b[0;32m    <a href='vscode-notebook-cell:/c%3A/Work/WORK_PACKAGE/Demand_forecasting/github/DeepAR-pytorch/My_model/2_freq_nbinom_LSTM/1_cluster_demand_prediction/model/DeepAR_prediction.ipynb#W6sZmlsZQ%3D%3D?line=143'>144</a>\u001b[0m torch\u001b[39m.\u001b[39mset_num_threads(\u001b[39m10\u001b[39m)\n",
      "File \u001b[1;32mC:\\Work\\WORK_PACKAGE\\Demand_forecasting\\github\\DeepAR-pytorch\\My_model\\2_freq_nbinom_LSTM\\pytorch_forecasting\\models\\deepar\\__init__.py:196\u001b[0m, in \u001b[0;36mDeepAR.from_dataset\u001b[1;34m(cls, dataset, allowed_encoder_known_variable_names, **kwargs)\u001b[0m\n\u001b[0;32m    192\u001b[0m \u001b[39mif\u001b[39;00m \u001b[39misinstance\u001b[39m(new_kwargs\u001b[39m.\u001b[39mget(\u001b[39m\"\u001b[39m\u001b[39mloss\u001b[39m\u001b[39m\"\u001b[39m, \u001b[39mNone\u001b[39;00m), MultivariateDistributionLoss):\n\u001b[0;32m    193\u001b[0m     \u001b[39massert\u001b[39;00m (\n\u001b[0;32m    194\u001b[0m         dataset\u001b[39m.\u001b[39mmin_prediction_length \u001b[39m==\u001b[39m dataset\u001b[39m.\u001b[39mmax_prediction_length\n\u001b[0;32m    195\u001b[0m     ), \u001b[39m\"\u001b[39m\u001b[39mMultivariate models require constant prediction lenghts\u001b[39m\u001b[39m\"\u001b[39m\n\u001b[1;32m--> 196\u001b[0m \u001b[39mreturn\u001b[39;00m \u001b[39msuper\u001b[39m()\u001b[39m.\u001b[39mfrom_dataset(\n\u001b[0;32m    197\u001b[0m     dataset, allowed_encoder_known_variable_names\u001b[39m=\u001b[39mallowed_encoder_known_variable_names, \u001b[39m*\u001b[39m\u001b[39m*\u001b[39mnew_kwargs\n\u001b[0;32m    198\u001b[0m )\n",
      "File \u001b[1;32mC:\\Work\\WORK_PACKAGE\\Demand_forecasting\\github\\DeepAR-pytorch\\My_model\\2_freq_nbinom_LSTM\\pytorch_forecasting\\models\\base_model.py:1484\u001b[0m, in \u001b[0;36mBaseModelWithCovariates.from_dataset\u001b[1;34m(cls, dataset, allowed_encoder_known_variable_names, **kwargs)\u001b[0m\n\u001b[0;32m   1464\u001b[0m new_kwargs \u001b[39m=\u001b[39m \u001b[39mdict\u001b[39m(\n\u001b[0;32m   1465\u001b[0m     static_categoricals\u001b[39m=\u001b[39mdataset\u001b[39m.\u001b[39mstatic_categoricals,\n\u001b[0;32m   1466\u001b[0m     time_varying_categoricals_encoder\u001b[39m=\u001b[39m[\n\u001b[1;32m   (...)\u001b[0m\n\u001b[0;32m   1481\u001b[0m     categorical_groups\u001b[39m=\u001b[39mdataset\u001b[39m.\u001b[39mvariable_groups,\n\u001b[0;32m   1482\u001b[0m )\n\u001b[0;32m   1483\u001b[0m new_kwargs\u001b[39m.\u001b[39mupdate(kwargs)\n\u001b[1;32m-> 1484\u001b[0m \u001b[39mreturn\u001b[39;00m \u001b[39msuper\u001b[39m()\u001b[39m.\u001b[39mfrom_dataset(dataset, \u001b[39m*\u001b[39m\u001b[39m*\u001b[39mnew_kwargs)\n",
      "File \u001b[1;32mC:\\Work\\WORK_PACKAGE\\Demand_forecasting\\github\\DeepAR-pytorch\\My_model\\2_freq_nbinom_LSTM\\pytorch_forecasting\\models\\base_model.py:1807\u001b[0m, in \u001b[0;36mAutoRegressiveBaseModel.from_dataset\u001b[1;34m(cls, dataset, **kwargs)\u001b[0m\n\u001b[0;32m   1804\u001b[0m     \u001b[39massert\u001b[39;00m lag \u001b[39m==\u001b[39m \u001b[39mset\u001b[39m(lags\u001b[39m.\u001b[39mget(target, [])), \u001b[39mf\u001b[39m\u001b[39m\"\u001b[39m\u001b[39mall target lags in dataset must be the same but found \u001b[39m\u001b[39m{\u001b[39;00mlags\u001b[39m}\u001b[39;00m\u001b[39m\"\u001b[39m\n\u001b[0;32m   1806\u001b[0m kwargs\u001b[39m.\u001b[39msetdefault(\u001b[39m\"\u001b[39m\u001b[39mtarget_lags\u001b[39m\u001b[39m\"\u001b[39m, {name: dataset\u001b[39m.\u001b[39m_get_lagged_names(name) \u001b[39mfor\u001b[39;00m name \u001b[39min\u001b[39;00m lags})\n\u001b[1;32m-> 1807\u001b[0m \u001b[39mreturn\u001b[39;00m \u001b[39msuper\u001b[39m()\u001b[39m.\u001b[39mfrom_dataset(dataset, \u001b[39m*\u001b[39m\u001b[39m*\u001b[39mkwargs)\n",
      "File \u001b[1;32mC:\\Work\\WORK_PACKAGE\\Demand_forecasting\\github\\DeepAR-pytorch\\My_model\\2_freq_nbinom_LSTM\\pytorch_forecasting\\models\\base_model.py:997\u001b[0m, in \u001b[0;36mBaseModel.from_dataset\u001b[1;34m(cls, dataset, **kwargs)\u001b[0m\n\u001b[0;32m    995\u001b[0m \u001b[39mif\u001b[39;00m \u001b[39m\"\u001b[39m\u001b[39moutput_transformer\u001b[39m\u001b[39m\"\u001b[39m \u001b[39mnot\u001b[39;00m \u001b[39min\u001b[39;00m kwargs:\n\u001b[0;32m    996\u001b[0m     kwargs[\u001b[39m\"\u001b[39m\u001b[39moutput_transformer\u001b[39m\u001b[39m\"\u001b[39m] \u001b[39m=\u001b[39m dataset\u001b[39m.\u001b[39mtarget_normalizer\n\u001b[1;32m--> 997\u001b[0m net \u001b[39m=\u001b[39m \u001b[39mcls\u001b[39m(\u001b[39m*\u001b[39m\u001b[39m*\u001b[39mkwargs)\n\u001b[0;32m    998\u001b[0m net\u001b[39m.\u001b[39mdataset_parameters \u001b[39m=\u001b[39m dataset\u001b[39m.\u001b[39mget_parameters()\n\u001b[0;32m    999\u001b[0m \u001b[39mif\u001b[39;00m dataset\u001b[39m.\u001b[39mmulti_target:\n",
      "File \u001b[1;32mC:\\Work\\WORK_PACKAGE\\Demand_forecasting\\github\\DeepAR-pytorch\\My_model\\2_freq_nbinom_LSTM\\pytorch_forecasting\\models\\deepar\\__init__.py:123\u001b[0m, in \u001b[0;36mDeepAR.__init__\u001b[1;34m(self, cell_type, hidden_size, rnn_layers, dropout, static_categoricals, static_reals, time_varying_categoricals_encoder, time_varying_categoricals_decoder, categorical_groups, time_varying_reals_encoder, time_varying_reals_decoder, embedding_sizes, embedding_paddings, embedding_labels, x_reals, x_categoricals, n_validation_samples, n_plotting_samples, target, target_lags, loss, logging_metrics, **kwargs)\u001b[0m\n\u001b[0;32m    121\u001b[0m     \u001b[39melse\u001b[39;00m:\n\u001b[0;32m    122\u001b[0m         n_plotting_samples \u001b[39m=\u001b[39m \u001b[39m100\u001b[39m\n\u001b[1;32m--> 123\u001b[0m \u001b[39mself\u001b[39;49m\u001b[39m.\u001b[39;49msave_hyperparameters()\n\u001b[0;32m    124\u001b[0m \u001b[39m# store loss function separately as it is a module\u001b[39;00m\n\u001b[0;32m    125\u001b[0m \u001b[39msuper\u001b[39m()\u001b[39m.\u001b[39m\u001b[39m__init__\u001b[39m(loss\u001b[39m=\u001b[39mloss, logging_metrics\u001b[39m=\u001b[39mlogging_metrics, \u001b[39m*\u001b[39m\u001b[39m*\u001b[39mkwargs)\n",
      "File \u001b[1;32mc:\\Users\\josepeeterson.er\\Miniconda3\\lib\\site-packages\\pytorch_lightning\\core\\mixins\\hparams_mixin.py:107\u001b[0m, in \u001b[0;36mHyperparametersMixin.save_hyperparameters\u001b[1;34m(self, ignore, frame, logger, *args)\u001b[0m\n\u001b[0;32m    105\u001b[0m     \u001b[39mif\u001b[39;00m current_frame:\n\u001b[0;32m    106\u001b[0m         frame \u001b[39m=\u001b[39m current_frame\u001b[39m.\u001b[39mf_back\n\u001b[1;32m--> 107\u001b[0m save_hyperparameters(\u001b[39mself\u001b[39;49m, \u001b[39m*\u001b[39;49margs, ignore\u001b[39m=\u001b[39;49mignore, frame\u001b[39m=\u001b[39;49mframe)\n",
      "File \u001b[1;32mc:\\Users\\josepeeterson.er\\Miniconda3\\lib\\site-packages\\pytorch_lightning\\utilities\\parsing.py:264\u001b[0m, in \u001b[0;36msave_hyperparameters\u001b[1;34m(obj, ignore, frame, *args)\u001b[0m\n\u001b[0;32m    262\u001b[0m obj\u001b[39m.\u001b[39m_set_hparams(hp)\n\u001b[0;32m    263\u001b[0m \u001b[39m# make deep copy so there is not other runtime changes reflected\u001b[39;00m\n\u001b[1;32m--> 264\u001b[0m obj\u001b[39m.\u001b[39m_hparams_initial \u001b[39m=\u001b[39m copy\u001b[39m.\u001b[39;49mdeepcopy(obj\u001b[39m.\u001b[39;49m_hparams)\n\u001b[0;32m    266\u001b[0m \u001b[39mfor\u001b[39;00m k, v \u001b[39min\u001b[39;00m obj\u001b[39m.\u001b[39m_hparams\u001b[39m.\u001b[39mitems():\n\u001b[0;32m    267\u001b[0m     \u001b[39mif\u001b[39;00m \u001b[39misinstance\u001b[39m(v, nn\u001b[39m.\u001b[39mModule):\n",
      "File \u001b[1;32mc:\\Users\\josepeeterson.er\\Miniconda3\\lib\\copy.py:172\u001b[0m, in \u001b[0;36mdeepcopy\u001b[1;34m(x, memo, _nil)\u001b[0m\n\u001b[0;32m    170\u001b[0m                 y \u001b[39m=\u001b[39m x\n\u001b[0;32m    171\u001b[0m             \u001b[39melse\u001b[39;00m:\n\u001b[1;32m--> 172\u001b[0m                 y \u001b[39m=\u001b[39m _reconstruct(x, memo, \u001b[39m*\u001b[39;49mrv)\n\u001b[0;32m    174\u001b[0m \u001b[39m# If is its own copy, don't memoize.\u001b[39;00m\n\u001b[0;32m    175\u001b[0m \u001b[39mif\u001b[39;00m y \u001b[39mis\u001b[39;00m \u001b[39mnot\u001b[39;00m x:\n",
      "File \u001b[1;32mc:\\Users\\josepeeterson.er\\Miniconda3\\lib\\copy.py:296\u001b[0m, in \u001b[0;36m_reconstruct\u001b[1;34m(x, memo, func, args, state, listiter, dictiter, deepcopy)\u001b[0m\n\u001b[0;32m    294\u001b[0m     \u001b[39mfor\u001b[39;00m key, value \u001b[39min\u001b[39;00m dictiter:\n\u001b[0;32m    295\u001b[0m         key \u001b[39m=\u001b[39m deepcopy(key, memo)\n\u001b[1;32m--> 296\u001b[0m         value \u001b[39m=\u001b[39m deepcopy(value, memo)\n\u001b[0;32m    297\u001b[0m         y[key] \u001b[39m=\u001b[39m value\n\u001b[0;32m    298\u001b[0m \u001b[39melse\u001b[39;00m:\n",
      "File \u001b[1;32mc:\\Users\\josepeeterson.er\\Miniconda3\\lib\\copy.py:172\u001b[0m, in \u001b[0;36mdeepcopy\u001b[1;34m(x, memo, _nil)\u001b[0m\n\u001b[0;32m    170\u001b[0m                 y \u001b[39m=\u001b[39m x\n\u001b[0;32m    171\u001b[0m             \u001b[39melse\u001b[39;00m:\n\u001b[1;32m--> 172\u001b[0m                 y \u001b[39m=\u001b[39m _reconstruct(x, memo, \u001b[39m*\u001b[39;49mrv)\n\u001b[0;32m    174\u001b[0m \u001b[39m# If is its own copy, don't memoize.\u001b[39;00m\n\u001b[0;32m    175\u001b[0m \u001b[39mif\u001b[39;00m y \u001b[39mis\u001b[39;00m \u001b[39mnot\u001b[39;00m x:\n",
      "File \u001b[1;32mc:\\Users\\josepeeterson.er\\Miniconda3\\lib\\copy.py:270\u001b[0m, in \u001b[0;36m_reconstruct\u001b[1;34m(x, memo, func, args, state, listiter, dictiter, deepcopy)\u001b[0m\n\u001b[0;32m    268\u001b[0m \u001b[39mif\u001b[39;00m state \u001b[39mis\u001b[39;00m \u001b[39mnot\u001b[39;00m \u001b[39mNone\u001b[39;00m:\n\u001b[0;32m    269\u001b[0m     \u001b[39mif\u001b[39;00m deep:\n\u001b[1;32m--> 270\u001b[0m         state \u001b[39m=\u001b[39m deepcopy(state, memo)\n\u001b[0;32m    271\u001b[0m     \u001b[39mif\u001b[39;00m \u001b[39mhasattr\u001b[39m(y, \u001b[39m'\u001b[39m\u001b[39m__setstate__\u001b[39m\u001b[39m'\u001b[39m):\n\u001b[0;32m    272\u001b[0m         y\u001b[39m.\u001b[39m__setstate__(state)\n",
      "File \u001b[1;32mc:\\Users\\josepeeterson.er\\Miniconda3\\lib\\copy.py:146\u001b[0m, in \u001b[0;36mdeepcopy\u001b[1;34m(x, memo, _nil)\u001b[0m\n\u001b[0;32m    144\u001b[0m copier \u001b[39m=\u001b[39m _deepcopy_dispatch\u001b[39m.\u001b[39mget(\u001b[39mcls\u001b[39m)\n\u001b[0;32m    145\u001b[0m \u001b[39mif\u001b[39;00m copier \u001b[39mis\u001b[39;00m \u001b[39mnot\u001b[39;00m \u001b[39mNone\u001b[39;00m:\n\u001b[1;32m--> 146\u001b[0m     y \u001b[39m=\u001b[39m copier(x, memo)\n\u001b[0;32m    147\u001b[0m \u001b[39melse\u001b[39;00m:\n\u001b[0;32m    148\u001b[0m     \u001b[39mif\u001b[39;00m \u001b[39missubclass\u001b[39m(\u001b[39mcls\u001b[39m, \u001b[39mtype\u001b[39m):\n",
      "File \u001b[1;32mc:\\Users\\josepeeterson.er\\Miniconda3\\lib\\copy.py:230\u001b[0m, in \u001b[0;36m_deepcopy_dict\u001b[1;34m(x, memo, deepcopy)\u001b[0m\n\u001b[0;32m    228\u001b[0m memo[\u001b[39mid\u001b[39m(x)] \u001b[39m=\u001b[39m y\n\u001b[0;32m    229\u001b[0m \u001b[39mfor\u001b[39;00m key, value \u001b[39min\u001b[39;00m x\u001b[39m.\u001b[39mitems():\n\u001b[1;32m--> 230\u001b[0m     y[deepcopy(key, memo)] \u001b[39m=\u001b[39m deepcopy(value, memo)\n\u001b[0;32m    231\u001b[0m \u001b[39mreturn\u001b[39;00m y\n",
      "File \u001b[1;32mc:\\Users\\josepeeterson.er\\Miniconda3\\lib\\copy.py:153\u001b[0m, in \u001b[0;36mdeepcopy\u001b[1;34m(x, memo, _nil)\u001b[0m\n\u001b[0;32m    151\u001b[0m copier \u001b[39m=\u001b[39m \u001b[39mgetattr\u001b[39m(x, \u001b[39m\"\u001b[39m\u001b[39m__deepcopy__\u001b[39m\u001b[39m\"\u001b[39m, \u001b[39mNone\u001b[39;00m)\n\u001b[0;32m    152\u001b[0m \u001b[39mif\u001b[39;00m copier \u001b[39mis\u001b[39;00m \u001b[39mnot\u001b[39;00m \u001b[39mNone\u001b[39;00m:\n\u001b[1;32m--> 153\u001b[0m     y \u001b[39m=\u001b[39m copier(memo)\n\u001b[0;32m    154\u001b[0m \u001b[39melse\u001b[39;00m:\n\u001b[0;32m    155\u001b[0m     reductor \u001b[39m=\u001b[39m dispatch_table\u001b[39m.\u001b[39mget(\u001b[39mcls\u001b[39m)\n",
      "File \u001b[1;32mc:\\Users\\josepeeterson.er\\Miniconda3\\lib\\site-packages\\torch\\_tensor.py:85\u001b[0m, in \u001b[0;36mTensor.__deepcopy__\u001b[1;34m(self, memo)\u001b[0m\n\u001b[0;32m     83\u001b[0m     \u001b[39mreturn\u001b[39;00m handle_torch_function(Tensor\u001b[39m.\u001b[39m__deepcopy__, (\u001b[39mself\u001b[39m,), \u001b[39mself\u001b[39m, memo)\n\u001b[0;32m     84\u001b[0m \u001b[39mif\u001b[39;00m \u001b[39mnot\u001b[39;00m \u001b[39mself\u001b[39m\u001b[39m.\u001b[39mis_leaf:\n\u001b[1;32m---> 85\u001b[0m     \u001b[39mraise\u001b[39;00m \u001b[39mRuntimeError\u001b[39;00m(\u001b[39m\"\u001b[39m\u001b[39mOnly Tensors created explicitly by the user \u001b[39m\u001b[39m\"\u001b[39m\n\u001b[0;32m     86\u001b[0m                        \u001b[39m\"\u001b[39m\u001b[39m(graph leaves) support the deepcopy protocol at the moment\u001b[39m\u001b[39m\"\u001b[39m)\n\u001b[0;32m     87\u001b[0m \u001b[39mif\u001b[39;00m \u001b[39mid\u001b[39m(\u001b[39mself\u001b[39m) \u001b[39min\u001b[39;00m memo:\n\u001b[0;32m     88\u001b[0m     \u001b[39mreturn\u001b[39;00m memo[\u001b[39mid\u001b[39m(\u001b[39mself\u001b[39m)]\n",
      "\u001b[1;31mRuntimeError\u001b[0m: Only Tensors created explicitly by the user (graph leaves) support the deepcopy protocol at the moment"
     ]
    }
   ],
   "source": [
    "\"\"\"\n",
    "Full Training Routine \n",
    "with hyperparmeter grid search\n",
    "\n",
    "Load data into TimeSeriesDataSet object\n",
    "\n",
    "for fast development run\n",
    "uncomment fast_dev_run = fdv_steps\n",
    "\n",
    "\"\"\"\n",
    "\n",
    "early_stop_callback = EarlyStopping(monitor=\"val_loss\", min_delta=1e-4, patience=5, verbose=False, mode=\"min\")\n",
    "lr_logger = LearningRateMonitor()\n",
    "\n",
    "for neu,lay,bat,lr,enc_len,pred_len,drop,num_ep,df_cov_col1 in product(*[x for x in hparams_grid.values()]):\n",
    "\n",
    "    ######### Load DATA #############\n",
    "    df[df_cov_col1] = df6[df_cov_col1].values  # add the covariate column\n",
    "    if (df_cov_col1[:3] == 'wea'): # categorical covariate\n",
    "        num_cols_list = []\n",
    "        cat_col1 = df_cov_col1\n",
    "        cat_dict = {cat_col1: NaNLabelEncoder(add_nan=True).fit(df[cat_col1]),\"_hour_of_day\": NaNLabelEncoder(add_nan=True).fit(df._hour_of_day), \\\n",
    "        \"_day_of_week\": NaNLabelEncoder(add_nan=True).fit(df._day_of_week), \"_day_of_month\" : NaNLabelEncoder(add_nan=True).fit(df._day_of_month), \"_day_of_year\" : NaNLabelEncoder(add_nan=True).fit(df._day_of_year), \\\n",
    "            \"_week_of_year\": NaNLabelEncoder(add_nan=True).fit(df._week_of_year), \"_month_of_year\": NaNLabelEncoder(add_nan=True).fit(df._month_of_year) ,\"_year\": NaNLabelEncoder(add_nan=True).fit(df._year)}\n",
    "        cat_list = [cat_col1,\"_hour_of_day\",\"_day_of_week\",\"_day_of_month\",\"_day_of_year\",\"_week_of_year\",\"_month_of_year\",\"_year\"]\n",
    "    else:\n",
    "        num_cols_list = [df_cov_col1] # numerical covariate\n",
    "        cat_dict = {\"_hour_of_day\": NaNLabelEncoder(add_nan=True).fit(df._hour_of_day), \\\n",
    "        \"_day_of_week\": NaNLabelEncoder(add_nan=True).fit(df._day_of_week), \"_day_of_month\" : NaNLabelEncoder(add_nan=True).fit(df._day_of_month), \"_day_of_year\" : NaNLabelEncoder(add_nan=True).fit(df._day_of_year), \\\n",
    "            \"_week_of_year\": NaNLabelEncoder(add_nan=True).fit(df._week_of_year), \"_month_of_year\": NaNLabelEncoder(add_nan=True).fit(df._month_of_year) ,\"_year\": NaNLabelEncoder(add_nan=True).fit(df._year)}\n",
    "        cat_list = [\"_hour_of_day\",\"_day_of_week\",\"_day_of_month\",\"_day_of_year\",\"_week_of_year\",\"_month_of_year\",\"_year\"]\n",
    "\n",
    "    train_dataset = TimeSeriesDataSet(\n",
    "        df.iloc[0:tr_stop_idx],\n",
    "        time_idx=\"time_idx\",\n",
    "        target=Target,\n",
    "        categorical_encoders=cat_dict,\n",
    "        group_ids=[\"group\"],\n",
    "        min_encoder_length=enc_len,\n",
    "        max_encoder_length=enc_len,\n",
    "        min_prediction_length=pred_len,\n",
    "        max_prediction_length=pred_len,\n",
    "        time_varying_unknown_reals=[Target],\n",
    "        time_varying_known_reals=num_cols_list,\n",
    "        time_varying_known_categoricals=cat_list,\n",
    "        add_relative_time_idx=False,\n",
    "        randomize_length=False,\n",
    "        scalers={},\n",
    "        target_normalizer=TorchNormalizer(method=\"identity\",center=False,transformation=None )\n",
    "\n",
    "    )\n",
    "\n",
    "    val_dataset = TimeSeriesDataSet.from_dataset(train_dataset,df.iloc[tr_stop_idx:val_stop_idx], stop_randomization=True)\n",
    "    test_dataset = TimeSeriesDataSet.from_dataset(train_dataset,df.iloc[val_stop_idx:tes_stop_idx], stop_randomization=True)\n",
    "\n",
    "    train_dataloader = train_dataset.to_dataloader(train=True, batch_size=bat)\n",
    "    val_dataloader = val_dataset.to_dataloader(train=False, batch_size=bat)\n",
    "    test_dataloader = test_dataset.to_dataloader(train=False, batch_size=bat)\n",
    "    ######### Load DATA #############\n",
    "\n",
    "\n",
    "    # \"\"\"\n",
    "    # Baseline predictions START\n",
    "    # 1) Persistance model (last value)\n",
    "\n",
    "    # 2) Persistance model ( seasonal naive forecast )\n",
    "    # \"\"\"\n",
    "    # ############## 1) Persistance model (last value) #######################\n",
    "    # actuals = torch.cat([y[0] for x, y in iter(test_dataloader)])\n",
    "    # baseline_predictions = Baseline().predict(test_dataloader)\n",
    "    # print(f\" Persistance model (last value), sMAPE : {SMAPE()(baseline_predictions, actuals)}\")\n",
    "    # print(f\" Persistance model (last value), RMSE : {RMSE()(baseline_predictions,actuals)}\")\n",
    "    # r2score = R2Score()\n",
    "    # print(f\" Persistance model (last value), R2 Score : { np.mean([ r2score(baseline_predictions[i], actuals[i])    for i in range(len(actuals)) ]) }\" )\n",
    "    # ############## 1) Persistance model (last value) #######################\n",
    "\n",
    "\n",
    "    # ############## 2) Persistance model ( seasonal naive forecast ) #######################\n",
    "    # predictions = np.array([])\n",
    "    # actuals1 = df[Target][seas_pred_strt_idx:seas_pred_strt_idx+24]\n",
    "    # for h in range(24):\n",
    "    #     sum1 = 0\n",
    "    #     for n in range(num_past_seas):\n",
    "    #         sum1 = sum1 + df[Target][seas_pred_strt_idx+h - season_len*n]\n",
    "        \n",
    "    #     predictions = np.append(predictions,sum1/num_past_seas)\n",
    "\n",
    "    # predictions = predictions.astype(int)\n",
    "    # actuals1 = np.array(actuals1)\n",
    "\n",
    "    # smape = SymmetricMeanAbsolutePercentageError()\n",
    "    # mse = MeanSquaredError()\n",
    "    # print(f\"\\nseasonal prediction start index:  {seas_pred_strt_idx}\")\n",
    "    # print(f\" Persistance model ( seasonal naive forecast ) , sMAPE : { smape(  torch.Tensor(predictions),torch.Tensor(actuals1))    }\")\n",
    "    # print(f\" Persistance model ( seasonal naive forecast ) , RMSE : {np.sqrt(mse(torch.Tensor(predictions),torch.Tensor(actuals1)))}\")\n",
    "    # r2score = R2Score()\n",
    "    # print(f\" Persistance model ( seasonal naive forecast ) , R2 Score : {r2score( torch.Tensor(predictions),torch.Tensor(actuals1)) }\" )\n",
    "    # plt.title(\"(average) seasonal naive forecast\")\n",
    "    # plt.plot(predictions,color='r')\n",
    "    # plt.plot(actuals1,color='b')\n",
    "    # plt.show()\n",
    "    # ############## 2) Persistance model ( seasonal naive forecast ) #######################\n",
    "    # \"\"\"\n",
    "    # Baseline predictions END\n",
    "    # \"\"\"\n",
    "\n",
    "\n",
    "\n",
    "    \"\"\"\n",
    "    Machine Learning predictions START\n",
    "    1) DeepAR\n",
    "\n",
    "    \"\"\"\n",
    "    trainer = pl.Trainer(\n",
    "        max_epochs=num_ep,\n",
    "        gpus=0,\n",
    "        auto_lr_find=True,\n",
    "        gradient_clip_val=0.1,\n",
    "        limit_train_batches=1.0,\n",
    "        limit_val_batches=1.0,\n",
    "        #fast_dev_run=fdv_steps,\n",
    "        logger=True,\n",
    "        #log_every_n_steps=10,\n",
    "        # profiler=True,\n",
    "        callbacks=[lr_logger, early_stop_callback],\n",
    "        enable_checkpointing=True,\n",
    "        #default_root_dir=\"C:\\Work\\WORK_PACKAGE\\Demand_forecasting\\github\\DeepAR-pytorch\\My_model\\2_freq_nbinom_LSTM\\1_cluster_demand_prediction\\logs\"\n",
    "    )\n",
    "    #print(f\"training routing:\\n \\n {trainer}\")\n",
    "    deepar = DeepAR.from_dataset(\n",
    "        train_dataset,\n",
    "        #learning_rate=lr,\n",
    "        hidden_size=neu,\n",
    "        rnn_layers=lay,\n",
    "        dropout=drop,\n",
    "        loss=Loss,\n",
    "        log_interval=10,\n",
    "        log_val_interval=3,\n",
    "        log_gradient_flow=True,\n",
    "        # reduce_on_plateau_patience=3,\n",
    "    )\n",
    "    #print(f\"Number of parameters in network: {deepar.size()/1e3:.1f}k\")\n",
    "    # print(f\"Model :\\n \\n {deepar}\")\n",
    "    torch.set_num_threads(10)\n",
    "    trainer.fit(\n",
    "        deepar,\n",
    "        train_dataloaders=train_dataloader,\n",
    "        val_dataloaders=val_dataloader,\n",
    "    )\n",
    "\n",
    "    ########## Prediction #####################\n",
    "\n",
    "    test_output = deepar.predict(data=test_dataloader,mode='prediction',return_index=True,num_workers=8,show_progress_bar=True)\n",
    "\n",
    "    plt.plot(df['clstr_175'].iloc[2038:2038+pred_len].values)\n",
    "    pred = np.array(test_output[0][0]).astype(int)\n",
    "    plt.plot(pred)\n",
    "    plt.show()\n",
    "\n",
    "    print('RMSE : ',np.sqrt(mean_squared_error(df['clstr_175'].iloc[2038:2038+pred_len].values,pred )))\n",
    "    print('\\n Hyperparameter: neu,lay,bat,lr,enc_len,pred_len,drop,num_ep,df_cov_col1\\n')\n",
    "    print(neu,lay,bat,lr,enc_len,pred_len,drop,num_ep,df_cov_col1,'\\n')\n",
    "    ########## Prediction #####################\n",
    "    \n",
    "    \n",
    "    ## delete this covariate column in df so that only one covariate is available \n",
    "    df.drop(df_cov_col1, axis=1, inplace=True)\n",
    "    \n",
    "    \"\"\"\n",
    "    Machine Learning predictions END\n",
    "    \"\"\"\n"
   ]
  },
  {
   "cell_type": "code",
   "execution_count": null,
   "metadata": {},
   "outputs": [
    {
     "data": {
      "text/plain": [
       "'\\nFull Training Routine\\n\\n'"
      ]
     },
     "execution_count": 27,
     "metadata": {},
     "output_type": "execute_result"
    }
   ],
   "source": [
    "\"\"\"\n",
    "Testing\n",
    "\n",
    "\"\"\"\n",
    "\n"
   ]
  },
  {
   "cell_type": "code",
   "execution_count": null,
   "metadata": {},
   "outputs": [],
   "source": []
  },
  {
   "cell_type": "code",
   "execution_count": null,
   "metadata": {},
   "outputs": [],
   "source": []
  },
  {
   "cell_type": "code",
   "execution_count": null,
   "metadata": {},
   "outputs": [],
   "source": []
  },
  {
   "cell_type": "code",
   "execution_count": null,
   "metadata": {},
   "outputs": [],
   "source": []
  },
  {
   "cell_type": "code",
   "execution_count": null,
   "metadata": {},
   "outputs": [],
   "source": []
  },
  {
   "cell_type": "code",
   "execution_count": null,
   "metadata": {},
   "outputs": [],
   "source": []
  }
 ],
 "metadata": {
  "kernelspec": {
   "display_name": "Python 3.9.5 ('base')",
   "language": "python",
   "name": "python3"
  },
  "language_info": {
   "codemirror_mode": {
    "name": "ipython",
    "version": 3
   },
   "file_extension": ".py",
   "mimetype": "text/x-python",
   "name": "python",
   "nbconvert_exporter": "python",
   "pygments_lexer": "ipython3",
   "version": "3.9.5"
  },
  "orig_nbformat": 4,
  "vscode": {
   "interpreter": {
    "hash": "f0213e7566dd6df184afb4bbdab7d267fb988f5f901680f5ca1af43b2a6441d4"
   }
  }
 },
 "nbformat": 4,
 "nbformat_minor": 2
}
