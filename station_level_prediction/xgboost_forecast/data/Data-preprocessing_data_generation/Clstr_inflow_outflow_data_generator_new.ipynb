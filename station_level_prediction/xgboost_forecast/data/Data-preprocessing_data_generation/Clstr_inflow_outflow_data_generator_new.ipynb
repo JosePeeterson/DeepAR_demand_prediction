{
 "cells": [
  {
   "cell_type": "code",
   "execution_count": 20,
   "id": "334e549e",
   "metadata": {},
   "outputs": [],
   "source": [
    "import datetime\n",
    "\n",
    "import cvxpy as cp\n",
    "\n",
    "import numpy as np\n",
    "import pandas as pd\n",
    "\n",
    "\n",
    "import matplotlib.pyplot as plt\n",
    "\n",
    "from haversine import haversine_vector, Unit"
   ]
  },
  {
   "cell_type": "code",
   "execution_count": 21,
   "id": "cf4fbc50",
   "metadata": {},
   "outputs": [],
   "source": [
    "def temporal_clustering(H,demand):\n",
    "    \n",
    "    def str_to_dt(dt_str):\n",
    "        return datetime.datetime.strptime(dt_str, '%H:%M:%S').time()\n",
    "\n",
    "    def timeslot(t,H):\n",
    "        return datetime.time(hour=int(H*np.floor(t.hour/H)))\n",
    "    \n",
    "    # temporal clustering\n",
    "    demand.insert(3,'start_timeslot', demand['start_time'].apply(lambda x: timeslot(str_to_dt(x),H)))\n",
    "    demand.insert(6,'end_timeslot', demand['end_time'].apply(lambda x: timeslot(str_to_dt(x),H)))"
   ]
  },
  {
   "cell_type": "code",
   "execution_count": 22,
   "id": "71abd3fb",
   "metadata": {},
   "outputs": [],
   "source": [
    "def spatial_clustering(d,demand):\n",
    "    stations = pd.read_csv('stations.csv',index_col=0)\n",
    "    \n",
    "    stn_coords = list(zip(stations.x, stations.y))\n",
    "\n",
    "    D = haversine_vector(stn_coords, stn_coords, Unit.KILOMETERS, comb=True)\n",
    "    R = 1*(D < d) # 1 km threshold\n",
    "    \n",
    "    # ilp to select cluster centers\n",
    "    x = cp.Variable((len(stations),),boolean=True)\n",
    "    prob = cp.Problem(cp.Minimize(cp.sum(x)), [x.T@R>=1])\n",
    "    prob.solve()\n",
    "    \n",
    "    # map each station to a cluster\n",
    "    stations['cc'] = x.value\n",
    "    cluster_centers = stations.loc[stations.cc==1]\n",
    "    cc_coords = list(zip(cluster_centers.x, cluster_centers.y))\n",
    "    stations['cc_id'] = np.argmin(haversine_vector(cc_coords, stn_coords, Unit.KILOMETERS, comb=True), axis=1)\n",
    "    \n",
    "    station_to_cluster_map = dict(zip(stations.index, stations.cc_id))\n",
    "    \n",
    "    # spatial clustering\n",
    "    demand['start_cluster'] = demand['start_station'].apply(lambda x: station_to_cluster_map[x])\n",
    "    demand['end_cluster'] = demand['end_station'].apply(lambda x: station_to_cluster_map[x])\n",
    "    \n",
    "    return station_to_cluster_map, stations"
   ]
  },
  {
   "cell_type": "code",
   "execution_count": 23,
   "id": "db67aa36",
   "metadata": {},
   "outputs": [
    {
     "name": "stdout",
     "output_type": "stream",
     "text": [
      "[WinError 3] The system cannot find the path specified: 'C:\\\\Work\\\\WORK_PACKAGE\\\\Demand_forecasting\\\\github\\\\blue-sg/Demand_forecasting/BLUESG_Demand_data/Data-preprocessing_data_generation'\n",
      "c:\\Work\\WORK_PACKAGE\\Demand_forecasting\\BLUESG_Demand_data\\Data-preprocessing_data_generation\n"
     ]
    }
   ],
   "source": [
    "cd C:\\Work\\WORK_PACKAGE\\Demand_forecasting\\github\\blue-sg/Demand_forecasting/BLUESG_Demand_data/Data-preprocessing_data_generation"
   ]
  },
  {
   "cell_type": "code",
   "execution_count": 24,
   "id": "fcb9304c",
   "metadata": {},
   "outputs": [
    {
     "name": "stdout",
     "output_type": "stream",
     "text": [
      " Volume in drive C is Windows \n",
      " Volume Serial Number is A2F9-40D5\n",
      "\n",
      " Directory of c:\\Work\\WORK_PACKAGE\\Demand_forecasting\\BLUESG_Demand_data\\Data-preprocessing_data_generation\n",
      "\n",
      "30/01/2023  06:23 pm    <DIR>          .\n",
      "30/01/2023  06:23 pm    <DIR>          ..\n",
      "29/06/2022  02:46 pm            16,540 Clstr_inflow_outflow_data_generator_new.ipynb\n",
      "08/04/2022  02:31 pm        51,077,895 demand.csv\n",
      "29/06/2022  02:37 pm         1,781,831 inflow_clstr_dem.csv\n",
      "29/06/2022  02:50 pm           892,411 outflow_clstr_dem.csv\n",
      "17/04/2022  08:54 pm           120,634 stations.csv\n",
      "               5 File(s)     53,889,311 bytes\n",
      "               2 Dir(s)  124,453,871,616 bytes free\n"
     ]
    }
   ],
   "source": [
    "ls"
   ]
  },
  {
   "cell_type": "code",
   "execution_count": 25,
   "id": "43159661",
   "metadata": {},
   "outputs": [
    {
     "name": "stdout",
     "output_type": "stream",
     "text": [
      "{34: 1, 20: 0, 298: 0, 140: 0, 329: 0, 285: 1, 272: 2, 286: 2, 203: 3, 294: 3, 328: 7, 195: 4, 46: 5, 119: 6, 355: 7, 77: 7, 93: 8, 192: 9, 35: 10, 348: 9, 163: 11, 310: 12, 202: 12, 318: 13, 245: 13, 206: 14, 352: 9, 190: 12, 178: 10, 129: 15, 166: 16, 345: 16, 370: 17, 29: 18, 18: 19, 331: 20, 218: 18, 251: 20, 56: 21, 249: 22, 149: 22, 154: 23, 326: 23, 210: 24, 191: 24, 32: 26, 239: 24, 388: 25, 278: 26, 306: 26, 186: 23, 170: 25, 94: 27, 139: 33, 141: 28, 377: 29, 116: 30, 209: 32, 376: 31, 151: 30, 385: 28, 132: 32, 78: 28, 366: 32, 150: 27, 320: 33, 9: 33, 155: 35, 389: 34, 288: 35, 58: 35, 323: 36, 162: 37, 43: 38, 330: 38, 325: 40, 118: 39, 110: 37, 15: 40, 341: 38, 307: 36, 84: 38, 304: 37, 138: 41, 296: 42, 147: 43, 126: 42, 228: 44, 263: 45, 113: 46, 243: 49, 81: 47, 74: 48, 257: 52, 368: 49, 82: 44, 5: 50, 98: 51, 47: 51, 17: 47, 37: 52, 168: 53, 41: 52, 40: 49, 16: 45, 28: 54, 26: 55, 30: 49, 344: 56, 73: 57, 64: 58, 181: 59, 128: 60, 378: 61, 281: 59, 271: 63, 275: 62, 274: 63, 280: 63, 273: 59, 13: 64, 134: 64, 207: 65, 364: 66, 261: 66, 122: 67, 384: 68, 133: 69, 176: 68, 220: 70, 48: 74, 276: 71, 148: 72, 121: 74, 247: 73, 360: 74, 308: 75, 177: 78, 174: 76, 36: 70, 108: 77, 69: 73, 332: 78, 219: 78, 290: 76, 60: 88, 284: 152, 24: 84, 198: 79, 267: 79, 244: 80, 96: 81, 297: 82, 127: 83, 175: 84, 270: 88, 282: 82, 194: 85, 196: 86, 258: 80, 189: 87, 152: 81, 230: 88, 187: 89, 193: 90, 6: 92, 246: 92, 200: 91, 279: 90, 343: 92, 125: 93, 80: 94, 50: 26, 142: 26, 213: 90, 124: 95, 354: 96, 159: 97, 103: 97, 31: 98, 222: 99, 266: 99, 229: 100, 66: 100, 224: 101, 382: 102, 208: 102, 231: 103, 87: 104, 172: 102, 236: 106, 289: 105, 361: 106, 12: 105, 283: 51, 145: 107, 277: 108, 171: 45, 117: 109, 131: 110, 101: 111, 322: 112, 90: 113, 214: 113, 302: 114, 88: 115, 300: 116, 339: 116, 143: 110, 182: 117, 185: 118, 221: 119, 99: 119, 123: 120, 212: 119, 327: 121, 369: 125, 161: 122, 255: 123, 235: 127, 262: 124, 173: 124, 11: 125, 165: 126, 336: 124, 62: 126, 254: 127, 102: 127, 371: 122, 146: 128, 372: 128, 233: 125, 340: 129, 256: 132, 167: 130, 135: 131, 335: 132, 241: 130, 156: 132, 104: 132, 120: 133, 347: 130, 22: 130, 387: 157, 10: 129, 197: 157, 240: 134, 70: 134, 223: 135, 106: 136, 381: 141, 319: 137, 49: 141, 68: 140, 100: 138, 42: 139, 351: 140, 362: 140, 324: 141, 14: 136, 38: 141, 204: 142, 2: 139, 4: 139, 292: 142, 92: 32, 7: 143, 373: 144, 95: 145, 91: 145, 357: 146, 75: 143, 358: 143, 97: 143, 248: 143, 51: 147, 365: 148, 76: 149, 269: 148, 315: 150, 316: 134, 252: 150, 342: 150, 317: 151, 359: 151, 105: 152, 334: 153, 23: 154, 333: 152, 44: 155, 183: 155, 259: 130, 268: 156, 53: 156, 52: 157, 314: 151, 253: 158, 19: 158, 305: 153, 250: 159, 217: 160, 83: 161, 25: 163, 61: 162, 265: 163, 363: 163, 346: 163, 353: 164, 356: 164, 109: 165, 215: 156, 184: 171, 295: 166, 27: 173, 85: 167, 157: 167, 79: 175, 86: 168, 386: 169, 311: 170, 45: 167, 39: 171, 350: 172, 144: 173, 293: 172, 130: 173, 383: 167, 321: 126, 67: 174, 312: 174, 55: 170, 169: 175, 313: 175, 158: 175, 211: 175, 201: 168, 180: 168, 54: 176, 225: 177, 379: 18, 232: 178, 8: 179, 72: 180, 89: 113, 199: 179, 380: 179, 179: 112, 136: 181, 65: 182, 226: 183, 114: 184, 227: 185, 205: 186, 71: 186, 234: 187, 299: 188, 291: 189, 338: 190, 309: 190, 33: 191, 111: 191, 57: 192, 112: 193, 137: 190, 115: 187, 303: 194, 264: 192, 59: 195, 216: 195, 349: 196, 188: 196, 153: 199, 242: 197, 260: 195, 237: 198, 287: 199, 164: 199, 107: 200, 21: 201, 160: 197, 301: 202, 367: 195, 374: 203, 238: 198, 63: 203, 375: 198, 337: 203}\n",
      "start_cluster              0    1    2    3    4    5    6    7    8    9    \\\n",
      "start_date start_timeslot                                                     \n",
      "2021-09-23 21:00:00        0.0  0.0  0.0  0.0  0.0  0.0  0.0  0.0  0.0  0.0   \n",
      "           22:00:00        0.0  0.0  0.0  0.0  0.0  0.0  0.0  0.0  0.0  0.0   \n",
      "           23:00:00        0.0  1.0  0.0  2.0  0.0  0.0  1.0  0.0  0.0  0.0   \n",
      "2021-09-24 00:00:00        2.0  1.0  1.0  0.0  0.0  0.0  0.0  1.0  0.0  2.0   \n",
      "           01:00:00        3.0  0.0  0.0  1.0  0.0  0.0  0.0  1.0  0.0  0.0   \n",
      "...                        ...  ...  ...  ...  ...  ...  ...  ...  ...  ...   \n",
      "2021-12-23 15:00:00        4.0  0.0  1.0  1.0  0.0  0.0  1.0  0.0  2.0  1.0   \n",
      "           16:00:00        2.0  1.0  0.0  1.0  0.0  0.0  1.0  2.0  2.0  2.0   \n",
      "           17:00:00        4.0  0.0  2.0  2.0  1.0  1.0  1.0  2.0  1.0  2.0   \n",
      "           18:00:00        1.0  1.0  5.0  2.0  0.0  1.0  1.0  5.0  3.0  0.0   \n",
      "           19:00:00        0.0  0.0  0.0  0.0  0.0  0.0  0.0  0.0  0.0  0.0   \n",
      "\n",
      "start_cluster              ...  194  195  196  197  198  199  200  201  202  \\\n",
      "start_date start_timeslot  ...                                                \n",
      "2021-09-23 21:00:00        ...  0.0  0.0  0.0  0.0  0.0  0.0  0.0  0.0  0.0   \n",
      "           22:00:00        ...  0.0  0.0  0.0  0.0  0.0  0.0  0.0  0.0  0.0   \n",
      "           23:00:00        ...  2.0  0.0  0.0  0.0  0.0  0.0  0.0  0.0  0.0   \n",
      "2021-09-24 00:00:00        ...  0.0  1.0  0.0  0.0  0.0  0.0  0.0  1.0  1.0   \n",
      "           01:00:00        ...  0.0  0.0  1.0  0.0  0.0  2.0  0.0  0.0  0.0   \n",
      "...                        ...  ...  ...  ...  ...  ...  ...  ...  ...  ...   \n",
      "2021-12-23 15:00:00        ...  2.0  0.0  1.0  1.0  1.0  2.0  0.0  0.0  0.0   \n",
      "           16:00:00        ...  0.0  2.0  2.0  0.0  3.0  2.0  0.0  0.0  1.0   \n",
      "           17:00:00        ...  2.0  1.0  2.0  4.0  2.0  4.0  1.0  2.0  1.0   \n",
      "           18:00:00        ...  2.0  3.0  1.0  1.0  0.0  1.0  2.0  0.0  2.0   \n",
      "           19:00:00        ...  0.0  0.0  0.0  0.0  0.0  0.0  0.0  0.0  0.0   \n",
      "\n",
      "start_cluster              203  \n",
      "start_date start_timeslot       \n",
      "2021-09-23 21:00:00        0.0  \n",
      "           22:00:00        0.0  \n",
      "           23:00:00        0.0  \n",
      "2021-09-24 00:00:00        0.0  \n",
      "           01:00:00        0.0  \n",
      "...                        ...  \n",
      "2021-12-23 15:00:00        0.0  \n",
      "           16:00:00        1.0  \n",
      "           17:00:00        1.0  \n",
      "           18:00:00        4.0  \n",
      "           19:00:00        0.0  \n",
      "\n",
      "[2183 rows x 204 columns]\n",
      "end_cluster              0    1    2    3    4    5    6    7    8    9    \\\n",
      "end_date   end_timeslot                                                     \n",
      "2021-09-24 00:00:00      2.0  0.0  2.0  0.0  0.0  0.0  0.0  0.0  1.0  0.0   \n",
      "           01:00:00      0.0  0.0  0.0  1.0  0.0  0.0  0.0  1.0  2.0  0.0   \n",
      "           02:00:00      1.0  0.0  0.0  1.0  0.0  0.0  0.0  1.0  0.0  0.0   \n",
      "           03:00:00      1.0  0.0  0.0  0.0  0.0  0.0  1.0  0.0  0.0  0.0   \n",
      "           04:00:00      0.0  0.0  0.0  0.0  0.0  0.0  0.0  0.0  0.0  0.0   \n",
      "...                      ...  ...  ...  ...  ...  ...  ...  ...  ...  ...   \n",
      "2021-12-23 15:00:00      3.0  1.0  0.0  1.0  0.0  0.0  0.0  1.0  1.0  1.0   \n",
      "           16:00:00      0.0  0.0  1.0  3.0  1.0  0.0  0.0  3.0  1.0  2.0   \n",
      "           17:00:00      4.0  1.0  1.0  3.0  0.0  1.0  2.0  6.0  3.0  0.0   \n",
      "           18:00:00      3.0  0.0  2.0  1.0  1.0  1.0  1.0  2.0  2.0  0.0   \n",
      "           19:00:00      4.0  0.0  0.0  1.0  0.0  0.0  1.0  2.0  0.0  0.0   \n",
      "\n",
      "end_cluster              ...  194  195  196  197  198  199  200  201  202  203  \n",
      "end_date   end_timeslot  ...                                                    \n",
      "2021-09-24 00:00:00      ...  1.0  2.0  1.0  0.0  2.0  0.0  0.0  1.0  0.0  0.0  \n",
      "           01:00:00      ...  0.0  1.0  0.0  0.0  0.0  0.0  1.0  1.0  1.0  0.0  \n",
      "           02:00:00      ...  0.0  1.0  0.0  0.0  1.0  0.0  0.0  0.0  0.0  0.0  \n",
      "           03:00:00      ...  0.0  0.0  0.0  0.0  0.0  1.0  0.0  0.0  0.0  0.0  \n",
      "           04:00:00      ...  1.0  1.0  0.0  0.0  0.0  0.0  0.0  0.0  0.0  0.0  \n",
      "...                      ...  ...  ...  ...  ...  ...  ...  ...  ...  ...  ...  \n",
      "2021-12-23 15:00:00      ...  0.0  2.0  0.0  1.0  2.0  2.0  0.0  0.0  1.0  0.0  \n",
      "           16:00:00      ...  1.0  1.0  2.0  2.0  0.0  3.0  1.0  1.0  2.0  2.0  \n",
      "           17:00:00      ...  3.0  7.0  2.0  2.0  4.0  3.0  1.0  1.0  0.0  1.0  \n",
      "           18:00:00      ...  1.0  5.0  1.0  2.0  6.0  2.0  1.0  0.0  0.0  2.0  \n",
      "           19:00:00      ...  0.0  3.0  1.0  0.0  1.0  1.0  0.0  0.0  1.0  1.0  \n",
      "\n",
      "[2180 rows x 204 columns]\n"
     ]
    }
   ],
   "source": [
    "if __name__ == \"__main__\":\n",
    "    demand = pd.read_csv('transaction_logs.csv',index_col=0)\n",
    "\n",
    "## start\n",
    "# DATAFRAME T cluster level demand\n",
    "\n",
    "    H,d = 1,0.25 # H:Timeslot suration in hours, d = radius for clustering in km\n",
    "    #temporal clustering\n",
    "    temporal_clustering(H,demand)\n",
    "    \n",
    "    #spatial clustering\n",
    "    station_to_cluster_map, stations = spatial_clustering(d,demand)\n",
    "    \n",
    "    print(station_to_cluster_map)\n",
    "    #print(stations['region'])\n",
    "    stations.to_csv('station_cc_id_new.csv', index=False)\n",
    "\n",
    "    #aggregated demand table\n",
    "    T = pd.pivot_table(demand, values = 'car', index=[\"start_date\",\"start_timeslot\"], columns=[\"start_cluster\"], aggfunc=lambda x: len(x.unique()))\n",
    "    IN = pd.pivot_table(demand, values = 'car', index=[\"end_date\",\"end_timeslot\"], columns=[\"end_cluster\"], aggfunc=lambda x: len(x.unique()))\n",
    "    IN.fillna(0, inplace=True)\n",
    "    T.fillna(0, inplace=True)\n",
    "    \n",
    "    missing_clusters = [x for x in range(T.columns[-1]) if x not in T.columns]\n",
    "    missing_clusters.sort()\n",
    "\n",
    "    for ms in missing_clusters:\n",
    "        T.insert(ms, ms, 0)\n",
    "\n",
    "    print(T)\n",
    "\n",
    "    T.to_csv('outflow_clstr_dem_new.csv', index=False)\n",
    "\n",
    "    missing_clusters = [x for x in range(IN.columns[-1]) if x not in IN.columns]\n",
    "    missing_clusters.sort()\n",
    "    \n",
    "    for ms in missing_clusters:\n",
    "        IN.insert(ms, ms, 0)\n",
    "\n",
    "    print(IN)\n",
    "    IN.to_csv('inflow_clstr_dem_new.csv', index=False)\n",
    "    \n",
    "## stop\n",
    "\n",
    "    #raw_data = T.to_numpy()\n",
    "\n"
   ]
  },
  {
   "cell_type": "code",
   "execution_count": null,
   "id": "68343c14",
   "metadata": {},
   "outputs": [],
   "source": []
  }
 ],
 "metadata": {
  "interpreter": {
   "hash": "3492f4d3e3c55a6ecd296255a1842ef4032fa21edc5071abaeda59e7bc7b3161"
  },
  "kernelspec": {
   "display_name": "Python 3.5.6 ('dem_forcast')",
   "language": "python",
   "name": "python3"
  },
  "language_info": {
   "codemirror_mode": {
    "name": "ipython",
    "version": 3
   },
   "file_extension": ".py",
   "mimetype": "text/x-python",
   "name": "python",
   "nbconvert_exporter": "python",
   "pygments_lexer": "ipython3",
   "version": "3.9.5"
  }
 },
 "nbformat": 4,
 "nbformat_minor": 5
}
