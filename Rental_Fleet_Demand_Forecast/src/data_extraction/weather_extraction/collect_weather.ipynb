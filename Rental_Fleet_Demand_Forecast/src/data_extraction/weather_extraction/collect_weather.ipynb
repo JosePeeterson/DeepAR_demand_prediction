{
 "cells": [
  {
   "cell_type": "code",
   "execution_count": 12,
   "metadata": {},
   "outputs": [],
   "source": [
    "import requests\n",
    "import json\n",
    "import numpy as np\n",
    "import matplotlib.pyplot as plt\n",
    "import pandas as pd\n",
    "import os,sys\n",
    "import datetime"
   ]
  },
  {
   "cell_type": "code",
   "execution_count": 13,
   "metadata": {},
   "outputs": [],
   "source": [
    "sys.path.append(os.path.abspath(os.path.join('C:\\Work\\WORK_PACKAGE\\Demand_forecasting\\github\\DeepAR-pytorch\\My_model\\Rental_Fleet_Demand_Forecast\\data\\cluster_level\\weather_data')))\n",
    "os.chdir('C:\\Work\\WORK_PACKAGE\\Demand_forecasting\\github\\DeepAR-pytorch\\My_model\\Rental_Fleet_Demand_Forecast\\data\\cluster_level\\weather_data')\n",
    "\n",
    "region_name = 'Central'\n",
    "cluster_num = '48'\n",
    "\n",
    "\"\"\"# win\"\"\"\n",
    "\n",
    "parent_dir = \"C:\\Work\\WORK_PACKAGE\\Demand_forecasting\\github\\DeepAR-pytorch\\My_model\\Rental_Fleet_Demand_Forecast\\data\\cluster_level\\weather_data\\json\"\n",
    "directory = region_name\n",
    "path = os.path.join(parent_dir, directory)\n",
    "\n",
    "isExist = os.path.exists(path)\n",
    "if not isExist:\n",
    "   # Create a new directory because it does not exist\n",
    "   os.makedirs(path)\n",
    "   print(\"The new directory is created!\")\n",
    "\n",
    "os.chdir('C:\\Work\\WORK_PACKAGE\\Demand_forecasting\\github\\DeepAR-pytorch\\My_model\\Rental_Fleet_Demand_Forecast\\data\\cluster_level\\weather_data\\json\\\\'+region_name)"
   ]
  },
  {
   "cell_type": "code",
   "execution_count": 14,
   "metadata": {},
   "outputs": [],
   "source": [
    "\n",
    "########### API calls #############\n",
    "\n",
    "lat = 1.283658\n",
    "lon = 103.850455\n",
    "lat = str(lat)\n",
    "lon = str(lon)\n",
    "t = 1632412800 - 608400\n",
    "et = 1640257200\n",
    "cluster_list = []\n",
    "for i in range(1,14):\n",
    "    t = t + 608400\n",
    "    start = str(t)\n",
    "    cluster = region_name +'_'+ cluster_num +'_' + str(i)\n",
    "    cluster_list.append(cluster)\n",
    "    response = requests.get(\"https://history.openweathermap.org/data/2.5/history/city?lat=\" + lat + \"&lon=\" + lon + \"&type=hour&start=\" + start + \"&end=1640257200&appid=dda8e16f80893bfa91011748b8ecf77c\")\n",
    "    with open(cluster+'.json',\"w\") as f:\n",
    "        json.dump(response.json(),f)\n",
    "\n",
    "########### API calls #############"
   ]
  },
  {
   "cell_type": "code",
   "execution_count": 17,
   "metadata": {},
   "outputs": [
    {
     "name": "stdout",
     "output_type": "stream",
     "text": [
      "{'cod': 401, 'message': 'Invalid API key. Please see http://openweathermap.org/faq#error401 for more info.'}\n"
     ]
    },
    {
     "ename": "KeyError",
     "evalue": "'list'",
     "output_type": "error",
     "traceback": [
      "\u001b[1;31m---------------------------------------------------------------------------\u001b[0m",
      "\u001b[1;31mKeyError\u001b[0m                                  Traceback (most recent call last)",
      "\u001b[1;32mc:\\Work\\WORK_PACKAGE\\Demand_forecasting\\github\\DeepAR-pytorch\\My_model\\Rental_Fleet_Demand_Forecast\\src\\data_extraction\\weather_extraction\\collect_weather.ipynb Cell 4\u001b[0m in \u001b[0;36m<cell line: 12>\u001b[1;34m()\u001b[0m\n\u001b[0;32m     <a href='vscode-notebook-cell:/c%3A/Work/WORK_PACKAGE/Demand_forecasting/github/DeepAR-pytorch/My_model/Rental_Fleet_Demand_Forecast/src/data_extraction/weather_extraction/collect_weather.ipynb#W3sZmlsZQ%3D%3D?line=13'>14</a>\u001b[0m data \u001b[39m=\u001b[39m json\u001b[39m.\u001b[39mload(f)\n\u001b[0;32m     <a href='vscode-notebook-cell:/c%3A/Work/WORK_PACKAGE/Demand_forecasting/github/DeepAR-pytorch/My_model/Rental_Fleet_Demand_Forecast/src/data_extraction/weather_extraction/collect_weather.ipynb#W3sZmlsZQ%3D%3D?line=14'>15</a>\u001b[0m \u001b[39mprint\u001b[39m(data)\n\u001b[1;32m---> <a href='vscode-notebook-cell:/c%3A/Work/WORK_PACKAGE/Demand_forecasting/github/DeepAR-pytorch/My_model/Rental_Fleet_Demand_Forecast/src/data_extraction/weather_extraction/collect_weather.ipynb#W3sZmlsZQ%3D%3D?line=15'>16</a>\u001b[0m \u001b[39mfor\u001b[39;00m i \u001b[39min\u001b[39;00m \u001b[39mrange\u001b[39m(\u001b[39mlen\u001b[39m(data[\u001b[39m\"\u001b[39;49m\u001b[39mlist\u001b[39;49m\u001b[39m\"\u001b[39;49m])):\n\u001b[0;32m     <a href='vscode-notebook-cell:/c%3A/Work/WORK_PACKAGE/Demand_forecasting/github/DeepAR-pytorch/My_model/Rental_Fleet_Demand_Forecast/src/data_extraction/weather_extraction/collect_weather.ipynb#W3sZmlsZQ%3D%3D?line=16'>17</a>\u001b[0m     date_time \u001b[39m=\u001b[39m np\u001b[39m.\u001b[39mappend(date_time, data[\u001b[39m\"\u001b[39m\u001b[39mlist\u001b[39m\u001b[39m\"\u001b[39m][i][\u001b[39m\"\u001b[39m\u001b[39mdt\u001b[39m\u001b[39m\"\u001b[39m])\n\u001b[0;32m     <a href='vscode-notebook-cell:/c%3A/Work/WORK_PACKAGE/Demand_forecasting/github/DeepAR-pytorch/My_model/Rental_Fleet_Demand_Forecast/src/data_extraction/weather_extraction/collect_weather.ipynb#W3sZmlsZQ%3D%3D?line=17'>18</a>\u001b[0m     temp_clstr_48 \u001b[39m=\u001b[39m np\u001b[39m.\u001b[39mappend(temp_clstr_48, data[\u001b[39m\"\u001b[39m\u001b[39mlist\u001b[39m\u001b[39m\"\u001b[39m][i][\u001b[39m\"\u001b[39m\u001b[39mmain\u001b[39m\u001b[39m\"\u001b[39m][\u001b[39m\"\u001b[39m\u001b[39mtemp\u001b[39m\u001b[39m\"\u001b[39m])\n",
      "\u001b[1;31mKeyError\u001b[0m: 'list'"
     ]
    }
   ],
   "source": [
    "########### SAVE region weather data #############\n",
    "\n",
    "cluster_list = [region_name + '_' +cluster_num + '_' + str(i) for i in range(1,14,1)]\n",
    "date_time = np.array([])\n",
    "temp_clstr_48 = np.array([])\n",
    "hum_clstr_48 = np.array([])\n",
    "#wind_clstr_48 = np.array([])\n",
    "#wea_clstr_48 = np.array([])\n",
    "wea_desc_clstr_48 = np.array([])\n",
    "cluster_id = np.array([])\n",
    "\n",
    "for c in cluster_list:\n",
    "    with open(c+\".json\",'r') as f:\n",
    "        data = json.load(f)\n",
    "        print(data)\n",
    "        for i in range(len(data[\"list\"])):\n",
    "            date_time = np.append(date_time, data[\"list\"][i][\"dt\"])\n",
    "            temp_clstr_48 = np.append(temp_clstr_48, data[\"list\"][i][\"main\"][\"temp\"])\n",
    "            hum_clstr_48 = np.append(hum_clstr_48, data[\"list\"][i][\"main\"][\"humidity\"])\n",
    "            #wind_clstr_48 = np.append(wind_clstr_48, data[\"list\"][i][\"wind\"][\"speed\"])\n",
    "            #wea_clstr_48 = np.append(wea_clstr_48, data[\"list\"][i][\"weather\"][0][\"main\"])\n",
    "            wea_desc_clstr_48 = np.append(wea_desc_clstr_48, data[\"list\"][i][\"weather\"][0][\"description\"])\n",
    "            cluster_id = np.append(cluster_id, c)\n",
    "\n",
    "\n",
    "plt.plot(hum_clstr_48)\n",
    "plt.plot(temp_clstr_48)\n",
    "plt.title(\"cluster 175/wind speed\")\n",
    "plt.show()\n",
    "\n",
    "df = pd.DataFrame()\n",
    "df[\"temp_clstr_48\"] = temp_clstr_48\n",
    "df[\"hum_clstr_48\"] = hum_clstr_48\n",
    "# df[\"wind_clstr_48\"] = wind_clstr_48\n",
    "# df[\"wea_clstr_48\"] = wea_clstr_48\n",
    "df[\"wea_desc_clstr_48\"] = wea_desc_clstr_48\n",
    "df[\"cluster_id\"] = cluster_id\n",
    "\n",
    "parent_dir = \"C:\\Work\\WORK_PACKAGE\\Demand_forecasting\\github\\DeepAR-pytorch\\My_model\\Rental_Fleet_Demand_Forecast\\data\\cluster_level\\weather_data\\csv\"\n",
    "directory = region_name\n",
    "path = os.path.join(parent_dir, directory)\n",
    "isExist = os.path.exists(path)\n",
    "if not isExist:\n",
    "   # Create a new directory because it does not exist\n",
    "   os.makedirs(path)\n",
    "   print(\"The new directory is created!\")\n",
    "\n",
    "start_time = datetime.datetime.fromtimestamp(t)\n",
    "\n",
    "\n",
    "os.chdir('C:\\Work\\WORK_PACKAGE\\Demand_forecasting\\github\\DeepAR-pytorch\\My_model\\Rental_Fleet_Demand_Forecast\\data\\cluster_level\\weather_data\\csv\\\\'+region_name)\n",
    "df.to_csv(region_name+'_'+cluster_num+'_'+start_time+\"_weather.csv\")\n",
    "\n",
    "########### SAVE region weather data #############"
   ]
  }
 ],
 "metadata": {
  "kernelspec": {
   "display_name": "base",
   "language": "python",
   "name": "python3"
  },
  "language_info": {
   "codemirror_mode": {
    "name": "ipython",
    "version": 3
   },
   "file_extension": ".py",
   "mimetype": "text/x-python",
   "name": "python",
   "nbconvert_exporter": "python",
   "pygments_lexer": "ipython3",
   "version": "3.9.5"
  },
  "orig_nbformat": 4
 },
 "nbformat": 4,
 "nbformat_minor": 2
}
