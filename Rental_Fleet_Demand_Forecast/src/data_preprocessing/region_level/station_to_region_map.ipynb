{
 "cells": [
  {
   "cell_type": "code",
   "execution_count": 58,
   "metadata": {},
   "outputs": [],
   "source": [
    "import pandas as pd\n",
    "import numpy as np\n",
    "import os"
   ]
  },
  {
   "cell_type": "code",
   "execution_count": 59,
   "metadata": {},
   "outputs": [
    {
     "data": {
      "text/plain": [
       "array(['Ang Mo Kio', 'Bedok', 'Bidadari', 'Bishan', 'Bukit Batok',\n",
       "       'Bukit Merah', 'Bukit Panjang', 'Bukit Timah', 'Central', 'Changi',\n",
       "       'Choa Chu Kang', 'Clementi', 'Geylang', 'Hougang', 'Jurong East',\n",
       "       'Jurong West', 'Kallang', 'Kembangan', 'Marine Parade', 'Novena',\n",
       "       'Pasir Ris', 'Punggol', 'Queenstown', 'Sembawang', 'Sengkang',\n",
       "       'Sentosa', 'Serangoon', 'Tampines', 'Toa Payoh', 'Whampoa',\n",
       "       'Woodlands', 'Woodland', 'Yishun'], dtype=object)"
      ]
     },
     "execution_count": 59,
     "metadata": {},
     "output_type": "execute_result"
    }
   ],
   "source": [
    "\"\"\"\n",
    "Identify all the region names in singapore\n",
    "\"\"\"\n",
    "os.chdir('C:\\Work\\WORK_PACKAGE\\Demand_forecasting\\github\\DeepAR-pytorch\\My_model\\Rental_Fleet_Demand_Forecast\\data\\station_names_n_cluster_center_id')\n",
    "stn_df = pd.read_csv(\"station_cc_id_60_0.5.csv\")\n",
    "region_names = stn_df[\"name\"].apply( lambda x :  x.split('/')[0] ).unique()\n",
    "region_names\n"
   ]
  },
  {
   "cell_type": "code",
   "execution_count": 60,
   "metadata": {},
   "outputs": [],
   "source": [
    "\"\"\"\n",
    "Create region inflow\n",
    "\"\"\"\n",
    "os.chdir('C:\\Work\\WORK_PACKAGE\\Demand_forecasting\\github\\DeepAR-pytorch\\My_model\\Rental_Fleet_Demand_Forecast\\data\\cluster_level\\inflow_data')\n",
    "inf_df = pd.read_csv(\"cluster_inflow.csv\")\n",
    "\n",
    "region_inflow_df =  pd.DataFrame()\n",
    "\n",
    "for reg in region_names:\n",
    "    region_df = stn_df[stn_df[\"name\"].apply( lambda x :  x.split('/')[0] ) == reg]\n",
    "    cluster_names = np.sort(region_df[\"cc_id\"].unique())\n",
    "    cluster_names = cluster_names.astype(str)\n",
    "    start_time_in = inf_df.index[0]\n",
    "    end_time_in = inf_df.index[-1]\n",
    "    reg_inf_df = inf_df.loc[:,cluster_names]\n",
    "    region_inflow_df[reg] = reg_inf_df.sum(axis=1)\n",
    "\n",
    "os.chdir('C:\\Work\\WORK_PACKAGE\\Demand_forecasting\\github\\DeepAR-pytorch\\My_model\\Rental_Fleet_Demand_Forecast\\data\\\\region_level\\inflow_data')\n",
    "region_inflow_df.to_csv('region_inflow.csv')"
   ]
  },
  {
   "cell_type": "code",
   "execution_count": 61,
   "metadata": {},
   "outputs": [
    {
     "data": {
      "text/plain": [
       "33"
      ]
     },
     "execution_count": 61,
     "metadata": {},
     "output_type": "execute_result"
    }
   ],
   "source": [
    "len(region_inflow_df.columns)"
   ]
  },
  {
   "cell_type": "code",
   "execution_count": 62,
   "metadata": {},
   "outputs": [],
   "source": [
    "\"\"\"\n",
    "Create region met outflow\n",
    "\"\"\"\n",
    "\n",
    "## met outflow(demand)\n",
    "os.chdir('C:\\Work\\WORK_PACKAGE\\Demand_forecasting\\github\\DeepAR-pytorch\\My_model\\Rental_Fleet_Demand_Forecast\\data\\cluster_level\\outflow_data')\n",
    "outf_df = pd.read_csv('cluster_outflow.csv')\n",
    "\n",
    "region_met_outflow_df =  pd.DataFrame()\n",
    "\n",
    "for reg in region_names:\n",
    "    region_df = stn_df[stn_df[\"name\"].apply( lambda x :  x.split('/')[0] ) == reg]\n",
    "    cluster_names = np.sort(region_df[\"cc_id\"].unique())\n",
    "    cluster_names = cluster_names.astype(str)\n",
    "    start_time_in = outf_df.index[0]\n",
    "    end_time_in = outf_df.index[-1]\n",
    "    reg_outf_df = outf_df.loc[:,cluster_names]\n",
    "    region_met_outflow_df[reg] = reg_outf_df.sum(axis=1)\n",
    "\n",
    "\n",
    "region_met_outflow_df\n",
    "os.chdir('C:\\Work\\WORK_PACKAGE\\Demand_forecasting\\github\\DeepAR-pytorch\\My_model\\Rental_Fleet_Demand_Forecast\\data\\\\region_level\\outflow_data')\n",
    "region_met_outflow_df.to_csv('region_met_outflow.csv')\n",
    "\n"
   ]
  },
  {
   "cell_type": "code",
   "execution_count": 63,
   "metadata": {},
   "outputs": [
    {
     "data": {
      "text/plain": [
       "33"
      ]
     },
     "execution_count": 63,
     "metadata": {},
     "output_type": "execute_result"
    }
   ],
   "source": [
    "len(region_met_outflow_df.columns)"
   ]
  },
  {
   "cell_type": "code",
   "execution_count": 64,
   "metadata": {},
   "outputs": [],
   "source": [
    "\"\"\"\n",
    "Create region unmet outflow\n",
    "\"\"\"\n",
    "\n",
    "# convert unmet station outflow to unmet region outflow\n",
    "os.chdir('C:\\Work\\WORK_PACKAGE\\Demand_forecasting\\github\\DeepAR-pytorch\\My_model\\Rental_Fleet_Demand_Forecast\\data\\station_level\\outflow_data')\n",
    "UnmetDemand_df_station_level = pd.read_parquet('UnmetDemand_df_station_level.parquet')\n",
    "# impute missing stations\n",
    "for s in [30,36,364,2,188]:\n",
    "    UnmetDemand_df_station_level[str(s)] = 0\n",
    "\n",
    "os.chdir('C:\\Work\\WORK_PACKAGE\\Demand_forecasting\\github\\DeepAR-pytorch\\My_model\\Rental_Fleet_Demand_Forecast\\data\\station_names_n_cluster_center_id')\n",
    "stations_df = pd.read_csv('stations.csv')\n",
    "stations_df\n",
    "\n",
    "stations_in_region_dict = {}\n",
    "# identify stations belonging to a region\n",
    "for reg in region_names:\n",
    "    stations_in_region_dict[reg] = stations_df[stations_df[\"name\"].apply( lambda x :  x.split('/')[0] ) == reg]['ID'].values.astype(str)\n",
    "\n",
    "# sum all the stations unmet outflow into a single time series\n",
    "region_unmet_outflow_df = pd.DataFrame()\n",
    "for reg in region_names:\n",
    "    region_unmet_outflow_df[reg] = UnmetDemand_df_station_level.loc[:,stations_in_region_dict[reg]].sum(axis=1)\n",
    "\n",
    "region_unmet_outflow_df\n",
    "os.chdir('C:\\Work\\WORK_PACKAGE\\Demand_forecasting\\github\\DeepAR-pytorch\\My_model\\Rental_Fleet_Demand_Forecast\\data\\\\region_level\\outflow_data')\n",
    "region_unmet_outflow_df.to_csv('region_unmet_outflow.csv')\n"
   ]
  },
  {
   "cell_type": "code",
   "execution_count": 65,
   "metadata": {},
   "outputs": [
    {
     "data": {
      "text/plain": [
       "33"
      ]
     },
     "execution_count": 65,
     "metadata": {},
     "output_type": "execute_result"
    }
   ],
   "source": [
    "len(region_unmet_outflow_df.columns)"
   ]
  }
 ],
 "metadata": {
  "kernelspec": {
   "display_name": "base",
   "language": "python",
   "name": "python3"
  },
  "language_info": {
   "codemirror_mode": {
    "name": "ipython",
    "version": 3
   },
   "file_extension": ".py",
   "mimetype": "text/x-python",
   "name": "python",
   "nbconvert_exporter": "python",
   "pygments_lexer": "ipython3",
   "version": "3.9.5"
  },
  "orig_nbformat": 4
 },
 "nbformat": 4,
 "nbformat_minor": 2
}
