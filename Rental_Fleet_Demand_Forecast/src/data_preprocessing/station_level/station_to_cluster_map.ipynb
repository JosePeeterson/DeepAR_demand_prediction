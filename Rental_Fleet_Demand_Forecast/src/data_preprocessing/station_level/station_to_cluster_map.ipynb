{
 "cells": [
  {
   "cell_type": "code",
   "execution_count": 20,
   "metadata": {},
   "outputs": [],
   "source": [
    "import pandas as pd\n",
    "import numpy as np\n",
    "import os"
   ]
  },
  {
   "cell_type": "code",
   "execution_count": 21,
   "metadata": {},
   "outputs": [
    {
     "name": "stderr",
     "output_type": "stream",
     "text": [
      "C:\\Users\\josepeeterson.er\\AppData\\Local\\Temp\\ipykernel_18900\\3367727570.py:26: PerformanceWarning: DataFrame is highly fragmented.  This is usually the result of calling `frame.insert` many times, which has poor performance.  Consider joining all columns at once using pd.concat(axis=1) instead.  To get a de-fragmented frame, use `newframe = frame.copy()`\n",
      "  cluster_unmet_outflow_df[c] = UnmetDemand_df_station_level.loc[:,stations_in_cluster_dict[c]].sum(axis=1)\n"
     ]
    },
    {
     "data": {
      "text/plain": [
       "194"
      ]
     },
     "execution_count": 21,
     "metadata": {},
     "output_type": "execute_result"
    }
   ],
   "source": [
    "\"\"\"\n",
    "Identify all the region names in singapore\n",
    "\"\"\"\n",
    "\n",
    "# convert unmet station outflow to unmet region outflow\n",
    "os.chdir('C:\\Work\\WORK_PACKAGE\\Demand_forecasting\\github\\DeepAR-pytorch\\My_model\\Rental_Fleet_Demand_Forecast\\data\\station_level\\outflow_data')\n",
    "UnmetDemand_df_station_level = pd.read_parquet('UnmetDemand_df_station_level.parquet')\n",
    "# impute missing stations\n",
    "for s in [0,1,3,30,36,364,2,188]:\n",
    "    UnmetDemand_df_station_level[str(s)] = 0\n",
    "\n",
    "os.chdir('C:\\Work\\WORK_PACKAGE\\Demand_forecasting\\github\\DeepAR-pytorch\\My_model\\Rental_Fleet_Demand_Forecast\\data\\station_names_n_cluster_center_id')\n",
    "stn_df = pd.read_csv(\"station_cc_id_60_0.5.csv\")\n",
    "cluster_ids = stn_df['cc_id'].unique()\n",
    "\n",
    "\n",
    "stations_in_cluster_dict = {}\n",
    "\n",
    "for c in cluster_ids:\n",
    "    stations_in_cluster_dict[c] = stn_df[stn_df[\"cc_id\"] == c ].index.values.astype(str)\n",
    "\n",
    "\n",
    "# sum all the stations unmet outflow into a single time series\n",
    "cluster_unmet_outflow_df = pd.DataFrame()\n",
    "for c in cluster_ids:\n",
    "    cluster_unmet_outflow_df[c] = UnmetDemand_df_station_level.loc[:,stations_in_cluster_dict[c]].sum(axis=1)\n",
    "\n",
    "\n",
    "os.chdir('C:\\Work\\WORK_PACKAGE\\Demand_forecasting\\github\\DeepAR-pytorch\\My_model\\Rental_Fleet_Demand_Forecast\\data\\cluster_level\\outflow_data')\n",
    "cluster_unmet_outflow_df.to_csv('cluster_unmet_outflow.csv')\n",
    "len(cluster_unmet_outflow_df.columns)"
   ]
  },
  {
   "cell_type": "code",
   "execution_count": 22,
   "metadata": {},
   "outputs": [
    {
     "data": {
      "text/plain": [
       "194"
      ]
     },
     "execution_count": 22,
     "metadata": {},
     "output_type": "execute_result"
    }
   ],
   "source": [
    "len(cluster_ids)"
   ]
  }
 ],
 "metadata": {
  "kernelspec": {
   "display_name": "base",
   "language": "python",
   "name": "python3"
  },
  "language_info": {
   "codemirror_mode": {
    "name": "ipython",
    "version": 3
   },
   "file_extension": ".py",
   "mimetype": "text/x-python",
   "name": "python",
   "nbconvert_exporter": "python",
   "pygments_lexer": "ipython3",
   "version": "3.9.5"
  },
  "orig_nbformat": 4
 },
 "nbformat": 4,
 "nbformat_minor": 2
}
