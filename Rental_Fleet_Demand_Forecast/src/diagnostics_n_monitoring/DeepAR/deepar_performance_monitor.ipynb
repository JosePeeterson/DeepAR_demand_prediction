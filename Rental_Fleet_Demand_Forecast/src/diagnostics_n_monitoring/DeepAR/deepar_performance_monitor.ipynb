{
 "cells": [
  {
   "cell_type": "code",
   "execution_count": null,
   "metadata": {},
   "outputs": [],
   "source": [
    "\"\"\"\n",
    "This is for real-time operation.\n",
    "\n",
    "1) Historic +/- standard deviation and mean at every hour of every day\n",
    "of the week. To detect outliers in actual data and wrong predictions.\n",
    "2) ensure that time preiods with peak actual demand caused by seasonality\n",
    " is respected\n",
    "3) use baseline to compare with predictions and actual\n",
    "4) error quantification and interpreations of error metrics \n",
    "\n",
    "\"\"\""
   ]
  }
 ],
 "metadata": {
  "language_info": {
   "name": "python"
  },
  "orig_nbformat": 4
 },
 "nbformat": 4,
 "nbformat_minor": 2
}
